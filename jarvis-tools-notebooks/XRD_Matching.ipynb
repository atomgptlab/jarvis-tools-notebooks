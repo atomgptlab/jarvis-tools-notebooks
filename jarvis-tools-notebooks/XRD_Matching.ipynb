{
  "nbformat": 4,
  "nbformat_minor": 0,
  "metadata": {
    "colab": {
      "provenance": [],
      "authorship_tag": "ABX9TyOCIPc7y7FGg+gzvC3Ao1bY",
      "include_colab_link": true
    },
    "kernelspec": {
      "name": "python3",
      "display_name": "Python 3"
    },
    "language_info": {
      "name": "python"
    }
  },
  "cells": [
    {
      "cell_type": "markdown",
      "metadata": {
        "id": "view-in-github",
        "colab_type": "text"
      },
      "source": [
        "<a href=\"https://colab.research.google.com/github/knc6/jarvis-tools-notebooks/blob/master/jarvis-tools-notebooks/XRD_Matching.ipynb\" target=\"_parent\"><img src=\"https://colab.research.google.com/assets/colab-badge.svg\" alt=\"Open In Colab\"/></a>"
      ]
    },
    {
      "cell_type": "code",
      "execution_count": 1,
      "metadata": {
        "colab": {
          "base_uri": "https://localhost:8080/"
        },
        "id": "3C4Eb7BHfASv",
        "outputId": "55839ae6-759f-42d2-d091-eb053ab9a3de"
      },
      "outputs": [
        {
          "output_type": "stream",
          "name": "stdout",
          "text": [
            "\u001b[?25l   \u001b[90m━━━━━━━━━━━━━━━━━━━━━━━━━━━━━━━━━━━━━━━━\u001b[0m \u001b[32m0.0/4.2 MB\u001b[0m \u001b[31m?\u001b[0m eta \u001b[36m-:--:--\u001b[0m\r\u001b[2K   \u001b[91m━\u001b[0m\u001b[90m╺\u001b[0m\u001b[90m━━━━━━━━━━━━━━━━━━━━━━━━━━━━━━━━━━━━━━\u001b[0m \u001b[32m0.2/4.2 MB\u001b[0m \u001b[31m4.4 MB/s\u001b[0m eta \u001b[36m0:00:01\u001b[0m\r\u001b[2K   \u001b[91m━━━━━━━━━━━━━\u001b[0m\u001b[91m╸\u001b[0m\u001b[90m━━━━━━━━━━━━━━━━━━━━━━━━━━\u001b[0m \u001b[32m1.5/4.2 MB\u001b[0m \u001b[31m21.0 MB/s\u001b[0m eta \u001b[36m0:00:01\u001b[0m\r\u001b[2K   \u001b[91m━━━━━━━━━━━━━━━━━━━━━━━━━━━━━━━━━━━━━━━\u001b[0m\u001b[91m╸\u001b[0m \u001b[32m4.2/4.2 MB\u001b[0m \u001b[31m44.5 MB/s\u001b[0m eta \u001b[36m0:00:01\u001b[0m\r\u001b[2K   \u001b[90m━━━━━━━━━━━━━━━━━━━━━━━━━━━━━━━━━━━━━━━━\u001b[0m \u001b[32m4.2/4.2 MB\u001b[0m \u001b[31m32.6 MB/s\u001b[0m eta \u001b[36m0:00:00\u001b[0m\n",
            "\u001b[?25h"
          ]
        }
      ],
      "source": [
        "!pip install -q jarvis-tools"
      ]
    },
    {
      "cell_type": "markdown",
      "source": [
        "https://jarvis.nist.gov/jxrd/\n",
        "\n",
        "https://pubs.acs.org/doi/10.1021/acs.jpclett.4c03137"
      ],
      "metadata": {
        "id": "snbry7EhgW1g"
      }
    },
    {
      "cell_type": "code",
      "source": [
        "my_xrd_data=\"\"\"elements HAS ALL Al\n",
        "38.3301 28.0089\n",
        "44.553 13.4885\n",
        "64.8365 8.7086\n",
        "77.8979 10.1859\n",
        "82.0792 2.9489\n",
        "98.6034 1.5015\n",
        "111.4164 5.3945\n",
        "115.9121 5.3881\n",
        "136.4182 6.577\n",
        "160.0414 17.798\n",
        "\"\"\"\n"
      ],
      "metadata": {
        "id": "ZSJqLu5vfGul"
      },
      "execution_count": 48,
      "outputs": []
    },
    {
      "cell_type": "code",
      "source": [
        "my_xrd_data = my_xrd_data.splitlines()\n",
        "my_xrd_data"
      ],
      "metadata": {
        "colab": {
          "base_uri": "https://localhost:8080/"
        },
        "id": "PyfJQLC6hQQg",
        "outputId": "264ade91-1dc4-46c0-f5a7-f7d8d90266c9"
      },
      "execution_count": 49,
      "outputs": [
        {
          "output_type": "execute_result",
          "data": {
            "text/plain": [
              "['elements HAS ALL Al',\n",
              " '38.3301 28.0089',\n",
              " '44.553 13.4885',\n",
              " '64.8365 8.7086',\n",
              " '77.8979 10.1859',\n",
              " '82.0792 2.9489',\n",
              " '98.6034 1.5015',\n",
              " '111.4164 5.3945',\n",
              " '115.9121 5.3881',\n",
              " '136.4182 6.577',\n",
              " '160.0414 17.798']"
            ]
          },
          "metadata": {},
          "execution_count": 49
        }
      ]
    },
    {
      "cell_type": "code",
      "source": [
        "import numpy as np\n",
        "elements = my_xrd_data[0].split('elements HAS ALL ')[1].split(',')\n",
        "x=[]\n",
        "y=[]\n",
        "for i in my_xrd_data[1:]:\n",
        "    tmp=i.split(' ')\n",
        "    x.append(float(tmp[0]))\n",
        "    y.append(float(tmp[1]))\n",
        "x=np.array(x)\n",
        "y=np.array(y)\n",
        "y=y/np.max(y)"
      ],
      "metadata": {
        "id": "_sfFBdzDh5f4"
      },
      "execution_count": 50,
      "outputs": []
    },
    {
      "cell_type": "code",
      "source": [
        "%matplotlib inline\n",
        "import matplotlib.pyplot as plt\n",
        "plt.bar(x,y)\n",
        "plt.xlim([0,90])\n",
        "plt.show()"
      ],
      "metadata": {
        "colab": {
          "base_uri": "https://localhost:8080/",
          "height": 430
        },
        "id": "iQ-4H2vvh_bh",
        "outputId": "83a83398-201e-49ed-f183-a7a8d287ab8a"
      },
      "execution_count": 51,
      "outputs": [
        {
          "output_type": "display_data",
          "data": {
            "text/plain": [
              "<Figure size 640x480 with 1 Axes>"
            ],
            "image/png": "[encoded data removed]"
          },
          "metadata": {}
        }
      ]
    },
    {
      "cell_type": "code",
      "source": [
        "from jarvis.core.utils import baseline_als,recast_array\n",
        "import numpy as np\n",
        "# background = baseline_als(y, 10000, 0.001)\n",
        "background = baseline_als(y, 10000, 0.000001)\n",
        "y_corrected = np.array(y - background)\n",
        "# %matplotlib inline\n",
        "# import matplotlib.pyplot as plt\n",
        "# plt.bar(x,y_corrected)\n",
        "# plt.xlim([0,90])\n",
        "# plt.show()"
      ],
      "metadata": {
        "id": "ovyC2zfDgif9"
      },
      "execution_count": 52,
      "outputs": []
    },
    {
      "cell_type": "code",
      "source": [
        "x_range=[0,90]\n",
        "intvl=0.1\n",
        "y_corrected=y_corrected/np.max(y_corrected)\n",
        "\n",
        "x, y_corrected = recast_array(\n",
        "    x_original=x,\n",
        "    y_original=y_corrected,\n",
        "    x_new=np.arange(x_range[0], x_range[1], intvl),\n",
        ")\n",
        "y_corrected=y_corrected/np.max(y_corrected)"
      ],
      "metadata": {
        "id": "TYGE1O9fi4NV"
      },
      "execution_count": 53,
      "outputs": []
    },
    {
      "cell_type": "code",
      "source": [
        "from jarvis.db.figshare import data\n",
        "import pandas as pd\n",
        "dft_3d = data('dft_3d')\n",
        "df=pd.DataFrame(dft_3d)"
      ],
      "metadata": {
        "colab": {
          "base_uri": "https://localhost:8080/"
        },
        "id": "C6vvKmp1ir6V",
        "outputId": "14172b1e-04a8-48da-895e-02a49ad80396"
      },
      "execution_count": 54,
      "outputs": [
        {
          "output_type": "stream",
          "name": "stdout",
          "text": [
            "Obtaining 3D dataset 76k ...\n",
            "Reference:https://www.nature.com/articles/s41524-020-00440-1\n",
            "Other versions:https://doi.org/10.6084/m9.figshare.6815699\n",
            "Loading the zipfile...\n",
            "Loading completed.\n"
          ]
        }
      ]
    },
    {
      "cell_type": "code",
      "source": [
        "from jarvis.core.atoms import Atoms\n",
        "def has_elements(atoms_dict = {}, my_element = []):\n",
        "    atoms = Atoms.from_dict(atoms_dict)\n",
        "    elements = atoms.elements\n",
        "    if set(my_element)==set(elements):\n",
        "        return True\n",
        "    else:\n",
        "        return np.nan\n",
        "\n",
        "df['el'] = df['atoms'].apply(lambda x: has_elements(atoms_dict = x, my_element = elements))\n",
        "df1 = df.dropna()\n",
        "print ('#entries:',len(df1))\n",
        "df1"
      ],
      "metadata": {
        "colab": {
          "base_uri": "https://localhost:8080/",
          "height": 363
        },
        "id": "i1IDMjUPke_B",
        "outputId": "9f7ee182-7da5-4bdb-de9f-9950bdbb42d1"
      },
      "execution_count": 55,
      "outputs": [
        {
          "output_type": "stream",
          "name": "stdout",
          "text": [
            "#entries: 4\n"
          ]
        },
        {
          "output_type": "execute_result",
          "data": {
            "text/plain": [
              "               jid spg_number spg_symbol formula  formation_energy_peratom  \\\n",
              "404    JVASP-14615        225      Fm-3m      Al                  -0.00000   \n",
              "15138   JVASP-7148        221      Pm-3m      Al                   3.30739   \n",
              "34726  JVASP-25408        229      Im-3m      Al                   0.09589   \n",
              "34952    JVASP-816        225      Fm-3m      Al                  -0.00000   \n",
              "\n",
              "            func  optb88vdw_bandgap  \\\n",
              "404    OptB88vdW                0.0   \n",
              "15138  OptB88vdW                0.0   \n",
              "34726  OptB88vdW                0.0   \n",
              "34952  OptB88vdW                0.0   \n",
              "\n",
              "                                                   atoms slme magmom_oszicar  \\\n",
              "404    {'lattice_mat': [[2.4907700981238134, -1.43941...   na            0.0   \n",
              "15138  {'lattice_mat': [[20.0, 0.0, 0.0], [0.0, 20.0,...   na            1.0   \n",
              "34726  {'lattice_mat': [[1.6319968139024488, 1.631996...   na            0.0   \n",
              "34952  {'lattice_mat': [[2.4907700981617955, -1.43941...   na            0.0   \n",
              "\n",
              "       ... poisson                                          raw_files nat  \\\n",
              "404    ...    0.39  [FD-ELAST,JVASP-14615.zip,https://ndownloader....   1   \n",
              "15138  ...      na  [FD-ELAST,JVASP-7148.zip,https://ndownloader.f...   1   \n",
              "34726  ...   -6.21  [FD-ELAST,JVASP-25408.zip,https://ndownloader....   1   \n",
              "34952  ...    0.39  [FD-ELAST,JVASP-816.zip,https://ndownloader.fi...   1   \n",
              "\n",
              "      bulk_modulus_kv shear_modulus_gv mbj_bandgap hse_gap  reference search  \\\n",
              "404             69.93            16.76         0.0      na     mp-134    -Al   \n",
              "15138              na               na          na      na  mp-ase-Al    -Al   \n",
              "34726           59.57             13.9         0.0      na  mp-998860    -Al   \n",
              "34952           69.93            16.76         0.0      na     mp-134    -Al   \n",
              "\n",
              "         el  \n",
              "404    True  \n",
              "15138  True  \n",
              "34726  True  \n",
              "34952  True  \n",
              "\n",
              "[4 rows x 65 columns]"
            ],
            "text/html": [
              "\n",
              "  <div id=\"df-3ae528df-7f06-4450-8290-4a762cfaa50a\" class=\"colab-df-container\">\n",
              "    <div>\n",
              "<style scoped>\n",
              "    .dataframe tbody tr th:only-of-type {\n",
              "        vertical-align: middle;\n",
              "    }\n",
              "\n",
              "    .dataframe tbody tr th {\n",
              "        vertical-align: top;\n",
              "    }\n",
              "\n",
              "    .dataframe thead th {\n",
              "        text-align: right;\n",
              "    }\n",
              "</style>\n",
              "<table border=\"1\" class=\"dataframe\">\n",
              "  <thead>\n",
              "    <tr style=\"text-align: right;\">\n",
              "      <th></th>\n",
              "      <th>jid</th>\n",
              "      <th>spg_number</th>\n",
              "      <th>spg_symbol</th>\n",
              "      <th>formula</th>\n",
              "      <th>formation_energy_peratom</th>\n",
              "      <th>func</th>\n",
              "      <th>optb88vdw_bandgap</th>\n",
              "      <th>atoms</th>\n",
              "      <th>slme</th>\n",
              "      <th>magmom_oszicar</th>\n",
              "      <th>...</th>\n",
              "      <th>poisson</th>\n",
              "      <th>raw_files</th>\n",
              "      <th>nat</th>\n",
              "      <th>bulk_modulus_kv</th>\n",
              "      <th>shear_modulus_gv</th>\n",
              "      <th>mbj_bandgap</th>\n",
              "      <th>hse_gap</th>\n",
              "      <th>reference</th>\n",
              "      <th>search</th>\n",
              "      <th>el</th>\n",
              "    </tr>\n",
              "  </thead>\n",
              "  <tbody>\n",
              "    <tr>\n",
              "      <th>404</th>\n",
              "      <td>JVASP-14615</td>\n",
              "      <td>225</td>\n",
              "      <td>Fm-3m</td>\n",
              "      <td>Al</td>\n",
              "      <td>-0.00000</td>\n",
              "      <td>OptB88vdW</td>\n",
              "      <td>0.0</td>\n",
              "      <td>{'lattice_mat': [[2.4907700981238134, -1.43941...</td>\n",
              "      <td>na</td>\n",
              "      <td>0.0</td>\n",
              "      <td>...</td>\n",
              "      <td>0.39</td>\n",
              "      <td>[FD-ELAST,JVASP-14615.zip,https://ndownloader....</td>\n",
              "      <td>1</td>\n",
              "      <td>69.93</td>\n",
              "      <td>16.76</td>\n",
              "      <td>0.0</td>\n",
              "      <td>na</td>\n",
              "      <td>mp-134</td>\n",
              "      <td>-Al</td>\n",
              "      <td>True</td>\n",
              "    </tr>\n",
              "    <tr>\n",
              "      <th>15138</th>\n",
              "      <td>JVASP-7148</td>\n",
              "      <td>221</td>\n",
              "      <td>Pm-3m</td>\n",
              "      <td>Al</td>\n",
              "      <td>3.30739</td>\n",
              "      <td>OptB88vdW</td>\n",
              "      <td>0.0</td>\n",
              "      <td>{'lattice_mat': [[20.0, 0.0, 0.0], [0.0, 20.0,...</td>\n",
              "      <td>na</td>\n",
              "      <td>1.0</td>\n",
              "      <td>...</td>\n",
              "      <td>na</td>\n",
              "      <td>[FD-ELAST,JVASP-7148.zip,https://ndownloader.f...</td>\n",
              "      <td>1</td>\n",
              "      <td>na</td>\n",
              "      <td>na</td>\n",
              "      <td>na</td>\n",
              "      <td>na</td>\n",
              "      <td>mp-ase-Al</td>\n",
              "      <td>-Al</td>\n",
              "      <td>True</td>\n",
              "    </tr>\n",
              "    <tr>\n",
              "      <th>34726</th>\n",
              "      <td>JVASP-25408</td>\n",
              "      <td>229</td>\n",
              "      <td>Im-3m</td>\n",
              "      <td>Al</td>\n",
              "      <td>0.09589</td>\n",
              "      <td>OptB88vdW</td>\n",
              "      <td>0.0</td>\n",
              "      <td>{'lattice_mat': [[1.6319968139024488, 1.631996...</td>\n",
              "      <td>na</td>\n",
              "      <td>0.0</td>\n",
              "      <td>...</td>\n",
              "      <td>-6.21</td>\n",
              "      <td>[FD-ELAST,JVASP-25408.zip,https://ndownloader....</td>\n",
              "      <td>1</td>\n",
              "      <td>59.57</td>\n",
              "      <td>13.9</td>\n",
              "      <td>0.0</td>\n",
              "      <td>na</td>\n",
              "      <td>mp-998860</td>\n",
              "      <td>-Al</td>\n",
              "      <td>True</td>\n",
              "    </tr>\n",
              "    <tr>\n",
              "      <th>34952</th>\n",
              "      <td>JVASP-816</td>\n",
              "      <td>225</td>\n",
              "      <td>Fm-3m</td>\n",
              "      <td>Al</td>\n",
              "      <td>-0.00000</td>\n",
              "      <td>OptB88vdW</td>\n",
              "      <td>0.0</td>\n",
              "      <td>{'lattice_mat': [[2.4907700981617955, -1.43941...</td>\n",
              "      <td>na</td>\n",
              "      <td>0.0</td>\n",
              "      <td>...</td>\n",
              "      <td>0.39</td>\n",
              "      <td>[FD-ELAST,JVASP-816.zip,https://ndownloader.fi...</td>\n",
              "      <td>1</td>\n",
              "      <td>69.93</td>\n",
              "      <td>16.76</td>\n",
              "      <td>0.0</td>\n",
              "      <td>na</td>\n",
              "      <td>mp-134</td>\n",
              "      <td>-Al</td>\n",
              "      <td>True</td>\n",
              "    </tr>\n",
              "  </tbody>\n",
              "</table>\n",
              "<p>4 rows × 65 columns</p>\n",
              "</div>\n",
              "    <div class=\"colab-df-buttons\">\n",
              "\n",
              "  <div class=\"colab-df-container\">\n",
              "    <button class=\"colab-df-convert\" onclick=\"convertToInteractive('df-3ae528df-7f06-4450-8290-4a762cfaa50a')\"\n",
              "            title=\"Convert this dataframe to an interactive table.\"\n",
              "            style=\"display:none;\">\n",
              "\n",
              "  <svg xmlns=\"http://www.w3.org/2000/svg\" height=\"24px\" viewBox=\"0 -960 960 960\">\n",
              "    <path d=\"M120-120v-720h720v720H120Zm60-500h600v-160H180v160Zm220 220h160v-160H400v160Zm0 220h160v-160H400v160ZM180-400h160v-160H180v160Zm440 0h160v-160H620v160ZM180-180h160v-160H180v160Zm440 0h160v-160H620v160Z\"/>\n",
              "  </svg>\n",
              "    </button>\n",
              "\n",
              "  <style>\n",
              "    .colab-df-container {\n",
              "      display:flex;\n",
              "      gap: 12px;\n",
              "    }\n",
              "\n",
              "    .colab-df-convert {\n",
              "      background-color: #E8F0FE;\n",
              "      border: none;\n",
              "      border-radius: 50%;\n",
              "      cursor: pointer;\n",
              "      display: none;\n",
              "      fill: #1967D2;\n",
              "      height: 32px;\n",
              "      padding: 0 0 0 0;\n",
              "      width: 32px;\n",
              "    }\n",
              "\n",
              "    .colab-df-convert:hover {\n",
              "      background-color: #E2EBFA;\n",
              "      box-shadow: 0px 1px 2px rgba(60, 64, 67, 0.3), 0px 1px 3px 1px rgba(60, 64, 67, 0.15);\n",
              "      fill: #174EA6;\n",
              "    }\n",
              "\n",
              "    .colab-df-buttons div {\n",
              "      margin-bottom: 4px;\n",
              "    }\n",
              "\n",
              "    [theme=dark] .colab-df-convert {\n",
              "      background-color: #3B4455;\n",
              "      fill: #D2E3FC;\n",
              "    }\n",
              "\n",
              "    [theme=dark] .colab-df-convert:hover {\n",
              "      background-color: #434B5C;\n",
              "      box-shadow: 0px 1px 3px 1px rgba(0, 0, 0, 0.15);\n",
              "      filter: drop-shadow(0px 1px 2px rgba(0, 0, 0, 0.3));\n",
              "      fill: #FFFFFF;\n",
              "    }\n",
              "  </style>\n",
              "\n",
              "    <script>\n",
              "      const buttonEl =\n",
              "        document.querySelector('#df-3ae528df-7f06-4450-8290-4a762cfaa50a button.colab-df-convert');\n",
              "      buttonEl.style.display =\n",
              "        google.colab.kernel.accessAllowed ? 'block' : 'none';\n",
              "\n",
              "      async function convertToInteractive(key) {\n",
              "        const element = document.querySelector('#df-3ae528df-7f06-4450-8290-4a762cfaa50a');\n",
              "        const dataTable =\n",
              "          await google.colab.kernel.invokeFunction('convertToInteractive',\n",
              "                                                    [key], {});\n",
              "        if (!dataTable) return;\n",
              "\n",
              "        const docLinkHtml = 'Like what you see? Visit the ' +\n",
              "          '<a target=\"_blank\" href=https://colab.research.google.com/notebooks/data_table.ipynb>data table notebook</a>'\n",
              "          + ' to learn more about interactive tables.';\n",
              "        element.innerHTML = '';\n",
              "        dataTable['output_type'] = 'display_data';\n",
              "        await google.colab.output.renderOutput(dataTable, element);\n",
              "        const docLink = document.createElement('div');\n",
              "        docLink.innerHTML = docLinkHtml;\n",
              "        element.appendChild(docLink);\n",
              "      }\n",
              "    </script>\n",
              "  </div>\n",
              "\n",
              "\n",
              "    <div id=\"df-f938f3de-6dcb-4c5b-9d02-55be79dfd130\">\n",
              "      <button class=\"colab-df-quickchart\" onclick=\"quickchart('df-f938f3de-6dcb-4c5b-9d02-55be79dfd130')\"\n",
              "                title=\"Suggest charts\"\n",
              "                style=\"display:none;\">\n",
              "\n",
              "<svg xmlns=\"http://www.w3.org/2000/svg\" height=\"24px\"viewBox=\"0 0 24 24\"\n",
              "     width=\"24px\">\n",
              "    <g>\n",
              "        <path d=\"M19 3H5c-1.1 0-2 .9-2 2v14c0 1.1.9 2 2 2h14c1.1 0 2-.9 2-2V5c0-1.1-.9-2-2-2zM9 17H7v-7h2v7zm4 0h-2V7h2v10zm4 0h-2v-4h2v4z\"/>\n",
              "    </g>\n",
              "</svg>\n",
              "      </button>\n",
              "\n",
              "<style>\n",
              "  .colab-df-quickchart {\n",
              "      --bg-color: #E8F0FE;\n",
              "      --fill-color: #1967D2;\n",
              "      --hover-bg-color: #E2EBFA;\n",
              "      --hover-fill-color: #174EA6;\n",
              "      --disabled-fill-color: #AAA;\n",
              "      --disabled-bg-color: #DDD;\n",
              "  }\n",
              "\n",
              "  [theme=dark] .colab-df-quickchart {\n",
              "      --bg-color: #3B4455;\n",
              "      --fill-color: #D2E3FC;\n",
              "      --hover-bg-color: #434B5C;\n",
              "      --hover-fill-color: #FFFFFF;\n",
              "      --disabled-bg-color: #3B4455;\n",
              "      --disabled-fill-color: #666;\n",
              "  }\n",
              "\n",
              "  .colab-df-quickchart {\n",
              "    background-color: var(--bg-color);\n",
              "    border: none;\n",
              "    border-radius: 50%;\n",
              "    cursor: pointer;\n",
              "    display: none;\n",
              "    fill: var(--fill-color);\n",
              "    height: 32px;\n",
              "    padding: 0;\n",
              "    width: 32px;\n",
              "  }\n",
              "\n",
              "  .colab-df-quickchart:hover {\n",
              "    background-color: var(--hover-bg-color);\n",
              "    box-shadow: 0 1px 2px rgba(60, 64, 67, 0.3), 0 1px 3px 1px rgba(60, 64, 67, 0.15);\n",
              "    fill: var(--button-hover-fill-color);\n",
              "  }\n",
              "\n",
              "  .colab-df-quickchart-complete:disabled,\n",
              "  .colab-df-quickchart-complete:disabled:hover {\n",
              "    background-color: var(--disabled-bg-color);\n",
              "    fill: var(--disabled-fill-color);\n",
              "    box-shadow: none;\n",
              "  }\n",
              "\n",
              "  .colab-df-spinner {\n",
              "    border: 2px solid var(--fill-color);\n",
              "    border-color: transparent;\n",
              "    border-bottom-color: var(--fill-color);\n",
              "    animation:\n",
              "      spin 1s steps(1) infinite;\n",
              "  }\n",
              "\n",
              "  @keyframes spin {\n",
              "    0% {\n",
              "      border-color: transparent;\n",
              "      border-bottom-color: var(--fill-color);\n",
              "      border-left-color: var(--fill-color);\n",
              "    }\n",
              "    20% {\n",
              "      border-color: transparent;\n",
              "      border-left-color: var(--fill-color);\n",
              "      border-top-color: var(--fill-color);\n",
              "    }\n",
              "    30% {\n",
              "      border-color: transparent;\n",
              "      border-left-color: var(--fill-color);\n",
              "      border-top-color: var(--fill-color);\n",
              "      border-right-color: var(--fill-color);\n",
              "    }\n",
              "    40% {\n",
              "      border-color: transparent;\n",
              "      border-right-color: var(--fill-color);\n",
              "      border-top-color: var(--fill-color);\n",
              "    }\n",
              "    60% {\n",
              "      border-color: transparent;\n",
              "      border-right-color: var(--fill-color);\n",
              "    }\n",
              "    80% {\n",
              "      border-color: transparent;\n",
              "      border-right-color: var(--fill-color);\n",
              "      border-bottom-color: var(--fill-color);\n",
              "    }\n",
              "    90% {\n",
              "      border-color: transparent;\n",
              "      border-bottom-color: var(--fill-color);\n",
              "    }\n",
              "  }\n",
              "</style>\n",
              "\n",
              "      <script>\n",
              "        async function quickchart(key) {\n",
              "          const quickchartButtonEl =\n",
              "            document.querySelector('#' + key + ' button');\n",
              "          quickchartButtonEl.disabled = true;  // To prevent multiple clicks.\n",
              "          quickchartButtonEl.classList.add('colab-df-spinner');\n",
              "          try {\n",
              "            const charts = await google.colab.kernel.invokeFunction(\n",
              "                'suggestCharts', [key], {});\n",
              "          } catch (error) {\n",
              "            console.error('Error during call to suggestCharts:', error);\n",
              "          }\n",
              "          quickchartButtonEl.classList.remove('colab-df-spinner');\n",
              "          quickchartButtonEl.classList.add('colab-df-quickchart-complete');\n",
              "        }\n",
              "        (() => {\n",
              "          let quickchartButtonEl =\n",
              "            document.querySelector('#df-f938f3de-6dcb-4c5b-9d02-55be79dfd130 button');\n",
              "          quickchartButtonEl.style.display =\n",
              "            google.colab.kernel.accessAllowed ? 'block' : 'none';\n",
              "        })();\n",
              "      </script>\n",
              "    </div>\n",
              "\n",
              "  <div id=\"id_c3355b27-b2be-4d67-8a4e-7eccdfd1ed08\">\n",
              "    <style>\n",
              "      .colab-df-generate {\n",
              "        background-color: #E8F0FE;\n",
              "        border: none;\n",
              "        border-radius: 50%;\n",
              "        cursor: pointer;\n",
              "        display: none;\n",
              "        fill: #1967D2;\n",
              "        height: 32px;\n",
              "        padding: 0 0 0 0;\n",
              "        width: 32px;\n",
              "      }\n",
              "\n",
              "      .colab-df-generate:hover {\n",
              "        background-color: #E2EBFA;\n",
              "        box-shadow: 0px 1px 2px rgba(60, 64, 67, 0.3), 0px 1px 3px 1px rgba(60, 64, 67, 0.15);\n",
              "        fill: #174EA6;\n",
              "      }\n",
              "\n",
              "      [theme=dark] .colab-df-generate {\n",
              "        background-color: #3B4455;\n",
              "        fill: #D2E3FC;\n",
              "      }\n",
              "\n",
              "      [theme=dark] .colab-df-generate:hover {\n",
              "        background-color: #434B5C;\n",
              "        box-shadow: 0px 1px 3px 1px rgba(0, 0, 0, 0.15);\n",
              "        filter: drop-shadow(0px 1px 2px rgba(0, 0, 0, 0.3));\n",
              "        fill: #FFFFFF;\n",
              "      }\n",
              "    </style>\n",
              "    <button class=\"colab-df-generate\" onclick=\"generateWithVariable('df1')\"\n",
              "            title=\"Generate code using this dataframe.\"\n",
              "            style=\"display:none;\">\n",
              "\n",
              "  <svg xmlns=\"http://www.w3.org/2000/svg\" height=\"24px\"viewBox=\"0 0 24 24\"\n",
              "       width=\"24px\">\n",
              "    <path d=\"M7,19H8.4L18.45,9,17,7.55,7,17.6ZM5,21V16.75L18.45,3.32a2,2,0,0,1,2.83,0l1.4,1.43a1.91,1.91,0,0,1,.58,1.4,1.91,1.91,0,0,1-.58,1.4L9.25,21ZM18.45,9,17,7.55Zm-12,3A5.31,5.31,0,0,0,4.9,8.1,5.31,5.31,0,0,0,1,6.5,5.31,5.31,0,0,0,4.9,4.9,5.31,5.31,0,0,0,6.5,1,5.31,5.31,0,0,0,8.1,4.9,5.31,5.31,0,0,0,12,6.5,5.46,5.46,0,0,0,6.5,12Z\"/>\n",
              "  </svg>\n",
              "    </button>\n",
              "    <script>\n",
              "      (() => {\n",
              "      const buttonEl =\n",
              "        document.querySelector('#id_c3355b27-b2be-4d67-8a4e-7eccdfd1ed08 button.colab-df-generate');\n",
              "      buttonEl.style.display =\n",
              "        google.colab.kernel.accessAllowed ? 'block' : 'none';\n",
              "\n",
              "      buttonEl.onclick = () => {\n",
              "        google.colab.notebook.generateWithVariable('df1');\n",
              "      }\n",
              "      })();\n",
              "    </script>\n",
              "  </div>\n",
              "\n",
              "    </div>\n",
              "  </div>\n"
            ],
            "application/vnd.google.colaboratory.intrinsic+json": {
              "type": "dataframe",
              "variable_name": "df1"
            }
          },
          "metadata": {},
          "execution_count": 55
        }
      ]
    },
    {
      "cell_type": "code",
      "source": [
        "from jarvis.analysis.diffraction.xrd import XRD\n",
        "from sklearn.metrics import mean_absolute_error\n",
        "from sklearn.metrics.pairwise import cosine_similarity\n",
        "from scipy import spatial\n",
        "from scipy import stats\n",
        "\n",
        "\n",
        "c_pred=[]\n",
        "error=np.inf\n",
        "jid_pred=''\n",
        "for i,ii in df1.iterrows():\n",
        "    atoms = Atoms.from_dict(ii['atoms'])\n",
        "    jid=ii['jid']\n",
        "    a, b, c = XRD(thetas=[0, 90]).simulate(atoms=atoms)\n",
        "    a = np.array(a)\n",
        "    c = np.array(c)\n",
        "    c=c/np.max(c)\n",
        "    a, c = recast_array(\n",
        "        x_original=a,\n",
        "        y_original=c,\n",
        "        x_new=np.arange(x_range[0], x_range[1], intvl),\n",
        "    )\n",
        "    c=c/np.max(c)\n",
        "    #c_error=cosine_similarity(y_corrected,c)\n",
        "    c_error=spatial.distance.cosine(y_corrected,c)\n",
        "    mae=mean_absolute_error(y_corrected,c)\n",
        "    pr=stats.pearsonr(y_corrected,c)[0]\n",
        "    #print('c_error',jid,c_error,mae,pr)\n",
        "    if c_error<error:\n",
        "        error=c_error\n",
        "        c_pred = c\n",
        "        jid_pred = jid"
      ],
      "metadata": {
        "id": "38_1QxeFk7gy"
      },
      "execution_count": 56,
      "outputs": []
    },
    {
      "cell_type": "code",
      "source": [
        "print(c_error,jid)"
      ],
      "metadata": {
        "colab": {
          "base_uri": "https://localhost:8080/"
        },
        "id": "vmr3JspulwOC",
        "outputId": "a5119c0b-d925-408e-f6db-a622b75af782"
      },
      "execution_count": 57,
      "outputs": [
        {
          "output_type": "stream",
          "name": "stdout",
          "text": [
            "0.3418930560208925 JVASP-816\n"
          ]
        }
      ]
    },
    {
      "cell_type": "code",
      "source": [
        "error"
      ],
      "metadata": {
        "colab": {
          "base_uri": "https://localhost:8080/"
        },
        "id": "NfWmeWJHlynH",
        "outputId": "df4cbe5b-6682-4e0c-9fb5-4d04277f0968"
      },
      "execution_count": 58,
      "outputs": [
        {
          "output_type": "execute_result",
          "data": {
            "text/plain": [
              "np.float64(0.3418930560208925)"
            ]
          },
          "metadata": {},
          "execution_count": 58
        }
      ]
    },
    {
      "cell_type": "markdown",
      "source": [
        "For inference with DiffractGPT see [this example](https://colab.research.google.com/github/knc6/jarvis-tools-notebooks/blob/master/jarvis-tools-notebooks/DiffractGPT_example.ipynb)"
      ],
      "metadata": {
        "id": "qIwAouk9l7uz"
      }
    },
    {
      "cell_type": "code",
      "source": [],
      "metadata": {
        "id": "sf9cWRyYl2ye"
      },
      "execution_count": null,
      "outputs": []
    }
  ]
}