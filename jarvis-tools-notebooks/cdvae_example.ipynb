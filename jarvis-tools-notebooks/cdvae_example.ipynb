{
  "nbformat": 4,
  "nbformat_minor": 0,
  "metadata": {
    "colab": {
      "provenance": [],
      "gpuType": "T4",
      "authorship_tag": "ABX9TyMeX6TTqVzhIYdPQP6mXlV8",
      "include_colab_link": true
    },
    "kernelspec": {
      "name": "python3",
      "display_name": "Python 3"
    },
    "language_info": {
      "name": "python"
    }
  },
  "cells": [
    {
      "cell_type": "markdown",
      "metadata": {
        "id": "view-in-github",
        "colab_type": "text"
      },
      "source": [
        "<a href=\"https://colab.research.google.com/github/knc6/jarvis-tools-notebooks/blob/master/jarvis-tools-notebooks/cdvae_example.ipynb\" target=\"_parent\"><img src=\"https://colab.research.google.com/assets/colab-badge.svg\" alt=\"Open In Colab\"/></a>"
      ]
    },
    {
      "cell_type": "markdown",
      "source": [
        "Inverse Design of Next-Generation Superconductors Using Data-Driven Deep Generative Models\n",
        "\n",
        "Reference: https://pubs.acs.org/doi/10.1021/acs.jpclett.3c01260"
      ],
      "metadata": {
        "id": "Rk45Zr9qZPGl"
      }
    },
    {
      "cell_type": "markdown",
      "source": [
        "Author: Kamal Choudhary (kamal.choudhary@nist.gov)"
      ],
      "metadata": {
        "id": "0aMENRlqpc4a"
      }
    },
    {
      "cell_type": "code",
      "source": [
        "# !pip install -q condacolab\n",
        "# import condacolab\n",
        "# condacolab.install()"
      ],
      "metadata": {
        "id": "b8CZGRlH2mNT"
      },
      "execution_count": 1,
      "outputs": []
    },
    {
      "cell_type": "code",
      "source": [
        "# !conda --version"
      ],
      "metadata": {
        "id": "Pe0WYKBs3NST"
      },
      "execution_count": 2,
      "outputs": []
    },
    {
      "cell_type": "code",
      "source": [
        "# import condacolab\n",
        "# condacolab.check()"
      ],
      "metadata": {
        "id": "K6T-jNzf3N47"
      },
      "execution_count": 3,
      "outputs": []
    },
    {
      "cell_type": "code",
      "source": [
        "%%time\n",
        "# Install required packages.\n",
        "import os\n",
        "import torch\n",
        "os.environ['TORCH'] = torch.__version__\n",
        "print(torch.__version__)\n",
        "\n",
        "!pip install -q torch-scatter -f https://data.pyg.org/whl/torch-${TORCH}.html\n",
        "!pip install -q torch-sparse -f https://data.pyg.org/whl/torch-${TORCH}.html\n",
        "!pip install -q git+https://github.com/pyg-team/pytorch_geometric.git\n",
        "!pip install -q pytorch-lightning wandb torchmetrics==0.6.0 pymatgen==2022.4.26\n",
        "!pip install -q hydra-core jarvis-tools python-dotenv p-tqdm accelerate\n",
        "!pip install -q numpy==1.26.4"
      ],
      "metadata": {
        "colab": {
          "base_uri": "https://localhost:8080/"
        },
        "id": "8JQuTHIOTxO-",
        "outputId": "7fcda15f-aac9-4506-d640-14374085dfbc"
      },
      "execution_count": 4,
      "outputs": [
        {
          "output_type": "stream",
          "name": "stdout",
          "text": [
            "2.6.0+cu124\n",
            "\u001b[2K     \u001b[90m━━━━━━━━━━━━━━━━━━━━━━━━━━━━━━━━━━━━━━━━\u001b[0m \u001b[32m10.8/10.8 MB\u001b[0m \u001b[31m63.6 MB/s\u001b[0m eta \u001b[36m0:00:00\u001b[0m\n",
            "\u001b[2K     \u001b[90m━━━━━━━━━━━━━━━━━━━━━━━━━━━━━━━━━━━━━━━━\u001b[0m \u001b[32m5.0/5.0 MB\u001b[0m \u001b[31m36.9 MB/s\u001b[0m eta \u001b[36m0:00:00\u001b[0m\n",
            "\u001b[?25h  Installing build dependencies ... \u001b[?25l\u001b[?25hdone\n",
            "  Getting requirements to build wheel ... \u001b[?25l\u001b[?25hdone\n",
            "  Preparing metadata (pyproject.toml) ... \u001b[?25l\u001b[?25hdone\n",
            "  Building wheel for torch-geometric (pyproject.toml) ... \u001b[?25l\u001b[?25hdone\n",
            "\u001b[2K     \u001b[90m━━━━━━━━━━━━━━━━━━━━━━━━━━━━━━━━━━━━━━━━\u001b[0m \u001b[32m2.6/2.6 MB\u001b[0m \u001b[31m31.1 MB/s\u001b[0m eta \u001b[36m0:00:00\u001b[0m\n",
            "\u001b[?25h  Installing build dependencies ... \u001b[?25l\u001b[?25hdone\n",
            "  Getting requirements to build wheel ... \u001b[?25l\u001b[?25hdone\n",
            "  Preparing metadata (pyproject.toml) ... \u001b[?25l\u001b[?25hdone\n",
            "\u001b[33mWARNING: Ignoring version 1.8.3.post2 of pytorch-lightning since it has invalid metadata:\n",
            "Requested pytorch-lightning from https://files.pythonhosted.org/packages/68/73/54dcf2ab4156b9e6db9b050d9806fe49768307457d13f99963db5f227526/pytorch_lightning-1.8.3.post2-py3-none-any.whl has invalid metadata: .* suffix can only be used with `==` or `!=` operators\n",
            "    torch (>=1.9.*)\n",
            "           ~~~~~~^\n",
            "Please use pip<24.1 if you need to use this version.\u001b[0m\u001b[33m\n",
            "\u001b[0m\u001b[33mWARNING: Ignoring version 1.8.3.post1 of pytorch-lightning since it has invalid metadata:\n",
            "Requested pytorch-lightning from https://files.pythonhosted.org/packages/b5/ea/7cb6830785a844eddf45f88b9b14cbf8c3ecce718d4de35503783522f894/pytorch_lightning-1.8.3.post1-py3-none-any.whl has invalid metadata: .* suffix can only be used with `==` or `!=` operators\n",
            "    torch (>=1.9.*)\n",
            "           ~~~~~~^\n",
            "Please use pip<24.1 if you need to use this version.\u001b[0m\u001b[33m\n",
            "\u001b[0m\u001b[33mWARNING: Ignoring version 1.8.3.post0 of pytorch-lightning since it has invalid metadata:\n",
            "Requested pytorch-lightning from https://files.pythonhosted.org/packages/7d/03/a61454e47dc663a3a1719586867f05fc176193e0b978bfe5ea0309314c7b/pytorch_lightning-1.8.3.post0-py3-none-any.whl has invalid metadata: .* suffix can only be used with `==` or `!=` operators\n",
            "    torch (>=1.9.*)\n",
            "           ~~~~~~^\n",
            "Please use pip<24.1 if you need to use this version.\u001b[0m\u001b[33m\n",
            "\u001b[0m\u001b[33mWARNING: Ignoring version 1.8.3 of pytorch-lightning since it has invalid metadata:\n",
            "Requested pytorch-lightning from https://files.pythonhosted.org/packages/ed/29/3ff2f0e4fcf79309f319ac1f8b3d729959b051007e6fe30b3d21b77b54a0/pytorch_lightning-1.8.3-py3-none-any.whl has invalid metadata: .* suffix can only be used with `==` or `!=` operators\n",
            "    torch (>=1.9.*)\n",
            "           ~~~~~~^\n",
            "Please use pip<24.1 if you need to use this version.\u001b[0m\u001b[33m\n",
            "\u001b[0m\u001b[33mWARNING: Ignoring version 1.8.2 of pytorch-lightning since it has invalid metadata:\n",
            "Requested pytorch-lightning from https://files.pythonhosted.org/packages/e3/69/174a4b3e8a9e1b64227e0851d514d8d1e6b1c11584108ac90694b3c9fb4c/pytorch_lightning-1.8.2-py3-none-any.whl has invalid metadata: .* suffix can only be used with `==` or `!=` operators\n",
            "    torch (>=1.9.*)\n",
            "           ~~~~~~^\n",
            "Please use pip<24.1 if you need to use this version.\u001b[0m\u001b[33m\n",
            "\u001b[0m\u001b[33mWARNING: Ignoring version 1.8.1 of pytorch-lightning since it has invalid metadata:\n",
            "Requested pytorch-lightning from https://files.pythonhosted.org/packages/54/8f/ff9e74724d1c203e8f1efe4b763ef941a68672eaeae9512391a5d3125cae/pytorch_lightning-1.8.1-py3-none-any.whl has invalid metadata: .* suffix can only be used with `==` or `!=` operators\n",
            "    torch (>=1.9.*)\n",
            "           ~~~~~~^\n",
            "Please use pip<24.1 if you need to use this version.\u001b[0m\u001b[33m\n",
            "\u001b[0m\u001b[33mWARNING: Ignoring version 1.8.0.post1 of pytorch-lightning since it has invalid metadata:\n",
            "Requested pytorch-lightning from https://files.pythonhosted.org/packages/a6/95/201a7d10411150f612a597e6fa075c2dbe09a8cc6c5da8850f80e778f6d2/pytorch_lightning-1.8.0.post1-py3-none-any.whl has invalid metadata: .* suffix can only be used with `==` or `!=` operators\n",
            "    torch (>=1.9.*)\n",
            "           ~~~~~~^\n",
            "Please use pip<24.1 if you need to use this version.\u001b[0m\u001b[33m\n",
            "\u001b[0m\u001b[33mWARNING: Ignoring version 1.8.0 of pytorch-lightning since it has invalid metadata:\n",
            "Requested pytorch-lightning from https://files.pythonhosted.org/packages/5c/6d/4719a089c57d55800ab820b4f157a354cc6f5db0d10356d53038150fd7b3/pytorch_lightning-1.8.0-py3-none-any.whl has invalid metadata: .* suffix can only be used with `==` or `!=` operators\n",
            "    torch (>=1.9.*)\n",
            "           ~~~~~~^\n",
            "Please use pip<24.1 if you need to use this version.\u001b[0m\u001b[33m\n",
            "\u001b[0m\u001b[33mWARNING: Ignoring version 1.7.7 of pytorch-lightning since it has invalid metadata:\n",
            "Requested pytorch-lightning from https://files.pythonhosted.org/packages/00/eb/3b2152f9c3a50d265f3e75529254228ace8a86e9a4397f3004f1e3be7825/pytorch_lightning-1.7.7-py3-none-any.whl has invalid metadata: .* suffix can only be used with `==` or `!=` operators\n",
            "    torch (>=1.9.*)\n",
            "           ~~~~~~^\n",
            "Please use pip<24.1 if you need to use this version.\u001b[0m\u001b[33m\n",
            "\u001b[0m\u001b[33mWARNING: Ignoring version 1.7.6 of pytorch-lightning since it has invalid metadata:\n",
            "Requested pytorch-lightning from https://files.pythonhosted.org/packages/f2/22/37c64bd5b426297c71ecbb01ec2d340f013556a973a2cd6cd0aa68cda1ab/pytorch_lightning-1.7.6-py3-none-any.whl has invalid metadata: .* suffix can only be used with `==` or `!=` operators\n",
            "    torch (>=1.9.*)\n",
            "           ~~~~~~^\n",
            "Please use pip<24.1 if you need to use this version.\u001b[0m\u001b[33m\n",
            "\u001b[0m\u001b[33mWARNING: Ignoring version 1.7.5 of pytorch-lightning since it has invalid metadata:\n",
            "Requested pytorch-lightning from https://files.pythonhosted.org/packages/d5/9a/de6c20adf8d2a82b322dbe4d7b59266006bc28f53e67d634ecced1eac6c2/pytorch_lightning-1.7.5-py3-none-any.whl has invalid metadata: .* suffix can only be used with `==` or `!=` operators\n",
            "    torch (>=1.9.*)\n",
            "           ~~~~~~^\n",
            "Please use pip<24.1 if you need to use this version.\u001b[0m\u001b[33m\n",
            "\u001b[0m\u001b[33mWARNING: Ignoring version 1.7.4 of pytorch-lightning since it has invalid metadata:\n",
            "Requested pytorch-lightning from https://files.pythonhosted.org/packages/00/81/40691de5585926a5fe08ee6cac78ae219837948c9dd44a5680221ad9dd4a/pytorch_lightning-1.7.4-py3-none-any.whl has invalid metadata: .* suffix can only be used with `==` or `!=` operators\n",
            "    torch (>=1.9.*)\n",
            "           ~~~~~~^\n",
            "Please use pip<24.1 if you need to use this version.\u001b[0m\u001b[33m\n",
            "\u001b[0m\u001b[33mWARNING: Ignoring version 1.7.3 of pytorch-lightning since it has invalid metadata:\n",
            "Requested pytorch-lightning from https://files.pythonhosted.org/packages/00/df/6a62b9e0d0ccf2be3e20d8735f63596ff06b8db8f4f4d043d3d8874c1572/pytorch_lightning-1.7.3-py3-none-any.whl has invalid metadata: .* suffix can only be used with `==` or `!=` operators\n",
            "    torch (>=1.9.*)\n",
            "           ~~~~~~^\n",
            "Please use pip<24.1 if you need to use this version.\u001b[0m\u001b[33m\n",
            "\u001b[0m\u001b[33mWARNING: Ignoring version 1.7.2 of pytorch-lightning since it has invalid metadata:\n",
            "Requested pytorch-lightning from https://files.pythonhosted.org/packages/a1/37/40a0ade0d4bf9abcdae109ec6f306be0e5a8d5d19ae8adce811cbcacedce/pytorch_lightning-1.7.2-py3-none-any.whl has invalid metadata: .* suffix can only be used with `==` or `!=` operators\n",
            "    torch (>=1.9.*)\n",
            "           ~~~~~~^\n",
            "Please use pip<24.1 if you need to use this version.\u001b[0m\u001b[33m\n",
            "\u001b[0m\u001b[33mWARNING: Ignoring version 1.7.1 of pytorch-lightning since it has invalid metadata:\n",
            "Requested pytorch-lightning from https://files.pythonhosted.org/packages/e4/6f/45345dd52cd24b31dc86d1b0695e2f87dbcf19ec7db8163c18850a1cf7af/pytorch_lightning-1.7.1-py3-none-any.whl has invalid metadata: .* suffix can only be used with `==` or `!=` operators\n",
            "    torch (>=1.9.*)\n",
            "           ~~~~~~^\n",
            "Please use pip<24.1 if you need to use this version.\u001b[0m\u001b[33m\n",
            "\u001b[0m\u001b[33mWARNING: Ignoring version 1.7.0 of pytorch-lightning since it has invalid metadata:\n",
            "Requested pytorch-lightning from https://files.pythonhosted.org/packages/2f/07/57fd85991eec4311b9945369158bca1322f801686d701322a65789852d46/pytorch_lightning-1.7.0-py3-none-any.whl has invalid metadata: .* suffix can only be used with `==` or `!=` operators\n",
            "    torch (>=1.9.*)\n",
            "           ~~~~~~^\n",
            "Please use pip<24.1 if you need to use this version.\u001b[0m\u001b[33m\n",
            "\u001b[2K   \u001b[90m━━━━━━━━━━━━━━━━━━━━━━━━━━━━━━━━━━━━━━━━\u001b[0m \u001b[32m329.4/329.4 kB\u001b[0m \u001b[31m23.9 MB/s\u001b[0m eta \u001b[36m0:00:00\u001b[0m\n",
            "\u001b[2K   \u001b[90m━━━━━━━━━━━━━━━━━━━━━━━━━━━━━━━━━━━━━━━━\u001b[0m \u001b[32m585.9/585.9 kB\u001b[0m \u001b[31m37.6 MB/s\u001b[0m eta \u001b[36m0:00:00\u001b[0m\n",
            "\u001b[2K   \u001b[90m━━━━━━━━━━━━━━━━━━━━━━━━━━━━━━━━━━━━━━━━\u001b[0m \u001b[32m51.9/51.9 kB\u001b[0m \u001b[31m4.2 MB/s\u001b[0m eta \u001b[36m0:00:00\u001b[0m\n",
            "\u001b[2K   \u001b[90m━━━━━━━━━━━━━━━━━━━━━━━━━━━━━━━━━━━━━━━━\u001b[0m \u001b[32m332.3/332.3 kB\u001b[0m \u001b[31m23.7 MB/s\u001b[0m eta \u001b[36m0:00:00\u001b[0m\n",
            "\u001b[2K   \u001b[90m━━━━━━━━━━━━━━━━━━━━━━━━━━━━━━━━━━━━━━━━\u001b[0m \u001b[32m162.1/162.1 kB\u001b[0m \u001b[31m12.8 MB/s\u001b[0m eta \u001b[36m0:00:00\u001b[0m\n",
            "\u001b[2K   \u001b[90m━━━━━━━━━━━━━━━━━━━━━━━━━━━━━━━━━━━━━━━━\u001b[0m \u001b[32m117.7/117.7 kB\u001b[0m \u001b[31m9.4 MB/s\u001b[0m eta \u001b[36m0:00:00\u001b[0m\n",
            "\u001b[2K   \u001b[90m━━━━━━━━━━━━━━━━━━━━━━━━━━━━━━━━━━━━━━━━\u001b[0m \u001b[32m809.0/809.0 kB\u001b[0m \u001b[31m47.1 MB/s\u001b[0m eta \u001b[36m0:00:00\u001b[0m\n",
            "\u001b[2K   \u001b[90m━━━━━━━━━━━━━━━━━━━━━━━━━━━━━━━━━━━━━━━━\u001b[0m \u001b[32m363.4/363.4 MB\u001b[0m \u001b[31m4.4 MB/s\u001b[0m eta \u001b[36m0:00:00\u001b[0m\n",
            "\u001b[2K   \u001b[90m━━━━━━━━━━━━━━━━━━━━━━━━━━━━━━━━━━━━━━━━\u001b[0m \u001b[32m13.8/13.8 MB\u001b[0m \u001b[31m83.3 MB/s\u001b[0m eta \u001b[36m0:00:00\u001b[0m\n",
            "\u001b[2K   \u001b[90m━━━━━━━━━━━━━━━━━━━━━━━━━━━━━━━━━━━━━━━━\u001b[0m \u001b[32m24.6/24.6 MB\u001b[0m \u001b[31m75.2 MB/s\u001b[0m eta \u001b[36m0:00:00\u001b[0m\n",
            "\u001b[2K   \u001b[90m━━━━━━━━━━━━━━━━━━━━━━━━━━━━━━━━━━━━━━━━\u001b[0m \u001b[32m883.7/883.7 kB\u001b[0m \u001b[31m47.0 MB/s\u001b[0m eta \u001b[36m0:00:00\u001b[0m\n",
            "\u001b[2K   \u001b[90m━━━━━━━━━━━━━━━━━━━━━━━━━━━━━━━━━━━━━━━━\u001b[0m \u001b[32m664.8/664.8 MB\u001b[0m \u001b[31m3.0 MB/s\u001b[0m eta \u001b[36m0:00:00\u001b[0m\n",
            "\u001b[2K   \u001b[90m━━━━━━━━━━━━━━━━━━━━━━━━━━━━━━━━━━━━━━━━\u001b[0m \u001b[32m211.5/211.5 MB\u001b[0m \u001b[31m5.9 MB/s\u001b[0m eta \u001b[36m0:00:00\u001b[0m\n",
            "\u001b[2K   \u001b[90m━━━━━━━━━━━━━━━━━━━━━━━━━━━━━━━━━━━━━━━━\u001b[0m \u001b[32m56.3/56.3 MB\u001b[0m \u001b[31m11.9 MB/s\u001b[0m eta \u001b[36m0:00:00\u001b[0m\n",
            "\u001b[2K   \u001b[90m━━━━━━━━━━━━━━━━━━━━━━━━━━━━━━━━━━━━━━━━\u001b[0m \u001b[32m127.9/127.9 MB\u001b[0m \u001b[31m7.5 MB/s\u001b[0m eta \u001b[36m0:00:00\u001b[0m\n",
            "\u001b[2K   \u001b[90m━━━━━━━━━━━━━━━━━━━━━━━━━━━━━━━━━━━━━━━━\u001b[0m \u001b[32m207.5/207.5 MB\u001b[0m \u001b[31m5.5 MB/s\u001b[0m eta \u001b[36m0:00:00\u001b[0m\n",
            "\u001b[2K   \u001b[90m━━━━━━━━━━━━━━━━━━━━━━━━━━━━━━━━━━━━━━━━\u001b[0m \u001b[32m21.1/21.1 MB\u001b[0m \u001b[31m75.8 MB/s\u001b[0m eta \u001b[36m0:00:00\u001b[0m\n",
            "\u001b[2K   \u001b[90m━━━━━━━━━━━━━━━━━━━━━━━━━━━━━━━━━━━━━━━━\u001b[0m \u001b[32m60.1/60.1 kB\u001b[0m \u001b[31m4.6 MB/s\u001b[0m eta \u001b[36m0:00:00\u001b[0m\n",
            "\u001b[2K   \u001b[90m━━━━━━━━━━━━━━━━━━━━━━━━━━━━━━━━━━━━━━━━\u001b[0m \u001b[32m561.4/561.4 kB\u001b[0m \u001b[31m35.6 MB/s\u001b[0m eta \u001b[36m0:00:00\u001b[0m\n",
            "\u001b[2K   \u001b[90m━━━━━━━━━━━━━━━━━━━━━━━━━━━━━━━━━━━━━━━━\u001b[0m \u001b[32m739.1/739.1 kB\u001b[0m \u001b[31m46.3 MB/s\u001b[0m eta \u001b[36m0:00:00\u001b[0m\n",
            "\u001b[?25h  Building wheel for pymatgen (pyproject.toml) ... \u001b[?25l\u001b[?25hdone\n",
            "\u001b[31mERROR: pip's dependency resolver does not currently take into account all the packages that are installed. This behaviour is the source of the following dependency conflicts.\n",
            "tensorflow-metadata 1.17.1 requires protobuf<6.0.0,>=4.25.2; python_version >= \"3.11\", but you have protobuf 3.20.1 which is incompatible.\n",
            "google-cloud-spanner 3.54.0 requires protobuf!=4.21.0,!=4.21.1,!=4.21.2,!=4.21.3,!=4.21.4,!=4.21.5,<7.0.0,>=3.20.2, but you have protobuf 3.20.1 which is incompatible.\n",
            "tensorflow 2.18.0 requires protobuf!=4.21.0,!=4.21.1,!=4.21.2,!=4.21.3,!=4.21.4,!=4.21.5,<6.0.0dev,>=3.20.3, but you have protobuf 3.20.1 which is incompatible.\n",
            "google-ai-generativelanguage 0.6.15 requires protobuf!=4.21.0,!=4.21.1,!=4.21.2,!=4.21.3,!=4.21.4,!=4.21.5,<6.0.0dev,>=3.20.2, but you have protobuf 3.20.1 which is incompatible.\n",
            "google-cloud-resource-manager 1.14.2 requires protobuf!=4.21.0,!=4.21.1,!=4.21.2,!=4.21.3,!=4.21.4,!=4.21.5,<7.0.0,>=3.20.2, but you have protobuf 3.20.1 which is incompatible.\n",
            "google-cloud-bigquery-storage 2.31.0 requires protobuf!=3.20.0,!=3.20.1,!=4.21.0,!=4.21.1,!=4.21.2,!=4.21.3,!=4.21.4,!=4.21.5,<7.0.0,>=3.20.2, but you have protobuf 3.20.1 which is incompatible.\n",
            "google-cloud-aiplatform 1.92.0 requires protobuf!=4.21.0,!=4.21.1,!=4.21.2,!=4.21.3,!=4.21.4,!=4.21.5,<7.0.0,>=3.20.2, but you have protobuf 3.20.1 which is incompatible.\n",
            "google-cloud-datastore 2.21.0 requires protobuf!=3.20.0,!=3.20.1,!=4.21.0,!=4.21.1,!=4.21.2,!=4.21.3,!=4.21.4,!=4.21.5,<7.0.0,>=3.20.2, but you have protobuf 3.20.1 which is incompatible.\n",
            "google-cloud-bigquery-connection 1.18.2 requires protobuf!=4.21.0,!=4.21.1,!=4.21.2,!=4.21.3,!=4.21.4,!=4.21.5,<7.0.0,>=3.20.2, but you have protobuf 3.20.1 which is incompatible.\n",
            "google-api-core 2.24.2 requires protobuf!=3.20.0,!=3.20.1,!=4.21.0,!=4.21.1,!=4.21.2,!=4.21.3,!=4.21.4,!=4.21.5,<7.0.0,>=3.19.5, but you have protobuf 3.20.1 which is incompatible.\n",
            "googleapis-common-protos 1.70.0 requires protobuf!=4.21.1,!=4.21.2,!=4.21.3,!=4.21.4,!=4.21.5,<7.0.0,>=3.20.2, but you have protobuf 3.20.1 which is incompatible.\n",
            "google-cloud-firestore 2.20.2 requires protobuf!=3.20.0,!=3.20.1,!=4.21.0,!=4.21.1,!=4.21.2,!=4.21.3,!=4.21.4,!=4.21.5,<7.0.0dev,>=3.20.2, but you have protobuf 3.20.1 which is incompatible.\n",
            "google-cloud-translate 3.20.2 requires protobuf!=4.21.0,!=4.21.1,!=4.21.2,!=4.21.3,!=4.21.4,!=4.21.5,<7.0.0,>=3.20.2, but you have protobuf 3.20.1 which is incompatible.\n",
            "ydf 0.11.0 requires protobuf<6.0.0,>=5.29.1, but you have protobuf 3.20.1 which is incompatible.\n",
            "google-cloud-iam 2.19.0 requires protobuf!=4.21.0,!=4.21.1,!=4.21.2,!=4.21.3,!=4.21.4,!=4.21.5,<7.0.0,>=3.20.2, but you have protobuf 3.20.1 which is incompatible.\n",
            "google-cloud-dataproc 5.18.1 requires protobuf!=4.21.0,!=4.21.1,!=4.21.2,!=4.21.3,!=4.21.4,!=4.21.5,<7.0.0,>=3.20.2, but you have protobuf 3.20.1 which is incompatible.\n",
            "google-cloud-language 2.17.1 requires protobuf!=4.21.0,!=4.21.1,!=4.21.2,!=4.21.3,!=4.21.4,!=4.21.5,<7.0.0,>=3.20.2, but you have protobuf 3.20.1 which is incompatible.\n",
            "grpcio-status 1.71.0 requires protobuf<6.0dev,>=5.26.1, but you have protobuf 3.20.1 which is incompatible.\n",
            "google-cloud-functions 1.20.3 requires protobuf!=4.21.0,!=4.21.1,!=4.21.2,!=4.21.3,!=4.21.4,!=4.21.5,<7.0.0,>=3.20.2, but you have protobuf 3.20.1 which is incompatible.\n",
            "grpc-google-iam-v1 0.14.2 requires protobuf!=4.21.1,!=4.21.2,!=4.21.3,!=4.21.4,!=4.21.5,<7.0.0,>=3.20.2, but you have protobuf 3.20.1 which is incompatible.\u001b[0m\u001b[31m\n",
            "\u001b[0m  Preparing metadata (setup.py) ... \u001b[?25l\u001b[?25hdone\n",
            "\u001b[2K   \u001b[90m━━━━━━━━━━━━━━━━━━━━━━━━━━━━━━━━━━━━━━━━\u001b[0m \u001b[32m154.5/154.5 kB\u001b[0m \u001b[31m6.6 MB/s\u001b[0m eta \u001b[36m0:00:00\u001b[0m\n",
            "\u001b[2K   \u001b[90m━━━━━━━━━━━━━━━━━━━━━━━━━━━━━━━━━━━━━━━━\u001b[0m \u001b[32m4.2/4.2 MB\u001b[0m \u001b[31m57.6 MB/s\u001b[0m eta \u001b[36m0:00:00\u001b[0m\n",
            "\u001b[2K   \u001b[90m━━━━━━━━━━━━━━━━━━━━━━━━━━━━━━━━━━━━━━━━\u001b[0m \u001b[32m82.3/82.3 kB\u001b[0m \u001b[31m7.0 MB/s\u001b[0m eta \u001b[36m0:00:00\u001b[0m\n",
            "\u001b[2K   \u001b[90m━━━━━━━━━━━━━━━━━━━━━━━━━━━━━━━━━━━━━━━━\u001b[0m \u001b[32m119.7/119.7 kB\u001b[0m \u001b[31m9.2 MB/s\u001b[0m eta \u001b[36m0:00:00\u001b[0m\n",
            "\u001b[2K   \u001b[90m━━━━━━━━━━━━━━━━━━━━━━━━━━━━━━━━━━━━━━━━\u001b[0m \u001b[32m144.5/144.5 kB\u001b[0m \u001b[31m13.3 MB/s\u001b[0m eta \u001b[36m0:00:00\u001b[0m\n",
            "\u001b[2K   \u001b[90m━━━━━━━━━━━━━━━━━━━━━━━━━━━━━━━━━━━━━━━━\u001b[0m \u001b[32m56.8/56.8 kB\u001b[0m \u001b[31m4.8 MB/s\u001b[0m eta \u001b[36m0:00:00\u001b[0m\n",
            "\u001b[?25h  Building wheel for p-tqdm (setup.py) ... \u001b[?25l\u001b[?25hdone\n",
            "\u001b[31mERROR: pip's dependency resolver does not currently take into account all the packages that are installed. This behaviour is the source of the following dependency conflicts.\n",
            "datasets 2.14.4 requires dill<0.3.8,>=0.3.0, but you have dill 0.4.0 which is incompatible.\u001b[0m\u001b[31m\n",
            "\u001b[2K     \u001b[90m━━━━━━━━━━━━━━━━━━━━━━━━━━━━━━━━━━━━━━━━\u001b[0m \u001b[32m61.0/61.0 kB\u001b[0m \u001b[31m2.8 MB/s\u001b[0m eta \u001b[36m0:00:00\u001b[0m\n",
            "\u001b[2K   \u001b[90m━━━━━━━━━━━━━━━━━━━━━━━━━━━━━━━━━━━━━━━━\u001b[0m \u001b[32m18.3/18.3 MB\u001b[0m \u001b[31m92.9 MB/s\u001b[0m eta \u001b[36m0:00:00\u001b[0m\n",
            "\u001b[?25h\u001b[31mERROR: pip's dependency resolver does not currently take into account all the packages that are installed. This behaviour is the source of the following dependency conflicts.\n",
            "tensorflow 2.18.0 requires protobuf!=4.21.0,!=4.21.1,!=4.21.2,!=4.21.3,!=4.21.4,!=4.21.5,<6.0.0dev,>=3.20.3, but you have protobuf 3.20.1 which is incompatible.\n",
            "google-cloud-aiplatform 1.92.0 requires protobuf!=4.21.0,!=4.21.1,!=4.21.2,!=4.21.3,!=4.21.4,!=4.21.5,<7.0.0,>=3.20.2, but you have protobuf 3.20.1 which is incompatible.\n",
            "ydf 0.11.0 requires protobuf<6.0.0,>=5.29.1, but you have protobuf 3.20.1 which is incompatible.\n",
            "thinc 8.3.6 requires numpy<3.0.0,>=2.0.0, but you have numpy 1.26.4 which is incompatible.\n",
            "datasets 2.14.4 requires dill<0.3.8,>=0.3.0, but you have dill 0.4.0 which is incompatible.\u001b[0m\u001b[31m\n",
            "\u001b[0mCPU times: user 4.09 s, sys: 725 ms, total: 4.82 s\n",
            "Wall time: 3min 17s\n"
          ]
        }
      ]
    },
    {
      "cell_type": "code",
      "source": [
        "# !pip install -q pytorch-lightning==1.3.6"
      ],
      "metadata": {
        "id": "80U3NK51fG_D"
      },
      "execution_count": 6,
      "outputs": []
    },
    {
      "cell_type": "code",
      "source": [
        "import os\n",
        "os.chdir('/content')\n",
        "if not os.path.exists('cdvae'):\n",
        "  !git clone https://github.com/JARVIS-Materials-Design/cdvae.git\n",
        "\n",
        "os.chdir('cdvae')\n",
        "!pip install -e .\n",
        "!pip install -q numpy==1.26.4"
      ],
      "metadata": {
        "colab": {
          "base_uri": "https://localhost:8080/"
        },
        "id": "S7n01nvXUWxr",
        "outputId": "bf9ed37a-2d6a-4142-d5a7-d7d65824875c"
      },
      "execution_count": 5,
      "outputs": [
        {
          "output_type": "stream",
          "name": "stdout",
          "text": [
            "Cloning into 'cdvae'...\n",
            "remote: Enumerating objects: 253, done.\u001b[K\n",
            "remote: Counting objects: 100% (91/91), done.\u001b[K\n",
            "remote: Compressing objects: 100% (53/53), done.\u001b[K\n",
            "remote: Total 253 (delta 47), reused 38 (delta 38), pack-reused 162 (from 1)\u001b[K\n",
            "Receiving objects: 100% (253/253), 146.76 MiB | 18.03 MiB/s, done.\n",
            "Resolving deltas: 100% (89/89), done.\n",
            "Updating files: 100% (99/99), done.\n",
            "Obtaining file:///content/cdvae\n",
            "  Preparing metadata (setup.py) ... \u001b[?25l\u001b[?25hdone\n",
            "Installing collected packages: cdvae\n",
            "  Running setup.py develop for cdvae\n",
            "Successfully installed cdvae-0.0.1\n"
          ]
        }
      ]
    },
    {
      "cell_type": "code",
      "source": [
        "import os\n",
        "os.chdir('/content/cdvae')\n",
        "if not os.path.exists(\"/content/cdvae/WABDB\"):\n",
        "  os.makedirs(\"/content/cdvae/WABDB\")\n",
        "if not os.path.exists(\"/content/cdvae/HYDRA_JOBS\"):\n",
        "  os.makedirs(\"/content/cdvae/HYDRA_JOBS\")\n",
        "os.environ[\"PROJECT_ROOT\"]=\"/content/cdvae\"\n",
        "os.environ[\"WABDB\"]=\"/content/cdvae/WABDB\"\n",
        "os.environ[\"WABDB_DIR\"]=\"/content/cdvae/WABDB\"\n",
        "os.environ[\"HYDRA_JOBS\"]=\"/content/cdvae/HYDRA_JOBS\"\n",
        "%env HYDRA_FULL_ERROR=1\n"
      ],
      "metadata": {
        "colab": {
          "base_uri": "https://localhost:8080/"
        },
        "id": "pR1hZ7vWVKU5",
        "outputId": "5448d540-98ec-48d2-c8eb-540ded7ee7a9"
      },
      "execution_count": 6,
      "outputs": [
        {
          "output_type": "stream",
          "name": "stdout",
          "text": [
            "env: HYDRA_FULL_ERROR=1\n"
          ]
        }
      ]
    },
    {
      "cell_type": "code",
      "source": [
        "!echo $HYDRA_FULL_ERROR"
      ],
      "metadata": {
        "colab": {
          "base_uri": "https://localhost:8080/"
        },
        "id": "xazagGi1X8jR",
        "outputId": "d0085162-dd78-4238-88ba-17efba41f62c"
      },
      "execution_count": 7,
      "outputs": [
        {
          "output_type": "stream",
          "name": "stdout",
          "text": [
            "1\n"
          ]
        }
      ]
    },
    {
      "cell_type": "markdown",
      "source": [
        "Data was generated using this [script](https://github.com/JARVIS-Materials-Design/cdvae/blob/main/scripts/generate_data_cdvae.py)."
      ],
      "metadata": {
        "id": "ptuA7Qt9umnB"
      }
    },
    {
      "cell_type": "code",
      "source": [
        "\n",
        "import yaml\n",
        "import pprint\n",
        "\n",
        "with open('/content/cdvae/conf/train/default.yaml','r') as f:\n",
        "  yam = yaml.safe_load(f)\n",
        "#yam.pop('early_stopping')\n",
        "#yam['pl_trainer']['fast_dev_run']=True\n",
        "yam['pl_trainer']['gpus']=0\n",
        "\n",
        "with open('/content/cdvae/conf/train/default.yaml','w') as f:\n",
        "  yaml.dump(yam,f)\n",
        "\n",
        "pprint.pprint(yam)\n",
        "\n",
        "with open('/content/cdvae/conf/optim/default.yaml','r') as f:\n",
        "  yam = yaml.safe_load(f)\n",
        "\n",
        "yam['use_lr_scheduler']=False\n",
        "\n",
        "with open('/content/cdvae/conf/optim/default.yaml','w') as f:\n",
        "  yaml.dump(yam,f)\n",
        "\n",
        "pprint.pprint(yam)"
      ],
      "metadata": {
        "colab": {
          "base_uri": "https://localhost:8080/"
        },
        "id": "YvPs-__Z4HFa",
        "outputId": "92552e2f-f004-41e5-a933-d8beee22a0e2"
      },
      "execution_count": 8,
      "outputs": [
        {
          "output_type": "stream",
          "name": "stdout",
          "text": [
            "{'deterministic': False,\n",
            " 'early_stopping': {'patience': '${data.early_stopping_patience}',\n",
            "                    'verbose': False},\n",
            " 'model_checkpoints': {'save_top_k': 1, 'verbose': False},\n",
            " 'monitor_metric': 'val_loss',\n",
            " 'monitor_metric_mode': 'min',\n",
            " 'pl_trainer': {'accumulate_grad_batches': 1,\n",
            "                'fast_dev_run': False,\n",
            "                'gpus': 0,\n",
            "                'gradient_clip_algorithm': 'value',\n",
            "                'gradient_clip_val': 0.5,\n",
            "                'max_epochs': '${data.train_max_epochs}',\n",
            "                'num_sanity_val_steps': 2,\n",
            "                'precision': 32,\n",
            "                'profiler': 'simple'},\n",
            " 'random_seed': 42}\n",
            "{'lr_scheduler': {'_target_': 'torch.optim.lr_scheduler.ReduceLROnPlateau',\n",
            "                  'factor': 0.6,\n",
            "                  'min_lr': '1e-4',\n",
            "                  'patience': 30},\n",
            " 'optimizer': {'_target_': 'torch.optim.Adam',\n",
            "               'betas': [0.9, 0.999],\n",
            "               'eps': '1e-08',\n",
            "               'lr': 0.001,\n",
            "               'weight_decay': 0},\n",
            " 'use_lr_scheduler': False}\n"
          ]
        }
      ]
    },
    {
      "cell_type": "code",
      "source": [
        "# !rm -rf \"/usr/local/lib/python3.11/dist-packages/numpy*\""
      ],
      "metadata": {
        "id": "Nwba_Pjqb_mD"
      },
      "execution_count": 4,
      "outputs": []
    },
    {
      "cell_type": "code",
      "source": [
        "# !pip cache purge\n",
        "# !pip uninstall numpy -y\n",
        "# !pip install numpy==1.26.4\n",
        "# !python -c \"import numpy as np; print(np.__version__)\""
      ],
      "metadata": {
        "id": "vbNZNGonaJbM"
      },
      "execution_count": 9,
      "outputs": []
    },
    {
      "cell_type": "code",
      "source": [
        "!which python\n",
        "!which pip\n"
      ],
      "metadata": {
        "id": "BQaKwg58-uel",
        "outputId": "4fd8225b-0f2a-4bb3-fdce-7f077628bdd7",
        "colab": {
          "base_uri": "https://localhost:8080/"
        }
      },
      "execution_count": 11,
      "outputs": [
        {
          "output_type": "stream",
          "name": "stdout",
          "text": [
            "/usr/local/bin/python\n",
            "/usr/local/bin/pip\n"
          ]
        }
      ]
    },
    {
      "cell_type": "code",
      "source": [
        "# !pip uninstall numpy -y\n",
        "# !pip install numpy==1.26.4 --force-reinstall\n"
      ],
      "metadata": {
        "id": "KmHaPBA7-yKQ",
        "outputId": "8d801530-86b2-408c-bdbd-35b91edf1198",
        "colab": {
          "base_uri": "https://localhost:8080/"
        }
      },
      "execution_count": 12,
      "outputs": [
        {
          "output_type": "stream",
          "name": "stdout",
          "text": [
            "Found existing installation: numpy 1.26.4\n",
            "Uninstalling numpy-1.26.4:\n",
            "  Successfully uninstalled numpy-1.26.4\n",
            "Collecting numpy==1.26.4\n",
            "  Using cached numpy-1.26.4-cp311-cp311-manylinux_2_17_x86_64.manylinux2014_x86_64.whl.metadata (61 kB)\n",
            "Using cached numpy-1.26.4-cp311-cp311-manylinux_2_17_x86_64.manylinux2014_x86_64.whl (18.3 MB)\n",
            "Installing collected packages: numpy\n",
            "Successfully installed numpy-1.26.4\n"
          ]
        }
      ]
    },
    {
      "cell_type": "code",
      "source": [
        "import sys\n",
        "print(sys.executable)\n"
      ],
      "metadata": {
        "id": "0Wp0Wb8Y-6Sz",
        "outputId": "8980c92f-3933-4845-ff16-5ffc8c2ad3eb",
        "colab": {
          "base_uri": "https://localhost:8080/"
        }
      },
      "execution_count": 2,
      "outputs": [
        {
          "output_type": "stream",
          "name": "stdout",
          "text": [
            "/usr/bin/python3.real\n"
          ]
        }
      ]
    },
    {
      "cell_type": "code",
      "source": [
        "import numpy as np\n",
        "print(np.__version__)"
      ],
      "metadata": {
        "id": "oKUdQb90abY2",
        "outputId": "37d12242-7b3d-49bb-f798-81e8ab32c142",
        "colab": {
          "base_uri": "https://localhost:8080/"
        }
      },
      "execution_count": 1,
      "outputs": [
        {
          "output_type": "stream",
          "name": "stdout",
          "text": [
            "2.0.2\n"
          ]
        }
      ]
    },
    {
      "cell_type": "code",
      "source": [
        "%%time\n",
        "import os\n",
        "os.environ[\"WANDB_ANONYMOUS\"] = \"must\"\n",
        "!python cdvae/run.py data=supercon expname=supercon_test02 model.predict_property=True"
      ],
      "metadata": {
        "id": "-Lf5xLDOoBEQ",
        "outputId": "f3826f42-d608-43a2-8eca-89e090f6830d",
        "colab": {
          "base_uri": "https://localhost:8080/"
        }
      },
      "execution_count": null,
      "outputs": [
        {
          "output_type": "stream",
          "name": "stdout",
          "text": [
            "2025-05-21 22:39:22.503021: E external/local_xla/xla/stream_executor/cuda/cuda_fft.cc:477] Unable to register cuFFT factory: Attempting to register factory for plugin cuFFT when one has already been registered\n",
            "WARNING: All log messages before absl::InitializeLog() is called are written to STDERR\n",
            "E0000 00:00:1747867162.753349    1600 cuda_dnn.cc:8310] Unable to register cuDNN factory: Attempting to register factory for plugin cuDNN when one has already been registered\n",
            "E0000 00:00:1747867162.823275    1600 cuda_blas.cc:1418] Unable to register cuBLAS factory: Attempting to register factory for plugin cuBLAS when one has already been registered\n",
            "2025-05-21 22:39:23.358331: I tensorflow/core/platform/cpu_feature_guard.cc:210] This TensorFlow binary is optimized to use available CPU instructions in performance-critical operations.\n",
            "To enable the following instructions: AVX2 FMA, in other operations, rebuild TensorFlow with the appropriate compiler flags.\n",
            "/content/cdvae/cdvae/run.py:164: UserWarning: \n",
            "The version_base parameter is not specified.\n",
            "Please specify a compatability version level, or None.\n",
            "Will assume defaults for version 1.1\n",
            "  @hydra.main(config_path=str(PROJECT_ROOT / \"conf\"), config_name=\"default\")\n",
            "/usr/local/lib/python3.11/dist-packages/hydra/_internal/defaults_list.py:251: UserWarning: In 'default': Defaults list is missing `_self_`. See https://hydra.cc/docs/1.2/upgrades/1.0_to_1.1/default_composition_order for more information\n",
            "  warnings.warn(msg, UserWarning)\n",
            "/usr/local/lib/python3.11/dist-packages/hydra/_internal/hydra.py:119: UserWarning: Future Hydra versions will no longer change working directory at job runtime by default.\n",
            "See https://hydra.cc/docs/1.2/upgrades/1.1_to_1.2/changes_to_job_working_dir/ for more information.\n",
            "  ret = run_job(\n",
            "[2025-05-21 22:39:29,709][hydra.utils][INFO] - Instantiating <cdvae.pl_data.datamodule.CrystDataModule>\n",
            "/content/cdvae/cdvae/pl_data/datamodule.py:142: UserWarning: \n",
            "The version_base parameter is not specified.\n",
            "Please specify a compatability version level, or None.\n",
            "Will assume defaults for version 1.1\n",
            "  @hydra.main(config_path=str(PROJECT_ROOT / \"conf\"), config_name=\"default\")\n",
            "/content/cdvae/cdvae/pl_data/dataset.py:126: UserWarning: \n",
            "The version_base parameter is not specified.\n",
            "Please specify a compatability version level, or None.\n",
            "Will assume defaults for version 1.1\n",
            "  @hydra.main(config_path=str(PROJECT_ROOT / \"conf\"), config_name=\"default\")\n",
            "  0% 3/846 [00:00<01:26,  9.70it/s]/usr/local/lib/python3.11/dist-packages/pymatgen/io/cif.py:1155: UserWarning: Issues encountered while parsing CIF: Some fractional coordinates rounded to ideal values to avoid issues with finite precision.\n",
            "  warnings.warn(\"Issues encountered while parsing CIF: \" + \"\\n\".join(self.warnings))\n",
            "/usr/local/lib/python3.11/dist-packages/pymatgen/io/cif.py:1155: UserWarning: Issues encountered while parsing CIF: Some fractional coordinates rounded to ideal values to avoid issues with finite precision.\n",
            "  warnings.warn(\"Issues encountered while parsing CIF: \" + \"\\n\".join(self.warnings))\n",
            "  1% 5/846 [00:00<01:09, 12.17it/s]/usr/local/lib/python3.11/dist-packages/pymatgen/io/cif.py:1155: UserWarning: Issues encountered while parsing CIF: Some fractional coordinates rounded to ideal values to avoid issues with finite precision.\n",
            "  warnings.warn(\"Issues encountered while parsing CIF: \" + \"\\n\".join(self.warnings))\n",
            "  1% 12/846 [00:00<00:47, 17.70it/s]/usr/local/lib/python3.11/dist-packages/pymatgen/io/cif.py:1155: UserWarning: Issues encountered while parsing CIF: Some fractional coordinates rounded to ideal values to avoid issues with finite precision.\n",
            "  warnings.warn(\"Issues encountered while parsing CIF: \" + \"\\n\".join(self.warnings))\n",
            "  2% 14/846 [00:01<00:57, 14.52it/s]/usr/local/lib/python3.11/dist-packages/pymatgen/io/cif.py:1155: UserWarning: Issues encountered while parsing CIF: Some fractional coordinates rounded to ideal values to avoid issues with finite precision.\n",
            "  warnings.warn(\"Issues encountered while parsing CIF: \" + \"\\n\".join(self.warnings))\n",
            "  3% 28/846 [00:01<00:48, 17.01it/s]/usr/local/lib/python3.11/dist-packages/pymatgen/io/cif.py:1155: UserWarning: Issues encountered while parsing CIF: Some fractional coordinates rounded to ideal values to avoid issues with finite precision.\n",
            "  warnings.warn(\"Issues encountered while parsing CIF: \" + \"\\n\".join(self.warnings))\n",
            "  4% 31/846 [00:02<00:46, 17.41it/s]/usr/local/lib/python3.11/dist-packages/pymatgen/io/cif.py:1155: UserWarning: Issues encountered while parsing CIF: Some fractional coordinates rounded to ideal values to avoid issues with finite precision.\n",
            "  warnings.warn(\"Issues encountered while parsing CIF: \" + \"\\n\".join(self.warnings))\n",
            "  4% 33/846 [00:02<00:48, 16.74it/s]/usr/local/lib/python3.11/dist-packages/pymatgen/io/cif.py:1155: UserWarning: Issues encountered while parsing CIF: Some fractional coordinates rounded to ideal values to avoid issues with finite precision.\n",
            "  warnings.warn(\"Issues encountered while parsing CIF: \" + \"\\n\".join(self.warnings))\n",
            "  4% 35/846 [00:02<01:01, 13.23it/s]/usr/local/lib/python3.11/dist-packages/pymatgen/io/cif.py:1155: UserWarning: Issues encountered while parsing CIF: Some fractional coordinates rounded to ideal values to avoid issues with finite precision.\n",
            "  warnings.warn(\"Issues encountered while parsing CIF: \" + \"\\n\".join(self.warnings))\n",
            "  4% 38/846 [00:02<00:50, 16.15it/s]/usr/local/lib/python3.11/dist-packages/pymatgen/io/cif.py:1155: UserWarning: Issues encountered while parsing CIF: Some fractional coordinates rounded to ideal values to avoid issues with finite precision.\n",
            "  warnings.warn(\"Issues encountered while parsing CIF: \" + \"\\n\".join(self.warnings))\n",
            "/usr/local/lib/python3.11/dist-packages/pymatgen/io/cif.py:1155: UserWarning: Issues encountered while parsing CIF: Some fractional coordinates rounded to ideal values to avoid issues with finite precision.\n",
            "  warnings.warn(\"Issues encountered while parsing CIF: \" + \"\\n\".join(self.warnings))\n",
            "  5% 44/846 [00:03<01:02, 12.90it/s]/usr/local/lib/python3.11/dist-packages/pymatgen/io/cif.py:1155: UserWarning: Issues encountered while parsing CIF: Some fractional coordinates rounded to ideal values to avoid issues with finite precision.\n",
            "  warnings.warn(\"Issues encountered while parsing CIF: \" + \"\\n\".join(self.warnings))\n",
            "/usr/local/lib/python3.11/dist-packages/pymatgen/io/cif.py:1155: UserWarning: Issues encountered while parsing CIF: Some fractional coordinates rounded to ideal values to avoid issues with finite precision.\n",
            "  warnings.warn(\"Issues encountered while parsing CIF: \" + \"\\n\".join(self.warnings))\n",
            "  5% 46/846 [00:03<01:07, 11.92it/s]/usr/local/lib/python3.11/dist-packages/pymatgen/io/cif.py:1155: UserWarning: Issues encountered while parsing CIF: Some fractional coordinates rounded to ideal values to avoid issues with finite precision.\n",
            "  warnings.warn(\"Issues encountered while parsing CIF: \" + \"\\n\".join(self.warnings))\n",
            "  8% 71/846 [00:05<01:30,  8.52it/s]/usr/local/lib/python3.11/dist-packages/pymatgen/io/cif.py:1155: UserWarning: Issues encountered while parsing CIF: Some fractional coordinates rounded to ideal values to avoid issues with finite precision.\n",
            "  warnings.warn(\"Issues encountered while parsing CIF: \" + \"\\n\".join(self.warnings))\n",
            "  9% 73/846 [00:05<01:28,  8.69it/s]/usr/local/lib/python3.11/dist-packages/pymatgen/io/cif.py:1155: UserWarning: Issues encountered while parsing CIF: Some fractional coordinates rounded to ideal values to avoid issues with finite precision.\n",
            "  warnings.warn(\"Issues encountered while parsing CIF: \" + \"\\n\".join(self.warnings))\n",
            "  9% 80/846 [00:06<01:15, 10.18it/s]/usr/local/lib/python3.11/dist-packages/pymatgen/io/cif.py:1155: UserWarning: Issues encountered while parsing CIF: Some fractional coordinates rounded to ideal values to avoid issues with finite precision.\n",
            "  warnings.warn(\"Issues encountered while parsing CIF: \" + \"\\n\".join(self.warnings))\n",
            " 11% 89/846 [00:07<01:07, 11.16it/s]/usr/local/lib/python3.11/dist-packages/pymatgen/io/cif.py:1155: UserWarning: Issues encountered while parsing CIF: Some fractional coordinates rounded to ideal values to avoid issues with finite precision.\n",
            "  warnings.warn(\"Issues encountered while parsing CIF: \" + \"\\n\".join(self.warnings))\n",
            " 11% 91/846 [00:07<01:13, 10.21it/s]/usr/local/lib/python3.11/dist-packages/pymatgen/io/cif.py:1155: UserWarning: Issues encountered while parsing CIF: Some fractional coordinates rounded to ideal values to avoid issues with finite precision.\n",
            "  warnings.warn(\"Issues encountered while parsing CIF: \" + \"\\n\".join(self.warnings))\n",
            " 13% 106/846 [00:08<00:51, 14.40it/s]/usr/local/lib/python3.11/dist-packages/pymatgen/io/cif.py:1155: UserWarning: Issues encountered while parsing CIF: Some fractional coordinates rounded to ideal values to avoid issues with finite precision.\n",
            "  warnings.warn(\"Issues encountered while parsing CIF: \" + \"\\n\".join(self.warnings))\n",
            " 14% 115/846 [00:09<00:45, 15.92it/s]/usr/local/lib/python3.11/dist-packages/pymatgen/io/cif.py:1155: UserWarning: Issues encountered while parsing CIF: Some fractional coordinates rounded to ideal values to avoid issues with finite precision.\n",
            "  warnings.warn(\"Issues encountered while parsing CIF: \" + \"\\n\".join(self.warnings))\n",
            " 15% 130/846 [00:10<00:44, 16.00it/s]/usr/local/lib/python3.11/dist-packages/pymatgen/io/cif.py:1155: UserWarning: Issues encountered while parsing CIF: Some fractional coordinates rounded to ideal values to avoid issues with finite precision.\n",
            "  warnings.warn(\"Issues encountered while parsing CIF: \" + \"\\n\".join(self.warnings))\n",
            " 17% 142/846 [00:11<00:42, 16.51it/s]/usr/local/lib/python3.11/dist-packages/pymatgen/io/cif.py:1155: UserWarning: Issues encountered while parsing CIF: Some fractional coordinates rounded to ideal values to avoid issues with finite precision.\n",
            "  warnings.warn(\"Issues encountered while parsing CIF: \" + \"\\n\".join(self.warnings))\n",
            " 17% 144/846 [00:11<00:41, 16.83it/s]/usr/local/lib/python3.11/dist-packages/pymatgen/io/cif.py:1155: UserWarning: Issues encountered while parsing CIF: Some fractional coordinates rounded to ideal values to avoid issues with finite precision.\n",
            "  warnings.warn(\"Issues encountered while parsing CIF: \" + \"\\n\".join(self.warnings))\n",
            " 17% 146/846 [00:11<00:43, 15.94it/s]/usr/local/lib/python3.11/dist-packages/pymatgen/io/cif.py:1155: UserWarning: Issues encountered while parsing CIF: Some fractional coordinates rounded to ideal values to avoid issues with finite precision.\n",
            "  warnings.warn(\"Issues encountered while parsing CIF: \" + \"\\n\".join(self.warnings))\n",
            " 19% 157/846 [00:12<00:47, 14.36it/s]/usr/local/lib/python3.11/dist-packages/pymatgen/io/cif.py:1155: UserWarning: Issues encountered while parsing CIF: Some fractional coordinates rounded to ideal values to avoid issues with finite precision.\n",
            "  warnings.warn(\"Issues encountered while parsing CIF: \" + \"\\n\".join(self.warnings))\n",
            "/usr/local/lib/python3.11/dist-packages/pymatgen/io/cif.py:1155: UserWarning: Issues encountered while parsing CIF: Some fractional coordinates rounded to ideal values to avoid issues with finite precision.\n",
            "  warnings.warn(\"Issues encountered while parsing CIF: \" + \"\\n\".join(self.warnings))\n",
            " 20% 170/846 [00:13<00:45, 15.00it/s]/usr/local/lib/python3.11/dist-packages/pymatgen/io/cif.py:1155: UserWarning: Issues encountered while parsing CIF: Some fractional coordinates rounded to ideal values to avoid issues with finite precision.\n",
            "  warnings.warn(\"Issues encountered while parsing CIF: \" + \"\\n\".join(self.warnings))\n",
            " 22% 183/846 [00:14<00:59, 11.20it/s]/usr/local/lib/python3.11/dist-packages/pymatgen/io/cif.py:1155: UserWarning: Issues encountered while parsing CIF: Some fractional coordinates rounded to ideal values to avoid issues with finite precision.\n",
            "  warnings.warn(\"Issues encountered while parsing CIF: \" + \"\\n\".join(self.warnings))\n",
            " 23% 192/846 [00:15<00:54, 12.03it/s]/usr/local/lib/python3.11/dist-packages/pymatgen/io/cif.py:1155: UserWarning: Issues encountered while parsing CIF: Some fractional coordinates rounded to ideal values to avoid issues with finite precision.\n",
            "  warnings.warn(\"Issues encountered while parsing CIF: \" + \"\\n\".join(self.warnings))\n",
            " 24% 201/846 [00:16<00:45, 14.29it/s]/usr/local/lib/python3.11/dist-packages/pymatgen/io/cif.py:1155: UserWarning: Issues encountered while parsing CIF: Some fractional coordinates rounded to ideal values to avoid issues with finite precision.\n",
            "  warnings.warn(\"Issues encountered while parsing CIF: \" + \"\\n\".join(self.warnings))\n",
            " 24% 207/846 [00:16<00:53, 11.86it/s]/usr/local/lib/python3.11/dist-packages/pymatgen/io/cif.py:1155: UserWarning: Issues encountered while parsing CIF: Some fractional coordinates rounded to ideal values to avoid issues with finite precision.\n",
            "  warnings.warn(\"Issues encountered while parsing CIF: \" + \"\\n\".join(self.warnings))\n",
            " 25% 209/846 [00:16<00:57, 10.99it/s]/usr/local/lib/python3.11/dist-packages/pymatgen/io/cif.py:1155: UserWarning: Issues encountered while parsing CIF: Some fractional coordinates rounded to ideal values to avoid issues with finite precision.\n",
            "  warnings.warn(\"Issues encountered while parsing CIF: \" + \"\\n\".join(self.warnings))\n",
            " 26% 218/846 [00:17<01:22,  7.63it/s]/usr/local/lib/python3.11/dist-packages/pymatgen/io/cif.py:1155: UserWarning: Issues encountered while parsing CIF: Some fractional coordinates rounded to ideal values to avoid issues with finite precision.\n",
            "  warnings.warn(\"Issues encountered while parsing CIF: \" + \"\\n\".join(self.warnings))\n",
            " 26% 223/846 [00:18<01:01, 10.19it/s]/usr/local/lib/python3.11/dist-packages/pymatgen/io/cif.py:1155: UserWarning: Issues encountered while parsing CIF: Some fractional coordinates rounded to ideal values to avoid issues with finite precision.\n",
            "  warnings.warn(\"Issues encountered while parsing CIF: \" + \"\\n\".join(self.warnings))\n",
            "/usr/local/lib/python3.11/dist-packages/pymatgen/io/cif.py:1155: UserWarning: Issues encountered while parsing CIF: Some fractional coordinates rounded to ideal values to avoid issues with finite precision.\n",
            "  warnings.warn(\"Issues encountered while parsing CIF: \" + \"\\n\".join(self.warnings))\n",
            " 27% 228/846 [00:18<01:06,  9.24it/s]"
          ]
        }
      ]
    },
    {
      "cell_type": "code",
      "source": [
        "!pip install smact"
      ],
      "metadata": {
        "colab": {
          "base_uri": "https://localhost:8080/"
        },
        "id": "33GA1cQy3Csl",
        "outputId": "4d072968-f2a3-4954-913d-fa283172806b"
      },
      "execution_count": 13,
      "outputs": [
        {
          "output_type": "stream",
          "name": "stdout",
          "text": [
            "Collecting smact\n",
            "  Downloading smact-3.1.0-py3-none-any.whl.metadata (16 kB)\n",
            "Collecting ase (from smact)\n",
            "  Downloading ase-3.25.0-py3-none-any.whl.metadata (4.2 kB)\n",
            "Requirement already satisfied: numpy<3 in /usr/local/lib/python3.11/site-packages (from smact) (1.26.4)\n",
            "Collecting pandarallel>=1.6.5 (from pandarallel[optional]>=1.6.5->smact)\n",
            "  Downloading pandarallel-1.6.5.tar.gz (14 kB)\n",
            "  Preparing metadata (setup.py) ... \u001b[?25l\u001b[?25hdone\n",
            "Requirement already satisfied: pandas in /usr/local/lib/python3.11/site-packages (from smact) (2.2.3)\n",
            "Requirement already satisfied: pathos in /usr/local/lib/python3.11/site-packages (from smact) (0.3.4)\n",
            "Collecting pymatgen>=2024.2.20 (from smact)\n",
            "  Downloading pymatgen-2025.5.2-cp311-cp311-manylinux_2_17_x86_64.manylinux2014_x86_64.whl.metadata (13 kB)\n",
            "Requirement already satisfied: scipy in /usr/local/lib/python3.11/site-packages (from smact) (1.15.3)\n",
            "Requirement already satisfied: spglib>=2.6.0 in /usr/local/lib/python3.11/site-packages (from smact) (2.6.0)\n",
            "Requirement already satisfied: typing-extensions in /usr/local/lib/python3.11/site-packages (from smact) (4.13.2)\n",
            "Requirement already satisfied: dill>=0.3.1 in /usr/local/lib/python3.11/site-packages (from pandarallel>=1.6.5->pandarallel[optional]>=1.6.5->smact) (0.4.0)\n",
            "Requirement already satisfied: psutil in /usr/local/lib/python3.11/site-packages (from pandarallel>=1.6.5->pandarallel[optional]>=1.6.5->smact) (7.0.0)\n",
            "\u001b[33mWARNING: pandarallel 1.6.5 does not provide the extra 'optional'\u001b[0m\u001b[33m\n",
            "\u001b[0mRequirement already satisfied: python-dateutil>=2.8.2 in /usr/local/lib/python3.11/site-packages (from pandas->smact) (2.9.0.post0)\n",
            "Requirement already satisfied: pytz>=2020.1 in /usr/local/lib/python3.11/site-packages (from pandas->smact) (2025.2)\n",
            "Requirement already satisfied: tzdata>=2022.7 in /usr/local/lib/python3.11/site-packages (from pandas->smact) (2025.2)\n",
            "Requirement already satisfied: joblib>=1 in /usr/local/lib/python3.11/site-packages (from pymatgen>=2024.2.20->smact) (1.5.0)\n",
            "Requirement already satisfied: matplotlib>=3.8 in /usr/local/lib/python3.11/site-packages (from pymatgen>=2024.2.20->smact) (3.10.3)\n",
            "Requirement already satisfied: monty>=2025.1.9 in /usr/local/lib/python3.11/site-packages (from pymatgen>=2024.2.20->smact) (2025.3.3)\n",
            "Requirement already satisfied: networkx>=2.7 in /usr/local/lib/python3.11/site-packages (from pymatgen>=2024.2.20->smact) (3.4.2)\n",
            "Requirement already satisfied: palettable>=3.3.3 in /usr/local/lib/python3.11/site-packages (from pymatgen>=2024.2.20->smact) (3.3.3)\n",
            "Requirement already satisfied: plotly>=5.0.0 in /usr/local/lib/python3.11/site-packages (from pymatgen>=2024.2.20->smact) (6.1.1)\n",
            "Collecting bibtexparser>=1.4.0 (from pymatgen>=2024.2.20->smact)\n",
            "  Downloading bibtexparser-1.4.3.tar.gz (55 kB)\n",
            "  Preparing metadata (setup.py) ... \u001b[?25l\u001b[?25hdone\n",
            "Requirement already satisfied: requests>=2.32 in /usr/local/lib/python3.11/site-packages (from pymatgen>=2024.2.20->smact) (2.32.3)\n",
            "Requirement already satisfied: ruamel.yaml>=0.17.0 in /usr/local/lib/python3.11/site-packages (from pymatgen>=2024.2.20->smact) (0.18.10)\n",
            "Requirement already satisfied: sympy>=1.3 in /usr/local/lib/python3.11/site-packages (from pymatgen>=2024.2.20->smact) (1.14.0)\n",
            "Requirement already satisfied: tabulate>=0.9 in /usr/local/lib/python3.11/site-packages (from pymatgen>=2024.2.20->smact) (0.9.0)\n",
            "Requirement already satisfied: tqdm>=4.60 in /usr/local/lib/python3.11/site-packages (from pymatgen>=2024.2.20->smact) (4.67.1)\n",
            "Requirement already satisfied: uncertainties>=3.1.4 in /usr/local/lib/python3.11/site-packages (from pymatgen>=2024.2.20->smact) (3.2.3)\n",
            "Requirement already satisfied: ppft>=1.7.7 in /usr/local/lib/python3.11/site-packages (from pathos->smact) (1.7.7)\n",
            "Requirement already satisfied: pox>=0.3.6 in /usr/local/lib/python3.11/site-packages (from pathos->smact) (0.3.6)\n",
            "Requirement already satisfied: multiprocess>=0.70.18 in /usr/local/lib/python3.11/site-packages (from pathos->smact) (0.70.18)\n",
            "Requirement already satisfied: pyparsing>=2.0.3 in /usr/local/lib/python3.11/site-packages (from bibtexparser>=1.4.0->pymatgen>=2024.2.20->smact) (3.2.3)\n",
            "Requirement already satisfied: contourpy>=1.0.1 in /usr/local/lib/python3.11/site-packages (from matplotlib>=3.8->pymatgen>=2024.2.20->smact) (1.3.2)\n",
            "Requirement already satisfied: cycler>=0.10 in /usr/local/lib/python3.11/site-packages (from matplotlib>=3.8->pymatgen>=2024.2.20->smact) (0.12.1)\n",
            "Requirement already satisfied: fonttools>=4.22.0 in /usr/local/lib/python3.11/site-packages (from matplotlib>=3.8->pymatgen>=2024.2.20->smact) (4.58.0)\n",
            "Requirement already satisfied: kiwisolver>=1.3.1 in /usr/local/lib/python3.11/site-packages (from matplotlib>=3.8->pymatgen>=2024.2.20->smact) (1.4.8)\n",
            "Requirement already satisfied: packaging>=20.0 in /usr/local/lib/python3.11/site-packages (from matplotlib>=3.8->pymatgen>=2024.2.20->smact) (24.2)\n",
            "Requirement already satisfied: pillow>=8 in /usr/local/lib/python3.11/site-packages (from matplotlib>=3.8->pymatgen>=2024.2.20->smact) (11.2.1)\n",
            "Requirement already satisfied: narwhals>=1.15.1 in /usr/local/lib/python3.11/site-packages (from plotly>=5.0.0->pymatgen>=2024.2.20->smact) (1.40.0)\n",
            "Requirement already satisfied: six>=1.5 in /usr/local/lib/python3.11/site-packages (from python-dateutil>=2.8.2->pandas->smact) (1.17.0)\n",
            "Requirement already satisfied: charset_normalizer<4,>=2 in /usr/local/lib/python3.11/site-packages (from requests>=2.32->pymatgen>=2024.2.20->smact) (3.4.1)\n",
            "Requirement already satisfied: idna<4,>=2.5 in /usr/local/lib/python3.11/site-packages (from requests>=2.32->pymatgen>=2024.2.20->smact) (3.10)\n",
            "Requirement already satisfied: urllib3<3,>=1.21.1 in /usr/local/lib/python3.11/site-packages (from requests>=2.32->pymatgen>=2024.2.20->smact) (2.3.0)\n",
            "Requirement already satisfied: certifi>=2017.4.17 in /usr/local/lib/python3.11/site-packages (from requests>=2.32->pymatgen>=2024.2.20->smact) (2024.12.14)\n",
            "Requirement already satisfied: ruamel.yaml.clib>=0.2.7 in /usr/local/lib/python3.11/site-packages (from ruamel.yaml>=0.17.0->pymatgen>=2024.2.20->smact) (0.2.8)\n",
            "Requirement already satisfied: mpmath<1.4,>=1.1.0 in /usr/local/lib/python3.11/site-packages (from sympy>=1.3->pymatgen>=2024.2.20->smact) (1.3.0)\n",
            "Downloading smact-3.1.0-py3-none-any.whl (1.9 MB)\n",
            "\u001b[2K   \u001b[90m━━━━━━━━━━━━━━━━━━━━━━━━━━━━━━━━━━━━━━━━\u001b[0m \u001b[32m1.9/1.9 MB\u001b[0m \u001b[31m33.1 MB/s\u001b[0m eta \u001b[36m0:00:00\u001b[0m\n",
            "\u001b[?25hDownloading pymatgen-2025.5.2-cp311-cp311-manylinux_2_17_x86_64.manylinux2014_x86_64.whl (5.1 MB)\n",
            "\u001b[2K   \u001b[90m━━━━━━━━━━━━━━━━━━━━━━━━━━━━━━━━━━━━━━━━\u001b[0m \u001b[32m5.1/5.1 MB\u001b[0m \u001b[31m96.3 MB/s\u001b[0m eta \u001b[36m0:00:00\u001b[0m\n",
            "\u001b[?25hDownloading ase-3.25.0-py3-none-any.whl (3.0 MB)\n",
            "\u001b[2K   \u001b[90m━━━━━━━━━━━━━━━━━━━━━━━━━━━━━━━━━━━━━━━━\u001b[0m \u001b[32m3.0/3.0 MB\u001b[0m \u001b[31m56.2 MB/s\u001b[0m eta \u001b[36m0:00:00\u001b[0m\n",
            "\u001b[?25hBuilding wheels for collected packages: pandarallel, bibtexparser\n",
            "  Building wheel for pandarallel (setup.py) ... \u001b[?25l\u001b[?25hdone\n",
            "  Created wheel for pandarallel: filename=pandarallel-1.6.5-py3-none-any.whl size=16676 sha256=b78a4d9a604279f9c5be58422005b6728c3f366cd92e95f347b5fe0396bc5bcb\n",
            "  Stored in directory: /root/.cache/pip/wheels/b9/c6/5a/829298789e94348b81af52ab42c19d49da007306bbcc983827\n",
            "  Building wheel for bibtexparser (setup.py) ... \u001b[?25l\u001b[?25hdone\n",
            "  Created wheel for bibtexparser: filename=bibtexparser-1.4.3-py3-none-any.whl size=43549 sha256=e7ed82b18219f4e995fa588f8c2b25a65a7ff22dde4d75108b7c725b2000518d\n",
            "  Stored in directory: /root/.cache/pip/wheels/16/fb/76/306387739cf9d53b1c39b0c8aadbbb17dc05f256756d8fd915\n",
            "Successfully built pandarallel bibtexparser\n",
            "Installing collected packages: bibtexparser, pymatgen, pandarallel, ase, smact\n",
            "  Attempting uninstall: pymatgen\n",
            "    Found existing installation: pymatgen 2022.4.26\n",
            "    Uninstalling pymatgen-2022.4.26:\n",
            "      Successfully uninstalled pymatgen-2022.4.26\n",
            "Successfully installed ase-3.25.0 bibtexparser-1.4.3 pandarallel-1.6.5 pymatgen-2025.5.2 smact-3.1.0\n"
          ]
        }
      ]
    },
    {
      "cell_type": "markdown",
      "source": [
        "Export conda environment"
      ],
      "metadata": {
        "id": "--9p3Djr-u5L"
      }
    },
    {
      "cell_type": "code",
      "source": [
        "!conda env export"
      ],
      "metadata": {
        "colab": {
          "base_uri": "https://localhost:8080/"
        },
        "id": "trnLXws0-rXx",
        "outputId": "0b230462-2dfc-4db4-a36e-c53d4f6a17a3"
      },
      "execution_count": 14,
      "outputs": [
        {
          "output_type": "stream",
          "name": "stdout",
          "text": [
            "name: base\n",
            "channels:\n",
            "  - conda-forge\n",
            "dependencies:\n",
            "  - _libgcc_mutex=0.1=conda_forge\n",
            "  - _openmp_mutex=4.5=2_gnu\n",
            "  - archspec=0.2.3=pyhd8ed1ab_0\n",
            "  - boltons=24.0.0=pyhd8ed1ab_1\n",
            "  - brotli-python=1.1.0=py311hfdbb021_2\n",
            "  - bzip2=1.0.8=h4bc722e_7\n",
            "  - c-ares=1.34.4=hb9d3cd8_0\n",
            "  - ca-certificates=2024.12.14=hbcca054_0\n",
            "  - certifi=2024.12.14=pyhd8ed1ab_0\n",
            "  - cffi=1.17.1=py311hf29c0ef_0\n",
            "  - charset-normalizer=3.4.1=pyhd8ed1ab_0\n",
            "  - colorama=0.4.6=pyhd8ed1ab_1\n",
            "  - conda=24.11.2=py311h38be061_1\n",
            "  - conda-libmamba-solver=24.9.0=pyhd8ed1ab_0\n",
            "  - conda-package-handling=2.4.0=pyh7900ff3_2\n",
            "  - conda-package-streaming=0.11.0=pyhd8ed1ab_0\n",
            "  - distro=1.9.0=pyhd8ed1ab_1\n",
            "  - fmt=11.0.2=h434a139_0\n",
            "  - frozendict=2.4.6=py311h9ecbd09_0\n",
            "  - h2=4.1.0=pyhd8ed1ab_1\n",
            "  - hpack=4.0.0=pyhd8ed1ab_1\n",
            "  - hyperframe=6.0.1=pyhd8ed1ab_1\n",
            "  - idna=3.10=pyhd8ed1ab_1\n",
            "  - jsonpatch=1.33=pyhd8ed1ab_1\n",
            "  - jsonpointer=3.0.0=py311h38be061_1\n",
            "  - keyutils=1.6.1=h166bdaf_0\n",
            "  - krb5=1.21.3=h659f571_0\n",
            "  - ld_impl_linux-64=2.43=h712a8e2_2\n",
            "  - libarchive=3.7.7=h4585015_3\n",
            "  - libcurl=8.11.1=h332b0f4_0\n",
            "  - libedit=3.1.20240808=pl5321h7949ede_0\n",
            "  - libev=4.33=hd590300_2\n",
            "  - libexpat=2.6.4=h5888daf_0\n",
            "  - libffi=3.4.2=h7f98852_5\n",
            "  - libgcc=14.2.0=h77fa898_1\n",
            "  - libgcc-ng=14.2.0=h69a702a_1\n",
            "  - libgomp=14.2.0=h77fa898_1\n",
            "  - libiconv=1.17=hd590300_2\n",
            "  - liblzma=5.6.3=hb9d3cd8_1\n",
            "  - libmamba=1.5.12=h49b8a8d_0\n",
            "  - libmambapy=1.5.12=py311hb3373dd_0\n",
            "  - libnghttp2=1.64.0=h161d5f1_0\n",
            "  - libnsl=2.0.1=hd590300_0\n",
            "  - libsolv=0.7.30=h3509ff9_0\n",
            "  - libsqlite=3.47.2=hee588c1_0\n",
            "  - libssh2=1.11.1=hf672d98_0\n",
            "  - libstdcxx=14.2.0=hc0a3c3a_1\n",
            "  - libstdcxx-ng=14.2.0=h4852527_1\n",
            "  - libuuid=2.38.1=h0b41bf4_0\n",
            "  - libxcrypt=4.4.36=hd590300_1\n",
            "  - libxml2=2.13.5=h0d44e9d_1\n",
            "  - libzlib=1.3.1=hb9d3cd8_2\n",
            "  - lz4-c=1.10.0=h5888daf_1\n",
            "  - lzo=2.10=hd590300_1001\n",
            "  - mamba=1.5.12=py311h3072747_0\n",
            "  - menuinst=2.2.0=py311h38be061_0\n",
            "  - ncurses=6.5=h2d0b736_2\n",
            "  - openssl=3.4.0=h7b32b05_1\n",
            "  - packaging=24.2=pyhd8ed1ab_2\n",
            "  - pip=24.3.1=pyh8b19718_2\n",
            "  - platformdirs=4.3.6=pyhd8ed1ab_1\n",
            "  - pluggy=1.5.0=pyhd8ed1ab_1\n",
            "  - pybind11-abi=4=hd8ed1ab_3\n",
            "  - pycosat=0.6.6=py311h9ecbd09_2\n",
            "  - pycparser=2.22=pyh29332c3_1\n",
            "  - pysocks=1.7.1=pyha55dd90_7\n",
            "  - python=3.11.11=h9e4cc4f_1_cpython\n",
            "  - python_abi=3.11=5_cp311\n",
            "  - readline=8.2=h8228510_1\n",
            "  - reproc=14.2.5.post0=hb9d3cd8_0\n",
            "  - reproc-cpp=14.2.5.post0=h5888daf_0\n",
            "  - requests=2.32.3=pyhd8ed1ab_1\n",
            "  - ruamel.yaml=0.18.10=py311h9ecbd09_0\n",
            "  - ruamel.yaml.clib=0.2.8=py311h9ecbd09_1\n",
            "  - setuptools=65.6.3=pyhd8ed1ab_0\n",
            "  - tk=8.6.13=noxft_h4845f30_101\n",
            "  - tqdm=4.67.1=pyhd8ed1ab_1\n",
            "  - truststore=0.10.0=pyhd8ed1ab_0\n",
            "  - urllib3=2.3.0=pyhd8ed1ab_0\n",
            "  - wheel=0.45.1=pyhd8ed1ab_1\n",
            "  - yaml-cpp=0.8.0=h59595ed_0\n",
            "  - zstandard=0.23.0=py311hbc35293_1\n",
            "  - zstd=1.5.6=ha6fb4c9_0\n",
            "  - pip:\n",
            "      - absl-py==2.2.2\n",
            "      - accelerate==1.7.0\n",
            "      - aiohappyeyeballs==2.6.1\n",
            "      - aiohttp==3.11.18\n",
            "      - aiosignal==1.3.2\n",
            "      - annotated-types==0.7.0\n",
            "      - antlr4-python3-runtime==4.9.3\n",
            "      - ase==3.25.0\n",
            "      - attrs==25.3.0\n",
            "      - bibtexparser==1.4.3\n",
            "      - click==8.2.1\n",
            "      - condacolab==0.1.10\n",
            "      - contourpy==1.3.2\n",
            "      - cycler==0.12.1\n",
            "      - dill==0.4.0\n",
            "      - docker-pycreds==0.4.0\n",
            "      - filelock==3.18.0\n",
            "      - fonttools==4.58.0\n",
            "      - frozenlist==1.6.0\n",
            "      - fsspec==2025.5.0\n",
            "      - gitdb==4.0.12\n",
            "      - gitpython==3.1.44\n",
            "      - grpcio==1.71.0\n",
            "      - huggingface-hub==0.31.4\n",
            "      - hydra-core==1.3.2\n",
            "      - jarvis-tools==2024.10.30\n",
            "      - jinja2==3.1.6\n",
            "      - joblib==1.5.0\n",
            "      - kiwisolver==1.4.8\n",
            "      - latexcodec==3.0.0\n",
            "      - markdown==3.8\n",
            "      - markupsafe==3.0.2\n",
            "      - matplotlib==3.10.3\n",
            "      - monty==2025.3.3\n",
            "      - mpmath==1.3.0\n",
            "      - multidict==6.4.4\n",
            "      - multiprocess==0.70.18\n",
            "      - narwhals==1.40.0\n",
            "      - networkx==3.4.2\n",
            "      - numpy==1.26.4\n",
            "      - nvidia-cublas-cu12==12.6.4.1\n",
            "      - nvidia-cuda-cupti-cu12==12.6.80\n",
            "      - nvidia-cuda-nvrtc-cu12==12.6.77\n",
            "      - nvidia-cuda-runtime-cu12==12.6.77\n",
            "      - nvidia-cudnn-cu12==9.5.1.17\n",
            "      - nvidia-cufft-cu12==11.3.0.4\n",
            "      - nvidia-cufile-cu12==1.11.1.6\n",
            "      - nvidia-curand-cu12==10.3.7.77\n",
            "      - nvidia-cusolver-cu12==11.7.1.2\n",
            "      - nvidia-cusparse-cu12==12.5.4.2\n",
            "      - nvidia-cusparselt-cu12==0.6.3\n",
            "      - nvidia-nccl-cu12==2.26.2\n",
            "      - nvidia-nvjitlink-cu12==12.6.85\n",
            "      - nvidia-nvtx-cu12==12.6.77\n",
            "      - omegaconf==2.3.0\n",
            "      - p-tqdm==1.4.2\n",
            "      - palettable==3.3.3\n",
            "      - pandarallel==1.6.5\n",
            "      - pandas==2.2.3\n",
            "      - pathos==0.3.4\n",
            "      - pillow==11.2.1\n",
            "      - plotly==6.1.1\n",
            "      - pox==0.3.6\n",
            "      - ppft==1.7.7\n",
            "      - propcache==0.3.1\n",
            "      - protobuf==3.20.1\n",
            "      - psutil==7.0.0\n",
            "      - pybtex==0.24.0\n",
            "      - pydantic==2.11.4\n",
            "      - pydantic-core==2.33.2\n",
            "      - pydeprecate==0.3.2\n",
            "      - pymatgen==2025.5.2\n",
            "      - pyparsing==3.2.3\n",
            "      - python-dateutil==2.9.0.post0\n",
            "      - python-dotenv==1.1.0\n",
            "      - pytorch-lightning==1.6.5.post0\n",
            "      - pytz==2025.2\n",
            "      - pyyaml==6.0.2\n",
            "      - safetensors==0.5.3\n",
            "      - scikit-learn==1.6.1\n",
            "      - scipy==1.15.3\n",
            "      - sentry-sdk==2.29.1\n",
            "      - setproctitle==1.3.6\n",
            "      - six==1.17.0\n",
            "      - smact==3.1.0\n",
            "      - smmap==5.0.2\n",
            "      - spglib==2.6.0\n",
            "      - sympy==1.14.0\n",
            "      - tabulate==0.9.0\n",
            "      - tensorboard==2.19.0\n",
            "      - tensorboard-data-server==0.7.2\n",
            "      - threadpoolctl==3.6.0\n",
            "      - toolz==1.0.0\n",
            "      - torch==2.7.0\n",
            "      - torch-geometric==2.7.0\n",
            "      - torch-scatter==2.1.2+pt26cu124\n",
            "      - torch-sparse==0.6.18+pt26cu124\n",
            "      - torchmetrics==0.6.0\n",
            "      - triton==3.3.0\n",
            "      - typing-extensions==4.13.2\n",
            "      - typing-inspection==0.4.1\n",
            "      - tzdata==2025.2\n",
            "      - uncertainties==3.2.3\n",
            "      - wandb==0.19.11\n",
            "      - werkzeug==3.1.3\n",
            "      - xmltodict==0.14.2\n",
            "      - xxhash==3.5.0\n",
            "      - yarl==1.20.0\n",
            "prefix: /usr/local\n"
          ]
        }
      ]
    },
    {
      "cell_type": "code",
      "source": [
        "# from datetime import date\n",
        "# d1 = today.strftime(\"%Y-%m-%d\")"
      ],
      "metadata": {
        "id": "4LiaFR3fRM0h"
      },
      "execution_count": 15,
      "outputs": []
    },
    {
      "cell_type": "code",
      "source": [
        "temp_dir=!ls /content/cdvae/HYDRA_JOBS/singlerun/"
      ],
      "metadata": {
        "id": "qQixt8zk3qBK"
      },
      "execution_count": 16,
      "outputs": []
    },
    {
      "cell_type": "code",
      "source": [
        "os.environ['TMP_DIR']=temp_dir[0]"
      ],
      "metadata": {
        "id": "gYzAZ7Lz4yE5"
      },
      "execution_count": 17,
      "outputs": []
    },
    {
      "cell_type": "code",
      "source": [
        "!echo $TMP_DIR"
      ],
      "metadata": {
        "colab": {
          "base_uri": "https://localhost:8080/"
        },
        "id": "g2ejB6Kw5HQd",
        "outputId": "3576d0d9-06a2-4406-f0a6-1a3651dfc5bb"
      },
      "execution_count": 18,
      "outputs": [
        {
          "output_type": "stream",
          "name": "stdout",
          "text": [
            "2025-05-21\n"
          ]
        }
      ]
    },
    {
      "cell_type": "markdown",
      "source": [
        "Adjust path accordingly"
      ],
      "metadata": {
        "id": "eZXPKpy40rTj"
      }
    },
    {
      "cell_type": "code",
      "source": [
        "%%time\n",
        "!python scripts/evaluate.py --n_step_each 5 --num_batches_to_samples 5 --batch_size 5 --model_path \"/content/cdvae/HYDRA_JOBS/singlerun/$TMP_DIR/supercon_test02\" --tasks opt gen recon"
      ],
      "metadata": {
        "id": "gkmcwrDToBBl",
        "colab": {
          "base_uri": "https://localhost:8080/"
        },
        "outputId": "1c743ac0-03ad-4550-c10d-f3d005de038a"
      },
      "execution_count": 19,
      "outputs": [
        {
          "output_type": "stream",
          "name": "stdout",
          "text": [
            "/usr/local/lib/python3.11/site-packages/torch_geometric/typing.py:126: UserWarning: An issue occurred while importing 'torch-scatter'. Disabling its usage. Stacktrace: /usr/local/lib/python3.11/site-packages/torch_scatter/_version_cuda.so: undefined symbol: _ZN5torch3jit17parseSchemaOrNameERKSsb\n",
            "  warnings.warn(f\"An issue occurred while importing 'torch-scatter'. \"\n",
            "/usr/local/lib/python3.11/site-packages/torch_geometric/typing.py:164: UserWarning: An issue occurred while importing 'torch-sparse'. Disabling its usage. Stacktrace: /usr/local/lib/python3.11/site-packages/torch_sparse/_version_cuda.so: undefined symbol: _ZN5torch3jit17parseSchemaOrNameERKSsb\n",
            "  warnings.warn(f\"An issue occurred while importing 'torch-sparse'. \"\n",
            "Traceback (most recent call last):\n",
            "  File \"/content/cdvae/scripts/evaluate.py\", line 11, in <module>\n",
            "    from eval_utils import load_model\n",
            "  File \"/content/cdvae/scripts/eval_utils.py\", line 16, in <module>\n",
            "    from cdvae.common.data_utils import StandardScaler, chemical_symbols\n",
            "  File \"/content/cdvae/cdvae/common/data_utils.py\", line 17, in <module>\n",
            "    from torch_scatter import scatter\n",
            "  File \"/usr/local/lib/python3.11/site-packages/torch_scatter/__init__.py\", line 16, in <module>\n",
            "    torch.ops.load_library(spec.origin)\n",
            "  File \"/usr/local/lib/python3.11/site-packages/torch/_ops.py\", line 1392, in load_library\n",
            "    ctypes.CDLL(path)\n",
            "  File \"/usr/local/lib/python3.11/ctypes/__init__.py\", line 376, in __init__\n",
            "    self._handle = _dlopen(self._name, mode)\n",
            "                   ^^^^^^^^^^^^^^^^^^^^^^^^^\n",
            "OSError: /usr/local/lib/python3.11/site-packages/torch_scatter/_version_cuda.so: undefined symbol: _ZN5torch3jit17parseSchemaOrNameERKSsb\n",
            "CPU times: user 101 ms, sys: 12.3 ms, total: 114 ms\n",
            "Wall time: 14.9 s\n"
          ]
        }
      ]
    },
    {
      "cell_type": "code",
      "source": [
        "!pip install matminer"
      ],
      "metadata": {
        "colab": {
          "base_uri": "https://localhost:8080/"
        },
        "id": "OCTlzaHF0g5Q",
        "outputId": "190d8275-20b8-463a-97cd-7bbe187e1978"
      },
      "execution_count": 20,
      "outputs": [
        {
          "output_type": "stream",
          "name": "stdout",
          "text": [
            "Collecting matminer\n",
            "  Downloading matminer-0.9.3-py3-none-any.whl.metadata (4.9 kB)\n",
            "Requirement already satisfied: numpy>=1.23 in /usr/local/lib/python3.11/site-packages (from matminer) (1.26.4)\n",
            "Requirement already satisfied: requests~=2.31 in /usr/local/lib/python3.11/site-packages (from matminer) (2.32.3)\n",
            "Requirement already satisfied: pandas<3,>=1.5 in /usr/local/lib/python3.11/site-packages (from matminer) (2.2.3)\n",
            "Requirement already satisfied: tqdm~=4.66 in /usr/local/lib/python3.11/site-packages (from matminer) (4.67.1)\n",
            "Collecting pymongo~=4.5 (from matminer)\n",
            "  Downloading pymongo-4.13.0-cp311-cp311-manylinux_2_17_x86_64.manylinux2014_x86_64.whl.metadata (22 kB)\n",
            "Requirement already satisfied: scikit-learn~=1.3 in /usr/local/lib/python3.11/site-packages (from matminer) (1.6.1)\n",
            "Requirement already satisfied: sympy~=1.11 in /usr/local/lib/python3.11/site-packages (from matminer) (1.14.0)\n",
            "Requirement already satisfied: monty>=2023 in /usr/local/lib/python3.11/site-packages (from matminer) (2025.3.3)\n",
            "Requirement already satisfied: pymatgen>=2023 in /usr/local/lib/python3.11/site-packages (from matminer) (2025.5.2)\n",
            "Requirement already satisfied: ruamel.yaml in /usr/local/lib/python3.11/site-packages (from monty>=2023->matminer) (0.18.10)\n",
            "Requirement already satisfied: python-dateutil>=2.8.2 in /usr/local/lib/python3.11/site-packages (from pandas<3,>=1.5->matminer) (2.9.0.post0)\n",
            "Requirement already satisfied: pytz>=2020.1 in /usr/local/lib/python3.11/site-packages (from pandas<3,>=1.5->matminer) (2025.2)\n",
            "Requirement already satisfied: tzdata>=2022.7 in /usr/local/lib/python3.11/site-packages (from pandas<3,>=1.5->matminer) (2025.2)\n",
            "Requirement already satisfied: joblib>=1 in /usr/local/lib/python3.11/site-packages (from pymatgen>=2023->matminer) (1.5.0)\n",
            "Requirement already satisfied: matplotlib>=3.8 in /usr/local/lib/python3.11/site-packages (from pymatgen>=2023->matminer) (3.10.3)\n",
            "Requirement already satisfied: networkx>=2.7 in /usr/local/lib/python3.11/site-packages (from pymatgen>=2023->matminer) (3.4.2)\n",
            "Requirement already satisfied: palettable>=3.3.3 in /usr/local/lib/python3.11/site-packages (from pymatgen>=2023->matminer) (3.3.3)\n",
            "Requirement already satisfied: plotly>=5.0.0 in /usr/local/lib/python3.11/site-packages (from pymatgen>=2023->matminer) (6.1.1)\n",
            "Requirement already satisfied: bibtexparser>=1.4.0 in /usr/local/lib/python3.11/site-packages (from pymatgen>=2023->matminer) (1.4.3)\n",
            "Requirement already satisfied: scipy>=1.13.0 in /usr/local/lib/python3.11/site-packages (from pymatgen>=2023->matminer) (1.15.3)\n",
            "Requirement already satisfied: spglib>=2.5 in /usr/local/lib/python3.11/site-packages (from pymatgen>=2023->matminer) (2.6.0)\n",
            "Requirement already satisfied: tabulate>=0.9 in /usr/local/lib/python3.11/site-packages (from pymatgen>=2023->matminer) (0.9.0)\n",
            "Requirement already satisfied: uncertainties>=3.1.4 in /usr/local/lib/python3.11/site-packages (from pymatgen>=2023->matminer) (3.2.3)\n",
            "Collecting dnspython<3.0.0,>=1.16.0 (from pymongo~=4.5->matminer)\n",
            "  Downloading dnspython-2.7.0-py3-none-any.whl.metadata (5.8 kB)\n",
            "Requirement already satisfied: charset_normalizer<4,>=2 in /usr/local/lib/python3.11/site-packages (from requests~=2.31->matminer) (3.4.1)\n",
            "Requirement already satisfied: idna<4,>=2.5 in /usr/local/lib/python3.11/site-packages (from requests~=2.31->matminer) (3.10)\n",
            "Requirement already satisfied: urllib3<3,>=1.21.1 in /usr/local/lib/python3.11/site-packages (from requests~=2.31->matminer) (2.3.0)\n",
            "Requirement already satisfied: certifi>=2017.4.17 in /usr/local/lib/python3.11/site-packages (from requests~=2.31->matminer) (2024.12.14)\n",
            "Requirement already satisfied: threadpoolctl>=3.1.0 in /usr/local/lib/python3.11/site-packages (from scikit-learn~=1.3->matminer) (3.6.0)\n",
            "Requirement already satisfied: mpmath<1.4,>=1.1.0 in /usr/local/lib/python3.11/site-packages (from sympy~=1.11->matminer) (1.3.0)\n",
            "Requirement already satisfied: pyparsing>=2.0.3 in /usr/local/lib/python3.11/site-packages (from bibtexparser>=1.4.0->pymatgen>=2023->matminer) (3.2.3)\n",
            "Requirement already satisfied: contourpy>=1.0.1 in /usr/local/lib/python3.11/site-packages (from matplotlib>=3.8->pymatgen>=2023->matminer) (1.3.2)\n",
            "Requirement already satisfied: cycler>=0.10 in /usr/local/lib/python3.11/site-packages (from matplotlib>=3.8->pymatgen>=2023->matminer) (0.12.1)\n",
            "Requirement already satisfied: fonttools>=4.22.0 in /usr/local/lib/python3.11/site-packages (from matplotlib>=3.8->pymatgen>=2023->matminer) (4.58.0)\n",
            "Requirement already satisfied: kiwisolver>=1.3.1 in /usr/local/lib/python3.11/site-packages (from matplotlib>=3.8->pymatgen>=2023->matminer) (1.4.8)\n",
            "Requirement already satisfied: packaging>=20.0 in /usr/local/lib/python3.11/site-packages (from matplotlib>=3.8->pymatgen>=2023->matminer) (24.2)\n",
            "Requirement already satisfied: pillow>=8 in /usr/local/lib/python3.11/site-packages (from matplotlib>=3.8->pymatgen>=2023->matminer) (11.2.1)\n",
            "Requirement already satisfied: narwhals>=1.15.1 in /usr/local/lib/python3.11/site-packages (from plotly>=5.0.0->pymatgen>=2023->matminer) (1.40.0)\n",
            "Requirement already satisfied: six>=1.5 in /usr/local/lib/python3.11/site-packages (from python-dateutil>=2.8.2->pandas<3,>=1.5->matminer) (1.17.0)\n",
            "Requirement already satisfied: ruamel.yaml.clib>=0.2.7 in /usr/local/lib/python3.11/site-packages (from ruamel.yaml->monty>=2023->matminer) (0.2.8)\n",
            "Requirement already satisfied: typing-extensions>=4.9.0 in /usr/local/lib/python3.11/site-packages (from spglib>=2.5->pymatgen>=2023->matminer) (4.13.2)\n",
            "Downloading matminer-0.9.3-py3-none-any.whl (5.5 MB)\n",
            "\u001b[2K   \u001b[90m━━━━━━━━━━━━━━━━━━━━━━━━━━━━━━━━━━━━━━━━\u001b[0m \u001b[32m5.5/5.5 MB\u001b[0m \u001b[31m68.0 MB/s\u001b[0m eta \u001b[36m0:00:00\u001b[0m\n",
            "\u001b[?25hDownloading pymongo-4.13.0-cp311-cp311-manylinux_2_17_x86_64.manylinux2014_x86_64.whl (1.4 MB)\n",
            "\u001b[2K   \u001b[90m━━━━━━━━━━━━━━━━━━━━━━━━━━━━━━━━━━━━━━━━\u001b[0m \u001b[32m1.4/1.4 MB\u001b[0m \u001b[31m69.6 MB/s\u001b[0m eta \u001b[36m0:00:00\u001b[0m\n",
            "\u001b[?25hDownloading dnspython-2.7.0-py3-none-any.whl (313 kB)\n",
            "Installing collected packages: dnspython, pymongo, matminer\n",
            "Successfully installed dnspython-2.7.0 matminer-0.9.3 pymongo-4.13.0\n"
          ]
        }
      ]
    },
    {
      "cell_type": "code",
      "source": [
        "%%time\n",
        "!python scripts/compute_metrics.py --root_path  \"/content/cdvae/HYDRA_JOBS/singlerun/$TMP_DIR/supercon_test02\" --tasks   gen recon"
      ],
      "metadata": {
        "colab": {
          "base_uri": "https://localhost:8080/"
        },
        "id": "2pa1a6M93Zl6",
        "outputId": "73db0636-ed49-44b9-8ea3-68bf6b27806f"
      },
      "execution_count": 21,
      "outputs": [
        {
          "output_type": "stream",
          "name": "stdout",
          "text": [
            "Traceback (most recent call last):\n",
            "  File \"/content/cdvae/scripts/compute_metrics.py\", line 16, in <module>\n",
            "    from matminer.featurizers.site.fingerprint import CrystalNNFingerprint\n",
            "  File \"/usr/local/lib/python3.11/site-packages/matminer/featurizers/site/__init__.py\", line 13, in <module>\n",
            "    from matminer.featurizers.site.fingerprint import (\n",
            "  File \"/usr/local/lib/python3.11/site-packages/matminer/featurizers/site/fingerprint.py\", line 11, in <module>\n",
            "    from pymatgen.analysis.chemenv.coordination_environments.chemenv_strategies import (\n",
            "  File \"/usr/local/lib/python3.11/site-packages/pymatgen/analysis/chemenv/coordination_environments/chemenv_strategies.py\", line 18, in <module>\n",
            "    from pymatgen.analysis.chemenv.coordination_environments.voronoi import DetailedVoronoiContainer\n",
            "  File \"/usr/local/lib/python3.11/site-packages/pymatgen/analysis/chemenv/coordination_environments/voronoi.py\", line 9, in <module>\n",
            "    import matplotlib.pyplot as plt\n",
            "  File \"/usr/local/lib/python3.11/site-packages/matplotlib/__init__.py\", line 1296, in <module>\n",
            "    rcParams['backend'] = os.environ.get('MPLBACKEND')\n",
            "    ~~~~~~~~^^^^^^^^^^^\n",
            "  File \"/usr/local/lib/python3.11/site-packages/matplotlib/__init__.py\", line 771, in __setitem__\n",
            "    raise ValueError(f\"Key {key}: {ve}\") from None\n",
            "ValueError: Key backend: 'module://matplotlib_inline.backend_inline' is not a valid value for backend; supported values are ['gtk3agg', 'gtk3cairo', 'gtk4agg', 'gtk4cairo', 'macosx', 'nbagg', 'notebook', 'qtagg', 'qtcairo', 'qt5agg', 'qt5cairo', 'tkagg', 'tkcairo', 'webagg', 'wx', 'wxagg', 'wxcairo', 'agg', 'cairo', 'pdf', 'pgf', 'ps', 'svg', 'template']\n",
            "CPU times: user 41.3 ms, sys: 5.27 ms, total: 46.6 ms\n",
            "Wall time: 5.83 s\n"
          ]
        }
      ]
    },
    {
      "cell_type": "code",
      "source": [
        "temp_dir[0]"
      ],
      "metadata": {
        "colab": {
          "base_uri": "https://localhost:8080/",
          "height": 35
        },
        "id": "-HVjv7DcBaLm",
        "outputId": "c9573a1f-23ee-4e53-e107-1d76127eee90"
      },
      "execution_count": 22,
      "outputs": [
        {
          "output_type": "execute_result",
          "data": {
            "text/plain": [
              "'2025-05-21'"
            ],
            "application/vnd.google.colaboratory.intrinsic+json": {
              "type": "string"
            }
          },
          "metadata": {},
          "execution_count": 22
        }
      ]
    },
    {
      "cell_type": "code",
      "source": [
        "!ls /content/cdvae/HYDRA_JOBS/singlerun/$TMP_DIR/supercon_test02/"
      ],
      "metadata": {
        "colab": {
          "base_uri": "https://localhost:8080/"
        },
        "id": "GKUpnMENBgy9",
        "outputId": "39f629a7-67db-4774-f760-9d86f76ff535"
      },
      "execution_count": 23,
      "outputs": [
        {
          "output_type": "stream",
          "name": "stdout",
          "text": [
            "run.log\n"
          ]
        }
      ]
    },
    {
      "cell_type": "code",
      "source": [
        "import torch\n",
        "from jarvis.core.atoms import Atoms\n",
        "from jarvis.core.atoms import pmg_to_atoms\n",
        "from jarvis.core.lattice import Lattice\n",
        "from jarvis.core.specie import atomic_numbers_to_symbols\n",
        "from jarvis.db.jsonutils import dumpjson\n",
        "from jarvis.analysis.structure.spacegroup import Spacegroup3D\n",
        "from collections import Counter\n",
        "from pymatgen.core.structure import Structure\n",
        "import pandas as pd\n",
        "opt_path = \"/content/cdvae/HYDRA_JOBS/singlerun/\"+temp_dir[0]+\"/supercon_test02/eval_opt.pt\"\n",
        "gen_path = \"/content/cdvae/HYDRA_JOBS/singlerun/\"+temp_dir[0]+\"/supercon_test02/eval_gen.pt\"\n",
        "recon_path = \"/content/cdvae/HYDRA_JOBS/singlerun/\"+temp_dir[0]+\"/supercon_test02/eval_recon.pt\"\n",
        "csv_path = \"/content/cdvae/data/supercon/test.csv\"\n",
        "df = pd.read_csv(csv_path)\n",
        "x = torch.load(recon_path)\n",
        "y = torch.load(gen_path)\n",
        "z = torch.load(opt_path)\n",
        "print(len(df),x[\"num_atoms\"].shape,y[\"num_atoms\"].shape,z[\"num_atoms\"].shape)"
      ],
      "metadata": {
        "colab": {
          "base_uri": "https://localhost:8080/",
          "height": 356
        },
        "id": "ChMSlbqriZ7T",
        "outputId": "f2ab8152-5638-4855-8505-4d9649a3f09a"
      },
      "execution_count": 24,
      "outputs": [
        {
          "output_type": "error",
          "ename": "FileNotFoundError",
          "evalue": "[Errno 2] No such file or directory: '/content/cdvae/HYDRA_JOBS/singlerun/2025-05-21/supercon_test02/eval_recon.pt'",
          "traceback": [
            "\u001b[0;31m---------------------------------------------------------------------------\u001b[0m",
            "\u001b[0;31mFileNotFoundError\u001b[0m                         Traceback (most recent call last)",
            "\u001b[0;32m<ipython-input-24-5259fe99110e>\u001b[0m in \u001b[0;36m<cell line: 0>\u001b[0;34m()\u001b[0m\n\u001b[1;32m     14\u001b[0m \u001b[0mcsv_path\u001b[0m \u001b[0;34m=\u001b[0m \u001b[0;34m\"/content/cdvae/data/supercon/test.csv\"\u001b[0m\u001b[0;34m\u001b[0m\u001b[0;34m\u001b[0m\u001b[0m\n\u001b[1;32m     15\u001b[0m \u001b[0mdf\u001b[0m \u001b[0;34m=\u001b[0m \u001b[0mpd\u001b[0m\u001b[0;34m.\u001b[0m\u001b[0mread_csv\u001b[0m\u001b[0;34m(\u001b[0m\u001b[0mcsv_path\u001b[0m\u001b[0;34m)\u001b[0m\u001b[0;34m\u001b[0m\u001b[0;34m\u001b[0m\u001b[0m\n\u001b[0;32m---> 16\u001b[0;31m \u001b[0mx\u001b[0m \u001b[0;34m=\u001b[0m \u001b[0mtorch\u001b[0m\u001b[0;34m.\u001b[0m\u001b[0mload\u001b[0m\u001b[0;34m(\u001b[0m\u001b[0mrecon_path\u001b[0m\u001b[0;34m)\u001b[0m\u001b[0;34m\u001b[0m\u001b[0;34m\u001b[0m\u001b[0m\n\u001b[0m\u001b[1;32m     17\u001b[0m \u001b[0my\u001b[0m \u001b[0;34m=\u001b[0m \u001b[0mtorch\u001b[0m\u001b[0;34m.\u001b[0m\u001b[0mload\u001b[0m\u001b[0;34m(\u001b[0m\u001b[0mgen_path\u001b[0m\u001b[0;34m)\u001b[0m\u001b[0;34m\u001b[0m\u001b[0;34m\u001b[0m\u001b[0m\n\u001b[1;32m     18\u001b[0m \u001b[0mz\u001b[0m \u001b[0;34m=\u001b[0m \u001b[0mtorch\u001b[0m\u001b[0;34m.\u001b[0m\u001b[0mload\u001b[0m\u001b[0;34m(\u001b[0m\u001b[0mopt_path\u001b[0m\u001b[0;34m)\u001b[0m\u001b[0;34m\u001b[0m\u001b[0;34m\u001b[0m\u001b[0m\n",
            "\u001b[0;32m/usr/local/lib/python3.11/site-packages/torch/serialization.py\u001b[0m in \u001b[0;36mload\u001b[0;34m(f, map_location, pickle_module, weights_only, mmap, **pickle_load_args)\u001b[0m\n\u001b[1;32m   1477\u001b[0m         \u001b[0mpickle_load_args\u001b[0m\u001b[0;34m[\u001b[0m\u001b[0;34m\"encoding\"\u001b[0m\u001b[0;34m]\u001b[0m \u001b[0;34m=\u001b[0m \u001b[0;34m\"utf-8\"\u001b[0m\u001b[0;34m\u001b[0m\u001b[0;34m\u001b[0m\u001b[0m\n\u001b[1;32m   1478\u001b[0m \u001b[0;34m\u001b[0m\u001b[0m\n\u001b[0;32m-> 1479\u001b[0;31m     \u001b[0;32mwith\u001b[0m \u001b[0m_open_file_like\u001b[0m\u001b[0;34m(\u001b[0m\u001b[0mf\u001b[0m\u001b[0;34m,\u001b[0m \u001b[0;34m\"rb\"\u001b[0m\u001b[0;34m)\u001b[0m \u001b[0;32mas\u001b[0m \u001b[0mopened_file\u001b[0m\u001b[0;34m:\u001b[0m\u001b[0;34m\u001b[0m\u001b[0;34m\u001b[0m\u001b[0m\n\u001b[0m\u001b[1;32m   1480\u001b[0m         \u001b[0;32mif\u001b[0m \u001b[0m_is_zipfile\u001b[0m\u001b[0;34m(\u001b[0m\u001b[0mopened_file\u001b[0m\u001b[0;34m)\u001b[0m\u001b[0;34m:\u001b[0m\u001b[0;34m\u001b[0m\u001b[0;34m\u001b[0m\u001b[0m\n\u001b[1;32m   1481\u001b[0m             \u001b[0;31m# The zipfile reader is going to advance the current file position.\u001b[0m\u001b[0;34m\u001b[0m\u001b[0;34m\u001b[0m\u001b[0m\n",
            "\u001b[0;32m/usr/local/lib/python3.11/site-packages/torch/serialization.py\u001b[0m in \u001b[0;36m_open_file_like\u001b[0;34m(name_or_buffer, mode)\u001b[0m\n\u001b[1;32m    757\u001b[0m \u001b[0;32mdef\u001b[0m \u001b[0m_open_file_like\u001b[0m\u001b[0;34m(\u001b[0m\u001b[0mname_or_buffer\u001b[0m\u001b[0;34m:\u001b[0m \u001b[0mFileLike\u001b[0m\u001b[0;34m,\u001b[0m \u001b[0mmode\u001b[0m\u001b[0;34m:\u001b[0m \u001b[0mstr\u001b[0m\u001b[0;34m)\u001b[0m \u001b[0;34m->\u001b[0m \u001b[0m_opener\u001b[0m\u001b[0;34m[\u001b[0m\u001b[0mIO\u001b[0m\u001b[0;34m[\u001b[0m\u001b[0mbytes\u001b[0m\u001b[0;34m]\u001b[0m\u001b[0;34m]\u001b[0m\u001b[0;34m:\u001b[0m\u001b[0;34m\u001b[0m\u001b[0;34m\u001b[0m\u001b[0m\n\u001b[1;32m    758\u001b[0m     \u001b[0;32mif\u001b[0m \u001b[0m_is_path\u001b[0m\u001b[0;34m(\u001b[0m\u001b[0mname_or_buffer\u001b[0m\u001b[0;34m)\u001b[0m\u001b[0;34m:\u001b[0m\u001b[0;34m\u001b[0m\u001b[0;34m\u001b[0m\u001b[0m\n\u001b[0;32m--> 759\u001b[0;31m         \u001b[0;32mreturn\u001b[0m \u001b[0m_open_file\u001b[0m\u001b[0;34m(\u001b[0m\u001b[0mname_or_buffer\u001b[0m\u001b[0;34m,\u001b[0m \u001b[0mmode\u001b[0m\u001b[0;34m)\u001b[0m\u001b[0;34m\u001b[0m\u001b[0;34m\u001b[0m\u001b[0m\n\u001b[0m\u001b[1;32m    760\u001b[0m     \u001b[0;32melse\u001b[0m\u001b[0;34m:\u001b[0m\u001b[0;34m\u001b[0m\u001b[0;34m\u001b[0m\u001b[0m\n\u001b[1;32m    761\u001b[0m         \u001b[0;32mif\u001b[0m \u001b[0;34m\"w\"\u001b[0m \u001b[0;32min\u001b[0m \u001b[0mmode\u001b[0m\u001b[0;34m:\u001b[0m\u001b[0;34m\u001b[0m\u001b[0;34m\u001b[0m\u001b[0m\n",
            "\u001b[0;32m/usr/local/lib/python3.11/site-packages/torch/serialization.py\u001b[0m in \u001b[0;36m__init__\u001b[0;34m(self, name, mode)\u001b[0m\n\u001b[1;32m    738\u001b[0m \u001b[0;32mclass\u001b[0m \u001b[0m_open_file\u001b[0m\u001b[0;34m(\u001b[0m\u001b[0m_opener\u001b[0m\u001b[0;34m[\u001b[0m\u001b[0mIO\u001b[0m\u001b[0;34m[\u001b[0m\u001b[0mbytes\u001b[0m\u001b[0;34m]\u001b[0m\u001b[0;34m]\u001b[0m\u001b[0;34m)\u001b[0m\u001b[0;34m:\u001b[0m\u001b[0;34m\u001b[0m\u001b[0;34m\u001b[0m\u001b[0m\n\u001b[1;32m    739\u001b[0m     \u001b[0;32mdef\u001b[0m \u001b[0m__init__\u001b[0m\u001b[0;34m(\u001b[0m\u001b[0mself\u001b[0m\u001b[0;34m,\u001b[0m \u001b[0mname\u001b[0m\u001b[0;34m:\u001b[0m \u001b[0mUnion\u001b[0m\u001b[0;34m[\u001b[0m\u001b[0mstr\u001b[0m\u001b[0;34m,\u001b[0m \u001b[0mos\u001b[0m\u001b[0;34m.\u001b[0m\u001b[0mPathLike\u001b[0m\u001b[0;34m[\u001b[0m\u001b[0mstr\u001b[0m\u001b[0;34m]\u001b[0m\u001b[0;34m]\u001b[0m\u001b[0;34m,\u001b[0m \u001b[0mmode\u001b[0m\u001b[0;34m:\u001b[0m \u001b[0mstr\u001b[0m\u001b[0;34m)\u001b[0m \u001b[0;34m->\u001b[0m \u001b[0;32mNone\u001b[0m\u001b[0;34m:\u001b[0m\u001b[0;34m\u001b[0m\u001b[0;34m\u001b[0m\u001b[0m\n\u001b[0;32m--> 740\u001b[0;31m         \u001b[0msuper\u001b[0m\u001b[0;34m(\u001b[0m\u001b[0;34m)\u001b[0m\u001b[0;34m.\u001b[0m\u001b[0m__init__\u001b[0m\u001b[0;34m(\u001b[0m\u001b[0mopen\u001b[0m\u001b[0;34m(\u001b[0m\u001b[0mname\u001b[0m\u001b[0;34m,\u001b[0m \u001b[0mmode\u001b[0m\u001b[0;34m)\u001b[0m\u001b[0;34m)\u001b[0m\u001b[0;34m\u001b[0m\u001b[0;34m\u001b[0m\u001b[0m\n\u001b[0m\u001b[1;32m    741\u001b[0m \u001b[0;34m\u001b[0m\u001b[0m\n\u001b[1;32m    742\u001b[0m     \u001b[0;32mdef\u001b[0m \u001b[0m__exit__\u001b[0m\u001b[0;34m(\u001b[0m\u001b[0mself\u001b[0m\u001b[0;34m,\u001b[0m \u001b[0;34m*\u001b[0m\u001b[0margs\u001b[0m\u001b[0;34m)\u001b[0m\u001b[0;34m:\u001b[0m\u001b[0;34m\u001b[0m\u001b[0;34m\u001b[0m\u001b[0m\n",
            "\u001b[0;31mFileNotFoundError\u001b[0m: [Errno 2] No such file or directory: '/content/cdvae/HYDRA_JOBS/singlerun/2025-05-21/supercon_test02/eval_recon.pt'"
          ]
        }
      ]
    },
    {
      "cell_type": "code",
      "source": [
        "num_atoms = x[\"num_atoms\"]\n",
        "atom_types = x[\"atom_types\"]\n",
        "frac_coords = x[\"frac_coords\"]\n",
        "lengths = x[\"lengths\"]\n",
        "angles = x[\"angles\"]\n",
        "index_list = torch.cumsum(num_atoms[0], dim=0).numpy().tolist()\n",
        "indice_tuples = []\n",
        "for i, ii in enumerate(index_list):\n",
        "    if i == 0:\n",
        "        tup = [0, index_list[i] - 1]\n",
        "    else:\n",
        "        tup = [index_list[i - 1] - 1, index_list[i] - 1]\n",
        "    indice_tuples.append(tup)\n",
        "\n",
        "recon_structures = []\n",
        "\n",
        "for id_needed in range(num_atoms.shape[1]):\n",
        "    id_fracs = frac_coords[0].numpy()[\n",
        "        indice_tuples[id_needed][0] : indice_tuples[id_needed][1]\n",
        "    ]\n",
        "    id_atom_types = atom_types[0].numpy()[\n",
        "        indice_tuples[id_needed][0] : indice_tuples[id_needed][1]\n",
        "    ]\n",
        "    id_lengths = lengths[0].numpy()[id_needed]\n",
        "    id_angles = angles[0].numpy()[id_needed]\n",
        "    lat = Lattice.from_parameters(\n",
        "        id_lengths[0],\n",
        "        id_lengths[1],\n",
        "        id_lengths[2],\n",
        "        id_angles[0],\n",
        "        id_angles[1],\n",
        "        id_angles[2],\n",
        "    ).matrix\n",
        "    atoms = Atoms(\n",
        "        lattice_mat=lat,\n",
        "        elements=atomic_numbers_to_symbols(id_atom_types),\n",
        "        coords=id_fracs,\n",
        "        cartesian=False,\n",
        "    )\n",
        "    # spg_numb = Spacegroup3D(atoms).space_group_number\n",
        "    # spg_numbs.append(spg_numb)\n",
        "\n",
        "    # print()\n",
        "    # print()\n",
        "    # print()\n",
        "    # print(\"jarvis\\n\", atoms)\n",
        "    # struct = Structure(\n",
        "    #    lattice=Lat.from_parameters(\n",
        "    #        id_lengths[0],\n",
        "    #        id_lengths[1],\n",
        "    #        id_lengths[2],\n",
        "    #        id_angles[0],\n",
        "    #        id_angles[1],\n",
        "    #        id_angles[2],\n",
        "    #    ),\n",
        "    #    species=id_atom_types,\n",
        "    #    coords=id_fracs,\n",
        "    #    coords_are_cartesian=False,\n",
        "    # )\n",
        "    # atoms = pmg_to_atoms(struct)\n",
        "    # print(\"pmg\\n\", atoms)\n",
        "    # print()\n",
        "    # print()\n",
        "    # print()\n",
        "\n",
        "    # gen_structures.append(atoms.to_dict())\n",
        "    recon_structures.append(atoms)\n"
      ],
      "metadata": {
        "id": "A0hquVe1iZ48"
      },
      "execution_count": null,
      "outputs": []
    },
    {
      "cell_type": "code",
      "source": [
        "test_structures=[]\n",
        "jids = []\n",
        "for i,ii in df.iterrows():\n",
        "  atoms=pmg_to_atoms(Structure.from_str(ii['cif'],fmt='cif'))\n",
        "  test_structures.append(atoms)#.to_dict())\n",
        "  jids.append(ii['material_id'])"
      ],
      "metadata": {
        "id": "ZwlktJc8iZzp"
      },
      "execution_count": null,
      "outputs": []
    },
    {
      "cell_type": "code",
      "source": [
        "df"
      ],
      "metadata": {
        "id": "UeDfhzkjsoPt"
      },
      "execution_count": null,
      "outputs": []
    },
    {
      "cell_type": "markdown",
      "source": [
        "Uploading to JARVIS-Leaderboard."
      ],
      "metadata": {
        "id": "DTJ7Pcbt7sMA"
      }
    },
    {
      "cell_type": "code",
      "source": [
        "from jarvis.io.vasp.inputs import Poscar\n",
        "import json\n",
        "f=open('AI-AtomGen-Tc_supercon-dft_3d-test-rmse.csv','w')\n",
        "line='id,target,prediction\\n'\n",
        "f.write(line)\n",
        "for i,j,k in zip(test_structures,recon_structures,jids):\n",
        "  print(k,i.composition.reduced_formula,j.composition.reduced_formula)\n",
        "  line = k+\",\"+Poscar(i).to_string().replace('\\n','\\\\n')+\",\"+Poscar(j).to_string().replace('\\n','\\\\n')+\"\\n\"\n",
        "  #line = k+\",\"+json.dumps(i.to_dict())+\",\"+json.dumps(j.to_dict())+\"\\n\"\n",
        "  f.write(line)\n",
        "f.close()\n",
        "#zip file before uploading to JARVIS-Leadrboard"
      ],
      "metadata": {
        "id": "snvhFW2_k_Do"
      },
      "execution_count": null,
      "outputs": []
    },
    {
      "cell_type": "code",
      "source": [
        "dfx = pd.read_csv('AI-AtomGen-Tc_supercon-dft_3d-test-rmse.csv')"
      ],
      "metadata": {
        "id": "Ecotexvfvogo"
      },
      "execution_count": null,
      "outputs": []
    },
    {
      "cell_type": "code",
      "source": [
        "import pandas as pd\n",
        "info = {}\n",
        "test_path = pd.read_csv(\"/content/cdvae/data/supercon/test.csv\")\n",
        "val_path = pd.read_csv(\"/content/cdvae/data/supercon/val.csv\")\n",
        "train_path = pd.read_csv(\"/content/cdvae/data/supercon/train.csv\")\n",
        "test={}\n",
        "val={}\n",
        "train={}\n",
        "\n",
        "for i,ii in train_path.iterrows():\n",
        "  atoms=pmg_to_atoms(Structure.from_str(ii['cif'],fmt='cif'))\n",
        "  pos = Poscar(atoms).to_string().replace('\\n','\\\\n')\n",
        "  jid=ii['material_id']\n",
        "  train[jid]=pos\n",
        "\n",
        "for i,ii in val_path.iterrows():\n",
        "  atoms=pmg_to_atoms(Structure.from_str(ii['cif'],fmt='cif'))\n",
        "  pos = Poscar(atoms).to_string().replace('\\n','\\\\n')\n",
        "  jid=ii['material_id']\n",
        "  val[jid]=pos\n",
        "\n",
        "for i,ii in test_path.iterrows():\n",
        "  atoms=pmg_to_atoms(Structure.from_str(ii['cif'],fmt='cif'))\n",
        "  pos = Poscar(atoms).to_string().replace('\\n','\\\\n')\n",
        "  jid=ii['material_id']\n",
        "  test[jid]=pos\n",
        "info['train']=train\n",
        "info['val']=val\n",
        "info['test']=test"
      ],
      "metadata": {
        "id": "udmtjG37vuwM"
      },
      "execution_count": null,
      "outputs": []
    },
    {
      "cell_type": "code",
      "source": [
        "from jarvis.db.jsonutils import dumpjson\n",
        "dumpjson(data=info,filename='dft_3d_Tc_supercon.json')"
      ],
      "metadata": {
        "id": "USOQ2R5yyXb8"
      },
      "execution_count": null,
      "outputs": []
    },
    {
      "cell_type": "code",
      "source": [
        "test_path"
      ],
      "metadata": {
        "id": "cxztaSkgvutn"
      },
      "execution_count": null,
      "outputs": []
    },
    {
      "cell_type": "code",
      "source": [
        "!cp scripts/compute_metrics.py scripts/eval_utils.py ."
      ],
      "metadata": {
        "id": "sGmtfjbzlxAo"
      },
      "execution_count": null,
      "outputs": []
    },
    {
      "cell_type": "code",
      "source": [
        "!ls"
      ],
      "metadata": {
        "id": "it1KMtkeoQLY"
      },
      "execution_count": null,
      "outputs": []
    },
    {
      "cell_type": "code",
      "source": [
        "import numpy as np\n",
        "from pymatgen.analysis.structure_matcher import StructureMatcher\n",
        "import pandas as pd\n",
        "from jarvis.io.vasp.inputs import Poscar\n",
        "from tqdm import tqdm\n",
        "df=pd.read_csv('AI-AtomGen-Tc_supercon-dft_3d-test-rmse.csv')\n",
        "\n",
        "matcher = StructureMatcher(stol=0.5, angle_tol=10, ltol=0.3)\n",
        "rms = []\n",
        "for m, mm in tqdm(df.iterrows()):\n",
        "    try:\n",
        "        atoms_target = (\n",
        "            Poscar.from_string(\n",
        "                (mm[\"target\"].replace(\"\\\\n\", \"\\n\"))\n",
        "            ).atoms\n",
        "        ).pymatgen_converter()\n",
        "        atoms_pred = (\n",
        "            Poscar.from_string(\n",
        "                (mm[\"prediction\"].replace(\"\\\\n\", \"\\n\"))\n",
        "            ).atoms\n",
        "        ).pymatgen_converter()\n",
        "        # rms_dist = matcher.get_rms_dist(atoms_pred,atoms_target)\n",
        "        rms_dist = matcher.get_rms_anonymous(atoms_pred, atoms_target)\n",
        "        if rms_dist[0] is not None:\n",
        "            rms.append(rms_dist[0])\n",
        "    except Exception as exp:\n",
        "        print(\"exp\", exp)\n",
        "        pass\n",
        "rms = round(np.array(rms).mean(), 4)\n",
        "print('rms', rms)"
      ],
      "metadata": {
        "id": "CETrj8JEDcbZ"
      },
      "execution_count": null,
      "outputs": []
    },
    {
      "cell_type": "code",
      "source": [
        "!conda env export"
      ],
      "metadata": {
        "id": "CPMktdkmDxDM"
      },
      "execution_count": null,
      "outputs": []
    },
    {
      "cell_type": "code",
      "source": [
        "!pip install matminer==0.9.0"
      ],
      "metadata": {
        "id": "1NcKy004DI6D"
      },
      "execution_count": null,
      "outputs": []
    },
    {
      "cell_type": "code",
      "source": [
        "!rm -rf /usr/local/lib/python3.10/dist-packages/pandas*\n",
        "!pip uninstall pandas -y\n",
        "!pip install pandas==1.5.3"
      ],
      "metadata": {
        "id": "PBVo5ZhGFWtX"
      },
      "execution_count": null,
      "outputs": []
    },
    {
      "cell_type": "code",
      "source": [],
      "metadata": {
        "id": "vLpnx4cWGDV8"
      },
      "execution_count": null,
      "outputs": []
    },
    {
      "cell_type": "code",
      "source": [
        "from p_tqdm import p_map\n",
        "from compute_metrics import GenEval,get_crystal_array_list,Crystal, RecEval\n",
        "crys_array_list, true_crystal_array_list = get_crystal_array_list(recon_path)\n",
        "pred_crys = p_map(lambda x: Crystal(x), crys_array_list)\n",
        "gt_crys = p_map(lambda x: Crystal(x), true_crystal_array_list)\n",
        "rec_evaluator = RecEval(pred_crys, gt_crys)\n",
        "recon_metrics = rec_evaluator.get_metrics()\n",
        "\n",
        "\n",
        "crys_array_list, _ = get_crystal_array_list(gen_path)\n",
        "gen_crys = p_map(lambda x: Crystal(x), crys_array_list)\n",
        "gen_evaluator = GenEval(gen_crys, gt_crys, eval_model_name='carbon')\n",
        "gen_metrics = gen_evaluator.get_metrics()\n",
        "print(recon_metrics)"
      ],
      "metadata": {
        "id": "lDUAGQzUoZyu"
      },
      "execution_count": null,
      "outputs": []
    },
    {
      "cell_type": "code",
      "source": [
        "print(recon_metrics)"
      ],
      "metadata": {
        "id": "oGHMVpr6pzH6"
      },
      "execution_count": null,
      "outputs": []
    },
    {
      "cell_type": "code",
      "source": [
        "print(gen_metrics)"
      ],
      "metadata": {
        "id": "C6dziFEvrwul"
      },
      "execution_count": null,
      "outputs": []
    },
    {
      "cell_type": "code",
      "source": [
        "pip install alignn"
      ],
      "metadata": {
        "id": "7rGZH4jaBzQn"
      },
      "execution_count": null,
      "outputs": []
    },
    {
      "cell_type": "code",
      "source": [
        "from alignn.pretrained import get_multiple_predictions\n"
      ],
      "metadata": {
        "id": "4iszQWlXDChd"
      },
      "execution_count": null,
      "outputs": []
    },
    {
      "cell_type": "code",
      "source": [
        "atoms"
      ],
      "metadata": {
        "id": "nIoaG5ShDbLz"
      },
      "execution_count": null,
      "outputs": []
    },
    {
      "cell_type": "code",
      "source": [
        "atoms.write_poscar('POSCAR')"
      ],
      "metadata": {
        "id": "QLAX6MJLDdV2"
      },
      "execution_count": null,
      "outputs": []
    },
    {
      "cell_type": "markdown",
      "source": [
        "Quickly predict Tc and other properties"
      ],
      "metadata": {
        "id": "p_i25oYqEBYA"
      }
    },
    {
      "cell_type": "code",
      "source": [
        "!pretrained.py --model_name jv_supercon_tc_alignn --file_format poscar --file_path POSCAR"
      ],
      "metadata": {
        "id": "UHvXyMd3DflS"
      },
      "execution_count": null,
      "outputs": []
    },
    {
      "cell_type": "code",
      "source": [
        "!pretrained.py --model_name jv_supercon_debye_alignn --file_format poscar --file_path POSCAR"
      ],
      "metadata": {
        "id": "GKH-kXC9D4U4"
      },
      "execution_count": null,
      "outputs": []
    },
    {
      "cell_type": "code",
      "source": [
        "!pretrained.py --model_name jv_supercon_edos_alignn --file_format poscar --file_path POSCAR"
      ],
      "metadata": {
        "id": "XlgG8TH7EYQu"
      },
      "execution_count": null,
      "outputs": []
    },
    {
      "cell_type": "code",
      "source": [
        "!pretrained.py --model_name jv_supercon_a2F_alignn --file_format poscar --file_path POSCAR"
      ],
      "metadata": {
        "id": "-WvQd5KvEpjq"
      },
      "execution_count": null,
      "outputs": []
    },
    {
      "cell_type": "code",
      "source": [
        "!pretrained.py --model_name jv_formation_energy_peratom_alignn --file_format poscar --file_path POSCAR"
      ],
      "metadata": {
        "id": "fPFxPdY0E0nB"
      },
      "execution_count": null,
      "outputs": []
    },
    {
      "cell_type": "code",
      "source": [
        "!pip freeze"
      ],
      "metadata": {
        "id": "VVzVdM_oUvmQ"
      },
      "execution_count": null,
      "outputs": []
    },
    {
      "cell_type": "code",
      "source": [],
      "metadata": {
        "id": "dMyyolzPUvg6"
      },
      "execution_count": null,
      "outputs": []
    },
    {
      "cell_type": "code",
      "source": [],
      "metadata": {
        "id": "98C-OOOAUveY"
      },
      "execution_count": null,
      "outputs": []
    },
    {
      "cell_type": "code",
      "source": [],
      "metadata": {
        "id": "4F-vdHwkUWu5"
      },
      "execution_count": null,
      "outputs": []
    },
    {
      "cell_type": "code",
      "source": [],
      "metadata": {
        "id": "urExUCmlUWs6"
      },
      "execution_count": null,
      "outputs": []
    },
    {
      "cell_type": "code",
      "source": [],
      "metadata": {
        "id": "YoiDirEuUWqO"
      },
      "execution_count": null,
      "outputs": []
    }
  ]
}