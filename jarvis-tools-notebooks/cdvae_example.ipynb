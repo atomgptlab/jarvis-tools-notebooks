{
  "nbformat": 4,
  "nbformat_minor": 0,
  "metadata": {
    "colab": {
      "provenance": [],
      "gpuType": "T4",
      "authorship_tag": "ABX9TyMABS7/HQ9YyzGBgtm71HCH",
      "include_colab_link": true
    },
    "kernelspec": {
      "name": "python3",
      "display_name": "Python 3"
    },
    "language_info": {
      "name": "python"
    }
  },
  "cells": [
    {
      "cell_type": "markdown",
      "metadata": {
        "id": "view-in-github",
        "colab_type": "text"
      },
      "source": [
        "<a href=\"https://colab.research.google.com/github/knc6/jarvis-tools-notebooks/blob/master/jarvis-tools-notebooks/cdvae_example.ipynb\" target=\"_parent\"><img src=\"https://colab.research.google.com/assets/colab-badge.svg\" alt=\"Open In Colab\"/></a>"
      ]
    },
    {
      "cell_type": "markdown",
      "source": [
        "Inverse Design of Next-Generation Superconductors Using Data-Driven Deep Generative Models\n",
        "\n",
        "Reference: https://pubs.acs.org/doi/10.1021/acs.jpclett.3c01260"
      ],
      "metadata": {
        "id": "Rk45Zr9qZPGl"
      }
    },
    {
      "cell_type": "markdown",
      "source": [
        "Author: Kamal Choudhary (kamal.choudhary@nist.gov)"
      ],
      "metadata": {
        "id": "0aMENRlqpc4a"
      }
    },
    {
      "cell_type": "code",
      "source": [
        "# !pip install -q condacolab\n",
        "# import condacolab\n",
        "# condacolab.install()"
      ],
      "metadata": {
        "id": "b8CZGRlH2mNT"
      },
      "execution_count": null,
      "outputs": []
    },
    {
      "cell_type": "code",
      "source": [
        "# !conda --version"
      ],
      "metadata": {
        "id": "Pe0WYKBs3NST"
      },
      "execution_count": null,
      "outputs": []
    },
    {
      "cell_type": "code",
      "source": [
        "# import condacolab\n",
        "# condacolab.check()"
      ],
      "metadata": {
        "id": "K6T-jNzf3N47"
      },
      "execution_count": null,
      "outputs": []
    },
    {
      "cell_type": "code",
      "source": [
        "%%time\n",
        "# Install required packages.\n",
        "import os\n",
        "import torch\n",
        "os.environ['TORCH'] = torch.__version__\n",
        "print(torch.__version__)\n",
        "!pip install uv\n",
        "!uv pip install -q torch-scatter -f https://data.pyg.org/whl/torch-${TORCH}.html\n",
        "!uv pip install -q torch-sparse -f https://data.pyg.org/whl/torch-${TORCH}.html\n",
        "!uv pip install -q git+https://github.com/pyg-team/pytorch_geometric.git\n",
        "!uv pip install -q pytorch-lightning wandb torchmetrics==0.6.0 pymatgen==2022.4.26\n",
        "!uv pip install -q hydra-core jarvis-tools python-dotenv p-tqdm accelerate\n",
        "!uv pip install -q numpy==1.26.4"
      ],
      "metadata": {
        "colab": {
          "base_uri": "https://localhost:8080/"
        },
        "id": "8JQuTHIOTxO-",
        "outputId": "e29da74a-f5e0-43b6-ae10-38d66ba58622"
      },
      "execution_count": null,
      "outputs": [
        {
          "output_type": "stream",
          "name": "stdout",
          "text": [
            "2.6.0+cu124\n",
            "\u001b[2K     \u001b[90m━━━━━━━━━━━━━━━━━━━━━━━━━━━━━━━━━━━━━━━━\u001b[0m \u001b[32m10.8/10.8 MB\u001b[0m \u001b[31m54.5 MB/s\u001b[0m eta \u001b[36m0:00:00\u001b[0m\n",
            "\u001b[2K     \u001b[90m━━━━━━━━━━━━━━━━━━━━━━━━━━━━━━━━━━━━━━━━\u001b[0m \u001b[32m5.0/5.0 MB\u001b[0m \u001b[31m65.7 MB/s\u001b[0m eta \u001b[36m0:00:00\u001b[0m\n",
            "\u001b[?25h  Installing build dependencies ... \u001b[?25l\u001b[?25hdone\n",
            "  Getting requirements to build wheel ... \u001b[?25l\u001b[?25hdone\n",
            "  Preparing metadata (pyproject.toml) ... \u001b[?25l\u001b[?25hdone\n",
            "  Building wheel for torch-geometric (pyproject.toml) ... \u001b[?25l\u001b[?25hdone\n",
            "\u001b[2K     \u001b[90m━━━━━━━━━━━━━━━━━━━━━━━━━━━━━━━━━━━━━━━━\u001b[0m \u001b[32m2.6/2.6 MB\u001b[0m \u001b[31m6.0 MB/s\u001b[0m eta \u001b[36m0:00:00\u001b[0m\n",
            "\u001b[?25h  Installing build dependencies ... \u001b[?25l\u001b[?25hdone\n",
            "  Getting requirements to build wheel ... \u001b[?25l\u001b[?25hdone\n",
            "  Preparing metadata (pyproject.toml) ... \u001b[?25l\u001b[?25hdone\n",
            "\u001b[33mWARNING: Ignoring version 1.8.3.post2 of pytorch-lightning since it has invalid metadata:\n",
            "Requested pytorch-lightning from https://files.pythonhosted.org/packages/68/73/54dcf2ab4156b9e6db9b050d9806fe49768307457d13f99963db5f227526/pytorch_lightning-1.8.3.post2-py3-none-any.whl has invalid metadata: .* suffix can only be used with `==` or `!=` operators\n",
            "    torch (>=1.9.*)\n",
            "           ~~~~~~^\n",
            "Please use pip<24.1 if you need to use this version.\u001b[0m\u001b[33m\n",
            "\u001b[0m\u001b[33mWARNING: Ignoring version 1.8.3.post1 of pytorch-lightning since it has invalid metadata:\n",
            "Requested pytorch-lightning from https://files.pythonhosted.org/packages/b5/ea/7cb6830785a844eddf45f88b9b14cbf8c3ecce718d4de35503783522f894/pytorch_lightning-1.8.3.post1-py3-none-any.whl has invalid metadata: .* suffix can only be used with `==` or `!=` operators\n",
            "    torch (>=1.9.*)\n",
            "           ~~~~~~^\n",
            "Please use pip<24.1 if you need to use this version.\u001b[0m\u001b[33m\n",
            "\u001b[0m\u001b[33mWARNING: Ignoring version 1.8.3.post0 of pytorch-lightning since it has invalid metadata:\n",
            "Requested pytorch-lightning from https://files.pythonhosted.org/packages/7d/03/a61454e47dc663a3a1719586867f05fc176193e0b978bfe5ea0309314c7b/pytorch_lightning-1.8.3.post0-py3-none-any.whl has invalid metadata: .* suffix can only be used with `==` or `!=` operators\n",
            "    torch (>=1.9.*)\n",
            "           ~~~~~~^\n",
            "Please use pip<24.1 if you need to use this version.\u001b[0m\u001b[33m\n",
            "\u001b[0m\u001b[33mWARNING: Ignoring version 1.8.3 of pytorch-lightning since it has invalid metadata:\n",
            "Requested pytorch-lightning from https://files.pythonhosted.org/packages/ed/29/3ff2f0e4fcf79309f319ac1f8b3d729959b051007e6fe30b3d21b77b54a0/pytorch_lightning-1.8.3-py3-none-any.whl has invalid metadata: .* suffix can only be used with `==` or `!=` operators\n",
            "    torch (>=1.9.*)\n",
            "           ~~~~~~^\n",
            "Please use pip<24.1 if you need to use this version.\u001b[0m\u001b[33m\n",
            "\u001b[0m\u001b[33mWARNING: Ignoring version 1.8.2 of pytorch-lightning since it has invalid metadata:\n",
            "Requested pytorch-lightning from https://files.pythonhosted.org/packages/e3/69/174a4b3e8a9e1b64227e0851d514d8d1e6b1c11584108ac90694b3c9fb4c/pytorch_lightning-1.8.2-py3-none-any.whl has invalid metadata: .* suffix can only be used with `==` or `!=` operators\n",
            "    torch (>=1.9.*)\n",
            "           ~~~~~~^\n",
            "Please use pip<24.1 if you need to use this version.\u001b[0m\u001b[33m\n",
            "\u001b[0m\u001b[33mWARNING: Ignoring version 1.8.1 of pytorch-lightning since it has invalid metadata:\n",
            "Requested pytorch-lightning from https://files.pythonhosted.org/packages/54/8f/ff9e74724d1c203e8f1efe4b763ef941a68672eaeae9512391a5d3125cae/pytorch_lightning-1.8.1-py3-none-any.whl has invalid metadata: .* suffix can only be used with `==` or `!=` operators\n",
            "    torch (>=1.9.*)\n",
            "           ~~~~~~^\n",
            "Please use pip<24.1 if you need to use this version.\u001b[0m\u001b[33m\n",
            "\u001b[0m\u001b[33mWARNING: Ignoring version 1.8.0.post1 of pytorch-lightning since it has invalid metadata:\n",
            "Requested pytorch-lightning from https://files.pythonhosted.org/packages/a6/95/201a7d10411150f612a597e6fa075c2dbe09a8cc6c5da8850f80e778f6d2/pytorch_lightning-1.8.0.post1-py3-none-any.whl has invalid metadata: .* suffix can only be used with `==` or `!=` operators\n",
            "    torch (>=1.9.*)\n",
            "           ~~~~~~^\n",
            "Please use pip<24.1 if you need to use this version.\u001b[0m\u001b[33m\n",
            "\u001b[0m\u001b[33mWARNING: Ignoring version 1.8.0 of pytorch-lightning since it has invalid metadata:\n",
            "Requested pytorch-lightning from https://files.pythonhosted.org/packages/5c/6d/4719a089c57d55800ab820b4f157a354cc6f5db0d10356d53038150fd7b3/pytorch_lightning-1.8.0-py3-none-any.whl has invalid metadata: .* suffix can only be used with `==` or `!=` operators\n",
            "    torch (>=1.9.*)\n",
            "           ~~~~~~^\n",
            "Please use pip<24.1 if you need to use this version.\u001b[0m\u001b[33m\n",
            "\u001b[0m\u001b[33mWARNING: Ignoring version 1.7.7 of pytorch-lightning since it has invalid metadata:\n",
            "Requested pytorch-lightning from https://files.pythonhosted.org/packages/00/eb/3b2152f9c3a50d265f3e75529254228ace8a86e9a4397f3004f1e3be7825/pytorch_lightning-1.7.7-py3-none-any.whl has invalid metadata: .* suffix can only be used with `==` or `!=` operators\n",
            "    torch (>=1.9.*)\n",
            "           ~~~~~~^\n",
            "Please use pip<24.1 if you need to use this version.\u001b[0m\u001b[33m\n",
            "\u001b[0m\u001b[33mWARNING: Ignoring version 1.7.6 of pytorch-lightning since it has invalid metadata:\n",
            "Requested pytorch-lightning from https://files.pythonhosted.org/packages/f2/22/37c64bd5b426297c71ecbb01ec2d340f013556a973a2cd6cd0aa68cda1ab/pytorch_lightning-1.7.6-py3-none-any.whl has invalid metadata: .* suffix can only be used with `==` or `!=` operators\n",
            "    torch (>=1.9.*)\n",
            "           ~~~~~~^\n",
            "Please use pip<24.1 if you need to use this version.\u001b[0m\u001b[33m\n",
            "\u001b[0m\u001b[33mWARNING: Ignoring version 1.7.5 of pytorch-lightning since it has invalid metadata:\n",
            "Requested pytorch-lightning from https://files.pythonhosted.org/packages/d5/9a/de6c20adf8d2a82b322dbe4d7b59266006bc28f53e67d634ecced1eac6c2/pytorch_lightning-1.7.5-py3-none-any.whl has invalid metadata: .* suffix can only be used with `==` or `!=` operators\n",
            "    torch (>=1.9.*)\n",
            "           ~~~~~~^\n",
            "Please use pip<24.1 if you need to use this version.\u001b[0m\u001b[33m\n",
            "\u001b[0m\u001b[33mWARNING: Ignoring version 1.7.4 of pytorch-lightning since it has invalid metadata:\n",
            "Requested pytorch-lightning from https://files.pythonhosted.org/packages/00/81/40691de5585926a5fe08ee6cac78ae219837948c9dd44a5680221ad9dd4a/pytorch_lightning-1.7.4-py3-none-any.whl has invalid metadata: .* suffix can only be used with `==` or `!=` operators\n",
            "    torch (>=1.9.*)\n",
            "           ~~~~~~^\n",
            "Please use pip<24.1 if you need to use this version.\u001b[0m\u001b[33m\n",
            "\u001b[0m\u001b[33mWARNING: Ignoring version 1.7.3 of pytorch-lightning since it has invalid metadata:\n",
            "Requested pytorch-lightning from https://files.pythonhosted.org/packages/00/df/6a62b9e0d0ccf2be3e20d8735f63596ff06b8db8f4f4d043d3d8874c1572/pytorch_lightning-1.7.3-py3-none-any.whl has invalid metadata: .* suffix can only be used with `==` or `!=` operators\n",
            "    torch (>=1.9.*)\n",
            "           ~~~~~~^\n",
            "Please use pip<24.1 if you need to use this version.\u001b[0m\u001b[33m\n",
            "\u001b[0m\u001b[33mWARNING: Ignoring version 1.7.2 of pytorch-lightning since it has invalid metadata:\n",
            "Requested pytorch-lightning from https://files.pythonhosted.org/packages/a1/37/40a0ade0d4bf9abcdae109ec6f306be0e5a8d5d19ae8adce811cbcacedce/pytorch_lightning-1.7.2-py3-none-any.whl has invalid metadata: .* suffix can only be used with `==` or `!=` operators\n",
            "    torch (>=1.9.*)\n",
            "           ~~~~~~^\n",
            "Please use pip<24.1 if you need to use this version.\u001b[0m\u001b[33m\n",
            "\u001b[0m\u001b[33mWARNING: Ignoring version 1.7.1 of pytorch-lightning since it has invalid metadata:\n",
            "Requested pytorch-lightning from https://files.pythonhosted.org/packages/e4/6f/45345dd52cd24b31dc86d1b0695e2f87dbcf19ec7db8163c18850a1cf7af/pytorch_lightning-1.7.1-py3-none-any.whl has invalid metadata: .* suffix can only be used with `==` or `!=` operators\n",
            "    torch (>=1.9.*)\n",
            "           ~~~~~~^\n",
            "Please use pip<24.1 if you need to use this version.\u001b[0m\u001b[33m\n",
            "\u001b[0m\u001b[33mWARNING: Ignoring version 1.7.0 of pytorch-lightning since it has invalid metadata:\n",
            "Requested pytorch-lightning from https://files.pythonhosted.org/packages/2f/07/57fd85991eec4311b9945369158bca1322f801686d701322a65789852d46/pytorch_lightning-1.7.0-py3-none-any.whl has invalid metadata: .* suffix can only be used with `==` or `!=` operators\n",
            "    torch (>=1.9.*)\n",
            "           ~~~~~~^\n",
            "Please use pip<24.1 if you need to use this version.\u001b[0m\u001b[33m\n",
            "\u001b[2K   \u001b[90m━━━━━━━━━━━━━━━━━━━━━━━━━━━━━━━━━━━━━━━━\u001b[0m \u001b[32m329.4/329.4 kB\u001b[0m \u001b[31m20.4 MB/s\u001b[0m eta \u001b[36m0:00:00\u001b[0m\n",
            "\u001b[2K   \u001b[90m━━━━━━━━━━━━━━━━━━━━━━━━━━━━━━━━━━━━━━━━\u001b[0m \u001b[32m585.9/585.9 kB\u001b[0m \u001b[31m31.6 MB/s\u001b[0m eta \u001b[36m0:00:00\u001b[0m\n",
            "\u001b[2K   \u001b[90m━━━━━━━━━━━━━━━━━━━━━━━━━━━━━━━━━━━━━━━━\u001b[0m \u001b[32m51.9/51.9 kB\u001b[0m \u001b[31m3.6 MB/s\u001b[0m eta \u001b[36m0:00:00\u001b[0m\n",
            "\u001b[2K   \u001b[90m━━━━━━━━━━━━━━━━━━━━━━━━━━━━━━━━━━━━━━━━\u001b[0m \u001b[32m332.3/332.3 kB\u001b[0m \u001b[31m19.1 MB/s\u001b[0m eta \u001b[36m0:00:00\u001b[0m\n",
            "\u001b[2K   \u001b[90m━━━━━━━━━━━━━━━━━━━━━━━━━━━━━━━━━━━━━━━━\u001b[0m \u001b[32m162.1/162.1 kB\u001b[0m \u001b[31m11.3 MB/s\u001b[0m eta \u001b[36m0:00:00\u001b[0m\n",
            "\u001b[2K   \u001b[90m━━━━━━━━━━━━━━━━━━━━━━━━━━━━━━━━━━━━━━━━\u001b[0m \u001b[32m117.7/117.7 kB\u001b[0m \u001b[31m7.6 MB/s\u001b[0m eta \u001b[36m0:00:00\u001b[0m\n",
            "\u001b[2K   \u001b[90m━━━━━━━━━━━━━━━━━━━━━━━━━━━━━━━━━━━━━━━━\u001b[0m \u001b[32m809.0/809.0 kB\u001b[0m \u001b[31m42.8 MB/s\u001b[0m eta \u001b[36m0:00:00\u001b[0m\n",
            "\u001b[2K   \u001b[90m━━━━━━━━━━━━━━━━━━━━━━━━━━━━━━━━━━━━━━━━\u001b[0m \u001b[32m363.4/363.4 MB\u001b[0m \u001b[31m4.3 MB/s\u001b[0m eta \u001b[36m0:00:00\u001b[0m\n",
            "\u001b[2K   \u001b[90m━━━━━━━━━━━━━━━━━━━━━━━━━━━━━━━━━━━━━━━━\u001b[0m \u001b[32m13.8/13.8 MB\u001b[0m \u001b[31m58.9 MB/s\u001b[0m eta \u001b[36m0:00:00\u001b[0m\n",
            "\u001b[2K   \u001b[90m━━━━━━━━━━━━━━━━━━━━━━━━━━━━━━━━━━━━━━━━\u001b[0m \u001b[32m24.6/24.6 MB\u001b[0m \u001b[31m35.1 MB/s\u001b[0m eta \u001b[36m0:00:00\u001b[0m\n",
            "\u001b[2K   \u001b[90m━━━━━━━━━━━━━━━━━━━━━━━━━━━━━━━━━━━━━━━━\u001b[0m \u001b[32m883.7/883.7 kB\u001b[0m \u001b[31m41.6 MB/s\u001b[0m eta \u001b[36m0:00:00\u001b[0m\n",
            "\u001b[2K   \u001b[90m━━━━━━━━━━━━━━━━━━━━━━━━━━━━━━━━━━━━━━━━\u001b[0m \u001b[32m664.8/664.8 MB\u001b[0m \u001b[31m2.8 MB/s\u001b[0m eta \u001b[36m0:00:00\u001b[0m\n",
            "\u001b[2K   \u001b[90m━━━━━━━━━━━━━━━━━━━━━━━━━━━━━━━━━━━━━━━━\u001b[0m \u001b[32m211.5/211.5 MB\u001b[0m \u001b[31m5.8 MB/s\u001b[0m eta \u001b[36m0:00:00\u001b[0m\n",
            "\u001b[2K   \u001b[90m━━━━━━━━━━━━━━━━━━━━━━━━━━━━━━━━━━━━━━━━\u001b[0m \u001b[32m56.3/56.3 MB\u001b[0m \u001b[31m12.4 MB/s\u001b[0m eta \u001b[36m0:00:00\u001b[0m\n",
            "\u001b[2K   \u001b[90m━━━━━━━━━━━━━━━━━━━━━━━━━━━━━━━━━━━━━━━━\u001b[0m \u001b[32m127.9/127.9 MB\u001b[0m \u001b[31m7.3 MB/s\u001b[0m eta \u001b[36m0:00:00\u001b[0m\n",
            "\u001b[2K   \u001b[90m━━━━━━━━━━━━━━━━━━━━━━━━━━━━━━━━━━━━━━━━\u001b[0m \u001b[32m207.5/207.5 MB\u001b[0m \u001b[31m5.7 MB/s\u001b[0m eta \u001b[36m0:00:00\u001b[0m\n",
            "\u001b[2K   \u001b[90m━━━━━━━━━━━━━━━━━━━━━━━━━━━━━━━━━━━━━━━━\u001b[0m \u001b[32m21.1/21.1 MB\u001b[0m \u001b[31m77.2 MB/s\u001b[0m eta \u001b[36m0:00:00\u001b[0m\n",
            "\u001b[2K   \u001b[90m━━━━━━━━━━━━━━━━━━━━━━━━━━━━━━━━━━━━━━━━\u001b[0m \u001b[32m60.1/60.1 kB\u001b[0m \u001b[31m4.8 MB/s\u001b[0m eta \u001b[36m0:00:00\u001b[0m\n",
            "\u001b[2K   \u001b[90m━━━━━━━━━━━━━━━━━━━━━━━━━━━━━━━━━━━━━━━━\u001b[0m \u001b[32m561.4/561.4 kB\u001b[0m \u001b[31m33.2 MB/s\u001b[0m eta \u001b[36m0:00:00\u001b[0m\n",
            "\u001b[2K   \u001b[90m━━━━━━━━━━━━━━━━━━━━━━━━━━━━━━━━━━━━━━━━\u001b[0m \u001b[32m739.1/739.1 kB\u001b[0m \u001b[31m42.2 MB/s\u001b[0m eta \u001b[36m0:00:00\u001b[0m\n",
            "\u001b[?25h  Building wheel for pymatgen (pyproject.toml) ... \u001b[?25l\u001b[?25hdone\n",
            "\u001b[31mERROR: pip's dependency resolver does not currently take into account all the packages that are installed. This behaviour is the source of the following dependency conflicts.\n",
            "tensorflow-metadata 1.17.1 requires protobuf<6.0.0,>=4.25.2; python_version >= \"3.11\", but you have protobuf 3.20.1 which is incompatible.\n",
            "google-cloud-spanner 3.54.0 requires protobuf!=4.21.0,!=4.21.1,!=4.21.2,!=4.21.3,!=4.21.4,!=4.21.5,<7.0.0,>=3.20.2, but you have protobuf 3.20.1 which is incompatible.\n",
            "tensorflow 2.18.0 requires protobuf!=4.21.0,!=4.21.1,!=4.21.2,!=4.21.3,!=4.21.4,!=4.21.5,<6.0.0dev,>=3.20.3, but you have protobuf 3.20.1 which is incompatible.\n",
            "google-ai-generativelanguage 0.6.15 requires protobuf!=4.21.0,!=4.21.1,!=4.21.2,!=4.21.3,!=4.21.4,!=4.21.5,<6.0.0dev,>=3.20.2, but you have protobuf 3.20.1 which is incompatible.\n",
            "google-cloud-resource-manager 1.14.2 requires protobuf!=4.21.0,!=4.21.1,!=4.21.2,!=4.21.3,!=4.21.4,!=4.21.5,<7.0.0,>=3.20.2, but you have protobuf 3.20.1 which is incompatible.\n",
            "google-cloud-bigquery-storage 2.31.0 requires protobuf!=3.20.0,!=3.20.1,!=4.21.0,!=4.21.1,!=4.21.2,!=4.21.3,!=4.21.4,!=4.21.5,<7.0.0,>=3.20.2, but you have protobuf 3.20.1 which is incompatible.\n",
            "google-cloud-aiplatform 1.92.0 requires protobuf!=4.21.0,!=4.21.1,!=4.21.2,!=4.21.3,!=4.21.4,!=4.21.5,<7.0.0,>=3.20.2, but you have protobuf 3.20.1 which is incompatible.\n",
            "google-cloud-datastore 2.21.0 requires protobuf!=3.20.0,!=3.20.1,!=4.21.0,!=4.21.1,!=4.21.2,!=4.21.3,!=4.21.4,!=4.21.5,<7.0.0,>=3.20.2, but you have protobuf 3.20.1 which is incompatible.\n",
            "google-cloud-bigquery-connection 1.18.2 requires protobuf!=4.21.0,!=4.21.1,!=4.21.2,!=4.21.3,!=4.21.4,!=4.21.5,<7.0.0,>=3.20.2, but you have protobuf 3.20.1 which is incompatible.\n",
            "google-api-core 2.24.2 requires protobuf!=3.20.0,!=3.20.1,!=4.21.0,!=4.21.1,!=4.21.2,!=4.21.3,!=4.21.4,!=4.21.5,<7.0.0,>=3.19.5, but you have protobuf 3.20.1 which is incompatible.\n",
            "googleapis-common-protos 1.70.0 requires protobuf!=4.21.1,!=4.21.2,!=4.21.3,!=4.21.4,!=4.21.5,<7.0.0,>=3.20.2, but you have protobuf 3.20.1 which is incompatible.\n",
            "google-cloud-firestore 2.20.2 requires protobuf!=3.20.0,!=3.20.1,!=4.21.0,!=4.21.1,!=4.21.2,!=4.21.3,!=4.21.4,!=4.21.5,<7.0.0dev,>=3.20.2, but you have protobuf 3.20.1 which is incompatible.\n",
            "google-cloud-translate 3.20.2 requires protobuf!=4.21.0,!=4.21.1,!=4.21.2,!=4.21.3,!=4.21.4,!=4.21.5,<7.0.0,>=3.20.2, but you have protobuf 3.20.1 which is incompatible.\n",
            "ydf 0.11.0 requires protobuf<6.0.0,>=5.29.1, but you have protobuf 3.20.1 which is incompatible.\n",
            "google-cloud-iam 2.19.0 requires protobuf!=4.21.0,!=4.21.1,!=4.21.2,!=4.21.3,!=4.21.4,!=4.21.5,<7.0.0,>=3.20.2, but you have protobuf 3.20.1 which is incompatible.\n",
            "google-cloud-dataproc 5.18.1 requires protobuf!=4.21.0,!=4.21.1,!=4.21.2,!=4.21.3,!=4.21.4,!=4.21.5,<7.0.0,>=3.20.2, but you have protobuf 3.20.1 which is incompatible.\n",
            "google-cloud-language 2.17.1 requires protobuf!=4.21.0,!=4.21.1,!=4.21.2,!=4.21.3,!=4.21.4,!=4.21.5,<7.0.0,>=3.20.2, but you have protobuf 3.20.1 which is incompatible.\n",
            "grpcio-status 1.71.0 requires protobuf<6.0dev,>=5.26.1, but you have protobuf 3.20.1 which is incompatible.\n",
            "google-cloud-functions 1.20.3 requires protobuf!=4.21.0,!=4.21.1,!=4.21.2,!=4.21.3,!=4.21.4,!=4.21.5,<7.0.0,>=3.20.2, but you have protobuf 3.20.1 which is incompatible.\n",
            "grpc-google-iam-v1 0.14.2 requires protobuf!=4.21.1,!=4.21.2,!=4.21.3,!=4.21.4,!=4.21.5,<7.0.0,>=3.20.2, but you have protobuf 3.20.1 which is incompatible.\u001b[0m\u001b[31m\n",
            "\u001b[0m  Preparing metadata (setup.py) ... \u001b[?25l\u001b[?25hdone\n",
            "\u001b[2K   \u001b[90m━━━━━━━━━━━━━━━━━━━━━━━━━━━━━━━━━━━━━━━━\u001b[0m \u001b[32m154.5/154.5 kB\u001b[0m \u001b[31m6.0 MB/s\u001b[0m eta \u001b[36m0:00:00\u001b[0m\n",
            "\u001b[2K   \u001b[90m━━━━━━━━━━━━━━━━━━━━━━━━━━━━━━━━━━━━━━━━\u001b[0m \u001b[32m4.2/4.2 MB\u001b[0m \u001b[31m55.2 MB/s\u001b[0m eta \u001b[36m0:00:00\u001b[0m\n",
            "\u001b[2K   \u001b[90m━━━━━━━━━━━━━━━━━━━━━━━━━━━━━━━━━━━━━━━━\u001b[0m \u001b[32m82.3/82.3 kB\u001b[0m \u001b[31m6.7 MB/s\u001b[0m eta \u001b[36m0:00:00\u001b[0m\n",
            "\u001b[2K   \u001b[90m━━━━━━━━━━━━━━━━━━━━━━━━━━━━━━━━━━━━━━━━\u001b[0m \u001b[32m119.7/119.7 kB\u001b[0m \u001b[31m10.8 MB/s\u001b[0m eta \u001b[36m0:00:00\u001b[0m\n",
            "\u001b[2K   \u001b[90m━━━━━━━━━━━━━━━━━━━━━━━━━━━━━━━━━━━━━━━━\u001b[0m \u001b[32m144.5/144.5 kB\u001b[0m \u001b[31m12.9 MB/s\u001b[0m eta \u001b[36m0:00:00\u001b[0m\n",
            "\u001b[2K   \u001b[90m━━━━━━━━━━━━━━━━━━━━━━━━━━━━━━━━━━━━━━━━\u001b[0m \u001b[32m56.8/56.8 kB\u001b[0m \u001b[31m4.2 MB/s\u001b[0m eta \u001b[36m0:00:00\u001b[0m\n",
            "\u001b[?25h  Building wheel for p-tqdm (setup.py) ... \u001b[?25l\u001b[?25hdone\n",
            "\u001b[31mERROR: pip's dependency resolver does not currently take into account all the packages that are installed. This behaviour is the source of the following dependency conflicts.\n",
            "datasets 2.14.4 requires dill<0.3.8,>=0.3.0, but you have dill 0.4.0 which is incompatible.\u001b[0m\u001b[31m\n",
            "\u001b[2K     \u001b[90m━━━━━━━━━━━━━━━━━━━━━━━━━━━━━━━━━━━━━━━━\u001b[0m \u001b[32m61.0/61.0 kB\u001b[0m \u001b[31m2.3 MB/s\u001b[0m eta \u001b[36m0:00:00\u001b[0m\n",
            "\u001b[2K   \u001b[90m━━━━━━━━━━━━━━━━━━━━━━━━━━━━━━━━━━━━━━━━\u001b[0m \u001b[32m18.3/18.3 MB\u001b[0m \u001b[31m82.0 MB/s\u001b[0m eta \u001b[36m0:00:00\u001b[0m\n",
            "\u001b[?25h\u001b[31mERROR: pip's dependency resolver does not currently take into account all the packages that are installed. This behaviour is the source of the following dependency conflicts.\n",
            "tensorflow 2.18.0 requires protobuf!=4.21.0,!=4.21.1,!=4.21.2,!=4.21.3,!=4.21.4,!=4.21.5,<6.0.0dev,>=3.20.3, but you have protobuf 3.20.1 which is incompatible.\n",
            "google-cloud-aiplatform 1.92.0 requires protobuf!=4.21.0,!=4.21.1,!=4.21.2,!=4.21.3,!=4.21.4,!=4.21.5,<7.0.0,>=3.20.2, but you have protobuf 3.20.1 which is incompatible.\n",
            "ydf 0.11.0 requires protobuf<6.0.0,>=5.29.1, but you have protobuf 3.20.1 which is incompatible.\n",
            "thinc 8.3.6 requires numpy<3.0.0,>=2.0.0, but you have numpy 1.26.4 which is incompatible.\n",
            "datasets 2.14.4 requires dill<0.3.8,>=0.3.0, but you have dill 0.4.0 which is incompatible.\u001b[0m\u001b[31m\n",
            "\u001b[0mCPU times: user 4.04 s, sys: 702 ms, total: 4.74 s\n",
            "Wall time: 3min 23s\n"
          ]
        }
      ]
    },
    {
      "cell_type": "code",
      "source": [
        "# !pip install -q pytorch-lightning==1.3.6"
      ],
      "metadata": {
        "id": "80U3NK51fG_D"
      },
      "execution_count": null,
      "outputs": []
    },
    {
      "cell_type": "code",
      "source": [
        "import os\n",
        "os.chdir('/content')\n",
        "if not os.path.exists('cdvae'):\n",
        "  !git clone https://github.com/JARVIS-Materials-Design/cdvae.git\n",
        "  !git checkout develop\n",
        "\n",
        "os.chdir('cdvae')\n",
        "!uv pip install -e .\n",
        "!uv pip install -q numpy==1.26.4"
      ],
      "metadata": {
        "colab": {
          "base_uri": "https://localhost:8080/"
        },
        "id": "S7n01nvXUWxr",
        "outputId": "e7ca0f9d-d814-43c7-831f-008cc69a71f6"
      },
      "execution_count": null,
      "outputs": [
        {
          "output_type": "stream",
          "name": "stdout",
          "text": [
            "Cloning into 'cdvae'...\n",
            "remote: Enumerating objects: 253, done.\u001b[K\n",
            "remote: Counting objects: 100% (91/91), done.\u001b[K\n",
            "remote: Compressing objects: 100% (53/53), done.\u001b[K\n",
            "remote: Total 253 (delta 47), reused 38 (delta 38), pack-reused 162 (from 1)\u001b[K\n",
            "Receiving objects: 100% (253/253), 146.76 MiB | 15.14 MiB/s, done.\n",
            "Resolving deltas: 100% (89/89), done.\n",
            "Updating files: 100% (99/99), done.\n",
            "Obtaining file:///content/cdvae\n",
            "  Preparing metadata (setup.py) ... \u001b[?25l\u001b[?25hdone\n",
            "Installing collected packages: cdvae\n",
            "  Running setup.py develop for cdvae\n",
            "Successfully installed cdvae-0.0.1\n"
          ]
        }
      ]
    },
    {
      "cell_type": "code",
      "source": [
        "import os\n",
        "os.chdir('/content/cdvae')\n",
        "if not os.path.exists(\"/content/cdvae/WABDB\"):\n",
        "  os.makedirs(\"/content/cdvae/WABDB\")\n",
        "if not os.path.exists(\"/content/cdvae/HYDRA_JOBS\"):\n",
        "  os.makedirs(\"/content/cdvae/HYDRA_JOBS\")\n",
        "os.environ[\"PROJECT_ROOT\"]=\"/content/cdvae\"\n",
        "os.environ[\"WABDB\"]=\"/content/cdvae/WABDB\"\n",
        "os.environ[\"WABDB_DIR\"]=\"/content/cdvae/WABDB\"\n",
        "os.environ[\"HYDRA_JOBS\"]=\"/content/cdvae/HYDRA_JOBS\"\n",
        "%env HYDRA_FULL_ERROR=1\n"
      ],
      "metadata": {
        "colab": {
          "base_uri": "https://localhost:8080/"
        },
        "id": "pR1hZ7vWVKU5",
        "outputId": "6b9d0e0b-1307-433d-b1db-98c907eaf59e"
      },
      "execution_count": null,
      "outputs": [
        {
          "output_type": "stream",
          "name": "stdout",
          "text": [
            "env: HYDRA_FULL_ERROR=1\n"
          ]
        }
      ]
    },
    {
      "cell_type": "code",
      "source": [
        "!echo $HYDRA_FULL_ERROR"
      ],
      "metadata": {
        "colab": {
          "base_uri": "https://localhost:8080/"
        },
        "id": "xazagGi1X8jR",
        "outputId": "f9006a6d-7c4c-4148-d00c-90a272cec6cb"
      },
      "execution_count": null,
      "outputs": [
        {
          "output_type": "stream",
          "name": "stdout",
          "text": [
            "1\n"
          ]
        }
      ]
    },
    {
      "cell_type": "markdown",
      "source": [
        "Data was generated using this [script](https://github.com/JARVIS-Materials-Design/cdvae/blob/main/scripts/generate_data_cdvae.py)."
      ],
      "metadata": {
        "id": "ptuA7Qt9umnB"
      }
    },
    {
      "cell_type": "code",
      "source": [
        "\n",
        "import yaml\n",
        "import pprint\n",
        "\n",
        "with open('/content/cdvae/conf/train/default.yaml','r') as f:\n",
        "  yam = yaml.safe_load(f)\n",
        "#yam.pop('early_stopping')\n",
        "#yam['pl_trainer']['fast_dev_run']=True\n",
        "yam['pl_trainer']['gpus']=0\n",
        "\n",
        "with open('/content/cdvae/conf/train/default.yaml','w') as f:\n",
        "  yaml.dump(yam,f)\n",
        "\n",
        "pprint.pprint(yam)\n",
        "\n",
        "with open('/content/cdvae/conf/optim/default.yaml','r') as f:\n",
        "  yam = yaml.safe_load(f)\n",
        "\n",
        "yam['use_lr_scheduler']=False\n",
        "\n",
        "with open('/content/cdvae/conf/optim/default.yaml','w') as f:\n",
        "  yaml.dump(yam,f)\n",
        "\n",
        "pprint.pprint(yam)"
      ],
      "metadata": {
        "colab": {
          "base_uri": "https://localhost:8080/"
        },
        "id": "YvPs-__Z4HFa",
        "outputId": "6493a1ce-52ad-4811-b0da-44e2864e6446"
      },
      "execution_count": null,
      "outputs": [
        {
          "output_type": "stream",
          "name": "stdout",
          "text": [
            "{'deterministic': False,\n",
            " 'early_stopping': {'patience': '${data.early_stopping_patience}',\n",
            "                    'verbose': False},\n",
            " 'model_checkpoints': {'save_top_k': 1, 'verbose': False},\n",
            " 'monitor_metric': 'val_loss',\n",
            " 'monitor_metric_mode': 'min',\n",
            " 'pl_trainer': {'accumulate_grad_batches': 1,\n",
            "                'fast_dev_run': False,\n",
            "                'gpus': 0,\n",
            "                'gradient_clip_algorithm': 'value',\n",
            "                'gradient_clip_val': 0.5,\n",
            "                'max_epochs': '${data.train_max_epochs}',\n",
            "                'num_sanity_val_steps': 2,\n",
            "                'precision': 32,\n",
            "                'profiler': 'simple'},\n",
            " 'random_seed': 42}\n",
            "{'lr_scheduler': {'_target_': 'torch.optim.lr_scheduler.ReduceLROnPlateau',\n",
            "                  'factor': 0.6,\n",
            "                  'min_lr': '1e-4',\n",
            "                  'patience': 30},\n",
            " 'optimizer': {'_target_': 'torch.optim.Adam',\n",
            "               'betas': [0.9, 0.999],\n",
            "               'eps': '1e-08',\n",
            "               'lr': 0.001,\n",
            "               'weight_decay': 0},\n",
            " 'use_lr_scheduler': False}\n"
          ]
        }
      ]
    },
    {
      "cell_type": "code",
      "source": [
        "# !rm -rf \"/usr/local/lib/python3.11/dist-packages/numpy*\""
      ],
      "metadata": {
        "id": "Nwba_Pjqb_mD"
      },
      "execution_count": null,
      "outputs": []
    },
    {
      "cell_type": "code",
      "source": [
        "# !pip cache purge\n",
        "# !pip uninstall numpy -y\n",
        "# !pip install numpy==1.26.4\n",
        "# !python -c \"import numpy as np; print(np.__version__)\""
      ],
      "metadata": {
        "id": "vbNZNGonaJbM"
      },
      "execution_count": null,
      "outputs": []
    },
    {
      "cell_type": "code",
      "source": [
        "!which python\n",
        "!which pip\n"
      ],
      "metadata": {
        "id": "BQaKwg58-uel",
        "outputId": "2280f46e-d9a5-452e-d83c-9841f4f3348d",
        "colab": {
          "base_uri": "https://localhost:8080/"
        }
      },
      "execution_count": null,
      "outputs": [
        {
          "output_type": "stream",
          "name": "stdout",
          "text": [
            "/usr/local/bin/python\n",
            "/usr/local/bin/pip\n"
          ]
        }
      ]
    },
    {
      "cell_type": "code",
      "source": [
        "# !pip uninstall numpy -y\n",
        "# !pip install numpy==1.26.4 --force-reinstall\n"
      ],
      "metadata": {
        "id": "KmHaPBA7-yKQ"
      },
      "execution_count": null,
      "outputs": []
    },
    {
      "cell_type": "code",
      "source": [
        "import sys\n",
        "print(sys.executable)\n"
      ],
      "metadata": {
        "id": "0Wp0Wb8Y-6Sz",
        "outputId": "028fe36b-a76a-4982-85a4-a055b0017766",
        "colab": {
          "base_uri": "https://localhost:8080/"
        }
      },
      "execution_count": null,
      "outputs": [
        {
          "output_type": "stream",
          "name": "stdout",
          "text": [
            "/usr/bin/python3\n"
          ]
        }
      ]
    },
    {
      "cell_type": "code",
      "source": [
        "import numpy as np\n",
        "print(np.__version__)"
      ],
      "metadata": {
        "id": "oKUdQb90abY2",
        "outputId": "f7639ea3-ffdf-4b3c-b206-00240e1d10d4",
        "colab": {
          "base_uri": "https://localhost:8080/"
        }
      },
      "execution_count": null,
      "outputs": [
        {
          "output_type": "stream",
          "name": "stdout",
          "text": [
            "2.0.2\n"
          ]
        }
      ]
    },
    {
      "cell_type": "code",
      "source": [
        "%%time\n",
        "import os\n",
        "os.environ[\"WANDB_ANONYMOUS\"] = \"must\"\n",
        "!python cdvae/run.py data=supercon expname=supercon_test02 model.predict_property=True"
      ],
      "metadata": {
        "id": "-Lf5xLDOoBEQ",
        "outputId": "f4434c70-258f-4e7d-9a99-208c895ac964",
        "colab": {
          "base_uri": "https://localhost:8080/"
        }
      },
      "execution_count": null,
      "outputs": [
        {
          "output_type": "stream",
          "name": "stdout",
          "text": [
            "2025-05-22 12:26:02.020930: E external/local_xla/xla/stream_executor/cuda/cuda_fft.cc:477] Unable to register cuFFT factory: Attempting to register factory for plugin cuFFT when one has already been registered\n",
            "WARNING: All log messages before absl::InitializeLog() is called are written to STDERR\n",
            "E0000 00:00:1747916762.286816    1384 cuda_dnn.cc:8310] Unable to register cuDNN factory: Attempting to register factory for plugin cuDNN when one has already been registered\n",
            "E0000 00:00:1747916762.355928    1384 cuda_blas.cc:1418] Unable to register cuBLAS factory: Attempting to register factory for plugin cuBLAS when one has already been registered\n",
            "2025-05-22 12:26:02.929005: I tensorflow/core/platform/cpu_feature_guard.cc:210] This TensorFlow binary is optimized to use available CPU instructions in performance-critical operations.\n",
            "To enable the following instructions: AVX2 FMA, in other operations, rebuild TensorFlow with the appropriate compiler flags.\n",
            "/content/cdvae/cdvae/run.py:164: UserWarning: \n",
            "The version_base parameter is not specified.\n",
            "Please specify a compatability version level, or None.\n",
            "Will assume defaults for version 1.1\n",
            "  @hydra.main(config_path=str(PROJECT_ROOT / \"conf\"), config_name=\"default\")\n",
            "/usr/local/lib/python3.11/dist-packages/hydra/_internal/defaults_list.py:251: UserWarning: In 'default': Defaults list is missing `_self_`. See https://hydra.cc/docs/1.2/upgrades/1.0_to_1.1/default_composition_order for more information\n",
            "  warnings.warn(msg, UserWarning)\n",
            "/usr/local/lib/python3.11/dist-packages/hydra/_internal/hydra.py:119: UserWarning: Future Hydra versions will no longer change working directory at job runtime by default.\n",
            "See https://hydra.cc/docs/1.2/upgrades/1.1_to_1.2/changes_to_job_working_dir/ for more information.\n",
            "  ret = run_job(\n",
            "[2025-05-22 12:26:08,964][hydra.utils][INFO] - Instantiating <cdvae.pl_data.datamodule.CrystDataModule>\n",
            "/content/cdvae/cdvae/pl_data/datamodule.py:142: UserWarning: \n",
            "The version_base parameter is not specified.\n",
            "Please specify a compatability version level, or None.\n",
            "Will assume defaults for version 1.1\n",
            "  @hydra.main(config_path=str(PROJECT_ROOT / \"conf\"), config_name=\"default\")\n",
            "/content/cdvae/cdvae/pl_data/dataset.py:126: UserWarning: \n",
            "The version_base parameter is not specified.\n",
            "Please specify a compatability version level, or None.\n",
            "Will assume defaults for version 1.1\n",
            "  @hydra.main(config_path=str(PROJECT_ROOT / \"conf\"), config_name=\"default\")\n",
            "  0% 3/846 [00:00<01:29,  9.44it/s]/usr/local/lib/python3.11/dist-packages/pymatgen/io/cif.py:1155: UserWarning: Issues encountered while parsing CIF: Some fractional coordinates rounded to ideal values to avoid issues with finite precision.\n",
            "  warnings.warn(\"Issues encountered while parsing CIF: \" + \"\\n\".join(self.warnings))\n",
            "/usr/local/lib/python3.11/dist-packages/pymatgen/io/cif.py:1155: UserWarning: Issues encountered while parsing CIF: Some fractional coordinates rounded to ideal values to avoid issues with finite precision.\n",
            "  warnings.warn(\"Issues encountered while parsing CIF: \" + \"\\n\".join(self.warnings))\n",
            "  1% 5/846 [00:00<01:14, 11.31it/s]/usr/local/lib/python3.11/dist-packages/pymatgen/io/cif.py:1155: UserWarning: Issues encountered while parsing CIF: Some fractional coordinates rounded to ideal values to avoid issues with finite precision.\n",
            "  warnings.warn(\"Issues encountered while parsing CIF: \" + \"\\n\".join(self.warnings))\n",
            "  1% 12/846 [00:00<00:46, 17.95it/s]/usr/local/lib/python3.11/dist-packages/pymatgen/io/cif.py:1155: UserWarning: Issues encountered while parsing CIF: Some fractional coordinates rounded to ideal values to avoid issues with finite precision.\n",
            "  warnings.warn(\"Issues encountered while parsing CIF: \" + \"\\n\".join(self.warnings))\n",
            "  2% 14/846 [00:01<00:57, 14.47it/s]/usr/local/lib/python3.11/dist-packages/pymatgen/io/cif.py:1155: UserWarning: Issues encountered while parsing CIF: Some fractional coordinates rounded to ideal values to avoid issues with finite precision.\n",
            "  warnings.warn(\"Issues encountered while parsing CIF: \" + \"\\n\".join(self.warnings))\n",
            "  3% 28/846 [00:01<00:46, 17.69it/s]/usr/local/lib/python3.11/dist-packages/pymatgen/io/cif.py:1155: UserWarning: Issues encountered while parsing CIF: Some fractional coordinates rounded to ideal values to avoid issues with finite precision.\n",
            "  warnings.warn(\"Issues encountered while parsing CIF: \" + \"\\n\".join(self.warnings))\n",
            "  4% 32/846 [00:02<00:51, 15.87it/s]/usr/local/lib/python3.11/dist-packages/pymatgen/io/cif.py:1155: UserWarning: Issues encountered while parsing CIF: Some fractional coordinates rounded to ideal values to avoid issues with finite precision.\n",
            "  warnings.warn(\"Issues encountered while parsing CIF: \" + \"\\n\".join(self.warnings))\n",
            "  4% 34/846 [00:02<00:51, 15.62it/s]/usr/local/lib/python3.11/dist-packages/pymatgen/io/cif.py:1155: UserWarning: Issues encountered while parsing CIF: Some fractional coordinates rounded to ideal values to avoid issues with finite precision.\n",
            "  warnings.warn(\"Issues encountered while parsing CIF: \" + \"\\n\".join(self.warnings))\n",
            "  4% 36/846 [00:02<01:03, 12.82it/s]/usr/local/lib/python3.11/dist-packages/pymatgen/io/cif.py:1155: UserWarning: Issues encountered while parsing CIF: Some fractional coordinates rounded to ideal values to avoid issues with finite precision.\n",
            "  warnings.warn(\"Issues encountered while parsing CIF: \" + \"\\n\".join(self.warnings))\n",
            "/usr/local/lib/python3.11/dist-packages/pymatgen/io/cif.py:1155: UserWarning: Issues encountered while parsing CIF: Some fractional coordinates rounded to ideal values to avoid issues with finite precision.\n",
            "  warnings.warn(\"Issues encountered while parsing CIF: \" + \"\\n\".join(self.warnings))\n",
            "/usr/local/lib/python3.11/dist-packages/pymatgen/io/cif.py:1155: UserWarning: Issues encountered while parsing CIF: Some fractional coordinates rounded to ideal values to avoid issues with finite precision.\n",
            "  warnings.warn(\"Issues encountered while parsing CIF: \" + \"\\n\".join(self.warnings))\n",
            "  5% 44/846 [00:03<01:01, 13.10it/s]/usr/local/lib/python3.11/dist-packages/pymatgen/io/cif.py:1155: UserWarning: Issues encountered while parsing CIF: Some fractional coordinates rounded to ideal values to avoid issues with finite precision.\n",
            "  warnings.warn(\"Issues encountered while parsing CIF: \" + \"\\n\".join(self.warnings))\n",
            "/usr/local/lib/python3.11/dist-packages/pymatgen/io/cif.py:1155: UserWarning: Issues encountered while parsing CIF: Some fractional coordinates rounded to ideal values to avoid issues with finite precision.\n",
            "  warnings.warn(\"Issues encountered while parsing CIF: \" + \"\\n\".join(self.warnings))\n",
            "  5% 46/846 [00:03<01:06, 11.95it/s]/usr/local/lib/python3.11/dist-packages/pymatgen/io/cif.py:1155: UserWarning: Issues encountered while parsing CIF: Some fractional coordinates rounded to ideal values to avoid issues with finite precision.\n",
            "  warnings.warn(\"Issues encountered while parsing CIF: \" + \"\\n\".join(self.warnings))\n",
            "  8% 69/846 [00:05<00:52, 14.88it/s]/usr/local/lib/python3.11/dist-packages/pymatgen/io/cif.py:1155: UserWarning: Issues encountered while parsing CIF: Some fractional coordinates rounded to ideal values to avoid issues with finite precision.\n",
            "  warnings.warn(\"Issues encountered while parsing CIF: \" + \"\\n\".join(self.warnings))\n",
            "  8% 71/846 [00:05<00:56, 13.75it/s]/usr/local/lib/python3.11/dist-packages/pymatgen/io/cif.py:1155: UserWarning: Issues encountered while parsing CIF: Some fractional coordinates rounded to ideal values to avoid issues with finite precision.\n",
            "  warnings.warn(\"Issues encountered while parsing CIF: \" + \"\\n\".join(self.warnings))\n",
            "  9% 78/846 [00:05<00:57, 13.32it/s]/usr/local/lib/python3.11/dist-packages/pymatgen/io/cif.py:1155: UserWarning: Issues encountered while parsing CIF: Some fractional coordinates rounded to ideal values to avoid issues with finite precision.\n",
            "  warnings.warn(\"Issues encountered while parsing CIF: \" + \"\\n\".join(self.warnings))\n",
            " 11% 89/846 [00:06<00:53, 14.04it/s]/usr/local/lib/python3.11/dist-packages/pymatgen/io/cif.py:1155: UserWarning: Issues encountered while parsing CIF: Some fractional coordinates rounded to ideal values to avoid issues with finite precision.\n",
            "  warnings.warn(\"Issues encountered while parsing CIF: \" + \"\\n\".join(self.warnings))\n",
            " 11% 91/846 [00:06<01:06, 11.39it/s]/usr/local/lib/python3.11/dist-packages/pymatgen/io/cif.py:1155: UserWarning: Issues encountered while parsing CIF: Some fractional coordinates rounded to ideal values to avoid issues with finite precision.\n",
            "  warnings.warn(\"Issues encountered while parsing CIF: \" + \"\\n\".join(self.warnings))\n",
            " 13% 108/846 [00:07<00:52, 14.03it/s]/usr/local/lib/python3.11/dist-packages/pymatgen/io/cif.py:1155: UserWarning: Issues encountered while parsing CIF: Some fractional coordinates rounded to ideal values to avoid issues with finite precision.\n",
            "  warnings.warn(\"Issues encountered while parsing CIF: \" + \"\\n\".join(self.warnings))\n",
            " 13% 114/846 [00:08<00:54, 13.38it/s]/usr/local/lib/python3.11/dist-packages/pymatgen/io/cif.py:1155: UserWarning: Issues encountered while parsing CIF: Some fractional coordinates rounded to ideal values to avoid issues with finite precision.\n",
            "  warnings.warn(\"Issues encountered while parsing CIF: \" + \"\\n\".join(self.warnings))\n",
            " 15% 131/846 [00:10<01:11,  9.99it/s]/usr/local/lib/python3.11/dist-packages/pymatgen/io/cif.py:1155: UserWarning: Issues encountered while parsing CIF: Some fractional coordinates rounded to ideal values to avoid issues with finite precision.\n",
            "  warnings.warn(\"Issues encountered while parsing CIF: \" + \"\\n\".join(self.warnings))\n",
            " 17% 142/846 [00:11<00:49, 14.22it/s]/usr/local/lib/python3.11/dist-packages/pymatgen/io/cif.py:1155: UserWarning: Issues encountered while parsing CIF: Some fractional coordinates rounded to ideal values to avoid issues with finite precision.\n",
            "  warnings.warn(\"Issues encountered while parsing CIF: \" + \"\\n\".join(self.warnings))\n",
            " 17% 144/846 [00:11<00:46, 15.07it/s]/usr/local/lib/python3.11/dist-packages/pymatgen/io/cif.py:1155: UserWarning: Issues encountered while parsing CIF: Some fractional coordinates rounded to ideal values to avoid issues with finite precision.\n",
            "  warnings.warn(\"Issues encountered while parsing CIF: \" + \"\\n\".join(self.warnings))\n",
            " 17% 146/846 [00:11<00:44, 15.56it/s]/usr/local/lib/python3.11/dist-packages/pymatgen/io/cif.py:1155: UserWarning: Issues encountered while parsing CIF: Some fractional coordinates rounded to ideal values to avoid issues with finite precision.\n",
            "  warnings.warn(\"Issues encountered while parsing CIF: \" + \"\\n\".join(self.warnings))\n",
            " 18% 156/846 [00:12<00:48, 14.36it/s]/usr/local/lib/python3.11/dist-packages/pymatgen/io/cif.py:1155: UserWarning: Issues encountered while parsing CIF: Some fractional coordinates rounded to ideal values to avoid issues with finite precision.\n",
            "  warnings.warn(\"Issues encountered while parsing CIF: \" + \"\\n\".join(self.warnings))\n",
            " 19% 158/846 [00:12<00:55, 12.49it/s]/usr/local/lib/python3.11/dist-packages/pymatgen/io/cif.py:1155: UserWarning: Issues encountered while parsing CIF: Some fractional coordinates rounded to ideal values to avoid issues with finite precision.\n",
            "  warnings.warn(\"Issues encountered while parsing CIF: \" + \"\\n\".join(self.warnings))\n",
            " 20% 170/846 [00:13<00:46, 14.52it/s]/usr/local/lib/python3.11/dist-packages/pymatgen/io/cif.py:1155: UserWarning: Issues encountered while parsing CIF: Some fractional coordinates rounded to ideal values to avoid issues with finite precision.\n",
            "  warnings.warn(\"Issues encountered while parsing CIF: \" + \"\\n\".join(self.warnings))\n",
            " 21% 181/846 [00:14<00:59, 11.19it/s]/usr/local/lib/python3.11/dist-packages/pymatgen/io/cif.py:1155: UserWarning: Issues encountered while parsing CIF: Some fractional coordinates rounded to ideal values to avoid issues with finite precision.\n",
            "  warnings.warn(\"Issues encountered while parsing CIF: \" + \"\\n\".join(self.warnings))\n",
            " 23% 192/846 [00:15<00:55, 11.81it/s]/usr/local/lib/python3.11/dist-packages/pymatgen/io/cif.py:1155: UserWarning: Issues encountered while parsing CIF: Some fractional coordinates rounded to ideal values to avoid issues with finite precision.\n",
            "  warnings.warn(\"Issues encountered while parsing CIF: \" + \"\\n\".join(self.warnings))\n",
            " 24% 199/846 [00:15<00:47, 13.76it/s]/usr/local/lib/python3.11/dist-packages/pymatgen/io/cif.py:1155: UserWarning: Issues encountered while parsing CIF: Some fractional coordinates rounded to ideal values to avoid issues with finite precision.\n",
            "  warnings.warn(\"Issues encountered while parsing CIF: \" + \"\\n\".join(self.warnings))\n",
            " 24% 207/846 [00:16<00:53, 11.95it/s]/usr/local/lib/python3.11/dist-packages/pymatgen/io/cif.py:1155: UserWarning: Issues encountered while parsing CIF: Some fractional coordinates rounded to ideal values to avoid issues with finite precision.\n",
            "  warnings.warn(\"Issues encountered while parsing CIF: \" + \"\\n\".join(self.warnings))\n",
            "/usr/local/lib/python3.11/dist-packages/pymatgen/io/cif.py:1155: UserWarning: Issues encountered while parsing CIF: Some fractional coordinates rounded to ideal values to avoid issues with finite precision.\n",
            "  warnings.warn(\"Issues encountered while parsing CIF: \" + \"\\n\".join(self.warnings))\n",
            " 26% 219/846 [00:17<00:57, 10.92it/s]/usr/local/lib/python3.11/dist-packages/pymatgen/io/cif.py:1155: UserWarning: Issues encountered while parsing CIF: Some fractional coordinates rounded to ideal values to avoid issues with finite precision.\n",
            "  warnings.warn(\"Issues encountered while parsing CIF: \" + \"\\n\".join(self.warnings))\n",
            " 26% 224/846 [00:18<00:46, 13.38it/s]/usr/local/lib/python3.11/dist-packages/pymatgen/io/cif.py:1155: UserWarning: Issues encountered while parsing CIF: Some fractional coordinates rounded to ideal values to avoid issues with finite precision.\n",
            "  warnings.warn(\"Issues encountered while parsing CIF: \" + \"\\n\".join(self.warnings))\n",
            "/usr/local/lib/python3.11/dist-packages/pymatgen/io/cif.py:1155: UserWarning: Issues encountered while parsing CIF: Some fractional coordinates rounded to ideal values to avoid issues with finite precision.\n",
            "  warnings.warn(\"Issues encountered while parsing CIF: \" + \"\\n\".join(self.warnings))\n",
            " 29% 245/846 [00:19<00:45, 13.26it/s]/usr/local/lib/python3.11/dist-packages/pymatgen/io/cif.py:1155: UserWarning: Issues encountered while parsing CIF: Some fractional coordinates rounded to ideal values to avoid issues with finite precision.\n",
            "  warnings.warn(\"Issues encountered while parsing CIF: \" + \"\\n\".join(self.warnings))\n",
            " 30% 252/846 [00:20<00:45, 12.96it/s]/usr/local/lib/python3.11/dist-packages/pymatgen/io/cif.py:1155: UserWarning: Issues encountered while parsing CIF: Some fractional coordinates rounded to ideal values to avoid issues with finite precision.\n",
            "  warnings.warn(\"Issues encountered while parsing CIF: \" + \"\\n\".join(self.warnings))\n",
            " 30% 254/846 [00:20<00:44, 13.42it/s]/usr/local/lib/python3.11/dist-packages/pymatgen/io/cif.py:1155: UserWarning: Issues encountered while parsing CIF: Some fractional coordinates rounded to ideal values to avoid issues with finite precision.\n",
            "  warnings.warn(\"Issues encountered while parsing CIF: \" + \"\\n\".join(self.warnings))\n",
            " 31% 260/846 [00:21<01:03,  9.16it/s]/usr/local/lib/python3.11/dist-packages/pymatgen/io/cif.py:1155: UserWarning: Issues encountered while parsing CIF: Some fractional coordinates rounded to ideal values to avoid issues with finite precision.\n",
            "  warnings.warn(\"Issues encountered while parsing CIF: \" + \"\\n\".join(self.warnings))\n",
            " 31% 264/846 [00:21<01:16,  7.64it/s]/usr/local/lib/python3.11/dist-packages/pymatgen/io/cif.py:1155: UserWarning: Issues encountered while parsing CIF: Some fractional coordinates rounded to ideal values to avoid issues with finite precision.\n",
            "  warnings.warn(\"Issues encountered while parsing CIF: \" + \"\\n\".join(self.warnings))\n",
            " 32% 268/846 [00:22<01:09,  8.32it/s]/usr/local/lib/python3.11/dist-packages/pymatgen/io/cif.py:1155: UserWarning: Issues encountered while parsing CIF: Some fractional coordinates rounded to ideal values to avoid issues with finite precision.\n",
            "  warnings.warn(\"Issues encountered while parsing CIF: \" + \"\\n\".join(self.warnings))\n",
            " 32% 269/846 [00:22<01:09,  8.36it/s]/usr/local/lib/python3.11/dist-packages/pymatgen/io/cif.py:1155: UserWarning: Issues encountered while parsing CIF: Some fractional coordinates rounded to ideal values to avoid issues with finite precision.\n",
            "  warnings.warn(\"Issues encountered while parsing CIF: \" + \"\\n\".join(self.warnings))\n",
            " 32% 271/846 [00:22<00:55, 10.31it/s]/usr/local/lib/python3.11/dist-packages/pymatgen/io/cif.py:1155: UserWarning: Issues encountered while parsing CIF: Some fractional coordinates rounded to ideal values to avoid issues with finite precision.\n",
            "  warnings.warn(\"Issues encountered while parsing CIF: \" + \"\\n\".join(self.warnings))\n",
            " 32% 273/846 [00:22<00:58,  9.82it/s]/usr/local/lib/python3.11/dist-packages/pymatgen/io/cif.py:1155: UserWarning: Issues encountered while parsing CIF: Some fractional coordinates rounded to ideal values to avoid issues with finite precision.\n",
            "  warnings.warn(\"Issues encountered while parsing CIF: \" + \"\\n\".join(self.warnings))\n",
            " 33% 275/846 [00:22<01:06,  8.60it/s]/usr/local/lib/python3.11/dist-packages/pymatgen/io/cif.py:1155: UserWarning: Issues encountered while parsing CIF: Some fractional coordinates rounded to ideal values to avoid issues with finite precision.\n",
            "  warnings.warn(\"Issues encountered while parsing CIF: \" + \"\\n\".join(self.warnings))\n",
            " 33% 281/846 [00:23<01:10,  8.02it/s]/usr/local/lib/python3.11/dist-packages/pymatgen/io/cif.py:1155: UserWarning: Issues encountered while parsing CIF: Some fractional coordinates rounded to ideal values to avoid issues with finite precision.\n",
            "  warnings.warn(\"Issues encountered while parsing CIF: \" + \"\\n\".join(self.warnings))\n",
            " 33% 283/846 [00:23<00:56,  9.99it/s]/usr/local/lib/python3.11/dist-packages/pymatgen/io/cif.py:1155: UserWarning: Issues encountered while parsing CIF: Some fractional coordinates rounded to ideal values to avoid issues with finite precision.\n",
            "  warnings.warn(\"Issues encountered while parsing CIF: \" + \"\\n\".join(self.warnings))\n",
            " 35% 296/846 [00:24<00:49, 11.06it/s]/usr/local/lib/python3.11/dist-packages/pymatgen/io/cif.py:1155: UserWarning: Issues encountered while parsing CIF: Some fractional coordinates rounded to ideal values to avoid issues with finite precision.\n",
            "  warnings.warn(\"Issues encountered while parsing CIF: \" + \"\\n\".join(self.warnings))\n",
            " 36% 302/846 [00:25<00:42, 12.70it/s]/usr/local/lib/python3.11/dist-packages/pymatgen/io/cif.py:1155: UserWarning: Issues encountered while parsing CIF: Some fractional coordinates rounded to ideal values to avoid issues with finite precision.\n",
            "  warnings.warn(\"Issues encountered while parsing CIF: \" + \"\\n\".join(self.warnings))\n",
            " 36% 304/846 [00:25<00:44, 12.12it/s]/usr/local/lib/python3.11/dist-packages/pymatgen/io/cif.py:1155: UserWarning: Issues encountered while parsing CIF: Some fractional coordinates rounded to ideal values to avoid issues with finite precision.\n",
            "  warnings.warn(\"Issues encountered while parsing CIF: \" + \"\\n\".join(self.warnings))\n",
            " 36% 306/846 [00:25<00:49, 10.97it/s]/usr/local/lib/python3.11/dist-packages/pymatgen/io/cif.py:1155: UserWarning: Issues encountered while parsing CIF: Some fractional coordinates rounded to ideal values to avoid issues with finite precision.\n",
            "  warnings.warn(\"Issues encountered while parsing CIF: \" + \"\\n\".join(self.warnings))\n",
            " 37% 311/846 [00:25<00:40, 13.11it/s]/usr/local/lib/python3.11/dist-packages/pymatgen/io/cif.py:1155: UserWarning: Issues encountered while parsing CIF: Some fractional coordinates rounded to ideal values to avoid issues with finite precision.\n",
            "  warnings.warn(\"Issues encountered while parsing CIF: \" + \"\\n\".join(self.warnings))\n",
            " 38% 320/846 [00:26<00:37, 14.21it/s]/usr/local/lib/python3.11/dist-packages/pymatgen/io/cif.py:1155: UserWarning: Issues encountered while parsing CIF: Some fractional coordinates rounded to ideal values to avoid issues with finite precision.\n",
            "  warnings.warn(\"Issues encountered while parsing CIF: \" + \"\\n\".join(self.warnings))\n",
            " 38% 324/846 [00:26<00:38, 13.59it/s]/usr/local/lib/python3.11/dist-packages/pymatgen/io/cif.py:1155: UserWarning: Issues encountered while parsing CIF: Some fractional coordinates rounded to ideal values to avoid issues with finite precision.\n",
            "  warnings.warn(\"Issues encountered while parsing CIF: \" + \"\\n\".join(self.warnings))\n",
            " 40% 336/846 [00:27<00:37, 13.67it/s]/usr/local/lib/python3.11/dist-packages/pymatgen/io/cif.py:1155: UserWarning: Issues encountered while parsing CIF: Some fractional coordinates rounded to ideal values to avoid issues with finite precision.\n",
            "  warnings.warn(\"Issues encountered while parsing CIF: \" + \"\\n\".join(self.warnings))\n",
            "/usr/local/lib/python3.11/dist-packages/pymatgen/io/cif.py:1155: UserWarning: Issues encountered while parsing CIF: Some fractional coordinates rounded to ideal values to avoid issues with finite precision.\n",
            "  warnings.warn(\"Issues encountered while parsing CIF: \" + \"\\n\".join(self.warnings))\n",
            " 41% 344/846 [00:28<00:34, 14.64it/s]/usr/local/lib/python3.11/dist-packages/pymatgen/io/cif.py:1155: UserWarning: Issues encountered while parsing CIF: Some fractional coordinates rounded to ideal values to avoid issues with finite precision.\n",
            "  warnings.warn(\"Issues encountered while parsing CIF: \" + \"\\n\".join(self.warnings))\n",
            " 42% 354/846 [00:29<00:46, 10.66it/s]/usr/local/lib/python3.11/dist-packages/pymatgen/io/cif.py:1155: UserWarning: Issues encountered while parsing CIF: Some fractional coordinates rounded to ideal values to avoid issues with finite precision.\n",
            "  warnings.warn(\"Issues encountered while parsing CIF: \" + \"\\n\".join(self.warnings))\n",
            " 42% 356/846 [00:29<00:39, 12.33it/s]/usr/local/lib/python3.11/dist-packages/pymatgen/io/cif.py:1155: UserWarning: Issues encountered while parsing CIF: Some fractional coordinates rounded to ideal values to avoid issues with finite precision.\n",
            "  warnings.warn(\"Issues encountered while parsing CIF: \" + \"\\n\".join(self.warnings))\n",
            " 43% 365/846 [00:30<00:46, 10.28it/s]/usr/local/lib/python3.11/dist-packages/pymatgen/io/cif.py:1155: UserWarning: Issues encountered while parsing CIF: Some fractional coordinates rounded to ideal values to avoid issues with finite precision.\n",
            "  warnings.warn(\"Issues encountered while parsing CIF: \" + \"\\n\".join(self.warnings))\n",
            " 44% 373/846 [00:30<00:47,  9.90it/s]/usr/local/lib/python3.11/dist-packages/pymatgen/io/cif.py:1155: UserWarning: Issues encountered while parsing CIF: Some fractional coordinates rounded to ideal values to avoid issues with finite precision.\n",
            "  warnings.warn(\"Issues encountered while parsing CIF: \" + \"\\n\".join(self.warnings))\n",
            " 46% 387/846 [00:31<00:29, 15.46it/s]/usr/local/lib/python3.11/dist-packages/pymatgen/io/cif.py:1155: UserWarning: Issues encountered while parsing CIF: Some fractional coordinates rounded to ideal values to avoid issues with finite precision.\n",
            "  warnings.warn(\"Issues encountered while parsing CIF: \" + \"\\n\".join(self.warnings))\n",
            " 46% 389/846 [00:31<00:28, 15.98it/s]/usr/local/lib/python3.11/dist-packages/pymatgen/io/cif.py:1155: UserWarning: Issues encountered while parsing CIF: Some fractional coordinates rounded to ideal values to avoid issues with finite precision.\n",
            "  warnings.warn(\"Issues encountered while parsing CIF: \" + \"\\n\".join(self.warnings))\n",
            " 46% 391/846 [00:32<00:30, 14.97it/s]/usr/local/lib/python3.11/dist-packages/pymatgen/io/cif.py:1155: UserWarning: Issues encountered while parsing CIF: Some fractional coordinates rounded to ideal values to avoid issues with finite precision.\n",
            "  warnings.warn(\"Issues encountered while parsing CIF: \" + \"\\n\".join(self.warnings))\n",
            "/usr/local/lib/python3.11/dist-packages/pymatgen/io/cif.py:1155: UserWarning: Issues encountered while parsing CIF: Some fractional coordinates rounded to ideal values to avoid issues with finite precision.\n",
            "  warnings.warn(\"Issues encountered while parsing CIF: \" + \"\\n\".join(self.warnings))\n",
            " 47% 395/846 [00:32<00:36, 12.32it/s]/usr/local/lib/python3.11/dist-packages/pymatgen/io/cif.py:1155: UserWarning: Issues encountered while parsing CIF: Some fractional coordinates rounded to ideal values to avoid issues with finite precision.\n",
            "  warnings.warn(\"Issues encountered while parsing CIF: \" + \"\\n\".join(self.warnings))\n",
            " 47% 400/846 [00:32<00:37, 11.86it/s]/usr/local/lib/python3.11/dist-packages/pymatgen/io/cif.py:1155: UserWarning: Issues encountered while parsing CIF: Some fractional coordinates rounded to ideal values to avoid issues with finite precision.\n",
            "  warnings.warn(\"Issues encountered while parsing CIF: \" + \"\\n\".join(self.warnings))\n",
            " 48% 406/846 [00:33<00:46,  9.37it/s]/usr/local/lib/python3.11/dist-packages/pymatgen/io/cif.py:1155: UserWarning: Issues encountered while parsing CIF: Some fractional coordinates rounded to ideal values to avoid issues with finite precision.\n",
            "  warnings.warn(\"Issues encountered while parsing CIF: \" + \"\\n\".join(self.warnings))\n",
            " 48% 409/846 [00:33<00:54,  8.06it/s]/usr/local/lib/python3.11/dist-packages/pymatgen/io/cif.py:1155: UserWarning: Issues encountered while parsing CIF: Some fractional coordinates rounded to ideal values to avoid issues with finite precision.\n",
            "  warnings.warn(\"Issues encountered while parsing CIF: \" + \"\\n\".join(self.warnings))\n",
            " 50% 420/846 [00:35<00:49,  8.54it/s]/usr/local/lib/python3.11/dist-packages/pymatgen/io/cif.py:1155: UserWarning: Issues encountered while parsing CIF: Some fractional coordinates rounded to ideal values to avoid issues with finite precision.\n",
            "  warnings.warn(\"Issues encountered while parsing CIF: \" + \"\\n\".join(self.warnings))\n",
            " 50% 421/846 [00:35<00:56,  7.56it/s]/usr/local/lib/python3.11/dist-packages/pymatgen/io/cif.py:1155: UserWarning: Issues encountered while parsing CIF: Some fractional coordinates rounded to ideal values to avoid issues with finite precision.\n",
            "  warnings.warn(\"Issues encountered while parsing CIF: \" + \"\\n\".join(self.warnings))\n",
            " 51% 433/846 [00:36<00:34, 11.90it/s]/usr/local/lib/python3.11/dist-packages/pymatgen/io/cif.py:1155: UserWarning: Issues encountered while parsing CIF: Some fractional coordinates rounded to ideal values to avoid issues with finite precision.\n",
            "  warnings.warn(\"Issues encountered while parsing CIF: \" + \"\\n\".join(self.warnings))\n",
            "/usr/local/lib/python3.11/dist-packages/pymatgen/io/cif.py:1155: UserWarning: Issues encountered while parsing CIF: Some fractional coordinates rounded to ideal values to avoid issues with finite precision.\n",
            "  warnings.warn(\"Issues encountered while parsing CIF: \" + \"\\n\".join(self.warnings))\n",
            " 52% 443/846 [00:37<00:33, 11.92it/s]/usr/local/lib/python3.11/dist-packages/pymatgen/io/cif.py:1155: UserWarning: Issues encountered while parsing CIF: Some fractional coordinates rounded to ideal values to avoid issues with finite precision.\n",
            "  warnings.warn(\"Issues encountered while parsing CIF: \" + \"\\n\".join(self.warnings))\n",
            " 53% 445/846 [00:37<00:37, 10.65it/s]/usr/local/lib/python3.11/dist-packages/pymatgen/io/cif.py:1155: UserWarning: Issues encountered while parsing CIF: Some fractional coordinates rounded to ideal values to avoid issues with finite precision.\n",
            "  warnings.warn(\"Issues encountered while parsing CIF: \" + \"\\n\".join(self.warnings))\n",
            " 53% 447/846 [00:37<00:32, 12.21it/s]/usr/local/lib/python3.11/dist-packages/pymatgen/io/cif.py:1155: UserWarning: Issues encountered while parsing CIF: Some fractional coordinates rounded to ideal values to avoid issues with finite precision.\n",
            "  warnings.warn(\"Issues encountered while parsing CIF: \" + \"\\n\".join(self.warnings))\n",
            " 53% 449/846 [00:37<00:30, 13.06it/s]/usr/local/lib/python3.11/dist-packages/pymatgen/io/cif.py:1155: UserWarning: Issues encountered while parsing CIF: Some fractional coordinates rounded to ideal values to avoid issues with finite precision.\n",
            "  warnings.warn(\"Issues encountered while parsing CIF: \" + \"\\n\".join(self.warnings))\n",
            " 54% 458/846 [00:38<00:32, 12.11it/s]/usr/local/lib/python3.11/dist-packages/pymatgen/io/cif.py:1155: UserWarning: Issues encountered while parsing CIF: Some fractional coordinates rounded to ideal values to avoid issues with finite precision.\n",
            "  warnings.warn(\"Issues encountered while parsing CIF: \" + \"\\n\".join(self.warnings))\n",
            "/usr/local/lib/python3.11/dist-packages/pymatgen/io/cif.py:1155: UserWarning: Issues encountered while parsing CIF: Some fractional coordinates rounded to ideal values to avoid issues with finite precision.\n",
            "  warnings.warn(\"Issues encountered while parsing CIF: \" + \"\\n\".join(self.warnings))\n",
            " 55% 463/846 [00:38<00:32, 11.93it/s]/usr/local/lib/python3.11/dist-packages/pymatgen/io/cif.py:1155: UserWarning: Issues encountered while parsing CIF: Some fractional coordinates rounded to ideal values to avoid issues with finite precision.\n",
            "  warnings.warn(\"Issues encountered while parsing CIF: \" + \"\\n\".join(self.warnings))\n",
            " 55% 466/846 [00:38<00:28, 13.35it/s]/usr/local/lib/python3.11/dist-packages/pymatgen/io/cif.py:1155: UserWarning: Issues encountered while parsing CIF: Some fractional coordinates rounded to ideal values to avoid issues with finite precision.\n",
            "  warnings.warn(\"Issues encountered while parsing CIF: \" + \"\\n\".join(self.warnings))\n",
            " 55% 468/846 [00:39<00:26, 14.14it/s]/usr/local/lib/python3.11/dist-packages/pymatgen/io/cif.py:1155: UserWarning: Issues encountered while parsing CIF: Some fractional coordinates rounded to ideal values to avoid issues with finite precision.\n",
            "  warnings.warn(\"Issues encountered while parsing CIF: \" + \"\\n\".join(self.warnings))\n",
            " 56% 476/846 [00:39<00:27, 13.31it/s]/usr/local/lib/python3.11/dist-packages/pymatgen/io/cif.py:1155: UserWarning: Issues encountered while parsing CIF: Some fractional coordinates rounded to ideal values to avoid issues with finite precision.\n",
            "  warnings.warn(\"Issues encountered while parsing CIF: \" + \"\\n\".join(self.warnings))\n",
            " 58% 488/846 [00:41<00:44,  8.13it/s]/usr/local/lib/python3.11/dist-packages/pymatgen/io/cif.py:1155: UserWarning: Issues encountered while parsing CIF: Some fractional coordinates rounded to ideal values to avoid issues with finite precision.\n",
            "  warnings.warn(\"Issues encountered while parsing CIF: \" + \"\\n\".join(self.warnings))\n",
            " 58% 490/846 [00:41<00:46,  7.68it/s]/usr/local/lib/python3.11/dist-packages/pymatgen/io/cif.py:1155: UserWarning: Issues encountered while parsing CIF: Some fractional coordinates rounded to ideal values to avoid issues with finite precision.\n",
            "  warnings.warn(\"Issues encountered while parsing CIF: \" + \"\\n\".join(self.warnings))\n",
            " 59% 497/846 [00:42<00:34, 10.07it/s]/usr/local/lib/python3.11/dist-packages/pymatgen/io/cif.py:1155: UserWarning: Issues encountered while parsing CIF: Some fractional coordinates rounded to ideal values to avoid issues with finite precision.\n",
            "  warnings.warn(\"Issues encountered while parsing CIF: \" + \"\\n\".join(self.warnings))\n",
            " 59% 502/846 [00:42<00:33, 10.24it/s]/usr/local/lib/python3.11/dist-packages/pymatgen/io/cif.py:1155: UserWarning: Issues encountered while parsing CIF: Some fractional coordinates rounded to ideal values to avoid issues with finite precision.\n",
            "  warnings.warn(\"Issues encountered while parsing CIF: \" + \"\\n\".join(self.warnings))\n",
            " 60% 509/846 [00:43<00:28, 11.90it/s]/usr/local/lib/python3.11/dist-packages/pymatgen/io/cif.py:1155: UserWarning: Issues encountered while parsing CIF: Some fractional coordinates rounded to ideal values to avoid issues with finite precision.\n",
            "  warnings.warn(\"Issues encountered while parsing CIF: \" + \"\\n\".join(self.warnings))\n",
            " 61% 513/846 [00:43<00:32, 10.17it/s]/usr/local/lib/python3.11/dist-packages/pymatgen/io/cif.py:1155: UserWarning: Issues encountered while parsing CIF: Some fractional coordinates rounded to ideal values to avoid issues with finite precision.\n",
            "  warnings.warn(\"Issues encountered while parsing CIF: \" + \"\\n\".join(self.warnings))\n",
            " 61% 516/846 [00:43<00:25, 13.04it/s]/usr/local/lib/python3.11/dist-packages/pymatgen/io/cif.py:1155: UserWarning: Issues encountered while parsing CIF: Some fractional coordinates rounded to ideal values to avoid issues with finite precision.\n",
            "  warnings.warn(\"Issues encountered while parsing CIF: \" + \"\\n\".join(self.warnings))\n",
            " 62% 521/846 [00:44<00:23, 14.07it/s]/usr/local/lib/python3.11/dist-packages/pymatgen/io/cif.py:1155: UserWarning: Issues encountered while parsing CIF: Some fractional coordinates rounded to ideal values to avoid issues with finite precision.\n",
            "  warnings.warn(\"Issues encountered while parsing CIF: \" + \"\\n\".join(self.warnings))\n",
            " 63% 535/846 [00:45<00:31,  9.98it/s]/usr/local/lib/python3.11/dist-packages/pymatgen/io/cif.py:1155: UserWarning: Issues encountered while parsing CIF: Some fractional coordinates rounded to ideal values to avoid issues with finite precision.\n",
            "  warnings.warn(\"Issues encountered while parsing CIF: \" + \"\\n\".join(self.warnings))\n",
            " 64% 539/846 [00:45<00:28, 10.74it/s]/usr/local/lib/python3.11/dist-packages/pymatgen/io/cif.py:1155: UserWarning: Issues encountered while parsing CIF: Some fractional coordinates rounded to ideal values to avoid issues with finite precision.\n",
            "  warnings.warn(\"Issues encountered while parsing CIF: \" + \"\\n\".join(self.warnings))\n",
            " 64% 541/846 [00:46<00:25, 11.92it/s]/usr/local/lib/python3.11/dist-packages/pymatgen/io/cif.py:1155: UserWarning: Issues encountered while parsing CIF: Some fractional coordinates rounded to ideal values to avoid issues with finite precision.\n",
            "  warnings.warn(\"Issues encountered while parsing CIF: \" + \"\\n\".join(self.warnings))\n",
            " 64% 545/846 [00:46<00:23, 12.79it/s]/usr/local/lib/python3.11/dist-packages/pymatgen/io/cif.py:1155: UserWarning: Issues encountered while parsing CIF: Some fractional coordinates rounded to ideal values to avoid issues with finite precision.\n",
            "  warnings.warn(\"Issues encountered while parsing CIF: \" + \"\\n\".join(self.warnings))\n",
            " 65% 550/846 [00:46<00:31,  9.47it/s]/usr/local/lib/python3.11/dist-packages/pymatgen/io/cif.py:1155: UserWarning: Issues encountered while parsing CIF: Some fractional coordinates rounded to ideal values to avoid issues with finite precision.\n",
            "  warnings.warn(\"Issues encountered while parsing CIF: \" + \"\\n\".join(self.warnings))\n",
            "/usr/local/lib/python3.11/dist-packages/pymatgen/io/cif.py:1155: UserWarning: Issues encountered while parsing CIF: Some fractional coordinates rounded to ideal values to avoid issues with finite precision.\n",
            "  warnings.warn(\"Issues encountered while parsing CIF: \" + \"\\n\".join(self.warnings))\n",
            " 67% 567/846 [00:49<00:26, 10.57it/s]/usr/local/lib/python3.11/dist-packages/pymatgen/io/cif.py:1155: UserWarning: Issues encountered while parsing CIF: Some fractional coordinates rounded to ideal values to avoid issues with finite precision.\n",
            "  warnings.warn(\"Issues encountered while parsing CIF: \" + \"\\n\".join(self.warnings))\n",
            " 68% 574/846 [00:49<00:19, 13.82it/s]/usr/local/lib/python3.11/dist-packages/pymatgen/io/cif.py:1155: UserWarning: Issues encountered while parsing CIF: Some fractional coordinates rounded to ideal values to avoid issues with finite precision.\n",
            "  warnings.warn(\"Issues encountered while parsing CIF: \" + \"\\n\".join(self.warnings))\n",
            " 68% 576/846 [00:49<00:21, 12.34it/s]/usr/local/lib/python3.11/dist-packages/pymatgen/io/cif.py:1155: UserWarning: Issues encountered while parsing CIF: Some fractional coordinates rounded to ideal values to avoid issues with finite precision.\n",
            "  warnings.warn(\"Issues encountered while parsing CIF: \" + \"\\n\".join(self.warnings))\n",
            " 68% 579/846 [00:50<00:17, 15.17it/s]/usr/local/lib/python3.11/dist-packages/pymatgen/io/cif.py:1155: UserWarning: Issues encountered while parsing CIF: Some fractional coordinates rounded to ideal values to avoid issues with finite precision.\n",
            "  warnings.warn(\"Issues encountered while parsing CIF: \" + \"\\n\".join(self.warnings))\n",
            " 69% 585/846 [00:50<00:17, 15.33it/s]/usr/local/lib/python3.11/dist-packages/pymatgen/io/cif.py:1155: UserWarning: Issues encountered while parsing CIF: Some fractional coordinates rounded to ideal values to avoid issues with finite precision.\n",
            "  warnings.warn(\"Issues encountered while parsing CIF: \" + \"\\n\".join(self.warnings))\n",
            " 69% 587/846 [00:50<00:16, 15.67it/s]/usr/local/lib/python3.11/dist-packages/pymatgen/io/cif.py:1155: UserWarning: Issues encountered while parsing CIF: Some fractional coordinates rounded to ideal values to avoid issues with finite precision.\n",
            "  warnings.warn(\"Issues encountered while parsing CIF: \" + \"\\n\".join(self.warnings))\n",
            " 70% 591/846 [00:50<00:19, 12.81it/s]/usr/local/lib/python3.11/dist-packages/pymatgen/io/cif.py:1155: UserWarning: Issues encountered while parsing CIF: Some fractional coordinates rounded to ideal values to avoid issues with finite precision.\n",
            "  warnings.warn(\"Issues encountered while parsing CIF: \" + \"\\n\".join(self.warnings))\n",
            " 70% 593/846 [00:51<00:17, 14.24it/s]/usr/local/lib/python3.11/dist-packages/pymatgen/io/cif.py:1155: UserWarning: Issues encountered while parsing CIF: Some fractional coordinates rounded to ideal values to avoid issues with finite precision.\n",
            "  warnings.warn(\"Issues encountered while parsing CIF: \" + \"\\n\".join(self.warnings))\n",
            " 71% 600/846 [00:51<00:15, 15.68it/s]/usr/local/lib/python3.11/dist-packages/pymatgen/io/cif.py:1155: UserWarning: Issues encountered while parsing CIF: Some fractional coordinates rounded to ideal values to avoid issues with finite precision.\n",
            "  warnings.warn(\"Issues encountered while parsing CIF: \" + \"\\n\".join(self.warnings))\n",
            " 72% 606/846 [00:51<00:17, 14.11it/s]/usr/local/lib/python3.11/dist-packages/pymatgen/io/cif.py:1155: UserWarning: Issues encountered while parsing CIF: Some fractional coordinates rounded to ideal values to avoid issues with finite precision.\n",
            "  warnings.warn(\"Issues encountered while parsing CIF: \" + \"\\n\".join(self.warnings))\n",
            "/usr/local/lib/python3.11/dist-packages/pymatgen/io/cif.py:1155: UserWarning: Issues encountered while parsing CIF: Some fractional coordinates rounded to ideal values to avoid issues with finite precision.\n",
            "  warnings.warn(\"Issues encountered while parsing CIF: \" + \"\\n\".join(self.warnings))\n",
            " 72% 610/846 [00:52<00:15, 14.96it/s]/usr/local/lib/python3.11/dist-packages/pymatgen/io/cif.py:1155: UserWarning: Issues encountered while parsing CIF: Some fractional coordinates rounded to ideal values to avoid issues with finite precision.\n",
            "  warnings.warn(\"Issues encountered while parsing CIF: \" + \"\\n\".join(self.warnings))\n",
            " 72% 612/846 [00:52<00:15, 15.36it/s]/usr/local/lib/python3.11/dist-packages/pymatgen/io/cif.py:1155: UserWarning: Issues encountered while parsing CIF: Some fractional coordinates rounded to ideal values to avoid issues with finite precision.\n",
            "  warnings.warn(\"Issues encountered while parsing CIF: \" + \"\\n\".join(self.warnings))\n",
            " 73% 614/846 [00:52<00:16, 14.02it/s]/usr/local/lib/python3.11/dist-packages/pymatgen/io/cif.py:1155: UserWarning: Issues encountered while parsing CIF: Some fractional coordinates rounded to ideal values to avoid issues with finite precision.\n",
            "  warnings.warn(\"Issues encountered while parsing CIF: \" + \"\\n\".join(self.warnings))\n",
            " 74% 623/846 [00:53<00:21, 10.46it/s]/usr/local/lib/python3.11/dist-packages/pymatgen/io/cif.py:1155: UserWarning: Issues encountered while parsing CIF: Some fractional coordinates rounded to ideal values to avoid issues with finite precision.\n",
            "  warnings.warn(\"Issues encountered while parsing CIF: \" + \"\\n\".join(self.warnings))\n",
            " 74% 627/846 [00:53<00:16, 13.17it/s]/usr/local/lib/python3.11/dist-packages/pymatgen/io/cif.py:1155: UserWarning: Issues encountered while parsing CIF: Some fractional coordinates rounded to ideal values to avoid issues with finite precision.\n",
            "  warnings.warn(\"Issues encountered while parsing CIF: \" + \"\\n\".join(self.warnings))\n",
            " 75% 634/846 [00:54<00:16, 13.00it/s]/usr/local/lib/python3.11/dist-packages/pymatgen/io/cif.py:1155: UserWarning: Issues encountered while parsing CIF: Some fractional coordinates rounded to ideal values to avoid issues with finite precision.\n",
            "  warnings.warn(\"Issues encountered while parsing CIF: \" + \"\\n\".join(self.warnings))\n",
            " 76% 645/846 [00:54<00:16, 12.41it/s]/usr/local/lib/python3.11/dist-packages/pymatgen/io/cif.py:1155: UserWarning: Issues encountered while parsing CIF: Some fractional coordinates rounded to ideal values to avoid issues with finite precision.\n",
            "  warnings.warn(\"Issues encountered while parsing CIF: \" + \"\\n\".join(self.warnings))\n",
            " 76% 647/846 [00:55<00:18, 10.82it/s]/usr/local/lib/python3.11/dist-packages/pymatgen/io/cif.py:1155: UserWarning: Issues encountered while parsing CIF: Some fractional coordinates rounded to ideal values to avoid issues with finite precision.\n",
            "  warnings.warn(\"Issues encountered while parsing CIF: \" + \"\\n\".join(self.warnings))\n",
            " 79% 665/846 [00:56<00:10, 16.86it/s]/usr/local/lib/python3.11/dist-packages/pymatgen/io/cif.py:1155: UserWarning: Issues encountered while parsing CIF: Some fractional coordinates rounded to ideal values to avoid issues with finite precision.\n",
            "  warnings.warn(\"Issues encountered while parsing CIF: \" + \"\\n\".join(self.warnings))\n",
            " 79% 669/846 [00:56<00:14, 12.44it/s]/usr/local/lib/python3.11/dist-packages/pymatgen/io/cif.py:1155: UserWarning: Issues encountered while parsing CIF: Some fractional coordinates rounded to ideal values to avoid issues with finite precision.\n",
            "  warnings.warn(\"Issues encountered while parsing CIF: \" + \"\\n\".join(self.warnings))\n",
            "/usr/local/lib/python3.11/dist-packages/pymatgen/io/cif.py:1155: UserWarning: Issues encountered while parsing CIF: Some fractional coordinates rounded to ideal values to avoid issues with finite precision.\n",
            "  warnings.warn(\"Issues encountered while parsing CIF: \" + \"\\n\".join(self.warnings))\n",
            " 80% 675/846 [00:57<00:13, 13.03it/s]/usr/local/lib/python3.11/dist-packages/pymatgen/io/cif.py:1155: UserWarning: Issues encountered while parsing CIF: Some fractional coordinates rounded to ideal values to avoid issues with finite precision.\n",
            "  warnings.warn(\"Issues encountered while parsing CIF: \" + \"\\n\".join(self.warnings))\n",
            " 80% 677/846 [00:57<00:14, 11.83it/s]/usr/local/lib/python3.11/dist-packages/pymatgen/io/cif.py:1155: UserWarning: Issues encountered while parsing CIF: Some fractional coordinates rounded to ideal values to avoid issues with finite precision.\n",
            "  warnings.warn(\"Issues encountered while parsing CIF: \" + \"\\n\".join(self.warnings))\n",
            " 80% 681/846 [00:57<00:16, 10.19it/s]/usr/local/lib/python3.11/dist-packages/pymatgen/io/cif.py:1155: UserWarning: Issues encountered while parsing CIF: Some fractional coordinates rounded to ideal values to avoid issues with finite precision.\n",
            "  warnings.warn(\"Issues encountered while parsing CIF: \" + \"\\n\".join(self.warnings))\n",
            "/usr/local/lib/python3.11/dist-packages/pymatgen/io/cif.py:1155: UserWarning: Issues encountered while parsing CIF: Some fractional coordinates rounded to ideal values to avoid issues with finite precision.\n",
            "  warnings.warn(\"Issues encountered while parsing CIF: \" + \"\\n\".join(self.warnings))\n",
            " 81% 683/846 [00:58<00:15, 10.58it/s]/usr/local/lib/python3.11/dist-packages/pymatgen/io/cif.py:1155: UserWarning: Issues encountered while parsing CIF: Some fractional coordinates rounded to ideal values to avoid issues with finite precision.\n",
            "  warnings.warn(\"Issues encountered while parsing CIF: \" + \"\\n\".join(self.warnings))\n",
            " 81% 687/846 [00:58<00:13, 11.77it/s]/usr/local/lib/python3.11/dist-packages/pymatgen/io/cif.py:1155: UserWarning: Issues encountered while parsing CIF: Some fractional coordinates rounded to ideal values to avoid issues with finite precision.\n",
            "  warnings.warn(\"Issues encountered while parsing CIF: \" + \"\\n\".join(self.warnings))\n",
            " 82% 695/846 [00:58<00:10, 14.06it/s]/usr/local/lib/python3.11/dist-packages/pymatgen/io/cif.py:1155: UserWarning: Issues encountered while parsing CIF: Some fractional coordinates rounded to ideal values to avoid issues with finite precision.\n",
            "  warnings.warn(\"Issues encountered while parsing CIF: \" + \"\\n\".join(self.warnings))\n",
            " 83% 699/846 [00:59<00:12, 11.51it/s]/usr/local/lib/python3.11/dist-packages/pymatgen/io/cif.py:1155: UserWarning: Issues encountered while parsing CIF: Some fractional coordinates rounded to ideal values to avoid issues with finite precision.\n",
            "  warnings.warn(\"Issues encountered while parsing CIF: \" + \"\\n\".join(self.warnings))\n",
            " 83% 703/846 [00:59<00:12, 11.61it/s]/usr/local/lib/python3.11/dist-packages/pymatgen/io/cif.py:1155: UserWarning: Issues encountered while parsing CIF: Some fractional coordinates rounded to ideal values to avoid issues with finite precision.\n",
            "  warnings.warn(\"Issues encountered while parsing CIF: \" + \"\\n\".join(self.warnings))\n",
            " 84% 712/846 [01:00<00:16,  8.21it/s]/usr/local/lib/python3.11/dist-packages/pymatgen/io/cif.py:1155: UserWarning: Issues encountered while parsing CIF: Some fractional coordinates rounded to ideal values to avoid issues with finite precision.\n",
            "  warnings.warn(\"Issues encountered while parsing CIF: \" + \"\\n\".join(self.warnings))\n",
            " 86% 728/846 [01:02<00:09, 12.23it/s]/usr/local/lib/python3.11/dist-packages/pymatgen/io/cif.py:1155: UserWarning: Issues encountered while parsing CIF: Some fractional coordinates rounded to ideal values to avoid issues with finite precision.\n",
            "  warnings.warn(\"Issues encountered while parsing CIF: \" + \"\\n\".join(self.warnings))\n",
            "/usr/local/lib/python3.11/dist-packages/pymatgen/io/cif.py:1155: UserWarning: Issues encountered while parsing CIF: Some fractional coordinates rounded to ideal values to avoid issues with finite precision.\n",
            "  warnings.warn(\"Issues encountered while parsing CIF: \" + \"\\n\".join(self.warnings))\n",
            " 89% 749/846 [01:03<00:07, 13.45it/s]/usr/local/lib/python3.11/dist-packages/pymatgen/io/cif.py:1155: UserWarning: Issues encountered while parsing CIF: Some fractional coordinates rounded to ideal values to avoid issues with finite precision.\n",
            "  warnings.warn(\"Issues encountered while parsing CIF: \" + \"\\n\".join(self.warnings))\n",
            " 90% 759/846 [01:04<00:06, 13.20it/s]/usr/local/lib/python3.11/dist-packages/pymatgen/io/cif.py:1155: UserWarning: Issues encountered while parsing CIF: Some fractional coordinates rounded to ideal values to avoid issues with finite precision.\n",
            "  warnings.warn(\"Issues encountered while parsing CIF: \" + \"\\n\".join(self.warnings))\n",
            " 90% 765/846 [01:04<00:05, 13.80it/s]/usr/local/lib/python3.11/dist-packages/pymatgen/io/cif.py:1155: UserWarning: Issues encountered while parsing CIF: Some fractional coordinates rounded to ideal values to avoid issues with finite precision.\n",
            "  warnings.warn(\"Issues encountered while parsing CIF: \" + \"\\n\".join(self.warnings))\n",
            " 91% 767/846 [01:05<00:06, 11.47it/s]/usr/local/lib/python3.11/dist-packages/pymatgen/io/cif.py:1155: UserWarning: Issues encountered while parsing CIF: Some fractional coordinates rounded to ideal values to avoid issues with finite precision.\n",
            "  warnings.warn(\"Issues encountered while parsing CIF: \" + \"\\n\".join(self.warnings))\n",
            " 92% 776/846 [01:05<00:05, 13.94it/s]/usr/local/lib/python3.11/dist-packages/pymatgen/io/cif.py:1155: UserWarning: Issues encountered while parsing CIF: Some fractional coordinates rounded to ideal values to avoid issues with finite precision.\n",
            "  warnings.warn(\"Issues encountered while parsing CIF: \" + \"\\n\".join(self.warnings))\n",
            " 93% 783/846 [01:06<00:04, 14.82it/s]/usr/local/lib/python3.11/dist-packages/pymatgen/io/cif.py:1155: UserWarning: Issues encountered while parsing CIF: Some fractional coordinates rounded to ideal values to avoid issues with finite precision.\n",
            "  warnings.warn(\"Issues encountered while parsing CIF: \" + \"\\n\".join(self.warnings))\n",
            " 93% 787/846 [01:06<00:04, 13.20it/s]/usr/local/lib/python3.11/dist-packages/pymatgen/io/cif.py:1155: UserWarning: Issues encountered while parsing CIF: Some fractional coordinates rounded to ideal values to avoid issues with finite precision.\n",
            "  warnings.warn(\"Issues encountered while parsing CIF: \" + \"\\n\".join(self.warnings))\n",
            " 93% 789/846 [01:06<00:04, 13.21it/s]/usr/local/lib/python3.11/dist-packages/pymatgen/io/cif.py:1155: UserWarning: Issues encountered while parsing CIF: Some fractional coordinates rounded to ideal values to avoid issues with finite precision.\n",
            "  warnings.warn(\"Issues encountered while parsing CIF: \" + \"\\n\".join(self.warnings))\n",
            " 93% 791/846 [01:06<00:04, 12.27it/s]/usr/local/lib/python3.11/dist-packages/pymatgen/io/cif.py:1155: UserWarning: Issues encountered while parsing CIF: Some fractional coordinates rounded to ideal values to avoid issues with finite precision.\n",
            "  warnings.warn(\"Issues encountered while parsing CIF: \" + \"\\n\".join(self.warnings))\n",
            "/usr/local/lib/python3.11/dist-packages/pymatgen/io/cif.py:1155: UserWarning: Issues encountered while parsing CIF: Some fractional coordinates rounded to ideal values to avoid issues with finite precision.\n",
            "  warnings.warn(\"Issues encountered while parsing CIF: \" + \"\\n\".join(self.warnings))\n",
            " 94% 797/846 [01:07<00:03, 12.32it/s]/usr/local/lib/python3.11/dist-packages/pymatgen/io/cif.py:1155: UserWarning: Issues encountered while parsing CIF: Some fractional coordinates rounded to ideal values to avoid issues with finite precision.\n",
            "  warnings.warn(\"Issues encountered while parsing CIF: \" + \"\\n\".join(self.warnings))\n",
            " 95% 802/846 [01:07<00:03, 13.79it/s]/usr/local/lib/python3.11/dist-packages/pymatgen/io/cif.py:1155: UserWarning: Issues encountered while parsing CIF: Some fractional coordinates rounded to ideal values to avoid issues with finite precision.\n",
            "  warnings.warn(\"Issues encountered while parsing CIF: \" + \"\\n\".join(self.warnings))\n",
            " 95% 804/846 [01:08<00:04, 10.30it/s]/usr/local/lib/python3.11/dist-packages/pymatgen/io/cif.py:1155: UserWarning: Issues encountered while parsing CIF: Some fractional coordinates rounded to ideal values to avoid issues with finite precision.\n",
            "  warnings.warn(\"Issues encountered while parsing CIF: \" + \"\\n\".join(self.warnings))\n",
            " 96% 808/846 [01:08<00:03, 11.52it/s]/usr/local/lib/python3.11/dist-packages/pymatgen/io/cif.py:1155: UserWarning: Issues encountered while parsing CIF: Some fractional coordinates rounded to ideal values to avoid issues with finite precision.\n",
            "  warnings.warn(\"Issues encountered while parsing CIF: \" + \"\\n\".join(self.warnings))\n",
            " 97% 818/846 [01:09<00:02, 11.63it/s]/usr/local/lib/python3.11/dist-packages/pymatgen/io/cif.py:1155: UserWarning: Issues encountered while parsing CIF: Some fractional coordinates rounded to ideal values to avoid issues with finite precision.\n",
            "  warnings.warn(\"Issues encountered while parsing CIF: \" + \"\\n\".join(self.warnings))\n",
            " 97% 820/846 [01:09<00:02, 12.12it/s]/usr/local/lib/python3.11/dist-packages/pymatgen/io/cif.py:1155: UserWarning: Issues encountered while parsing CIF: Some fractional coordinates rounded to ideal values to avoid issues with finite precision.\n",
            "  warnings.warn(\"Issues encountered while parsing CIF: \" + \"\\n\".join(self.warnings))\n",
            " 97% 822/846 [01:09<00:01, 12.65it/s]/usr/local/lib/python3.11/dist-packages/pymatgen/io/cif.py:1155: UserWarning: Issues encountered while parsing CIF: Some fractional coordinates rounded to ideal values to avoid issues with finite precision.\n",
            "  warnings.warn(\"Issues encountered while parsing CIF: \" + \"\\n\".join(self.warnings))\n",
            " 98% 826/846 [01:09<00:01, 13.32it/s]/usr/local/lib/python3.11/dist-packages/pymatgen/io/cif.py:1155: UserWarning: Issues encountered while parsing CIF: Some fractional coordinates rounded to ideal values to avoid issues with finite precision.\n",
            "  warnings.warn(\"Issues encountered while parsing CIF: \" + \"\\n\".join(self.warnings))\n",
            " 98% 828/846 [01:09<00:01, 13.37it/s]/usr/local/lib/python3.11/dist-packages/pymatgen/io/cif.py:1155: UserWarning: Issues encountered while parsing CIF: Some fractional coordinates rounded to ideal values to avoid issues with finite precision.\n",
            "  warnings.warn(\"Issues encountered while parsing CIF: \" + \"\\n\".join(self.warnings))\n",
            " 99% 837/846 [01:10<00:00, 16.19it/s]/usr/local/lib/python3.11/dist-packages/pymatgen/io/cif.py:1155: UserWarning: Issues encountered while parsing CIF: Some fractional coordinates rounded to ideal values to avoid issues with finite precision.\n",
            "  warnings.warn(\"Issues encountered while parsing CIF: \" + \"\\n\".join(self.warnings))\n",
            "100% 846/846 [01:11<00:00, 11.90it/s]\n",
            "/content/cdvae/cdvae/common/data_utils.py:644: UserWarning: Creating a tensor from a list of numpy.ndarrays is extremely slow. Please consider converting the list to a single numpy.ndarray with numpy.array() before converting to a tensor. (Triggered internally at /pytorch/torch/csrc/utils/tensor_new.cpp:254.)\n",
            "  targets = torch.tensor([d[key] for d in data_list])\n",
            "/content/cdvae/cdvae/common/data_utils.py:612: UserWarning: To copy construct from a tensor, it is recommended to use sourceTensor.clone().detach() or sourceTensor.clone().detach().requires_grad_(True), rather than torch.tensor(sourceTensor).\n",
            "  X = torch.tensor(X, dtype=torch.float)\n",
            "[2025-05-22 12:27:24,272][hydra.utils][INFO] - Instantiating <cdvae.pl_modules.model.CDVAE>\n",
            "/content/cdvae/cdvae/pl_modules/model.py:635: UserWarning: \n",
            "The version_base parameter is not specified.\n",
            "Please specify a compatability version level, or None.\n",
            "Will assume defaults for version 1.1\n",
            "  @hydra.main(config_path=str(PROJECT_ROOT / \"conf\"), config_name=\"default\")\n",
            "[2025-05-22 12:27:44,891][hydra.utils][INFO] - Passing scaler from datamodule to model <StandardScalerTorch(means: -3.505894660949707, stds: 4.726921081542969)>\n",
            "[2025-05-22 12:27:44,895][hydra.utils][INFO] - Adding callback <LearningRateMonitor>\n",
            "[2025-05-22 12:27:44,896][hydra.utils][INFO] - Adding callback <EarlyStopping>\n",
            "[2025-05-22 12:27:44,897][hydra.utils][INFO] - Adding callback <ModelCheckpoint>\n",
            "[2025-05-22 12:27:44,910][hydra.utils][INFO] - Instantiating <WandbLogger>\n",
            "\u001b[34m\u001b[1mwandb\u001b[0m: No netrc file found, creating one.\n",
            "\u001b[34m\u001b[1mwandb\u001b[0m: Appending key for api.wandb.ai to your netrc file: /root/.netrc\n",
            "\u001b[34m\u001b[1mwandb\u001b[0m: Currently logged in as: \u001b[33manony-mouse-32606482744538091\u001b[0m to \u001b[32mhttps://api.wandb.ai\u001b[0m. Use \u001b[1m`wandb login --relogin`\u001b[0m to force relogin\n",
            "\u001b[34m\u001b[1mwandb\u001b[0m: Tracking run with wandb version 0.19.11\n",
            "\u001b[34m\u001b[1mwandb\u001b[0m: Run data is saved locally in \u001b[35m\u001b[1m/content/cdvae/WABDB/wandb/run-20250522_122746-d3ik45v7\u001b[0m\n",
            "\u001b[34m\u001b[1mwandb\u001b[0m: Run \u001b[1m`wandb offline`\u001b[0m to turn off syncing.\n",
            "\u001b[34m\u001b[1mwandb\u001b[0m: Syncing run \u001b[33msupercon_test02\u001b[0m\n",
            "\u001b[34m\u001b[1mwandb\u001b[0m: ⭐️ View project at \u001b[34m\u001b[4mhttps://wandb.ai/anony-mouse-32606482744538091/crystal_generation_mit?apiKey=3bbc57adc0fa4877fcded9bb461beb4334f28fce\u001b[0m\n",
            "\u001b[34m\u001b[1mwandb\u001b[0m: 🚀 View run at \u001b[34m\u001b[4mhttps://wandb.ai/anony-mouse-32606482744538091/crystal_generation_mit/runs/d3ik45v7?apiKey=3bbc57adc0fa4877fcded9bb461beb4334f28fce\u001b[0m\n",
            "\u001b[34m\u001b[1mwandb\u001b[0m: \u001b[33mWARNING\u001b[0m Do NOT share these links with anyone. They can be used to claim your runs.\n",
            "[2025-05-22 12:27:47,557][hydra.utils][INFO] - W&B is now watching <{cfg.logging.wandb_watch.log}>!\n",
            "\u001b[34m\u001b[1mwandb\u001b[0m: logging graph, to disable use `wandb.watch(log_graph=False)`\n",
            "[2025-05-22 12:27:47,573][hydra.utils][INFO] - Instantiating the Trainer\n",
            "/usr/local/lib/python3.11/dist-packages/pytorch_lightning/trainer/connectors/callback_connector.py:96: LightningDeprecationWarning: Setting `Trainer(progress_bar_refresh_rate=20)` is deprecated in v1.5 and will be removed in v1.7. Please pass `pytorch_lightning.callbacks.progress.TQDMProgressBar` with `refresh_rate` directly to the Trainer's `callbacks` argument instead. Or, to disable the progress bar pass `enable_progress_bar = False` to the Trainer.\n",
            "  rank_zero_deprecation(\n",
            "GPU available: False, used: False\n",
            "TPU available: False, using: 0 TPU cores\n",
            "IPU available: False, using: 0 IPUs\n",
            "HPU available: False, using: 0 HPUs\n",
            "[2025-05-22 12:27:47,607][hydra.utils][INFO] - Starting training!\n",
            "  0% 3/846 [00:00<01:31,  9.19it/s]/usr/local/lib/python3.11/dist-packages/pymatgen/io/cif.py:1155: UserWarning: Issues encountered while parsing CIF: Some fractional coordinates rounded to ideal values to avoid issues with finite precision.\n",
            "  warnings.warn(\"Issues encountered while parsing CIF: \" + \"\\n\".join(self.warnings))\n",
            "/usr/local/lib/python3.11/dist-packages/pymatgen/io/cif.py:1155: UserWarning: Issues encountered while parsing CIF: Some fractional coordinates rounded to ideal values to avoid issues with finite precision.\n",
            "  warnings.warn(\"Issues encountered while parsing CIF: \" + \"\\n\".join(self.warnings))\n",
            "  1% 5/846 [00:00<01:16, 10.97it/s]/usr/local/lib/python3.11/dist-packages/pymatgen/io/cif.py:1155: UserWarning: Issues encountered while parsing CIF: Some fractional coordinates rounded to ideal values to avoid issues with finite precision.\n",
            "  warnings.warn(\"Issues encountered while parsing CIF: \" + \"\\n\".join(self.warnings))\n",
            "  1% 9/846 [00:00<01:04, 12.98it/s]/usr/local/lib/python3.11/dist-packages/pymatgen/io/cif.py:1155: UserWarning: Issues encountered while parsing CIF: Some fractional coordinates rounded to ideal values to avoid issues with finite precision.\n",
            "  warnings.warn(\"Issues encountered while parsing CIF: \" + \"\\n\".join(self.warnings))\n",
            "  2% 13/846 [00:00<00:46, 17.96it/s]/usr/local/lib/python3.11/dist-packages/pymatgen/io/cif.py:1155: UserWarning: Issues encountered while parsing CIF: Some fractional coordinates rounded to ideal values to avoid issues with finite precision.\n",
            "  warnings.warn(\"Issues encountered while parsing CIF: \" + \"\\n\".join(self.warnings))\n",
            "  3% 28/846 [00:01<00:48, 16.93it/s]/usr/local/lib/python3.11/dist-packages/pymatgen/io/cif.py:1155: UserWarning: Issues encountered while parsing CIF: Some fractional coordinates rounded to ideal values to avoid issues with finite precision.\n",
            "  warnings.warn(\"Issues encountered while parsing CIF: \" + \"\\n\".join(self.warnings))\n",
            "  4% 32/846 [00:02<00:52, 15.51it/s]/usr/local/lib/python3.11/dist-packages/pymatgen/io/cif.py:1155: UserWarning: Issues encountered while parsing CIF: Some fractional coordinates rounded to ideal values to avoid issues with finite precision.\n",
            "  warnings.warn(\"Issues encountered while parsing CIF: \" + \"\\n\".join(self.warnings))\n",
            "  4% 34/846 [00:02<00:53, 15.04it/s]/usr/local/lib/python3.11/dist-packages/pymatgen/io/cif.py:1155: UserWarning: Issues encountered while parsing CIF: Some fractional coordinates rounded to ideal values to avoid issues with finite precision.\n",
            "  warnings.warn(\"Issues encountered while parsing CIF: \" + \"\\n\".join(self.warnings))\n",
            "  4% 36/846 [00:02<01:04, 12.54it/s]/usr/local/lib/python3.11/dist-packages/pymatgen/io/cif.py:1155: UserWarning: Issues encountered while parsing CIF: Some fractional coordinates rounded to ideal values to avoid issues with finite precision.\n",
            "  warnings.warn(\"Issues encountered while parsing CIF: \" + \"\\n\".join(self.warnings))\n",
            "/usr/local/lib/python3.11/dist-packages/pymatgen/io/cif.py:1155: UserWarning: Issues encountered while parsing CIF: Some fractional coordinates rounded to ideal values to avoid issues with finite precision.\n",
            "  warnings.warn(\"Issues encountered while parsing CIF: \" + \"\\n\".join(self.warnings))\n",
            "/usr/local/lib/python3.11/dist-packages/pymatgen/io/cif.py:1155: UserWarning: Issues encountered while parsing CIF: Some fractional coordinates rounded to ideal values to avoid issues with finite precision.\n",
            "  warnings.warn(\"Issues encountered while parsing CIF: \" + \"\\n\".join(self.warnings))\n",
            "  5% 43/846 [00:03<01:07, 11.89it/s]/usr/local/lib/python3.11/dist-packages/pymatgen/io/cif.py:1155: UserWarning: Issues encountered while parsing CIF: Some fractional coordinates rounded to ideal values to avoid issues with finite precision.\n",
            "  warnings.warn(\"Issues encountered while parsing CIF: \" + \"\\n\".join(self.warnings))\n",
            "  5% 45/846 [00:03<01:33,  8.60it/s]/usr/local/lib/python3.11/dist-packages/pymatgen/io/cif.py:1155: UserWarning: Issues encountered while parsing CIF: Some fractional coordinates rounded to ideal values to avoid issues with finite precision.\n",
            "  warnings.warn(\"Issues encountered while parsing CIF: \" + \"\\n\".join(self.warnings))\n",
            "  6% 47/846 [00:03<01:39,  7.99it/s]/usr/local/lib/python3.11/dist-packages/pymatgen/io/cif.py:1155: UserWarning: Issues encountered while parsing CIF: Some fractional coordinates rounded to ideal values to avoid issues with finite precision.\n",
            "  warnings.warn(\"Issues encountered while parsing CIF: \" + \"\\n\".join(self.warnings))\n",
            "  8% 70/846 [00:06<01:28,  8.74it/s]/usr/local/lib/python3.11/dist-packages/pymatgen/io/cif.py:1155: UserWarning: Issues encountered while parsing CIF: Some fractional coordinates rounded to ideal values to avoid issues with finite precision.\n",
            "  warnings.warn(\"Issues encountered while parsing CIF: \" + \"\\n\".join(self.warnings))\n",
            "  9% 72/846 [00:06<01:15, 10.29it/s]/usr/local/lib/python3.11/dist-packages/pymatgen/io/cif.py:1155: UserWarning: Issues encountered while parsing CIF: Some fractional coordinates rounded to ideal values to avoid issues with finite precision.\n",
            "  warnings.warn(\"Issues encountered while parsing CIF: \" + \"\\n\".join(self.warnings))\n",
            "  9% 79/846 [00:07<01:07, 11.44it/s]/usr/local/lib/python3.11/dist-packages/pymatgen/io/cif.py:1155: UserWarning: Issues encountered while parsing CIF: Some fractional coordinates rounded to ideal values to avoid issues with finite precision.\n",
            "  warnings.warn(\"Issues encountered while parsing CIF: \" + \"\\n\".join(self.warnings))\n",
            " 10% 88/846 [00:07<00:50, 14.88it/s]/usr/local/lib/python3.11/dist-packages/pymatgen/io/cif.py:1155: UserWarning: Issues encountered while parsing CIF: Some fractional coordinates rounded to ideal values to avoid issues with finite precision.\n",
            "  warnings.warn(\"Issues encountered while parsing CIF: \" + \"\\n\".join(self.warnings))\n",
            " 11% 92/846 [00:08<01:04, 11.69it/s]/usr/local/lib/python3.11/dist-packages/pymatgen/io/cif.py:1155: UserWarning: Issues encountered while parsing CIF: Some fractional coordinates rounded to ideal values to avoid issues with finite precision.\n",
            "  warnings.warn(\"Issues encountered while parsing CIF: \" + \"\\n\".join(self.warnings))\n",
            " 12% 105/846 [00:09<00:53, 13.79it/s]/usr/local/lib/python3.11/dist-packages/pymatgen/io/cif.py:1155: UserWarning: Issues encountered while parsing CIF: Some fractional coordinates rounded to ideal values to avoid issues with finite precision.\n",
            "  warnings.warn(\"Issues encountered while parsing CIF: \" + \"\\n\".join(self.warnings))\n",
            " 13% 113/846 [00:09<00:41, 17.51it/s]/usr/local/lib/python3.11/dist-packages/pymatgen/io/cif.py:1155: UserWarning: Issues encountered while parsing CIF: Some fractional coordinates rounded to ideal values to avoid issues with finite precision.\n",
            "  warnings.warn(\"Issues encountered while parsing CIF: \" + \"\\n\".join(self.warnings))\n",
            " 15% 131/846 [00:11<01:04, 11.00it/s]/usr/local/lib/python3.11/dist-packages/pymatgen/io/cif.py:1155: UserWarning: Issues encountered while parsing CIF: Some fractional coordinates rounded to ideal values to avoid issues with finite precision.\n",
            "  warnings.warn(\"Issues encountered while parsing CIF: \" + \"\\n\".join(self.warnings))\n",
            " 17% 142/846 [00:11<00:46, 15.22it/s]/usr/local/lib/python3.11/dist-packages/pymatgen/io/cif.py:1155: UserWarning: Issues encountered while parsing CIF: Some fractional coordinates rounded to ideal values to avoid issues with finite precision.\n",
            "  warnings.warn(\"Issues encountered while parsing CIF: \" + \"\\n\".join(self.warnings))\n",
            " 17% 144/846 [00:12<00:46, 14.98it/s]/usr/local/lib/python3.11/dist-packages/pymatgen/io/cif.py:1155: UserWarning: Issues encountered while parsing CIF: Some fractional coordinates rounded to ideal values to avoid issues with finite precision.\n",
            "  warnings.warn(\"Issues encountered while parsing CIF: \" + \"\\n\".join(self.warnings))\n",
            " 17% 148/846 [00:12<00:45, 15.26it/s]/usr/local/lib/python3.11/dist-packages/pymatgen/io/cif.py:1155: UserWarning: Issues encountered while parsing CIF: Some fractional coordinates rounded to ideal values to avoid issues with finite precision.\n",
            "  warnings.warn(\"Issues encountered while parsing CIF: \" + \"\\n\".join(self.warnings))\n",
            " 18% 156/846 [00:12<00:48, 14.33it/s]/usr/local/lib/python3.11/dist-packages/pymatgen/io/cif.py:1155: UserWarning: Issues encountered while parsing CIF: Some fractional coordinates rounded to ideal values to avoid issues with finite precision.\n",
            "  warnings.warn(\"Issues encountered while parsing CIF: \" + \"\\n\".join(self.warnings))\n",
            "/usr/local/lib/python3.11/dist-packages/pymatgen/io/cif.py:1155: UserWarning: Issues encountered while parsing CIF: Some fractional coordinates rounded to ideal values to avoid issues with finite precision.\n",
            "  warnings.warn(\"Issues encountered while parsing CIF: \" + \"\\n\".join(self.warnings))\n",
            " 20% 170/846 [00:13<00:45, 14.92it/s]/usr/local/lib/python3.11/dist-packages/pymatgen/io/cif.py:1155: UserWarning: Issues encountered while parsing CIF: Some fractional coordinates rounded to ideal values to avoid issues with finite precision.\n",
            "  warnings.warn(\"Issues encountered while parsing CIF: \" + \"\\n\".join(self.warnings))\n",
            " 21% 181/846 [00:14<00:40, 16.37it/s]/usr/local/lib/python3.11/dist-packages/pymatgen/io/cif.py:1155: UserWarning: Issues encountered while parsing CIF: Some fractional coordinates rounded to ideal values to avoid issues with finite precision.\n",
            "  warnings.warn(\"Issues encountered while parsing CIF: \" + \"\\n\".join(self.warnings))\n",
            " 23% 192/846 [00:15<00:53, 12.32it/s]/usr/local/lib/python3.11/dist-packages/pymatgen/io/cif.py:1155: UserWarning: Issues encountered while parsing CIF: Some fractional coordinates rounded to ideal values to avoid issues with finite precision.\n",
            "  warnings.warn(\"Issues encountered while parsing CIF: \" + \"\\n\".join(self.warnings))\n",
            " 24% 201/846 [00:16<00:46, 13.90it/s]/usr/local/lib/python3.11/dist-packages/pymatgen/io/cif.py:1155: UserWarning: Issues encountered while parsing CIF: Some fractional coordinates rounded to ideal values to avoid issues with finite precision.\n",
            "  warnings.warn(\"Issues encountered while parsing CIF: \" + \"\\n\".join(self.warnings))\n",
            " 24% 207/846 [00:16<00:53, 11.95it/s]/usr/local/lib/python3.11/dist-packages/pymatgen/io/cif.py:1155: UserWarning: Issues encountered while parsing CIF: Some fractional coordinates rounded to ideal values to avoid issues with finite precision.\n",
            "  warnings.warn(\"Issues encountered while parsing CIF: \" + \"\\n\".join(self.warnings))\n",
            "/usr/local/lib/python3.11/dist-packages/pymatgen/io/cif.py:1155: UserWarning: Issues encountered while parsing CIF: Some fractional coordinates rounded to ideal values to avoid issues with finite precision.\n",
            "  warnings.warn(\"Issues encountered while parsing CIF: \" + \"\\n\".join(self.warnings))\n",
            " 26% 218/846 [00:18<01:27,  7.17it/s]/usr/local/lib/python3.11/dist-packages/pymatgen/io/cif.py:1155: UserWarning: Issues encountered while parsing CIF: Some fractional coordinates rounded to ideal values to avoid issues with finite precision.\n",
            "  warnings.warn(\"Issues encountered while parsing CIF: \" + \"\\n\".join(self.warnings))\n",
            " 26% 223/846 [00:18<01:02,  9.93it/s]/usr/local/lib/python3.11/dist-packages/pymatgen/io/cif.py:1155: UserWarning: Issues encountered while parsing CIF: Some fractional coordinates rounded to ideal values to avoid issues with finite precision.\n",
            "  warnings.warn(\"Issues encountered while parsing CIF: \" + \"\\n\".join(self.warnings))\n",
            " 27% 225/846 [00:19<01:18,  7.92it/s]/usr/local/lib/python3.11/dist-packages/pymatgen/io/cif.py:1155: UserWarning: Issues encountered while parsing CIF: Some fractional coordinates rounded to ideal values to avoid issues with finite precision.\n",
            "  warnings.warn(\"Issues encountered while parsing CIF: \" + \"\\n\".join(self.warnings))\n",
            " 29% 245/846 [00:21<00:53, 11.23it/s]/usr/local/lib/python3.11/dist-packages/pymatgen/io/cif.py:1155: UserWarning: Issues encountered while parsing CIF: Some fractional coordinates rounded to ideal values to avoid issues with finite precision.\n",
            "  warnings.warn(\"Issues encountered while parsing CIF: \" + \"\\n\".join(self.warnings))\n",
            " 30% 252/846 [00:21<00:48, 12.29it/s]/usr/local/lib/python3.11/dist-packages/pymatgen/io/cif.py:1155: UserWarning: Issues encountered while parsing CIF: Some fractional coordinates rounded to ideal values to avoid issues with finite precision.\n",
            "  warnings.warn(\"Issues encountered while parsing CIF: \" + \"\\n\".join(self.warnings))\n",
            " 30% 254/846 [00:21<00:44, 13.28it/s]/usr/local/lib/python3.11/dist-packages/pymatgen/io/cif.py:1155: UserWarning: Issues encountered while parsing CIF: Some fractional coordinates rounded to ideal values to avoid issues with finite precision.\n",
            "  warnings.warn(\"Issues encountered while parsing CIF: \" + \"\\n\".join(self.warnings))\n",
            " 31% 260/846 [00:22<00:50, 11.57it/s]/usr/local/lib/python3.11/dist-packages/pymatgen/io/cif.py:1155: UserWarning: Issues encountered while parsing CIF: Some fractional coordinates rounded to ideal values to avoid issues with finite precision.\n",
            "  warnings.warn(\"Issues encountered while parsing CIF: \" + \"\\n\".join(self.warnings))\n",
            " 31% 262/846 [00:22<00:46, 12.60it/s]/usr/local/lib/python3.11/dist-packages/pymatgen/io/cif.py:1155: UserWarning: Issues encountered while parsing CIF: Some fractional coordinates rounded to ideal values to avoid issues with finite precision.\n",
            "  warnings.warn(\"Issues encountered while parsing CIF: \" + \"\\n\".join(self.warnings))\n",
            " 31% 266/846 [00:23<00:53, 10.78it/s]/usr/local/lib/python3.11/dist-packages/pymatgen/io/cif.py:1155: UserWarning: Issues encountered while parsing CIF: Some fractional coordinates rounded to ideal values to avoid issues with finite precision.\n",
            "  warnings.warn(\"Issues encountered while parsing CIF: \" + \"\\n\".join(self.warnings))\n",
            " 32% 268/846 [00:23<00:49, 11.58it/s]/usr/local/lib/python3.11/dist-packages/pymatgen/io/cif.py:1155: UserWarning: Issues encountered while parsing CIF: Some fractional coordinates rounded to ideal values to avoid issues with finite precision.\n",
            "  warnings.warn(\"Issues encountered while parsing CIF: \" + \"\\n\".join(self.warnings))\n",
            " 32% 270/846 [00:23<00:45, 12.65it/s]/usr/local/lib/python3.11/dist-packages/pymatgen/io/cif.py:1155: UserWarning: Issues encountered while parsing CIF: Some fractional coordinates rounded to ideal values to avoid issues with finite precision.\n",
            "  warnings.warn(\"Issues encountered while parsing CIF: \" + \"\\n\".join(self.warnings))\n",
            " 32% 272/846 [00:23<00:41, 13.78it/s]/usr/local/lib/python3.11/dist-packages/pymatgen/io/cif.py:1155: UserWarning: Issues encountered while parsing CIF: Some fractional coordinates rounded to ideal values to avoid issues with finite precision.\n",
            "  warnings.warn(\"Issues encountered while parsing CIF: \" + \"\\n\".join(self.warnings))\n",
            " 32% 274/846 [00:23<00:43, 13.23it/s]/usr/local/lib/python3.11/dist-packages/pymatgen/io/cif.py:1155: UserWarning: Issues encountered while parsing CIF: Some fractional coordinates rounded to ideal values to avoid issues with finite precision.\n",
            "  warnings.warn(\"Issues encountered while parsing CIF: \" + \"\\n\".join(self.warnings))\n",
            " 33% 282/846 [00:24<00:48, 11.52it/s]/usr/local/lib/python3.11/dist-packages/pymatgen/io/cif.py:1155: UserWarning: Issues encountered while parsing CIF: Some fractional coordinates rounded to ideal values to avoid issues with finite precision.\n",
            "  warnings.warn(\"Issues encountered while parsing CIF: \" + \"\\n\".join(self.warnings))\n",
            " 34% 286/846 [00:24<00:41, 13.34it/s]/usr/local/lib/python3.11/dist-packages/pymatgen/io/cif.py:1155: UserWarning: Issues encountered while parsing CIF: Some fractional coordinates rounded to ideal values to avoid issues with finite precision.\n",
            "  warnings.warn(\"Issues encountered while parsing CIF: \" + \"\\n\".join(self.warnings))\n",
            " 35% 298/846 [00:25<00:50, 10.87it/s]/usr/local/lib/python3.11/dist-packages/pymatgen/io/cif.py:1155: UserWarning: Issues encountered while parsing CIF: Some fractional coordinates rounded to ideal values to avoid issues with finite precision.\n",
            "  warnings.warn(\"Issues encountered while parsing CIF: \" + \"\\n\".join(self.warnings))\n",
            " 36% 302/846 [00:25<00:45, 11.99it/s]/usr/local/lib/python3.11/dist-packages/pymatgen/io/cif.py:1155: UserWarning: Issues encountered while parsing CIF: Some fractional coordinates rounded to ideal values to avoid issues with finite precision.\n",
            "  warnings.warn(\"Issues encountered while parsing CIF: \" + \"\\n\".join(self.warnings))\n",
            " 36% 304/846 [00:26<00:46, 11.59it/s]/usr/local/lib/python3.11/dist-packages/pymatgen/io/cif.py:1155: UserWarning: Issues encountered while parsing CIF: Some fractional coordinates rounded to ideal values to avoid issues with finite precision.\n",
            "  warnings.warn(\"Issues encountered while parsing CIF: \" + \"\\n\".join(self.warnings))\n",
            " 36% 306/846 [00:26<00:52, 10.31it/s]/usr/local/lib/python3.11/dist-packages/pymatgen/io/cif.py:1155: UserWarning: Issues encountered while parsing CIF: Some fractional coordinates rounded to ideal values to avoid issues with finite precision.\n",
            "  warnings.warn(\"Issues encountered while parsing CIF: \" + \"\\n\".join(self.warnings))\n",
            " 37% 311/846 [00:26<00:41, 12.79it/s]/usr/local/lib/python3.11/dist-packages/pymatgen/io/cif.py:1155: UserWarning: Issues encountered while parsing CIF: Some fractional coordinates rounded to ideal values to avoid issues with finite precision.\n",
            "  warnings.warn(\"Issues encountered while parsing CIF: \" + \"\\n\".join(self.warnings))\n",
            " 38% 321/846 [00:27<00:39, 13.15it/s]/usr/local/lib/python3.11/dist-packages/pymatgen/io/cif.py:1155: UserWarning: Issues encountered while parsing CIF: Some fractional coordinates rounded to ideal values to avoid issues with finite precision.\n",
            "  warnings.warn(\"Issues encountered while parsing CIF: \" + \"\\n\".join(self.warnings))\n",
            " 38% 323/846 [00:27<00:40, 12.89it/s]/usr/local/lib/python3.11/dist-packages/pymatgen/io/cif.py:1155: UserWarning: Issues encountered while parsing CIF: Some fractional coordinates rounded to ideal values to avoid issues with finite precision.\n",
            "  warnings.warn(\"Issues encountered while parsing CIF: \" + \"\\n\".join(self.warnings))\n",
            " 40% 335/846 [00:29<00:55,  9.20it/s]/usr/local/lib/python3.11/dist-packages/pymatgen/io/cif.py:1155: UserWarning: Issues encountered while parsing CIF: Some fractional coordinates rounded to ideal values to avoid issues with finite precision.\n",
            "  warnings.warn(\"Issues encountered while parsing CIF: \" + \"\\n\".join(self.warnings))\n",
            " 40% 337/846 [00:29<00:48, 10.49it/s]/usr/local/lib/python3.11/dist-packages/pymatgen/io/cif.py:1155: UserWarning: Issues encountered while parsing CIF: Some fractional coordinates rounded to ideal values to avoid issues with finite precision.\n",
            "  warnings.warn(\"Issues encountered while parsing CIF: \" + \"\\n\".join(self.warnings))\n",
            " 41% 345/846 [00:30<00:40, 12.33it/s]/usr/local/lib/python3.11/dist-packages/pymatgen/io/cif.py:1155: UserWarning: Issues encountered while parsing CIF: Some fractional coordinates rounded to ideal values to avoid issues with finite precision.\n",
            "  warnings.warn(\"Issues encountered while parsing CIF: \" + \"\\n\".join(self.warnings))\n",
            " 42% 355/846 [00:31<00:54,  8.95it/s]/usr/local/lib/python3.11/dist-packages/pymatgen/io/cif.py:1155: UserWarning: Issues encountered while parsing CIF: Some fractional coordinates rounded to ideal values to avoid issues with finite precision.\n",
            "  warnings.warn(\"Issues encountered while parsing CIF: \" + \"\\n\".join(self.warnings))\n",
            " 42% 357/846 [00:31<00:51,  9.50it/s]/usr/local/lib/python3.11/dist-packages/pymatgen/io/cif.py:1155: UserWarning: Issues encountered while parsing CIF: Some fractional coordinates rounded to ideal values to avoid issues with finite precision.\n",
            "  warnings.warn(\"Issues encountered while parsing CIF: \" + \"\\n\".join(self.warnings))\n",
            " 43% 366/846 [00:32<01:17,  6.22it/s]/usr/local/lib/python3.11/dist-packages/pymatgen/io/cif.py:1155: UserWarning: Issues encountered while parsing CIF: Some fractional coordinates rounded to ideal values to avoid issues with finite precision.\n",
            "  warnings.warn(\"Issues encountered while parsing CIF: \" + \"\\n\".join(self.warnings))\n",
            " 44% 373/846 [00:33<01:21,  5.83it/s]/usr/local/lib/python3.11/dist-packages/pymatgen/io/cif.py:1155: UserWarning: Issues encountered while parsing CIF: Some fractional coordinates rounded to ideal values to avoid issues with finite precision.\n",
            "  warnings.warn(\"Issues encountered while parsing CIF: \" + \"\\n\".join(self.warnings))\n",
            " 46% 387/846 [00:34<00:36, 12.50it/s]/usr/local/lib/python3.11/dist-packages/pymatgen/io/cif.py:1155: UserWarning: Issues encountered while parsing CIF: Some fractional coordinates rounded to ideal values to avoid issues with finite precision.\n",
            "  warnings.warn(\"Issues encountered while parsing CIF: \" + \"\\n\".join(self.warnings))\n",
            " 46% 389/846 [00:35<00:33, 13.74it/s]/usr/local/lib/python3.11/dist-packages/pymatgen/io/cif.py:1155: UserWarning: Issues encountered while parsing CIF: Some fractional coordinates rounded to ideal values to avoid issues with finite precision.\n",
            "  warnings.warn(\"Issues encountered while parsing CIF: \" + \"\\n\".join(self.warnings))\n",
            " 46% 391/846 [00:35<00:32, 14.17it/s]/usr/local/lib/python3.11/dist-packages/pymatgen/io/cif.py:1155: UserWarning: Issues encountered while parsing CIF: Some fractional coordinates rounded to ideal values to avoid issues with finite precision.\n",
            "  warnings.warn(\"Issues encountered while parsing CIF: \" + \"\\n\".join(self.warnings))\n",
            "/usr/local/lib/python3.11/dist-packages/pymatgen/io/cif.py:1155: UserWarning: Issues encountered while parsing CIF: Some fractional coordinates rounded to ideal values to avoid issues with finite precision.\n",
            "  warnings.warn(\"Issues encountered while parsing CIF: \" + \"\\n\".join(self.warnings))\n",
            " 47% 395/846 [00:35<00:39, 11.53it/s]/usr/local/lib/python3.11/dist-packages/pymatgen/io/cif.py:1155: UserWarning: Issues encountered while parsing CIF: Some fractional coordinates rounded to ideal values to avoid issues with finite precision.\n",
            "  warnings.warn(\"Issues encountered while parsing CIF: \" + \"\\n\".join(self.warnings))\n",
            " 47% 401/846 [00:36<00:38, 11.61it/s]/usr/local/lib/python3.11/dist-packages/pymatgen/io/cif.py:1155: UserWarning: Issues encountered while parsing CIF: Some fractional coordinates rounded to ideal values to avoid issues with finite precision.\n",
            "  warnings.warn(\"Issues encountered while parsing CIF: \" + \"\\n\".join(self.warnings))\n",
            " 48% 407/846 [00:36<00:47,  9.28it/s]/usr/local/lib/python3.11/dist-packages/pymatgen/io/cif.py:1155: UserWarning: Issues encountered while parsing CIF: Some fractional coordinates rounded to ideal values to avoid issues with finite precision.\n",
            "  warnings.warn(\"Issues encountered while parsing CIF: \" + \"\\n\".join(self.warnings))\n",
            "/usr/local/lib/python3.11/dist-packages/pymatgen/io/cif.py:1155: UserWarning: Issues encountered while parsing CIF: Some fractional coordinates rounded to ideal values to avoid issues with finite precision.\n",
            "  warnings.warn(\"Issues encountered while parsing CIF: \" + \"\\n\".join(self.warnings))\n",
            " 50% 419/846 [00:37<00:36, 11.62it/s]/usr/local/lib/python3.11/dist-packages/pymatgen/io/cif.py:1155: UserWarning: Issues encountered while parsing CIF: Some fractional coordinates rounded to ideal values to avoid issues with finite precision.\n",
            "  warnings.warn(\"Issues encountered while parsing CIF: \" + \"\\n\".join(self.warnings))\n",
            "/usr/local/lib/python3.11/dist-packages/pymatgen/io/cif.py:1155: UserWarning: Issues encountered while parsing CIF: Some fractional coordinates rounded to ideal values to avoid issues with finite precision.\n",
            "  warnings.warn(\"Issues encountered while parsing CIF: \" + \"\\n\".join(self.warnings))\n",
            " 51% 431/846 [00:38<00:27, 15.05it/s]/usr/local/lib/python3.11/dist-packages/pymatgen/io/cif.py:1155: UserWarning: Issues encountered while parsing CIF: Some fractional coordinates rounded to ideal values to avoid issues with finite precision.\n",
            "  warnings.warn(\"Issues encountered while parsing CIF: \" + \"\\n\".join(self.warnings))\n",
            " 51% 434/846 [00:38<00:23, 17.18it/s]/usr/local/lib/python3.11/dist-packages/pymatgen/io/cif.py:1155: UserWarning: Issues encountered while parsing CIF: Some fractional coordinates rounded to ideal values to avoid issues with finite precision.\n",
            "  warnings.warn(\"Issues encountered while parsing CIF: \" + \"\\n\".join(self.warnings))\n",
            " 52% 442/846 [00:39<00:35, 11.53it/s]/usr/local/lib/python3.11/dist-packages/pymatgen/io/cif.py:1155: UserWarning: Issues encountered while parsing CIF: Some fractional coordinates rounded to ideal values to avoid issues with finite precision.\n",
            "  warnings.warn(\"Issues encountered while parsing CIF: \" + \"\\n\".join(self.warnings))\n",
            " 53% 446/846 [00:39<00:33, 11.88it/s]/usr/local/lib/python3.11/dist-packages/pymatgen/io/cif.py:1155: UserWarning: Issues encountered while parsing CIF: Some fractional coordinates rounded to ideal values to avoid issues with finite precision.\n",
            "  warnings.warn(\"Issues encountered while parsing CIF: \" + \"\\n\".join(self.warnings))\n",
            "/usr/local/lib/python3.11/dist-packages/pymatgen/io/cif.py:1155: UserWarning: Issues encountered while parsing CIF: Some fractional coordinates rounded to ideal values to avoid issues with finite precision.\n",
            "  warnings.warn(\"Issues encountered while parsing CIF: \" + \"\\n\".join(self.warnings))\n",
            " 53% 448/846 [00:39<00:29, 13.30it/s]/usr/local/lib/python3.11/dist-packages/pymatgen/io/cif.py:1155: UserWarning: Issues encountered while parsing CIF: Some fractional coordinates rounded to ideal values to avoid issues with finite precision.\n",
            "  warnings.warn(\"Issues encountered while parsing CIF: \" + \"\\n\".join(self.warnings))\n",
            " 54% 457/846 [00:40<00:34, 11.19it/s]/usr/local/lib/python3.11/dist-packages/pymatgen/io/cif.py:1155: UserWarning: Issues encountered while parsing CIF: Some fractional coordinates rounded to ideal values to avoid issues with finite precision.\n",
            "  warnings.warn(\"Issues encountered while parsing CIF: \" + \"\\n\".join(self.warnings))\n",
            " 54% 460/846 [00:40<00:28, 13.59it/s]/usr/local/lib/python3.11/dist-packages/pymatgen/io/cif.py:1155: UserWarning: Issues encountered while parsing CIF: Some fractional coordinates rounded to ideal values to avoid issues with finite precision.\n",
            "  warnings.warn(\"Issues encountered while parsing CIF: \" + \"\\n\".join(self.warnings))\n",
            " 55% 465/846 [00:41<00:29, 13.09it/s]/usr/local/lib/python3.11/dist-packages/pymatgen/io/cif.py:1155: UserWarning: Issues encountered while parsing CIF: Some fractional coordinates rounded to ideal values to avoid issues with finite precision.\n",
            "  warnings.warn(\"Issues encountered while parsing CIF: \" + \"\\n\".join(self.warnings))\n",
            " 55% 467/846 [00:41<00:27, 13.83it/s]/usr/local/lib/python3.11/dist-packages/pymatgen/io/cif.py:1155: UserWarning: Issues encountered while parsing CIF: Some fractional coordinates rounded to ideal values to avoid issues with finite precision.\n",
            "  warnings.warn(\"Issues encountered while parsing CIF: \" + \"\\n\".join(self.warnings))\n",
            "/usr/local/lib/python3.11/dist-packages/pymatgen/io/cif.py:1155: UserWarning: Issues encountered while parsing CIF: Some fractional coordinates rounded to ideal values to avoid issues with finite precision.\n",
            "  warnings.warn(\"Issues encountered while parsing CIF: \" + \"\\n\".join(self.warnings))\n",
            " 56% 475/846 [00:42<00:29, 12.41it/s]/usr/local/lib/python3.11/dist-packages/pymatgen/io/cif.py:1155: UserWarning: Issues encountered while parsing CIF: Some fractional coordinates rounded to ideal values to avoid issues with finite precision.\n",
            "  warnings.warn(\"Issues encountered while parsing CIF: \" + \"\\n\".join(self.warnings))\n",
            " 58% 487/846 [00:42<00:26, 13.67it/s]/usr/local/lib/python3.11/dist-packages/pymatgen/io/cif.py:1155: UserWarning: Issues encountered while parsing CIF: Some fractional coordinates rounded to ideal values to avoid issues with finite precision.\n",
            "  warnings.warn(\"Issues encountered while parsing CIF: \" + \"\\n\".join(self.warnings))\n",
            " 58% 489/846 [00:43<00:27, 12.81it/s]/usr/local/lib/python3.11/dist-packages/pymatgen/io/cif.py:1155: UserWarning: Issues encountered while parsing CIF: Some fractional coordinates rounded to ideal values to avoid issues with finite precision.\n",
            "  warnings.warn(\"Issues encountered while parsing CIF: \" + \"\\n\".join(self.warnings))\n",
            " 59% 498/846 [00:43<00:25, 13.41it/s]/usr/local/lib/python3.11/dist-packages/pymatgen/io/cif.py:1155: UserWarning: Issues encountered while parsing CIF: Some fractional coordinates rounded to ideal values to avoid issues with finite precision.\n",
            "  warnings.warn(\"Issues encountered while parsing CIF: \" + \"\\n\".join(self.warnings))\n",
            " 59% 503/846 [00:44<00:23, 14.53it/s]/usr/local/lib/python3.11/dist-packages/pymatgen/io/cif.py:1155: UserWarning: Issues encountered while parsing CIF: Some fractional coordinates rounded to ideal values to avoid issues with finite precision.\n",
            "  warnings.warn(\"Issues encountered while parsing CIF: \" + \"\\n\".join(self.warnings))\n",
            " 60% 511/846 [00:44<00:31, 10.56it/s]/usr/local/lib/python3.11/dist-packages/pymatgen/io/cif.py:1155: UserWarning: Issues encountered while parsing CIF: Some fractional coordinates rounded to ideal values to avoid issues with finite precision.\n",
            "  warnings.warn(\"Issues encountered while parsing CIF: \" + \"\\n\".join(self.warnings))\n",
            " 61% 513/846 [00:45<00:41,  8.04it/s]/usr/local/lib/python3.11/dist-packages/pymatgen/io/cif.py:1155: UserWarning: Issues encountered while parsing CIF: Some fractional coordinates rounded to ideal values to avoid issues with finite precision.\n",
            "  warnings.warn(\"Issues encountered while parsing CIF: \" + \"\\n\".join(self.warnings))\n",
            " 61% 517/846 [00:45<00:33,  9.95it/s]/usr/local/lib/python3.11/dist-packages/pymatgen/io/cif.py:1155: UserWarning: Issues encountered while parsing CIF: Some fractional coordinates rounded to ideal values to avoid issues with finite precision.\n",
            "  warnings.warn(\"Issues encountered while parsing CIF: \" + \"\\n\".join(self.warnings))\n",
            " 62% 521/846 [00:46<00:38,  8.42it/s]/usr/local/lib/python3.11/dist-packages/pymatgen/io/cif.py:1155: UserWarning: Issues encountered while parsing CIF: Some fractional coordinates rounded to ideal values to avoid issues with finite precision.\n",
            "  warnings.warn(\"Issues encountered while parsing CIF: \" + \"\\n\".join(self.warnings))\n",
            " 63% 534/846 [00:48<00:52,  5.90it/s]/usr/local/lib/python3.11/dist-packages/pymatgen/io/cif.py:1155: UserWarning: Issues encountered while parsing CIF: Some fractional coordinates rounded to ideal values to avoid issues with finite precision.\n",
            "  warnings.warn(\"Issues encountered while parsing CIF: \" + \"\\n\".join(self.warnings))\n",
            " 64% 539/846 [00:48<00:33,  9.07it/s]/usr/local/lib/python3.11/dist-packages/pymatgen/io/cif.py:1155: UserWarning: Issues encountered while parsing CIF: Some fractional coordinates rounded to ideal values to avoid issues with finite precision.\n",
            "  warnings.warn(\"Issues encountered while parsing CIF: \" + \"\\n\".join(self.warnings))\n",
            " 64% 541/846 [00:48<00:28, 10.54it/s]/usr/local/lib/python3.11/dist-packages/pymatgen/io/cif.py:1155: UserWarning: Issues encountered while parsing CIF: Some fractional coordinates rounded to ideal values to avoid issues with finite precision.\n",
            "  warnings.warn(\"Issues encountered while parsing CIF: \" + \"\\n\".join(self.warnings))\n",
            " 64% 545/846 [00:49<00:27, 11.06it/s]/usr/local/lib/python3.11/dist-packages/pymatgen/io/cif.py:1155: UserWarning: Issues encountered while parsing CIF: Some fractional coordinates rounded to ideal values to avoid issues with finite precision.\n",
            "  warnings.warn(\"Issues encountered while parsing CIF: \" + \"\\n\".join(self.warnings))\n",
            " 65% 548/846 [00:49<00:21, 13.65it/s]/usr/local/lib/python3.11/dist-packages/pymatgen/io/cif.py:1155: UserWarning: Issues encountered while parsing CIF: Some fractional coordinates rounded to ideal values to avoid issues with finite precision.\n",
            "  warnings.warn(\"Issues encountered while parsing CIF: \" + \"\\n\".join(self.warnings))\n",
            " 65% 550/846 [00:49<00:27, 10.90it/s]/usr/local/lib/python3.11/dist-packages/pymatgen/io/cif.py:1155: UserWarning: Issues encountered while parsing CIF: Some fractional coordinates rounded to ideal values to avoid issues with finite precision.\n",
            "  warnings.warn(\"Issues encountered while parsing CIF: \" + \"\\n\".join(self.warnings))\n",
            " 67% 565/846 [00:50<00:20, 13.74it/s]/usr/local/lib/python3.11/dist-packages/pymatgen/io/cif.py:1155: UserWarning: Issues encountered while parsing CIF: Some fractional coordinates rounded to ideal values to avoid issues with finite precision.\n",
            "  warnings.warn(\"Issues encountered while parsing CIF: \" + \"\\n\".join(self.warnings))\n",
            " 68% 574/846 [00:51<00:19, 14.30it/s]/usr/local/lib/python3.11/dist-packages/pymatgen/io/cif.py:1155: UserWarning: Issues encountered while parsing CIF: Some fractional coordinates rounded to ideal values to avoid issues with finite precision.\n",
            "  warnings.warn(\"Issues encountered while parsing CIF: \" + \"\\n\".join(self.warnings))\n",
            " 68% 576/846 [00:51<00:21, 12.50it/s]/usr/local/lib/python3.11/dist-packages/pymatgen/io/cif.py:1155: UserWarning: Issues encountered while parsing CIF: Some fractional coordinates rounded to ideal values to avoid issues with finite precision.\n",
            "  warnings.warn(\"Issues encountered while parsing CIF: \" + \"\\n\".join(self.warnings))\n",
            " 68% 579/846 [00:51<00:16, 15.96it/s]/usr/local/lib/python3.11/dist-packages/pymatgen/io/cif.py:1155: UserWarning: Issues encountered while parsing CIF: Some fractional coordinates rounded to ideal values to avoid issues with finite precision.\n",
            "  warnings.warn(\"Issues encountered while parsing CIF: \" + \"\\n\".join(self.warnings))\n",
            " 69% 586/846 [00:52<00:15, 16.73it/s]/usr/local/lib/python3.11/dist-packages/pymatgen/io/cif.py:1155: UserWarning: Issues encountered while parsing CIF: Some fractional coordinates rounded to ideal values to avoid issues with finite precision.\n",
            "  warnings.warn(\"Issues encountered while parsing CIF: \" + \"\\n\".join(self.warnings))\n",
            " 70% 588/846 [00:52<00:18, 14.22it/s]/usr/local/lib/python3.11/dist-packages/pymatgen/io/cif.py:1155: UserWarning: Issues encountered while parsing CIF: Some fractional coordinates rounded to ideal values to avoid issues with finite precision.\n",
            "  warnings.warn(\"Issues encountered while parsing CIF: \" + \"\\n\".join(self.warnings))\n",
            " 70% 590/846 [00:52<00:20, 12.61it/s]/usr/local/lib/python3.11/dist-packages/pymatgen/io/cif.py:1155: UserWarning: Issues encountered while parsing CIF: Some fractional coordinates rounded to ideal values to avoid issues with finite precision.\n",
            "  warnings.warn(\"Issues encountered while parsing CIF: \" + \"\\n\".join(self.warnings))\n",
            " 70% 592/846 [00:52<00:19, 12.89it/s]/usr/local/lib/python3.11/dist-packages/pymatgen/io/cif.py:1155: UserWarning: Issues encountered while parsing CIF: Some fractional coordinates rounded to ideal values to avoid issues with finite precision.\n",
            "  warnings.warn(\"Issues encountered while parsing CIF: \" + \"\\n\".join(self.warnings))\n",
            " 71% 601/846 [00:53<00:20, 11.97it/s]/usr/local/lib/python3.11/dist-packages/pymatgen/io/cif.py:1155: UserWarning: Issues encountered while parsing CIF: Some fractional coordinates rounded to ideal values to avoid issues with finite precision.\n",
            "  warnings.warn(\"Issues encountered while parsing CIF: \" + \"\\n\".join(self.warnings))\n",
            " 72% 605/846 [00:53<00:17, 14.12it/s]/usr/local/lib/python3.11/dist-packages/pymatgen/io/cif.py:1155: UserWarning: Issues encountered while parsing CIF: Some fractional coordinates rounded to ideal values to avoid issues with finite precision.\n",
            "  warnings.warn(\"Issues encountered while parsing CIF: \" + \"\\n\".join(self.warnings))\n",
            " 72% 607/846 [00:53<00:16, 14.87it/s]/usr/local/lib/python3.11/dist-packages/pymatgen/io/cif.py:1155: UserWarning: Issues encountered while parsing CIF: Some fractional coordinates rounded to ideal values to avoid issues with finite precision.\n",
            "  warnings.warn(\"Issues encountered while parsing CIF: \" + \"\\n\".join(self.warnings))\n",
            " 72% 610/846 [00:53<00:15, 15.00it/s]/usr/local/lib/python3.11/dist-packages/pymatgen/io/cif.py:1155: UserWarning: Issues encountered while parsing CIF: Some fractional coordinates rounded to ideal values to avoid issues with finite precision.\n",
            "  warnings.warn(\"Issues encountered while parsing CIF: \" + \"\\n\".join(self.warnings))\n",
            " 72% 612/846 [00:54<00:15, 15.51it/s]/usr/local/lib/python3.11/dist-packages/pymatgen/io/cif.py:1155: UserWarning: Issues encountered while parsing CIF: Some fractional coordinates rounded to ideal values to avoid issues with finite precision.\n",
            "  warnings.warn(\"Issues encountered while parsing CIF: \" + \"\\n\".join(self.warnings))\n",
            "/usr/local/lib/python3.11/dist-packages/pymatgen/io/cif.py:1155: UserWarning: Issues encountered while parsing CIF: Some fractional coordinates rounded to ideal values to avoid issues with finite precision.\n",
            "  warnings.warn(\"Issues encountered while parsing CIF: \" + \"\\n\".join(self.warnings))\n",
            " 74% 623/846 [00:55<00:21, 10.56it/s]/usr/local/lib/python3.11/dist-packages/pymatgen/io/cif.py:1155: UserWarning: Issues encountered while parsing CIF: Some fractional coordinates rounded to ideal values to avoid issues with finite precision.\n",
            "  warnings.warn(\"Issues encountered while parsing CIF: \" + \"\\n\".join(self.warnings))\n",
            " 74% 627/846 [00:55<00:16, 13.33it/s]/usr/local/lib/python3.11/dist-packages/pymatgen/io/cif.py:1155: UserWarning: Issues encountered while parsing CIF: Some fractional coordinates rounded to ideal values to avoid issues with finite precision.\n",
            "  warnings.warn(\"Issues encountered while parsing CIF: \" + \"\\n\".join(self.warnings))\n",
            " 75% 633/846 [00:55<00:16, 12.73it/s]/usr/local/lib/python3.11/dist-packages/pymatgen/io/cif.py:1155: UserWarning: Issues encountered while parsing CIF: Some fractional coordinates rounded to ideal values to avoid issues with finite precision.\n",
            "  warnings.warn(\"Issues encountered while parsing CIF: \" + \"\\n\".join(self.warnings))\n",
            " 76% 645/846 [00:56<00:16, 12.08it/s]/usr/local/lib/python3.11/dist-packages/pymatgen/io/cif.py:1155: UserWarning: Issues encountered while parsing CIF: Some fractional coordinates rounded to ideal values to avoid issues with finite precision.\n",
            "  warnings.warn(\"Issues encountered while parsing CIF: \" + \"\\n\".join(self.warnings))\n",
            " 76% 647/846 [00:56<00:18, 10.93it/s]/usr/local/lib/python3.11/dist-packages/pymatgen/io/cif.py:1155: UserWarning: Issues encountered while parsing CIF: Some fractional coordinates rounded to ideal values to avoid issues with finite precision.\n",
            "  warnings.warn(\"Issues encountered while parsing CIF: \" + \"\\n\".join(self.warnings))\n",
            " 79% 667/846 [00:58<00:12, 13.96it/s]/usr/local/lib/python3.11/dist-packages/pymatgen/io/cif.py:1155: UserWarning: Issues encountered while parsing CIF: Some fractional coordinates rounded to ideal values to avoid issues with finite precision.\n",
            "  warnings.warn(\"Issues encountered while parsing CIF: \" + \"\\n\".join(self.warnings))\n",
            " 79% 669/846 [00:58<00:16, 10.78it/s]/usr/local/lib/python3.11/dist-packages/pymatgen/io/cif.py:1155: UserWarning: Issues encountered while parsing CIF: Some fractional coordinates rounded to ideal values to avoid issues with finite precision.\n",
            "  warnings.warn(\"Issues encountered while parsing CIF: \" + \"\\n\".join(self.warnings))\n",
            "/usr/local/lib/python3.11/dist-packages/pymatgen/io/cif.py:1155: UserWarning: Issues encountered while parsing CIF: Some fractional coordinates rounded to ideal values to avoid issues with finite precision.\n",
            "  warnings.warn(\"Issues encountered while parsing CIF: \" + \"\\n\".join(self.warnings))\n",
            " 80% 675/846 [00:59<00:18,  9.09it/s]/usr/local/lib/python3.11/dist-packages/pymatgen/io/cif.py:1155: UserWarning: Issues encountered while parsing CIF: Some fractional coordinates rounded to ideal values to avoid issues with finite precision.\n",
            "  warnings.warn(\"Issues encountered while parsing CIF: \" + \"\\n\".join(self.warnings))\n",
            " 80% 679/846 [00:59<00:18,  8.91it/s]/usr/local/lib/python3.11/dist-packages/pymatgen/io/cif.py:1155: UserWarning: Issues encountered while parsing CIF: Some fractional coordinates rounded to ideal values to avoid issues with finite precision.\n",
            "  warnings.warn(\"Issues encountered while parsing CIF: \" + \"\\n\".join(self.warnings))\n",
            " 81% 682/846 [01:00<00:25,  6.42it/s]/usr/local/lib/python3.11/dist-packages/pymatgen/io/cif.py:1155: UserWarning: Issues encountered while parsing CIF: Some fractional coordinates rounded to ideal values to avoid issues with finite precision.\n",
            "  warnings.warn(\"Issues encountered while parsing CIF: \" + \"\\n\".join(self.warnings))\n",
            " 81% 683/846 [01:00<00:23,  6.81it/s]/usr/local/lib/python3.11/dist-packages/pymatgen/io/cif.py:1155: UserWarning: Issues encountered while parsing CIF: Some fractional coordinates rounded to ideal values to avoid issues with finite precision.\n",
            "  warnings.warn(\"Issues encountered while parsing CIF: \" + \"\\n\".join(self.warnings))\n",
            "/usr/local/lib/python3.11/dist-packages/pymatgen/io/cif.py:1155: UserWarning: Issues encountered while parsing CIF: Some fractional coordinates rounded to ideal values to avoid issues with finite precision.\n",
            "  warnings.warn(\"Issues encountered while parsing CIF: \" + \"\\n\".join(self.warnings))\n",
            " 81% 689/846 [01:01<00:20,  7.73it/s]/usr/local/lib/python3.11/dist-packages/pymatgen/io/cif.py:1155: UserWarning: Issues encountered while parsing CIF: Some fractional coordinates rounded to ideal values to avoid issues with finite precision.\n",
            "  warnings.warn(\"Issues encountered while parsing CIF: \" + \"\\n\".join(self.warnings))\n",
            " 82% 696/846 [01:02<00:16,  9.28it/s]/usr/local/lib/python3.11/dist-packages/pymatgen/io/cif.py:1155: UserWarning: Issues encountered while parsing CIF: Some fractional coordinates rounded to ideal values to avoid issues with finite precision.\n",
            "  warnings.warn(\"Issues encountered while parsing CIF: \" + \"\\n\".join(self.warnings))\n",
            " 83% 699/846 [01:02<00:14,  9.81it/s]/usr/local/lib/python3.11/dist-packages/pymatgen/io/cif.py:1155: UserWarning: Issues encountered while parsing CIF: Some fractional coordinates rounded to ideal values to avoid issues with finite precision.\n",
            "  warnings.warn(\"Issues encountered while parsing CIF: \" + \"\\n\".join(self.warnings))\n",
            " 83% 703/846 [01:02<00:11, 12.84it/s]/usr/local/lib/python3.11/dist-packages/pymatgen/io/cif.py:1155: UserWarning: Issues encountered while parsing CIF: Some fractional coordinates rounded to ideal values to avoid issues with finite precision.\n",
            "  warnings.warn(\"Issues encountered while parsing CIF: \" + \"\\n\".join(self.warnings))\n",
            " 84% 713/846 [01:03<00:11, 11.86it/s]/usr/local/lib/python3.11/dist-packages/pymatgen/io/cif.py:1155: UserWarning: Issues encountered while parsing CIF: Some fractional coordinates rounded to ideal values to avoid issues with finite precision.\n",
            "  warnings.warn(\"Issues encountered while parsing CIF: \" + \"\\n\".join(self.warnings))\n",
            " 86% 728/846 [01:04<00:06, 17.80it/s]/usr/local/lib/python3.11/dist-packages/pymatgen/io/cif.py:1155: UserWarning: Issues encountered while parsing CIF: Some fractional coordinates rounded to ideal values to avoid issues with finite precision.\n",
            "  warnings.warn(\"Issues encountered while parsing CIF: \" + \"\\n\".join(self.warnings))\n",
            "/usr/local/lib/python3.11/dist-packages/pymatgen/io/cif.py:1155: UserWarning: Issues encountered while parsing CIF: Some fractional coordinates rounded to ideal values to avoid issues with finite precision.\n",
            "  warnings.warn(\"Issues encountered while parsing CIF: \" + \"\\n\".join(self.warnings))\n",
            " 89% 749/846 [01:05<00:06, 13.89it/s]/usr/local/lib/python3.11/dist-packages/pymatgen/io/cif.py:1155: UserWarning: Issues encountered while parsing CIF: Some fractional coordinates rounded to ideal values to avoid issues with finite precision.\n",
            "  warnings.warn(\"Issues encountered while parsing CIF: \" + \"\\n\".join(self.warnings))\n",
            " 90% 758/846 [01:06<00:06, 13.49it/s]/usr/local/lib/python3.11/dist-packages/pymatgen/io/cif.py:1155: UserWarning: Issues encountered while parsing CIF: Some fractional coordinates rounded to ideal values to avoid issues with finite precision.\n",
            "  warnings.warn(\"Issues encountered while parsing CIF: \" + \"\\n\".join(self.warnings))\n",
            " 90% 764/846 [01:06<00:05, 14.04it/s]/usr/local/lib/python3.11/dist-packages/pymatgen/io/cif.py:1155: UserWarning: Issues encountered while parsing CIF: Some fractional coordinates rounded to ideal values to avoid issues with finite precision.\n",
            "  warnings.warn(\"Issues encountered while parsing CIF: \" + \"\\n\".join(self.warnings))\n",
            " 91% 768/846 [01:07<00:06, 12.00it/s]/usr/local/lib/python3.11/dist-packages/pymatgen/io/cif.py:1155: UserWarning: Issues encountered while parsing CIF: Some fractional coordinates rounded to ideal values to avoid issues with finite precision.\n",
            "  warnings.warn(\"Issues encountered while parsing CIF: \" + \"\\n\".join(self.warnings))\n",
            " 92% 776/846 [01:07<00:04, 14.21it/s]/usr/local/lib/python3.11/dist-packages/pymatgen/io/cif.py:1155: UserWarning: Issues encountered while parsing CIF: Some fractional coordinates rounded to ideal values to avoid issues with finite precision.\n",
            "  warnings.warn(\"Issues encountered while parsing CIF: \" + \"\\n\".join(self.warnings))\n",
            " 92% 782/846 [01:08<00:06,  9.29it/s]/usr/local/lib/python3.11/dist-packages/pymatgen/io/cif.py:1155: UserWarning: Issues encountered while parsing CIF: Some fractional coordinates rounded to ideal values to avoid issues with finite precision.\n",
            "  warnings.warn(\"Issues encountered while parsing CIF: \" + \"\\n\".join(self.warnings))\n",
            " 93% 786/846 [01:09<00:05, 10.90it/s]/usr/local/lib/python3.11/dist-packages/pymatgen/io/cif.py:1155: UserWarning: Issues encountered while parsing CIF: Some fractional coordinates rounded to ideal values to avoid issues with finite precision.\n",
            "  warnings.warn(\"Issues encountered while parsing CIF: \" + \"\\n\".join(self.warnings))\n",
            " 93% 790/846 [01:09<00:04, 11.72it/s]/usr/local/lib/python3.11/dist-packages/pymatgen/io/cif.py:1155: UserWarning: Issues encountered while parsing CIF: Some fractional coordinates rounded to ideal values to avoid issues with finite precision.\n",
            "  warnings.warn(\"Issues encountered while parsing CIF: \" + \"\\n\".join(self.warnings))\n",
            "/usr/local/lib/python3.11/dist-packages/pymatgen/io/cif.py:1155: UserWarning: Issues encountered while parsing CIF: Some fractional coordinates rounded to ideal values to avoid issues with finite precision.\n",
            "  warnings.warn(\"Issues encountered while parsing CIF: \" + \"\\n\".join(self.warnings))\n",
            " 94% 792/846 [01:09<00:04, 12.32it/s]/usr/local/lib/python3.11/dist-packages/pymatgen/io/cif.py:1155: UserWarning: Issues encountered while parsing CIF: Some fractional coordinates rounded to ideal values to avoid issues with finite precision.\n",
            "  warnings.warn(\"Issues encountered while parsing CIF: \" + \"\\n\".join(self.warnings))\n",
            " 94% 798/846 [01:10<00:04, 11.92it/s]/usr/local/lib/python3.11/dist-packages/pymatgen/io/cif.py:1155: UserWarning: Issues encountered while parsing CIF: Some fractional coordinates rounded to ideal values to avoid issues with finite precision.\n",
            "  warnings.warn(\"Issues encountered while parsing CIF: \" + \"\\n\".join(self.warnings))\n",
            " 95% 802/846 [01:10<00:03, 13.19it/s]/usr/local/lib/python3.11/dist-packages/pymatgen/io/cif.py:1155: UserWarning: Issues encountered while parsing CIF: Some fractional coordinates rounded to ideal values to avoid issues with finite precision.\n",
            "  warnings.warn(\"Issues encountered while parsing CIF: \" + \"\\n\".join(self.warnings))\n",
            " 95% 804/846 [01:10<00:04, 10.14it/s]/usr/local/lib/python3.11/dist-packages/pymatgen/io/cif.py:1155: UserWarning: Issues encountered while parsing CIF: Some fractional coordinates rounded to ideal values to avoid issues with finite precision.\n",
            "  warnings.warn(\"Issues encountered while parsing CIF: \" + \"\\n\".join(self.warnings))\n",
            " 96% 808/846 [01:11<00:03, 11.56it/s]/usr/local/lib/python3.11/dist-packages/pymatgen/io/cif.py:1155: UserWarning: Issues encountered while parsing CIF: Some fractional coordinates rounded to ideal values to avoid issues with finite precision.\n",
            "  warnings.warn(\"Issues encountered while parsing CIF: \" + \"\\n\".join(self.warnings))\n",
            " 97% 818/846 [01:12<00:02, 11.13it/s]/usr/local/lib/python3.11/dist-packages/pymatgen/io/cif.py:1155: UserWarning: Issues encountered while parsing CIF: Some fractional coordinates rounded to ideal values to avoid issues with finite precision.\n",
            "  warnings.warn(\"Issues encountered while parsing CIF: \" + \"\\n\".join(self.warnings))\n",
            " 97% 820/846 [01:12<00:02, 11.73it/s]/usr/local/lib/python3.11/dist-packages/pymatgen/io/cif.py:1155: UserWarning: Issues encountered while parsing CIF: Some fractional coordinates rounded to ideal values to avoid issues with finite precision.\n",
            "  warnings.warn(\"Issues encountered while parsing CIF: \" + \"\\n\".join(self.warnings))\n",
            " 97% 822/846 [01:12<00:02, 11.94it/s]/usr/local/lib/python3.11/dist-packages/pymatgen/io/cif.py:1155: UserWarning: Issues encountered while parsing CIF: Some fractional coordinates rounded to ideal values to avoid issues with finite precision.\n",
            "  warnings.warn(\"Issues encountered while parsing CIF: \" + \"\\n\".join(self.warnings))\n",
            " 98% 826/846 [01:12<00:01, 10.72it/s]/usr/local/lib/python3.11/dist-packages/pymatgen/io/cif.py:1155: UserWarning: Issues encountered while parsing CIF: Some fractional coordinates rounded to ideal values to avoid issues with finite precision.\n",
            "  warnings.warn(\"Issues encountered while parsing CIF: \" + \"\\n\".join(self.warnings))\n",
            " 98% 828/846 [01:12<00:01, 11.11it/s]/usr/local/lib/python3.11/dist-packages/pymatgen/io/cif.py:1155: UserWarning: Issues encountered while parsing CIF: Some fractional coordinates rounded to ideal values to avoid issues with finite precision.\n",
            "  warnings.warn(\"Issues encountered while parsing CIF: \" + \"\\n\".join(self.warnings))\n",
            " 99% 838/846 [01:13<00:00, 11.59it/s]/usr/local/lib/python3.11/dist-packages/pymatgen/io/cif.py:1155: UserWarning: Issues encountered while parsing CIF: Some fractional coordinates rounded to ideal values to avoid issues with finite precision.\n",
            "  warnings.warn(\"Issues encountered while parsing CIF: \" + \"\\n\".join(self.warnings))\n",
            "100% 846/846 [01:14<00:00, 11.31it/s]\n",
            "  4% 4/105 [00:00<00:14,  6.81it/s]/usr/local/lib/python3.11/dist-packages/pymatgen/io/cif.py:1155: UserWarning: Issues encountered while parsing CIF: Some fractional coordinates rounded to ideal values to avoid issues with finite precision.\n",
            "  warnings.warn(\"Issues encountered while parsing CIF: \" + \"\\n\".join(self.warnings))\n",
            " 10% 10/105 [00:01<00:08, 10.89it/s]/usr/local/lib/python3.11/dist-packages/pymatgen/io/cif.py:1155: UserWarning: Issues encountered while parsing CIF: Some fractional coordinates rounded to ideal values to avoid issues with finite precision.\n",
            "  warnings.warn(\"Issues encountered while parsing CIF: \" + \"\\n\".join(self.warnings))\n",
            "/usr/local/lib/python3.11/dist-packages/pymatgen/io/cif.py:1155: UserWarning: Issues encountered while parsing CIF: Some fractional coordinates rounded to ideal values to avoid issues with finite precision.\n",
            "  warnings.warn(\"Issues encountered while parsing CIF: \" + \"\\n\".join(self.warnings))\n",
            " 14% 15/105 [00:01<00:06, 14.50it/s]/usr/local/lib/python3.11/dist-packages/pymatgen/io/cif.py:1155: UserWarning: Issues encountered while parsing CIF: Some fractional coordinates rounded to ideal values to avoid issues with finite precision.\n",
            "  warnings.warn(\"Issues encountered while parsing CIF: \" + \"\\n\".join(self.warnings))\n",
            " 20% 21/105 [00:02<00:06, 12.15it/s]/usr/local/lib/python3.11/dist-packages/pymatgen/io/cif.py:1155: UserWarning: Issues encountered while parsing CIF: Some fractional coordinates rounded to ideal values to avoid issues with finite precision.\n",
            "  warnings.warn(\"Issues encountered while parsing CIF: \" + \"\\n\".join(self.warnings))\n",
            " 24% 25/105 [00:02<00:06, 11.49it/s]/usr/local/lib/python3.11/dist-packages/pymatgen/io/cif.py:1155: UserWarning: Issues encountered while parsing CIF: Some fractional coordinates rounded to ideal values to avoid issues with finite precision.\n",
            "  warnings.warn(\"Issues encountered while parsing CIF: \" + \"\\n\".join(self.warnings))\n",
            " 30% 31/105 [00:03<00:05, 12.54it/s]/usr/local/lib/python3.11/dist-packages/pymatgen/io/cif.py:1155: UserWarning: Issues encountered while parsing CIF: Some fractional coordinates rounded to ideal values to avoid issues with finite precision.\n",
            "  warnings.warn(\"Issues encountered while parsing CIF: \" + \"\\n\".join(self.warnings))\n",
            "/usr/local/lib/python3.11/dist-packages/pymatgen/io/cif.py:1155: UserWarning: Issues encountered while parsing CIF: Some fractional coordinates rounded to ideal values to avoid issues with finite precision.\n",
            "  warnings.warn(\"Issues encountered while parsing CIF: \" + \"\\n\".join(self.warnings))\n",
            " 31% 33/105 [00:03<00:08,  8.57it/s]/usr/local/lib/python3.11/dist-packages/pymatgen/io/cif.py:1155: UserWarning: Issues encountered while parsing CIF: Some fractional coordinates rounded to ideal values to avoid issues with finite precision.\n",
            "  warnings.warn(\"Issues encountered while parsing CIF: \" + \"\\n\".join(self.warnings))\n",
            " 35% 37/105 [00:03<00:06, 11.08it/s]/usr/local/lib/python3.11/dist-packages/pymatgen/io/cif.py:1155: UserWarning: Issues encountered while parsing CIF: Some fractional coordinates rounded to ideal values to avoid issues with finite precision.\n",
            "  warnings.warn(\"Issues encountered while parsing CIF: \" + \"\\n\".join(self.warnings))\n",
            " 39% 41/105 [00:03<00:04, 13.66it/s]/usr/local/lib/python3.11/dist-packages/pymatgen/io/cif.py:1155: UserWarning: Issues encountered while parsing CIF: Some fractional coordinates rounded to ideal values to avoid issues with finite precision.\n",
            "  warnings.warn(\"Issues encountered while parsing CIF: \" + \"\\n\".join(self.warnings))\n",
            " 44% 46/105 [00:04<00:03, 15.41it/s]/usr/local/lib/python3.11/dist-packages/pymatgen/io/cif.py:1155: UserWarning: Issues encountered while parsing CIF: Some fractional coordinates rounded to ideal values to avoid issues with finite precision.\n",
            "  warnings.warn(\"Issues encountered while parsing CIF: \" + \"\\n\".join(self.warnings))\n",
            " 49% 51/105 [00:04<00:03, 15.22it/s]/usr/local/lib/python3.11/dist-packages/pymatgen/io/cif.py:1155: UserWarning: Issues encountered while parsing CIF: Some fractional coordinates rounded to ideal values to avoid issues with finite precision.\n",
            "  warnings.warn(\"Issues encountered while parsing CIF: \" + \"\\n\".join(self.warnings))\n",
            " 50% 53/105 [00:04<00:03, 15.13it/s]/usr/local/lib/python3.11/dist-packages/pymatgen/io/cif.py:1155: UserWarning: Issues encountered while parsing CIF: Some fractional coordinates rounded to ideal values to avoid issues with finite precision.\n",
            "  warnings.warn(\"Issues encountered while parsing CIF: \" + \"\\n\".join(self.warnings))\n",
            " 63% 66/105 [00:05<00:04,  9.21it/s]/usr/local/lib/python3.11/dist-packages/pymatgen/io/cif.py:1155: UserWarning: Issues encountered while parsing CIF: Some fractional coordinates rounded to ideal values to avoid issues with finite precision.\n",
            "  warnings.warn(\"Issues encountered while parsing CIF: \" + \"\\n\".join(self.warnings))\n",
            "/usr/local/lib/python3.11/dist-packages/pymatgen/io/cif.py:1155: UserWarning: Issues encountered while parsing CIF: Some fractional coordinates rounded to ideal values to avoid issues with finite precision.\n",
            "  warnings.warn(\"Issues encountered while parsing CIF: \" + \"\\n\".join(self.warnings))\n",
            " 67% 70/105 [00:06<00:03, 10.11it/s]/usr/local/lib/python3.11/dist-packages/pymatgen/io/cif.py:1155: UserWarning: Issues encountered while parsing CIF: Some fractional coordinates rounded to ideal values to avoid issues with finite precision.\n",
            "  warnings.warn(\"Issues encountered while parsing CIF: \" + \"\\n\".join(self.warnings))\n",
            " 69% 72/105 [00:06<00:02, 11.71it/s]/usr/local/lib/python3.11/dist-packages/pymatgen/io/cif.py:1155: UserWarning: Issues encountered while parsing CIF: Some fractional coordinates rounded to ideal values to avoid issues with finite precision.\n",
            "  warnings.warn(\"Issues encountered while parsing CIF: \" + \"\\n\".join(self.warnings))\n",
            " 72% 76/105 [00:06<00:02, 11.20it/s]/usr/local/lib/python3.11/dist-packages/pymatgen/io/cif.py:1155: UserWarning: Issues encountered while parsing CIF: Some fractional coordinates rounded to ideal values to avoid issues with finite precision.\n",
            "  warnings.warn(\"Issues encountered while parsing CIF: \" + \"\\n\".join(self.warnings))\n",
            " 87% 91/105 [00:08<00:01, 10.88it/s]/usr/local/lib/python3.11/dist-packages/pymatgen/io/cif.py:1155: UserWarning: Issues encountered while parsing CIF: Some fractional coordinates rounded to ideal values to avoid issues with finite precision.\n",
            "  warnings.warn(\"Issues encountered while parsing CIF: \" + \"\\n\".join(self.warnings))\n",
            " 96% 101/105 [00:08<00:00, 14.29it/s]/usr/local/lib/python3.11/dist-packages/pymatgen/io/cif.py:1155: UserWarning: Issues encountered while parsing CIF: Some fractional coordinates rounded to ideal values to avoid issues with finite precision.\n",
            "  warnings.warn(\"Issues encountered while parsing CIF: \" + \"\\n\".join(self.warnings))\n",
            " 98% 103/105 [00:08<00:00, 13.17it/s]/usr/local/lib/python3.11/dist-packages/pymatgen/io/cif.py:1155: UserWarning: Issues encountered while parsing CIF: Some fractional coordinates rounded to ideal values to avoid issues with finite precision.\n",
            "  warnings.warn(\"Issues encountered while parsing CIF: \" + \"\\n\".join(self.warnings))\n",
            "/usr/local/lib/python3.11/dist-packages/pymatgen/io/cif.py:1155: UserWarning: Issues encountered while parsing CIF: Some fractional coordinates rounded to ideal values to avoid issues with finite precision.\n",
            "  warnings.warn(\"Issues encountered while parsing CIF: \" + \"\\n\".join(self.warnings))\n",
            "100% 105/105 [00:08<00:00, 11.74it/s]\n",
            "/usr/local/lib/python3.11/dist-packages/pytorch_lightning/callbacks/model_checkpoint.py:611: UserWarning: Checkpoint directory /content/cdvae/HYDRA_JOBS/singlerun/2025-05-22/supercon_test02 exists and is not empty.\n",
            "  rank_zero_warn(f\"Checkpoint directory {dirpath} exists and is not empty.\")\n",
            "\n",
            "  | Name           | Type                | Params\n",
            "-------------------------------------------------------\n",
            "0 | encoder        | DimeNetPlusPlusWrap | 2.2 M \n",
            "1 | decoder        | GemNetTDecoder      | 2.3 M \n",
            "2 | fc_mu          | Linear              | 65.8 K\n",
            "3 | fc_var         | Linear              | 65.8 K\n",
            "4 | fc_num_atoms   | Sequential          | 97.9 K\n",
            "5 | fc_lattice     | Sequential          | 67.3 K\n",
            "6 | fc_composition | Sequential          | 91.5 K\n",
            "7 | fc_property    | Sequential          | 66.0 K\n",
            "-------------------------------------------------------\n",
            "5.0 M     Trainable params\n",
            "117       Non-trainable params\n",
            "5.0 M     Total params\n",
            "20.053    Total estimated model params size (MB)\n",
            "Sanity Checking: 0it [00:00, ?it/s]/usr/local/lib/python3.11/dist-packages/torch_geometric/deprecation.py:26: UserWarning: 'data.DataLoader' is deprecated, use 'loader.DataLoader' instead\n",
            "  warnings.warn(out)\n",
            "Sanity Checking DataLoader 0:   0% 0/2 [00:00<?, ?it/s]/content/cdvae/cdvae/pl_modules/gnn.py:391: UserWarning: Using torch.cross without specifying the dim arg is deprecated.\n",
            "Please either pass the dim explicitly or simply use torch.linalg.cross.\n",
            "The default value of dim will change to agree with that of linalg.cross in a future release. (Triggered internally at /pytorch/aten/src/ATen/native/Cross.cpp:62.)\n",
            "  b = torch.cross(pos_ji, pos_kj).norm(dim=-1)\n",
            "/content/cdvae/cdvae/common/data_utils.py:622: UserWarning: To copy construct from a tensor, it is recommended to use sourceTensor.clone().detach() or sourceTensor.clone().detach().requires_grad_(True), rather than torch.tensor(sourceTensor).\n",
            "  X = torch.tensor(X, dtype=torch.float)\n",
            "/content/cdvae/cdvae/common/data_utils.py:618: UserWarning: To copy construct from a tensor, it is recommended to use sourceTensor.clone().detach() or sourceTensor.clone().detach().requires_grad_(True), rather than torch.tensor(sourceTensor).\n",
            "  X = torch.tensor(X, dtype=torch.float)\n",
            "/usr/local/lib/python3.11/dist-packages/pytorch_lightning/utilities/data.py:72: UserWarning: Trying to infer the `batch_size` from an ambiguous collection. The batch size we found is 2. To avoid any miscalculations, use `self.log(..., batch_size=batch_size)`.\n",
            "  warning_cache.warn(\n",
            "/usr/local/lib/python3.11/dist-packages/pytorch_lightning/trainer/trainer.py:1933: PossibleUserWarning: The number of training batches (34) is smaller than the logging interval Trainer(log_every_n_steps=50). Set a lower value for log_every_n_steps if you want to see logs for the training epoch.\n",
            "  rank_zero_warn(\n",
            "Epoch 4:  51% 20/39 [00:23<00:22,  1.16s/it, loss=40.7, v_num=45v7, train_loss_step=41.30, train_natom_loss_step=1.770, train_lattice_loss_step=1.060, train_coord_loss_step=1.220, train_type_loss_step=12.70, train_kld_loss_step=43.10, train_composition_loss_step=3.100, train_loss_epoch=48.30, train_natom_loss_epoch=1.590, train_lattice_loss_epoch=0.612, train_coord_loss_epoch=1.030, train_type_loss_epoch=25.50, train_kld_loss_epoch=54.20, train_composition_loss_epoch=3.350]\n",
            "Validation: 0it [00:00, ?it/s]\u001b[A\n",
            "Validation:   0% 0/5 [00:00<?, ?it/s]\u001b[A\n",
            "Validation DataLoader 0:   0% 0/5 [00:00<?, ?it/s]\u001b[A\n",
            "Validation DataLoader 0: 100% 5/5 [00:01<00:00,  2.79it/s]\u001b[A\n",
            "Epoch 4: 100% 39/39 [00:41<00:00,  1.05s/it, loss=35.3, v_num=45v7, train_loss_step=28.80, train_natom_loss_step=1.380, train_lattice_loss_step=0.474, train_coord_loss_step=0.901, train_type_loss_step=9.310, train_kld_loss_step=59.30, train_composition_loss_step=2.940, train_loss_epoch=48.30, train_natom_loss_epoch=1.590, train_lattice_loss_epoch=0.612, train_coord_loss_epoch=1.030, train_type_loss_epoch=25.50, train_kld_loss_epoch=54.20, train_composition_loss_epoch=3.350, val_loss=31.70, val_natom_loss=1.860, val_lattice_loss=0.746, val_coord_loss=1.400, val_type_loss=17.70, val_kld_loss=49.20, val_composition_loss=3.240, val_property_loss=1.290, val_natom_accuracy=0.328, val_lengths_mard=0.146, val_angles_mae=9.220, val_volumes_mard=0.177, val_type_accuracy=0.711]\n",
            "Epoch 9:  51% 20/39 [00:22<00:21,  1.14s/it, loss=23.2, v_num=45v7, train_loss_step=28.10, train_natom_loss_step=1.120, train_lattice_loss_step=0.385, train_coord_loss_step=1.050, train_type_loss_step=8.890, train_kld_loss_step=62.90, train_composition_loss_step=2.660, train_loss_epoch=24.80, train_natom_loss_epoch=1.230, train_lattice_loss_epoch=0.350, train_coord_loss_epoch=0.885, train_type_loss_epoch=6.980, train_kld_loss_epoch=65.30, train_composition_loss_epoch=2.800, val_loss=31.70, val_natom_loss=1.860, val_lattice_loss=0.746, val_coord_loss=1.400, val_type_loss=17.70, val_kld_loss=49.20, val_composition_loss=3.240, val_property_loss=1.290, val_natom_accuracy=0.328, val_lengths_mard=0.146, val_angles_mae=9.220, val_volumes_mard=0.177, val_type_accuracy=0.711]\n",
            "Validation: 0it [00:00, ?it/s]\u001b[A\n",
            "Validation:   0% 0/5 [00:00<?, ?it/s]\u001b[A\n",
            "Validation DataLoader 0:   0% 0/5 [00:00<?, ?it/s]\u001b[A\n",
            "Validation DataLoader 0: 100% 5/5 [00:01<00:00,  2.74it/s]\u001b[A\n",
            "Epoch 9: 100% 39/39 [00:40<00:00,  1.04s/it, loss=25.4, v_num=45v7, train_loss_step=25.10, train_natom_loss_step=1.240, train_lattice_loss_step=0.326, train_coord_loss_step=0.956, train_type_loss_step=6.920, train_kld_loss_step=85.00, train_composition_loss_step=2.490, train_loss_epoch=24.80, train_natom_loss_epoch=1.230, train_lattice_loss_epoch=0.350, train_coord_loss_epoch=0.885, train_type_loss_epoch=6.980, train_kld_loss_epoch=65.30, train_composition_loss_epoch=2.800, val_loss=18.60, val_natom_loss=1.440, val_lattice_loss=0.536, val_coord_loss=1.070, val_type_loss=7.910, val_kld_loss=67.70, val_composition_loss=2.940, val_property_loss=1.160, val_natom_accuracy=0.584, val_lengths_mard=0.105, val_angles_mae=8.210, val_volumes_mard=0.153, val_type_accuracy=0.785]\n",
            "Epoch 14:  51% 20/39 [00:23<00:22,  1.19s/it, loss=20.8, v_num=45v7, train_loss_step=20.60, train_natom_loss_step=0.525, train_lattice_loss_step=0.113, train_coord_loss_step=0.829, train_type_loss_step=7.100, train_kld_loss_step=82.60, train_composition_loss_step=2.040, train_loss_epoch=20.80, train_natom_loss_epoch=0.811, train_lattice_loss_epoch=0.241, train_coord_loss_epoch=0.893, train_type_loss_epoch=4.880, train_kld_loss_epoch=75.60, train_composition_loss_epoch=2.460, val_loss=18.60, val_natom_loss=1.440, val_lattice_loss=0.536, val_coord_loss=1.070, val_type_loss=7.910, val_kld_loss=67.70, val_composition_loss=2.940, val_property_loss=1.160, val_natom_accuracy=0.584, val_lengths_mard=0.105, val_angles_mae=8.210, val_volumes_mard=0.153, val_type_accuracy=0.785]\n",
            "Validation: 0it [00:00, ?it/s]\u001b[A\n",
            "Validation:   0% 0/5 [00:00<?, ?it/s]\u001b[A\n",
            "Validation DataLoader 0:   0% 0/5 [00:00<?, ?it/s]\u001b[A\n",
            "Validation DataLoader 0: 100% 5/5 [00:01<00:00,  2.75it/s]\u001b[A\n",
            "Epoch 14: 100% 39/39 [00:41<00:00,  1.07s/it, loss=21, v_num=45v7, train_loss_step=17.90, train_natom_loss_step=0.956, train_lattice_loss_step=0.153, train_coord_loss_step=0.799, train_type_loss_step=3.910, train_kld_loss_step=85.10, train_composition_loss_step=2.170, train_loss_epoch=20.80, train_natom_loss_epoch=0.811, train_lattice_loss_epoch=0.241, train_coord_loss_epoch=0.893, train_type_loss_epoch=4.880, train_kld_loss_epoch=75.60, train_composition_loss_epoch=2.460, val_loss=14.60, val_natom_loss=0.993, val_lattice_loss=0.507, val_coord_loss=0.955, val_type_loss=5.070, val_kld_loss=71.70, val_composition_loss=2.590, val_property_loss=1.140, val_natom_accuracy=0.736, val_lengths_mard=0.0872, val_angles_mae=8.120, val_volumes_mard=0.134, val_type_accuracy=0.826] \n",
            "Epoch 19:  51% 20/39 [00:22<00:21,  1.15s/it, loss=18.4, v_num=45v7, train_loss_step=15.10, train_natom_loss_step=0.364, train_lattice_loss_step=0.115, train_coord_loss_step=0.746, train_type_loss_step=2.960, train_kld_loss_step=89.00, train_composition_loss_step=2.050, train_loss_epoch=17.50, train_natom_loss_epoch=0.520, train_lattice_loss_epoch=0.160, train_coord_loss_epoch=0.820, train_type_loss_epoch=3.750, train_kld_loss_epoch=81.00, train_composition_loss_epoch=2.100, val_loss=14.60, val_natom_loss=0.993, val_lattice_loss=0.507, val_coord_loss=0.955, val_type_loss=5.070, val_kld_loss=71.70, val_composition_loss=2.590, val_property_loss=1.140, val_natom_accuracy=0.736, val_lengths_mard=0.0872, val_angles_mae=8.120, val_volumes_mard=0.134, val_type_accuracy=0.826]\n",
            "Validation: 0it [00:00, ?it/s]\u001b[A\n",
            "Validation:   0% 0/5 [00:00<?, ?it/s]\u001b[A\n",
            "Validation DataLoader 0:   0% 0/5 [00:00<?, ?it/s]\u001b[A\n",
            "Validation DataLoader 0: 100% 5/5 [00:01<00:00,  2.78it/s]\u001b[A\n",
            "Epoch 19: 100% 39/39 [00:41<00:00,  1.06s/it, loss=17.1, v_num=45v7, train_loss_step=18.60, train_natom_loss_step=0.788, train_lattice_loss_step=0.164, train_coord_loss_step=0.859, train_type_loss_step=4.500, train_kld_loss_step=77.70, train_composition_loss_step=2.050, train_loss_epoch=17.50, train_natom_loss_epoch=0.520, train_lattice_loss_epoch=0.160, train_coord_loss_epoch=0.820, train_type_loss_epoch=3.750, train_kld_loss_epoch=81.00, train_composition_loss_epoch=2.100, val_loss=17.40, val_natom_loss=0.964, val_lattice_loss=0.425, val_coord_loss=1.040, val_type_loss=7.020, val_kld_loss=79.50, val_composition_loss=2.330, val_property_loss=1.320, val_natom_accuracy=0.736, val_lengths_mard=0.0788, val_angles_mae=6.710, val_volumes_mard=0.114, val_type_accuracy=0.856]\n",
            "Epoch 24:  51% 20/39 [00:24<00:22,  1.20s/it, loss=19.5, v_num=45v7, train_loss_step=22.30, train_natom_loss_step=0.349, train_lattice_loss_step=0.322, train_coord_loss_step=0.999, train_type_loss_step=5.390, train_kld_loss_step=92.40, train_composition_loss_step=1.760, train_loss_epoch=17.50, train_natom_loss_epoch=0.390, train_lattice_loss_epoch=0.135, train_coord_loss_epoch=0.856, train_type_loss_epoch=3.990, train_kld_loss_epoch=85.10, train_composition_loss_epoch=1.940, val_loss=17.40, val_natom_loss=0.964, val_lattice_loss=0.425, val_coord_loss=1.040, val_type_loss=7.020, val_kld_loss=79.50, val_composition_loss=2.330, val_property_loss=1.320, val_natom_accuracy=0.736, val_lengths_mard=0.0788, val_angles_mae=6.710, val_volumes_mard=0.114, val_type_accuracy=0.856]\n",
            "Validation: 0it [00:00, ?it/s]\u001b[A\n",
            "Validation:   0% 0/5 [00:00<?, ?it/s]\u001b[A\n",
            "Validation DataLoader 0:   0% 0/5 [00:00<?, ?it/s]\u001b[A\n",
            "Validation DataLoader 0: 100% 5/5 [00:01<00:00,  2.75it/s]\u001b[A\n",
            "Epoch 24: 100% 39/39 [00:41<00:00,  1.07s/it, loss=18.6, v_num=45v7, train_loss_step=13.60, train_natom_loss_step=0.252, train_lattice_loss_step=0.127, train_coord_loss_step=0.680, train_type_loss_step=2.080, train_kld_loss_step=84.40, train_composition_loss_step=2.140, train_loss_epoch=17.50, train_natom_loss_epoch=0.390, train_lattice_loss_epoch=0.135, train_coord_loss_epoch=0.856, train_type_loss_epoch=3.990, train_kld_loss_epoch=85.10, train_composition_loss_epoch=1.940, val_loss=13.50, val_natom_loss=0.970, val_lattice_loss=0.509, val_coord_loss=0.846, val_type_loss=5.080, val_kld_loss=82.90, val_composition_loss=2.370, val_property_loss=1.580, val_natom_accuracy=0.808, val_lengths_mard=0.0922, val_angles_mae=7.170, val_volumes_mard=0.194, val_type_accuracy=0.772]\n",
            "Epoch 29:  51% 20/39 [00:24<00:22,  1.21s/it, loss=15.5, v_num=45v7, train_loss_step=13.10, train_natom_loss_step=0.0556, train_lattice_loss_step=0.103, train_coord_loss_step=0.733, train_type_loss_step=1.740, train_kld_loss_step=83.20, train_composition_loss_step=1.780, train_loss_epoch=16.40, train_natom_loss_epoch=0.287, train_lattice_loss_epoch=0.134, train_coord_loss_epoch=0.805, train_type_loss_epoch=3.780, train_kld_loss_epoch=85.70, train_composition_loss_epoch=1.790, val_loss=13.50, val_natom_loss=0.970, val_lattice_loss=0.509, val_coord_loss=0.846, val_type_loss=5.080, val_kld_loss=82.90, val_composition_loss=2.370, val_property_loss=1.580, val_natom_accuracy=0.808, val_lengths_mard=0.0922, val_angles_mae=7.170, val_volumes_mard=0.194, val_type_accuracy=0.772]\n",
            "Validation: 0it [00:00, ?it/s]\u001b[A\n",
            "Validation:   0% 0/5 [00:00<?, ?it/s]\u001b[A\n",
            "Validation DataLoader 0:   0% 0/5 [00:00<?, ?it/s]\u001b[A\n",
            "Validation DataLoader 0: 100% 5/5 [00:01<00:00,  2.76it/s]\u001b[A\n",
            "Epoch 29: 100% 39/39 [00:41<00:00,  1.08s/it, loss=15.3, v_num=45v7, train_loss_step=16.30, train_natom_loss_step=0.560, train_lattice_loss_step=0.128, train_coord_loss_step=0.728, train_type_loss_step=4.300, train_kld_loss_step=83.50, train_composition_loss_step=1.890, train_loss_epoch=16.40, train_natom_loss_epoch=0.287, train_lattice_loss_epoch=0.134, train_coord_loss_epoch=0.805, train_type_loss_epoch=3.780, train_kld_loss_epoch=85.70, train_composition_loss_epoch=1.790, val_loss=12.60, val_natom_loss=1.010, val_lattice_loss=0.397, val_coord_loss=1.030, val_type_loss=2.330, val_kld_loss=81.20, val_composition_loss=2.080, val_property_loss=1.400, val_natom_accuracy=0.808, val_lengths_mard=0.0818, val_angles_mae=6.090, val_volumes_mard=0.146, val_type_accuracy=0.846] \n",
            "Epoch 34:  51% 20/39 [00:23<00:21,  1.15s/it, loss=16.7, v_num=45v7, train_loss_step=18.70, train_natom_loss_step=0.141, train_lattice_loss_step=0.135, train_coord_loss_step=0.682, train_type_loss_step=7.720, train_kld_loss_step=84.00, train_composition_loss_step=1.580, train_loss_epoch=15.90, train_natom_loss_epoch=0.160, train_lattice_loss_epoch=0.0943, train_coord_loss_epoch=0.812, train_type_loss_epoch=3.860, train_kld_loss_epoch=85.00, train_composition_loss_epoch=1.630, val_loss=12.60, val_natom_loss=1.010, val_lattice_loss=0.397, val_coord_loss=1.030, val_type_loss=2.330, val_kld_loss=81.20, val_composition_loss=2.080, val_property_loss=1.400, val_natom_accuracy=0.808, val_lengths_mard=0.0818, val_angles_mae=6.090, val_volumes_mard=0.146, val_type_accuracy=0.846]\n",
            "Validation: 0it [00:00, ?it/s]\u001b[A\n",
            "Validation:   0% 0/5 [00:00<?, ?it/s]\u001b[A\n",
            "Validation DataLoader 0:   0% 0/5 [00:00<?, ?it/s]\u001b[A\n",
            "Validation DataLoader 0: 100% 5/5 [00:01<00:00,  2.77it/s]\u001b[A\n",
            "Epoch 34: 100% 39/39 [00:41<00:00,  1.05s/it, loss=15.4, v_num=45v7, train_loss_step=11.20, train_natom_loss_step=0.0917, train_lattice_loss_step=0.0575, train_coord_loss_step=0.507, train_type_loss_step=2.330, train_kld_loss_step=91.20, train_composition_loss_step=1.810, train_loss_epoch=15.90, train_natom_loss_epoch=0.160, train_lattice_loss_epoch=0.0943, train_coord_loss_epoch=0.812, train_type_loss_epoch=3.860, train_kld_loss_epoch=85.00, train_composition_loss_epoch=1.630, val_loss=13.80, val_natom_loss=1.270, val_lattice_loss=0.429, val_coord_loss=1.030, val_type_loss=3.440, val_kld_loss=82.90, val_composition_loss=2.030, val_property_loss=1.430, val_natom_accuracy=0.816, val_lengths_mard=0.0758, val_angles_mae=6.750, val_volumes_mard=0.136, val_type_accuracy=0.770]\n",
            "Epoch 39:  51% 20/39 [00:23<00:22,  1.20s/it, loss=14.5, v_num=45v7, train_loss_step=14.20, train_natom_loss_step=0.463, train_lattice_loss_step=0.117, train_coord_loss_step=0.872, train_type_loss_step=1.240, train_kld_loss_step=86.80, train_composition_loss_step=1.460, train_loss_epoch=15.30, train_natom_loss_epoch=0.161, train_lattice_loss_epoch=0.0848, train_coord_loss_epoch=0.772, train_type_loss_epoch=3.950, train_kld_loss_epoch=87.30, train_composition_loss_epoch=1.530, val_loss=13.80, val_natom_loss=1.270, val_lattice_loss=0.429, val_coord_loss=1.030, val_type_loss=3.440, val_kld_loss=82.90, val_composition_loss=2.030, val_property_loss=1.430, val_natom_accuracy=0.816, val_lengths_mard=0.0758, val_angles_mae=6.750, val_volumes_mard=0.136, val_type_accuracy=0.770] \n",
            "Validation: 0it [00:00, ?it/s]\u001b[A\n",
            "Validation:   0% 0/5 [00:00<?, ?it/s]\u001b[A\n",
            "Validation DataLoader 0:   0% 0/5 [00:00<?, ?it/s]\u001b[A\n",
            "Validation DataLoader 0: 100% 5/5 [00:01<00:00,  2.75it/s]\u001b[A\n",
            "Epoch 39: 100% 39/39 [00:41<00:00,  1.07s/it, loss=14.5, v_num=45v7, train_loss_step=11.40, train_natom_loss_step=0.188, train_lattice_loss_step=0.0627, train_coord_loss_step=0.633, train_type_loss_step=1.400, train_kld_loss_step=95.40, train_composition_loss_step=1.560, train_loss_epoch=15.30, train_natom_loss_epoch=0.161, train_lattice_loss_epoch=0.0848, train_coord_loss_epoch=0.772, train_type_loss_epoch=3.950, train_kld_loss_epoch=87.30, train_composition_loss_epoch=1.530, val_loss=15.50, val_natom_loss=1.440, val_lattice_loss=0.413, val_coord_loss=1.000, val_type_loss=5.450, val_kld_loss=84.60, val_composition_loss=2.100, val_property_loss=1.440, val_natom_accuracy=0.696, val_lengths_mard=0.0765, val_angles_mae=6.900, val_volumes_mard=0.135, val_type_accuracy=0.793]\n",
            "Epoch 44:  51% 20/39 [00:24<00:22,  1.21s/it, loss=13.9, v_num=45v7, train_loss_step=16.80, train_natom_loss_step=0.533, train_lattice_loss_step=0.0642, train_coord_loss_step=0.830, train_type_loss_step=4.720, train_kld_loss_step=86.50, train_composition_loss_step=1.630, train_loss_epoch=14.30, train_natom_loss_epoch=0.114, train_lattice_loss_epoch=0.0786, train_coord_loss_epoch=0.765, train_type_loss_epoch=3.140, train_kld_loss_epoch=84.80, train_composition_loss_epoch=1.470, val_loss=15.50, val_natom_loss=1.440, val_lattice_loss=0.413, val_coord_loss=1.000, val_type_loss=5.450, val_kld_loss=84.60, val_composition_loss=2.100, val_property_loss=1.440, val_natom_accuracy=0.696, val_lengths_mard=0.0765, val_angles_mae=6.900, val_volumes_mard=0.135, val_type_accuracy=0.793]\n",
            "Validation: 0it [00:00, ?it/s]\u001b[A\n",
            "Validation:   0% 0/5 [00:00<?, ?it/s]\u001b[A\n",
            "Validation DataLoader 0:   0% 0/5 [00:00<?, ?it/s]\u001b[A\n",
            "Validation DataLoader 0: 100% 5/5 [00:01<00:00,  2.75it/s]\u001b[A\n",
            "Epoch 44: 100% 39/39 [00:41<00:00,  1.07s/it, loss=14, v_num=45v7, train_loss_step=12.20, train_natom_loss_step=0.0756, train_lattice_loss_step=0.106, train_coord_loss_step=0.683, train_type_loss_step=1.630, train_kld_loss_step=79.20, train_composition_loss_step=1.590, train_loss_epoch=14.30, train_natom_loss_epoch=0.114, train_lattice_loss_epoch=0.0786, train_coord_loss_epoch=0.765, train_type_loss_epoch=3.140, train_kld_loss_epoch=84.80, train_composition_loss_epoch=1.470, val_loss=14.50, val_natom_loss=1.410, val_lattice_loss=0.399, val_coord_loss=0.988, val_type_loss=4.590, val_kld_loss=77.80, val_composition_loss=2.020, val_property_loss=1.620, val_natom_accuracy=0.776, val_lengths_mard=0.086, val_angles_mae=6.310, val_volumes_mard=0.153, val_type_accuracy=0.771]   \n",
            "Epoch 49:  51% 20/39 [00:23<00:22,  1.19s/it, loss=14.9, v_num=45v7, train_loss_step=11.90, train_natom_loss_step=0.0386, train_lattice_loss_step=0.044, train_coord_loss_step=0.739, train_type_loss_step=1.630, train_kld_loss_step=78.50, train_composition_loss_step=1.350, train_loss_epoch=14.10, train_natom_loss_epoch=0.109, train_lattice_loss_epoch=0.076, train_coord_loss_epoch=0.781, train_type_loss_epoch=2.890, train_kld_loss_epoch=85.40, train_composition_loss_epoch=1.430, val_loss=14.50, val_natom_loss=1.410, val_lattice_loss=0.399, val_coord_loss=0.988, val_type_loss=4.590, val_kld_loss=77.80, val_composition_loss=2.020, val_property_loss=1.620, val_natom_accuracy=0.776, val_lengths_mard=0.086, val_angles_mae=6.310, val_volumes_mard=0.153, val_type_accuracy=0.771]\n",
            "Validation: 0it [00:00, ?it/s]\u001b[A\n",
            "Validation:   0% 0/5 [00:00<?, ?it/s]\u001b[A\n",
            "Validation DataLoader 0:   0% 0/5 [00:00<?, ?it/s]\u001b[A\n",
            "Validation DataLoader 0: 100% 5/5 [00:02<00:00,  2.14it/s]\u001b[A\n",
            "Epoch 49: 100% 39/39 [00:41<00:00,  1.07s/it, loss=14.7, v_num=45v7, train_loss_step=19.80, train_natom_loss_step=0.0833, train_lattice_loss_step=0.0641, train_coord_loss_step=0.943, train_type_loss_step=7.010, train_kld_loss_step=87.90, train_composition_loss_step=1.630, train_loss_epoch=14.10, train_natom_loss_epoch=0.109, train_lattice_loss_epoch=0.076, train_coord_loss_epoch=0.781, train_type_loss_epoch=2.890, train_kld_loss_epoch=85.40, train_composition_loss_epoch=1.430, val_loss=14.00, val_natom_loss=1.700, val_lattice_loss=0.412, val_coord_loss=1.020, val_type_loss=3.820, val_kld_loss=78.90, val_composition_loss=1.980, val_property_loss=1.330, val_natom_accuracy=0.720, val_lengths_mard=0.0726, val_angles_mae=6.540, val_volumes_mard=0.114, val_type_accuracy=0.769]\n",
            "Epoch 50:  59% 20/34 [00:23<00:16,  1.18s/it, loss=14, v_num=45v7, train_loss_step=14.60, train_natom_loss_step=0.565, train_lattice_loss_step=0.0684, train_coord_loss_step=0.688, train_type_loss_step=3.700, train_kld_loss_step=88.10, train_composition_loss_step=1.550, train_loss_epoch=14.60, train_natom_loss_epoch=0.0918, train_lattice_loss_epoch=0.0761, train_coord_loss_epoch=0.768, train_type_loss_epoch=3.610, train_kld_loss_epoch=85.00, train_composition_loss_epoch=1.440, val_loss=14.00, val_natom_loss=1.700, val_lattice_loss=0.412, val_coord_loss=1.020, val_type_loss=3.820, val_kld_loss=78.90, val_composition_loss=1.980, val_property_loss=1.330, val_natom_accuracy=0.720, val_lengths_mard=0.0726, val_angles_mae=6.540, val_volumes_mard=0.114, val_type_accuracy=0.769]   /usr/local/lib/python3.11/dist-packages/pytorch_lightning/trainer/trainer.py:726: UserWarning: Detected KeyboardInterrupt, attempting graceful shutdown...\n",
            "  rank_zero_warn(\"Detected KeyboardInterrupt, attempting graceful shutdown...\")\n",
            "[2025-05-22 13:03:08,168][hydra.utils][INFO] - Starting testing!\n",
            "/usr/local/lib/python3.11/dist-packages/pytorch_lightning/trainer/trainer.py:1446: UserWarning: `.test(ckpt_path=None)` was called without a model. The best model of the previous `fit` call will be used. You can pass `test(ckpt_path='best')` to use and best model checkpoint and avoid this warning or `ckpt_path=trainer.checkpoint_callback.last_model_path` to use the last model.\n",
            "  rank_zero_warn(\n",
            "\n",
            "  0% 0/105 [00:00<?, ?it/s]\u001b[A\n",
            "  1% 1/105 [00:00<00:21,  4.86it/s]\u001b[A\n",
            "  2% 2/105 [00:00<00:17,  5.73it/s]\u001b[A/usr/local/lib/python3.11/dist-packages/pymatgen/io/cif.py:1155: UserWarning: Issues encountered while parsing CIF: Some fractional coordinates rounded to ideal values to avoid issues with finite precision.\n",
            "  warnings.warn(\"Issues encountered while parsing CIF: \" + \"\\n\".join(self.warnings))\n",
            "\n",
            "  3% 3/105 [00:00<00:21,  4.81it/s]\u001b[A/usr/local/lib/python3.11/dist-packages/pymatgen/io/cif.py:1155: UserWarning: Issues encountered while parsing CIF: Some fractional coordinates rounded to ideal values to avoid issues with finite precision.\n",
            "  warnings.warn(\"Issues encountered while parsing CIF: \" + \"\\n\".join(self.warnings))\n",
            "\n",
            "  5% 5/105 [00:00<00:13,  7.30it/s]\u001b[A\n",
            "/usr/local/lib/python3.11/dist-packages/pymatgen/io/cif.py:1155: UserWarning: Issues encountered while parsing CIF: Some fractional coordinates rounded to ideal values to avoid issues with finite precision.\n",
            "  warnings.warn(\"Issues encountered while parsing CIF: \" + \"\\n\".join(self.warnings))\n",
            "  6% 6/105 [00:00<00:13,  7.58it/s]\u001b[A\n",
            "  8% 8/105 [00:01<00:09,  9.88it/s]\u001b[A\n",
            " 10% 10/105 [00:01<00:08, 11.04it/s]\u001b[A\n",
            " 11% 12/105 [00:01<00:07, 13.04it/s]\u001b[A\n",
            " 14% 15/105 [00:01<00:05, 16.55it/s]\u001b[A/usr/local/lib/python3.11/dist-packages/pymatgen/io/cif.py:1155: UserWarning: Issues encountered while parsing CIF: Some fractional coordinates rounded to ideal values to avoid issues with finite precision.\n",
            "  warnings.warn(\"Issues encountered while parsing CIF: \" + \"\\n\".join(self.warnings))\n",
            "\n",
            " 16% 17/105 [00:01<00:05, 16.45it/s]\u001b[A\n",
            " 18% 19/105 [00:01<00:06, 13.93it/s]\u001b[A\n",
            " 20% 21/105 [00:01<00:06, 13.38it/s]\u001b[A/usr/local/lib/python3.11/dist-packages/pymatgen/io/cif.py:1155: UserWarning: Issues encountered while parsing CIF: Some fractional coordinates rounded to ideal values to avoid issues with finite precision.\n",
            "  warnings.warn(\"Issues encountered while parsing CIF: \" + \"\\n\".join(self.warnings))\n",
            "\n",
            " 22% 23/105 [00:02<00:06, 11.74it/s]\u001b[A\n",
            " 24% 25/105 [00:02<00:07, 11.21it/s]\u001b[A\n",
            " 26% 27/105 [00:02<00:07, 10.80it/s]\u001b[A/usr/local/lib/python3.11/dist-packages/pymatgen/io/cif.py:1155: UserWarning: Issues encountered while parsing CIF: Some fractional coordinates rounded to ideal values to avoid issues with finite precision.\n",
            "  warnings.warn(\"Issues encountered while parsing CIF: \" + \"\\n\".join(self.warnings))\n",
            "\n",
            " 28% 29/105 [00:02<00:06, 11.21it/s]\u001b[A/usr/local/lib/python3.11/dist-packages/pymatgen/io/cif.py:1155: UserWarning: Issues encountered while parsing CIF: Some fractional coordinates rounded to ideal values to avoid issues with finite precision.\n",
            "  warnings.warn(\"Issues encountered while parsing CIF: \" + \"\\n\".join(self.warnings))\n",
            "\n",
            " 30% 32/105 [00:02<00:06, 12.12it/s]\u001b[A\n",
            " 33% 35/105 [00:03<00:04, 14.28it/s]\u001b[A\n",
            " 35% 37/105 [00:03<00:04, 14.52it/s]\u001b[A/usr/local/lib/python3.11/dist-packages/pymatgen/io/cif.py:1155: UserWarning: Issues encountered while parsing CIF: Some fractional coordinates rounded to ideal values to avoid issues with finite precision.\n",
            "  warnings.warn(\"Issues encountered while parsing CIF: \" + \"\\n\".join(self.warnings))\n",
            "\n",
            " 37% 39/105 [00:03<00:04, 13.69it/s]\u001b[A\n",
            " 40% 42/105 [00:03<00:04, 15.65it/s]\u001b[A\n",
            " 42% 44/105 [00:03<00:04, 15.18it/s]\u001b[A\n",
            " 44% 46/105 [00:03<00:04, 14.05it/s]\u001b[A\n",
            " 46% 48/105 [00:03<00:04, 12.93it/s]\u001b[A/usr/local/lib/python3.11/dist-packages/pymatgen/io/cif.py:1155: UserWarning: Issues encountered while parsing CIF: Some fractional coordinates rounded to ideal values to avoid issues with finite precision.\n",
            "  warnings.warn(\"Issues encountered while parsing CIF: \" + \"\\n\".join(self.warnings))\n",
            "\n",
            " 48% 50/105 [00:04<00:05,  9.35it/s]\u001b[A\n",
            " 50% 53/105 [00:04<00:04, 11.91it/s]\u001b[A\n",
            " 52% 55/105 [00:04<00:04, 12.35it/s]\u001b[A\n",
            " 54% 57/105 [00:04<00:04, 11.93it/s]\u001b[A\n",
            " 56% 59/105 [00:04<00:03, 11.86it/s]\u001b[A\n",
            " 58% 61/105 [00:05<00:03, 13.32it/s]\u001b[A/usr/local/lib/python3.11/dist-packages/pymatgen/io/cif.py:1155: UserWarning: Issues encountered while parsing CIF: Some fractional coordinates rounded to ideal values to avoid issues with finite precision.\n",
            "  warnings.warn(\"Issues encountered while parsing CIF: \" + \"\\n\".join(self.warnings))\n",
            "\n",
            " 60% 63/105 [00:05<00:03, 13.71it/s]\u001b[A/usr/local/lib/python3.11/dist-packages/pymatgen/io/cif.py:1155: UserWarning: Issues encountered while parsing CIF: Some fractional coordinates rounded to ideal values to avoid issues with finite precision.\n",
            "  warnings.warn(\"Issues encountered while parsing CIF: \" + \"\\n\".join(self.warnings))\n",
            "/usr/local/lib/python3.11/dist-packages/pymatgen/io/cif.py:1155: UserWarning: Issues encountered while parsing CIF: Some fractional coordinates rounded to ideal values to avoid issues with finite precision.\n",
            "  warnings.warn(\"Issues encountered while parsing CIF: \" + \"\\n\".join(self.warnings))\n",
            "\n",
            " 62% 65/105 [00:05<00:02, 13.96it/s]\u001b[A/usr/local/lib/python3.11/dist-packages/pymatgen/io/cif.py:1155: UserWarning: Issues encountered while parsing CIF: Some fractional coordinates rounded to ideal values to avoid issues with finite precision.\n",
            "  warnings.warn(\"Issues encountered while parsing CIF: \" + \"\\n\".join(self.warnings))\n",
            "\n",
            " 65% 68/105 [00:05<00:02, 15.39it/s]\u001b[A\n",
            " 67% 70/105 [00:05<00:02, 14.60it/s]\u001b[A\n",
            " 69% 72/105 [00:05<00:02, 13.06it/s]\u001b[A/usr/local/lib/python3.11/dist-packages/pymatgen/io/cif.py:1155: UserWarning: Issues encountered while parsing CIF: Some fractional coordinates rounded to ideal values to avoid issues with finite precision.\n",
            "  warnings.warn(\"Issues encountered while parsing CIF: \" + \"\\n\".join(self.warnings))\n",
            "/usr/local/lib/python3.11/dist-packages/pymatgen/io/cif.py:1155: UserWarning: Issues encountered while parsing CIF: Some fractional coordinates rounded to ideal values to avoid issues with finite precision.\n",
            "  warnings.warn(\"Issues encountered while parsing CIF: \" + \"\\n\".join(self.warnings))\n",
            "\n",
            " 70% 74/105 [00:06<00:02, 12.90it/s]\u001b[A\n",
            " 72% 76/105 [00:06<00:02, 12.55it/s]\u001b[A\n",
            " 74% 78/105 [00:06<00:02, 12.08it/s]\u001b[A\n",
            " 76% 80/105 [00:06<00:02, 11.36it/s]\u001b[A\n",
            " 78% 82/105 [00:06<00:02, 10.47it/s]\u001b[A/usr/local/lib/python3.11/dist-packages/pymatgen/io/cif.py:1155: UserWarning: Issues encountered while parsing CIF: Some fractional coordinates rounded to ideal values to avoid issues with finite precision.\n",
            "  warnings.warn(\"Issues encountered while parsing CIF: \" + \"\\n\".join(self.warnings))\n",
            "\n",
            " 80% 84/105 [00:06<00:01, 11.01it/s]\u001b[A\n",
            " 82% 86/105 [00:07<00:01, 10.90it/s]\u001b[A\n",
            " 85% 89/105 [00:07<00:01, 12.89it/s]\u001b[A\n",
            " 88% 92/105 [00:07<00:01, 12.03it/s]\n",
            "Process ForkPoolWorker-4:\n",
            "Traceback (most recent call last):\n",
            "  File \"/usr/local/lib/python3.11/dist-packages/multiprocess/process.py\", line 314, in _bootstrap\n",
            "    self.run()\n",
            "  File \"/usr/local/lib/python3.11/dist-packages/multiprocess/process.py\", line 108, in run\n",
            "    self._target(*self._args, **self._kwargs)\n",
            "  File \"/usr/local/lib/python3.11/dist-packages/multiprocess/pool.py\", line 125, in worker\n",
            "    result = (True, func(*args, **kwds))\n",
            "                    ^^^^^^^^^^^^^^^^^^^\n",
            "  File \"/usr/local/lib/python3.11/dist-packages/pathos/helpers/mp_helper.py\", line 15, in <lambda>\n",
            "    func = lambda args: f(*args)\n",
            "                        ^^^^^^^^\n",
            "  File \"/content/cdvae/cdvae/common/data_utils.py\", line 658, in process_one\n",
            "    graph_arrays = build_crystal_graph(crystal, graph_method)\n",
            "                   ^^^^^^^^^^^^^^^^^^^^^^^^^^^^^^^^^^^^^^^^^^\n",
            "  File \"/content/cdvae/cdvae/common/data_utils.py\", line 113, in build_crystal_graph\n",
            "    crystal_graph = StructureGraph.with_local_env_strategy(\n",
            "                    ^^^^^^^^^^^^^^^^^^^^^^^^^^^^^^^^^^^^^^^\n",
            "  File \"/usr/local/lib/python3.11/dist-packages/pymatgen/analysis/graphs.py\", line 277, in with_local_env_strategy\n",
            "    for n, neighbors in enumerate(strategy.get_all_nn_info(structure)):\n",
            "                                  ^^^^^^^^^^^^^^^^^^^^^^^^^^^^^^^^^^^\n",
            "  File \"/usr/local/lib/python3.11/dist-packages/pymatgen/analysis/local_env.py\", line 378, in get_all_nn_info\n",
            "    return [self.get_nn_info(structure, n) for n in range(len(structure))]\n",
            "           ^^^^^^^^^^^^^^^^^^^^^^^^^^^^^^^^^^^^^^^^^^^^^^^^^^^^^^^^^^^^^^^\n",
            "  File \"/usr/local/lib/python3.11/dist-packages/pymatgen/analysis/local_env.py\", line 378, in <listcomp>\n",
            "    return [self.get_nn_info(structure, n) for n in range(len(structure))]\n",
            "            ^^^^^^^^^^^^^^^^^^^^^^^^^^^^^^\n",
            "  File \"/usr/local/lib/python3.11/dist-packages/pymatgen/analysis/local_env.py\", line 3844, in get_nn_info\n",
            "    nndata = self.get_nn_data(structure, n)\n",
            "             ^^^^^^^^^^^^^^^^^^^^^^^^^^^^^^\n",
            "  File \"/usr/local/lib/python3.11/dist-packages/pymatgen/analysis/local_env.py\", line 3962, in get_nn_data\n",
            "    del entry[\"poly_info\"]  # trim\n",
            "        ~~~~~^^^^^^^^^^^^^\n",
            "KeyboardInterrupt\n",
            "^C\n",
            "CPU times: user 14.6 s, sys: 2.29 s, total: 16.9 s\n",
            "Wall time: 37min 42s\n"
          ]
        }
      ]
    },
    {
      "cell_type": "code",
      "source": [
        "!pip install smact"
      ],
      "metadata": {
        "colab": {
          "base_uri": "https://localhost:8080/"
        },
        "id": "33GA1cQy3Csl",
        "outputId": "f0662b6d-2496-4d5d-9079-0dd7572c7704"
      },
      "execution_count": null,
      "outputs": [
        {
          "output_type": "stream",
          "name": "stdout",
          "text": [
            "Collecting smact\n",
            "  Downloading smact-3.1.0-py3-none-any.whl.metadata (16 kB)\n",
            "Collecting ase (from smact)\n",
            "  Downloading ase-3.25.0-py3-none-any.whl.metadata (4.2 kB)\n",
            "Requirement already satisfied: numpy<3 in /usr/local/lib/python3.11/dist-packages (from smact) (1.26.4)\n",
            "Collecting pandarallel>=1.6.5 (from pandarallel[optional]>=1.6.5->smact)\n",
            "  Downloading pandarallel-1.6.5.tar.gz (14 kB)\n",
            "  Preparing metadata (setup.py) ... \u001b[?25l\u001b[?25hdone\n",
            "Requirement already satisfied: pandas in /usr/local/lib/python3.11/dist-packages (from smact) (2.2.2)\n",
            "Requirement already satisfied: pathos in /usr/local/lib/python3.11/dist-packages (from smact) (0.3.4)\n",
            "Collecting pymatgen>=2024.2.20 (from smact)\n",
            "  Downloading pymatgen-2025.5.2-cp311-cp311-manylinux_2_17_x86_64.manylinux2014_x86_64.whl.metadata (13 kB)\n",
            "Requirement already satisfied: scipy in /usr/local/lib/python3.11/dist-packages (from smact) (1.15.3)\n",
            "Requirement already satisfied: spglib>=2.6.0 in /usr/local/lib/python3.11/dist-packages (from smact) (2.6.0)\n",
            "Requirement already satisfied: typing-extensions in /usr/local/lib/python3.11/dist-packages (from smact) (4.13.2)\n",
            "Requirement already satisfied: dill>=0.3.1 in /usr/local/lib/python3.11/dist-packages (from pandarallel>=1.6.5->pandarallel[optional]>=1.6.5->smact) (0.4.0)\n",
            "Requirement already satisfied: psutil in /usr/local/lib/python3.11/dist-packages (from pandarallel>=1.6.5->pandarallel[optional]>=1.6.5->smact) (5.9.5)\n",
            "\u001b[33mWARNING: pandarallel 1.6.5 does not provide the extra 'optional'\u001b[0m\u001b[33m\n",
            "\u001b[0mRequirement already satisfied: python-dateutil>=2.8.2 in /usr/local/lib/python3.11/dist-packages (from pandas->smact) (2.9.0.post0)\n",
            "Requirement already satisfied: pytz>=2020.1 in /usr/local/lib/python3.11/dist-packages (from pandas->smact) (2025.2)\n",
            "Requirement already satisfied: tzdata>=2022.7 in /usr/local/lib/python3.11/dist-packages (from pandas->smact) (2025.2)\n",
            "Requirement already satisfied: joblib>=1 in /usr/local/lib/python3.11/dist-packages (from pymatgen>=2024.2.20->smact) (1.5.0)\n",
            "Requirement already satisfied: matplotlib>=3.8 in /usr/local/lib/python3.11/dist-packages (from pymatgen>=2024.2.20->smact) (3.10.0)\n",
            "Requirement already satisfied: monty>=2025.1.9 in /usr/local/lib/python3.11/dist-packages (from pymatgen>=2024.2.20->smact) (2025.3.3)\n",
            "Requirement already satisfied: networkx>=2.7 in /usr/local/lib/python3.11/dist-packages (from pymatgen>=2024.2.20->smact) (3.4.2)\n",
            "Requirement already satisfied: palettable>=3.3.3 in /usr/local/lib/python3.11/dist-packages (from pymatgen>=2024.2.20->smact) (3.3.3)\n",
            "Requirement already satisfied: plotly>=5.0.0 in /usr/local/lib/python3.11/dist-packages (from pymatgen>=2024.2.20->smact) (5.24.1)\n",
            "Collecting bibtexparser>=1.4.0 (from pymatgen>=2024.2.20->smact)\n",
            "  Downloading bibtexparser-1.4.3.tar.gz (55 kB)\n",
            "\u001b[2K     \u001b[90m━━━━━━━━━━━━━━━━━━━━━━━━━━━━━━━━━━━━━━━━\u001b[0m \u001b[32m55.6/55.6 kB\u001b[0m \u001b[31m4.0 MB/s\u001b[0m eta \u001b[36m0:00:00\u001b[0m\n",
            "\u001b[?25h  Preparing metadata (setup.py) ... \u001b[?25l\u001b[?25hdone\n",
            "Requirement already satisfied: requests>=2.32 in /usr/local/lib/python3.11/dist-packages (from pymatgen>=2024.2.20->smact) (2.32.3)\n",
            "Requirement already satisfied: ruamel.yaml>=0.17.0 in /usr/local/lib/python3.11/dist-packages (from pymatgen>=2024.2.20->smact) (0.18.10)\n",
            "Requirement already satisfied: sympy>=1.3 in /usr/local/lib/python3.11/dist-packages (from pymatgen>=2024.2.20->smact) (1.13.1)\n",
            "Requirement already satisfied: tabulate>=0.9 in /usr/local/lib/python3.11/dist-packages (from pymatgen>=2024.2.20->smact) (0.9.0)\n",
            "Requirement already satisfied: tqdm>=4.60 in /usr/local/lib/python3.11/dist-packages (from pymatgen>=2024.2.20->smact) (4.67.1)\n",
            "Requirement already satisfied: uncertainties>=3.1.4 in /usr/local/lib/python3.11/dist-packages (from pymatgen>=2024.2.20->smact) (3.2.3)\n",
            "Requirement already satisfied: ppft>=1.7.7 in /usr/local/lib/python3.11/dist-packages (from pathos->smact) (1.7.7)\n",
            "Requirement already satisfied: pox>=0.3.6 in /usr/local/lib/python3.11/dist-packages (from pathos->smact) (0.3.6)\n",
            "Requirement already satisfied: multiprocess>=0.70.18 in /usr/local/lib/python3.11/dist-packages (from pathos->smact) (0.70.18)\n",
            "Requirement already satisfied: pyparsing>=2.0.3 in /usr/local/lib/python3.11/dist-packages (from bibtexparser>=1.4.0->pymatgen>=2024.2.20->smact) (3.2.3)\n",
            "Requirement already satisfied: contourpy>=1.0.1 in /usr/local/lib/python3.11/dist-packages (from matplotlib>=3.8->pymatgen>=2024.2.20->smact) (1.3.2)\n",
            "Requirement already satisfied: cycler>=0.10 in /usr/local/lib/python3.11/dist-packages (from matplotlib>=3.8->pymatgen>=2024.2.20->smact) (0.12.1)\n",
            "Requirement already satisfied: fonttools>=4.22.0 in /usr/local/lib/python3.11/dist-packages (from matplotlib>=3.8->pymatgen>=2024.2.20->smact) (4.58.0)\n",
            "Requirement already satisfied: kiwisolver>=1.3.1 in /usr/local/lib/python3.11/dist-packages (from matplotlib>=3.8->pymatgen>=2024.2.20->smact) (1.4.8)\n",
            "Requirement already satisfied: packaging>=20.0 in /usr/local/lib/python3.11/dist-packages (from matplotlib>=3.8->pymatgen>=2024.2.20->smact) (24.2)\n",
            "Requirement already satisfied: pillow>=8 in /usr/local/lib/python3.11/dist-packages (from matplotlib>=3.8->pymatgen>=2024.2.20->smact) (11.2.1)\n",
            "Requirement already satisfied: tenacity>=6.2.0 in /usr/local/lib/python3.11/dist-packages (from plotly>=5.0.0->pymatgen>=2024.2.20->smact) (9.1.2)\n",
            "Requirement already satisfied: six>=1.5 in /usr/local/lib/python3.11/dist-packages (from python-dateutil>=2.8.2->pandas->smact) (1.17.0)\n",
            "Requirement already satisfied: charset-normalizer<4,>=2 in /usr/local/lib/python3.11/dist-packages (from requests>=2.32->pymatgen>=2024.2.20->smact) (3.4.2)\n",
            "Requirement already satisfied: idna<4,>=2.5 in /usr/local/lib/python3.11/dist-packages (from requests>=2.32->pymatgen>=2024.2.20->smact) (3.10)\n",
            "Requirement already satisfied: urllib3<3,>=1.21.1 in /usr/local/lib/python3.11/dist-packages (from requests>=2.32->pymatgen>=2024.2.20->smact) (2.4.0)\n",
            "Requirement already satisfied: certifi>=2017.4.17 in /usr/local/lib/python3.11/dist-packages (from requests>=2.32->pymatgen>=2024.2.20->smact) (2025.4.26)\n",
            "Requirement already satisfied: ruamel.yaml.clib>=0.2.7 in /usr/local/lib/python3.11/dist-packages (from ruamel.yaml>=0.17.0->pymatgen>=2024.2.20->smact) (0.2.12)\n",
            "Requirement already satisfied: mpmath<1.4,>=1.1.0 in /usr/local/lib/python3.11/dist-packages (from sympy>=1.3->pymatgen>=2024.2.20->smact) (1.3.0)\n",
            "Downloading smact-3.1.0-py3-none-any.whl (1.9 MB)\n",
            "\u001b[2K   \u001b[90m━━━━━━━━━━━━━━━━━━━━━━━━━━━━━━━━━━━━━━━━\u001b[0m \u001b[32m1.9/1.9 MB\u001b[0m \u001b[31m12.1 MB/s\u001b[0m eta \u001b[36m0:00:00\u001b[0m\n",
            "\u001b[?25hDownloading pymatgen-2025.5.2-cp311-cp311-manylinux_2_17_x86_64.manylinux2014_x86_64.whl (5.1 MB)\n",
            "\u001b[2K   \u001b[90m━━━━━━━━━━━━━━━━━━━━━━━━━━━━━━━━━━━━━━━━\u001b[0m \u001b[32m5.1/5.1 MB\u001b[0m \u001b[31m31.3 MB/s\u001b[0m eta \u001b[36m0:00:00\u001b[0m\n",
            "\u001b[?25hDownloading ase-3.25.0-py3-none-any.whl (3.0 MB)\n",
            "\u001b[2K   \u001b[90m━━━━━━━━━━━━━━━━━━━━━━━━━━━━━━━━━━━━━━━━\u001b[0m \u001b[32m3.0/3.0 MB\u001b[0m \u001b[31m40.4 MB/s\u001b[0m eta \u001b[36m0:00:00\u001b[0m\n",
            "\u001b[?25hBuilding wheels for collected packages: pandarallel, bibtexparser\n",
            "  Building wheel for pandarallel (setup.py) ... \u001b[?25l\u001b[?25hdone\n",
            "  Created wheel for pandarallel: filename=pandarallel-1.6.5-py3-none-any.whl size=16674 sha256=a63c3afe89d08bca99e54a4e47131a5a0d3913b174fc73f99c228d8999afd7ca\n",
            "  Stored in directory: /root/.cache/pip/wheels/b9/c6/5a/829298789e94348b81af52ab42c19d49da007306bbcc983827\n",
            "  Building wheel for bibtexparser (setup.py) ... \u001b[?25l\u001b[?25hdone\n",
            "  Created wheel for bibtexparser: filename=bibtexparser-1.4.3-py3-none-any.whl size=43549 sha256=5d597e9dec2b3b59269beb4bd97665414fd7be30e0d490781f782b26ff1fb479\n",
            "  Stored in directory: /root/.cache/pip/wheels/16/fb/76/306387739cf9d53b1c39b0c8aadbbb17dc05f256756d8fd915\n",
            "Successfully built pandarallel bibtexparser\n",
            "Installing collected packages: bibtexparser, pymatgen, pandarallel, ase, smact\n",
            "  Attempting uninstall: pymatgen\n",
            "    Found existing installation: pymatgen 2022.4.26\n",
            "    Uninstalling pymatgen-2022.4.26:\n",
            "      Successfully uninstalled pymatgen-2022.4.26\n",
            "Successfully installed ase-3.25.0 bibtexparser-1.4.3 pandarallel-1.6.5 pymatgen-2025.5.2 smact-3.1.0\n"
          ]
        }
      ]
    },
    {
      "cell_type": "markdown",
      "source": [
        "Export conda environment"
      ],
      "metadata": {
        "id": "--9p3Djr-u5L"
      }
    },
    {
      "cell_type": "code",
      "source": [
        "# from datetime import date\n",
        "# d1 = today.strftime(\"%Y-%m-%d\")"
      ],
      "metadata": {
        "id": "4LiaFR3fRM0h"
      },
      "execution_count": null,
      "outputs": []
    },
    {
      "cell_type": "code",
      "source": [
        "temp_dir=!ls /content/cdvae/HYDRA_JOBS/singlerun/"
      ],
      "metadata": {
        "id": "qQixt8zk3qBK"
      },
      "execution_count": null,
      "outputs": []
    },
    {
      "cell_type": "code",
      "source": [
        "os.environ['TMP_DIR']=temp_dir[0]"
      ],
      "metadata": {
        "id": "gYzAZ7Lz4yE5"
      },
      "execution_count": null,
      "outputs": []
    },
    {
      "cell_type": "code",
      "source": [
        "!echo $TMP_DIR"
      ],
      "metadata": {
        "colab": {
          "base_uri": "https://localhost:8080/"
        },
        "id": "g2ejB6Kw5HQd",
        "outputId": "a402f528-2de5-4f7b-db5e-4bf17e23cee5"
      },
      "execution_count": null,
      "outputs": [
        {
          "output_type": "stream",
          "name": "stdout",
          "text": [
            "2025-05-22\n"
          ]
        }
      ]
    },
    {
      "cell_type": "markdown",
      "source": [
        "Adjust path accordingly"
      ],
      "metadata": {
        "id": "eZXPKpy40rTj"
      }
    },
    {
      "cell_type": "code",
      "source": [
        "%%time\n",
        "!python scripts/evaluate.py --n_step_each 5 --num_batches_to_samples 5 --batch_size 5 --model_path \"/content/cdvae/HYDRA_JOBS/singlerun/$TMP_DIR/supercon_test02\" --tasks opt gen recon"
      ],
      "metadata": {
        "id": "gkmcwrDToBBl",
        "colab": {
          "base_uri": "https://localhost:8080/"
        },
        "outputId": "6128d3ce-143e-41f0-8000-f9bb6b8f0993"
      },
      "execution_count": null,
      "outputs": [
        {
          "output_type": "stream",
          "name": "stdout",
          "text": [
            "2025-05-22 13:04:03.815436: E external/local_xla/xla/stream_executor/cuda/cuda_fft.cc:477] Unable to register cuFFT factory: Attempting to register factory for plugin cuFFT when one has already been registered\n",
            "WARNING: All log messages before absl::InitializeLog() is called are written to STDERR\n",
            "E0000 00:00:1747919043.871229   10567 cuda_dnn.cc:8310] Unable to register cuDNN factory: Attempting to register factory for plugin cuDNN when one has already been registered\n",
            "E0000 00:00:1747919043.890123   10567 cuda_blas.cc:1418] Unable to register cuBLAS factory: Attempting to register factory for plugin cuBLAS when one has already been registered\n",
            "2025-05-22 13:04:03.967718: I tensorflow/core/platform/cpu_feature_guard.cc:210] This TensorFlow binary is optimized to use available CPU instructions in performance-critical operations.\n",
            "To enable the following instructions: AVX2 FMA, in other operations, rebuild TensorFlow with the appropriate compiler flags.\n",
            "/content/cdvae/cdvae/pl_data/dataset.py:126: UserWarning: \n",
            "The version_base parameter is not specified.\n",
            "Please specify a compatability version level, or None.\n",
            "Will assume defaults for version 1.1\n",
            "  @hydra.main(config_path=str(PROJECT_ROOT / \"conf\"), config_name=\"default\")\n",
            "/content/cdvae/cdvae/pl_data/datamodule.py:142: UserWarning: \n",
            "The version_base parameter is not specified.\n",
            "Please specify a compatability version level, or None.\n",
            "Will assume defaults for version 1.1\n",
            "  @hydra.main(config_path=str(PROJECT_ROOT / \"conf\"), config_name=\"default\")\n",
            "/content/cdvae/scripts/eval_utils.py:56: UserWarning: \n",
            "The version_base parameter is not specified.\n",
            "Please specify a compatability version level, or None.\n",
            "Will assume defaults for version 1.1\n",
            "  with initialize_config_dir(str(model_path)):\n",
            "/usr/local/lib/python3.11/dist-packages/hydra/experimental/compose.py:25: UserWarning: hydra.experimental.compose() is no longer experimental. Use hydra.compose()\n",
            "  deprecation_warning(message=message)\n",
            "/content/cdvae/cdvae/pl_modules/model.py:635: UserWarning: \n",
            "The version_base parameter is not specified.\n",
            "Please specify a compatability version level, or None.\n",
            "Will assume defaults for version 1.1\n",
            "  @hydra.main(config_path=str(PROJECT_ROOT / \"conf\"), config_name=\"default\")\n",
            "Traceback (most recent call last):\n",
            "  File \"/content/cdvae/scripts/evaluate.py\", line 280, in <module>\n",
            "    main(args)\n",
            "  File \"/content/cdvae/scripts/evaluate.py\", line 178, in main\n",
            "    model, test_loader, cfg = load_model(\n",
            "                              ^^^^^^^^^^^\n",
            "  File \"/content/cdvae/scripts/eval_utils.py\", line 70, in load_model\n",
            "    model = model.load_from_checkpoint(ckpt)\n",
            "            ^^^^^^^^^^^^^^^^^^^^^^^^^^^^^^^^\n",
            "  File \"/usr/local/lib/python3.11/dist-packages/pytorch_lightning/core/saving.py\", line 139, in load_from_checkpoint\n",
            "    checkpoint = pl_load(checkpoint_path, map_location=lambda storage, loc: storage)\n",
            "                 ^^^^^^^^^^^^^^^^^^^^^^^^^^^^^^^^^^^^^^^^^^^^^^^^^^^^^^^^^^^^^^^^^^^\n",
            "  File \"/usr/local/lib/python3.11/dist-packages/pytorch_lightning/utilities/cloud_io.py\", line 47, in load\n",
            "    return torch.load(f, map_location=map_location)\n",
            "           ^^^^^^^^^^^^^^^^^^^^^^^^^^^^^^^^^^^^^^^^\n",
            "  File \"/usr/local/lib/python3.11/dist-packages/torch/serialization.py\", line 1470, in load\n",
            "    raise pickle.UnpicklingError(_get_wo_message(str(e))) from None\n",
            "_pickle.UnpicklingError: Weights only load failed. This file can still be loaded, to do so you have two options, \u001b[1mdo those steps only if you trust the source of the checkpoint\u001b[0m. \n",
            "\t(1) In PyTorch 2.6, we changed the default value of the `weights_only` argument in `torch.load` from `False` to `True`. Re-running `torch.load` with `weights_only` set to `False` will likely succeed, but it can result in arbitrary code execution. Do it only if you got the file from a trusted source.\n",
            "\t(2) Alternatively, to load with `weights_only=True` please check the recommended steps in the following error message.\n",
            "\tWeightsUnpickler error: Unsupported global: GLOBAL pathlib.PosixPath was not an allowed global by default. Please use `torch.serialization.add_safe_globals([PosixPath])` or the `torch.serialization.safe_globals([PosixPath])` context manager to allowlist this global if you trust this class/function.\n",
            "\n",
            "Check the documentation of torch.load to learn more about types accepted by default with weights_only https://pytorch.org/docs/stable/generated/torch.load.html.\n",
            "CPU times: user 322 ms, sys: 46.7 ms, total: 369 ms\n",
            "Wall time: 55.3 s\n"
          ]
        }
      ]
    },
    {
      "cell_type": "code",
      "source": [
        "!pip install matminer"
      ],
      "metadata": {
        "colab": {
          "base_uri": "https://localhost:8080/"
        },
        "id": "OCTlzaHF0g5Q",
        "outputId": "e040a042-757c-4723-b088-049d428915e5"
      },
      "execution_count": null,
      "outputs": [
        {
          "output_type": "stream",
          "name": "stdout",
          "text": [
            "Collecting matminer\n",
            "  Downloading matminer-0.9.3-py3-none-any.whl.metadata (4.9 kB)\n",
            "Requirement already satisfied: numpy>=1.23 in /usr/local/lib/python3.11/dist-packages (from matminer) (1.26.4)\n",
            "Requirement already satisfied: requests~=2.31 in /usr/local/lib/python3.11/dist-packages (from matminer) (2.32.3)\n",
            "Requirement already satisfied: pandas<3,>=1.5 in /usr/local/lib/python3.11/dist-packages (from matminer) (2.2.2)\n",
            "Requirement already satisfied: tqdm~=4.66 in /usr/local/lib/python3.11/dist-packages (from matminer) (4.67.1)\n",
            "Collecting pymongo~=4.5 (from matminer)\n",
            "  Downloading pymongo-4.13.0-cp311-cp311-manylinux_2_17_x86_64.manylinux2014_x86_64.whl.metadata (22 kB)\n",
            "Requirement already satisfied: scikit-learn~=1.3 in /usr/local/lib/python3.11/dist-packages (from matminer) (1.6.1)\n",
            "Requirement already satisfied: sympy~=1.11 in /usr/local/lib/python3.11/dist-packages (from matminer) (1.13.1)\n",
            "Requirement already satisfied: monty>=2023 in /usr/local/lib/python3.11/dist-packages (from matminer) (2025.3.3)\n",
            "Requirement already satisfied: pymatgen>=2023 in /usr/local/lib/python3.11/dist-packages (from matminer) (2025.5.2)\n",
            "Requirement already satisfied: ruamel.yaml in /usr/local/lib/python3.11/dist-packages (from monty>=2023->matminer) (0.18.10)\n",
            "Requirement already satisfied: python-dateutil>=2.8.2 in /usr/local/lib/python3.11/dist-packages (from pandas<3,>=1.5->matminer) (2.9.0.post0)\n",
            "Requirement already satisfied: pytz>=2020.1 in /usr/local/lib/python3.11/dist-packages (from pandas<3,>=1.5->matminer) (2025.2)\n",
            "Requirement already satisfied: tzdata>=2022.7 in /usr/local/lib/python3.11/dist-packages (from pandas<3,>=1.5->matminer) (2025.2)\n",
            "Requirement already satisfied: joblib>=1 in /usr/local/lib/python3.11/dist-packages (from pymatgen>=2023->matminer) (1.5.0)\n",
            "Requirement already satisfied: matplotlib>=3.8 in /usr/local/lib/python3.11/dist-packages (from pymatgen>=2023->matminer) (3.10.0)\n",
            "Requirement already satisfied: networkx>=2.7 in /usr/local/lib/python3.11/dist-packages (from pymatgen>=2023->matminer) (3.4.2)\n",
            "Requirement already satisfied: palettable>=3.3.3 in /usr/local/lib/python3.11/dist-packages (from pymatgen>=2023->matminer) (3.3.3)\n",
            "Requirement already satisfied: plotly>=5.0.0 in /usr/local/lib/python3.11/dist-packages (from pymatgen>=2023->matminer) (5.24.1)\n",
            "Requirement already satisfied: bibtexparser>=1.4.0 in /usr/local/lib/python3.11/dist-packages (from pymatgen>=2023->matminer) (1.4.3)\n",
            "Requirement already satisfied: scipy>=1.13.0 in /usr/local/lib/python3.11/dist-packages (from pymatgen>=2023->matminer) (1.15.3)\n",
            "Requirement already satisfied: spglib>=2.5 in /usr/local/lib/python3.11/dist-packages (from pymatgen>=2023->matminer) (2.6.0)\n",
            "Requirement already satisfied: tabulate>=0.9 in /usr/local/lib/python3.11/dist-packages (from pymatgen>=2023->matminer) (0.9.0)\n",
            "Requirement already satisfied: uncertainties>=3.1.4 in /usr/local/lib/python3.11/dist-packages (from pymatgen>=2023->matminer) (3.2.3)\n",
            "Collecting dnspython<3.0.0,>=1.16.0 (from pymongo~=4.5->matminer)\n",
            "  Downloading dnspython-2.7.0-py3-none-any.whl.metadata (5.8 kB)\n",
            "Requirement already satisfied: charset-normalizer<4,>=2 in /usr/local/lib/python3.11/dist-packages (from requests~=2.31->matminer) (3.4.2)\n",
            "Requirement already satisfied: idna<4,>=2.5 in /usr/local/lib/python3.11/dist-packages (from requests~=2.31->matminer) (3.10)\n",
            "Requirement already satisfied: urllib3<3,>=1.21.1 in /usr/local/lib/python3.11/dist-packages (from requests~=2.31->matminer) (2.4.0)\n",
            "Requirement already satisfied: certifi>=2017.4.17 in /usr/local/lib/python3.11/dist-packages (from requests~=2.31->matminer) (2025.4.26)\n",
            "Requirement already satisfied: threadpoolctl>=3.1.0 in /usr/local/lib/python3.11/dist-packages (from scikit-learn~=1.3->matminer) (3.6.0)\n",
            "Requirement already satisfied: mpmath<1.4,>=1.1.0 in /usr/local/lib/python3.11/dist-packages (from sympy~=1.11->matminer) (1.3.0)\n",
            "Requirement already satisfied: pyparsing>=2.0.3 in /usr/local/lib/python3.11/dist-packages (from bibtexparser>=1.4.0->pymatgen>=2023->matminer) (3.2.3)\n",
            "Requirement already satisfied: contourpy>=1.0.1 in /usr/local/lib/python3.11/dist-packages (from matplotlib>=3.8->pymatgen>=2023->matminer) (1.3.2)\n",
            "Requirement already satisfied: cycler>=0.10 in /usr/local/lib/python3.11/dist-packages (from matplotlib>=3.8->pymatgen>=2023->matminer) (0.12.1)\n",
            "Requirement already satisfied: fonttools>=4.22.0 in /usr/local/lib/python3.11/dist-packages (from matplotlib>=3.8->pymatgen>=2023->matminer) (4.58.0)\n",
            "Requirement already satisfied: kiwisolver>=1.3.1 in /usr/local/lib/python3.11/dist-packages (from matplotlib>=3.8->pymatgen>=2023->matminer) (1.4.8)\n",
            "Requirement already satisfied: packaging>=20.0 in /usr/local/lib/python3.11/dist-packages (from matplotlib>=3.8->pymatgen>=2023->matminer) (24.2)\n",
            "Requirement already satisfied: pillow>=8 in /usr/local/lib/python3.11/dist-packages (from matplotlib>=3.8->pymatgen>=2023->matminer) (11.2.1)\n",
            "Requirement already satisfied: tenacity>=6.2.0 in /usr/local/lib/python3.11/dist-packages (from plotly>=5.0.0->pymatgen>=2023->matminer) (9.1.2)\n",
            "Requirement already satisfied: six>=1.5 in /usr/local/lib/python3.11/dist-packages (from python-dateutil>=2.8.2->pandas<3,>=1.5->matminer) (1.17.0)\n",
            "Requirement already satisfied: ruamel.yaml.clib>=0.2.7 in /usr/local/lib/python3.11/dist-packages (from ruamel.yaml->monty>=2023->matminer) (0.2.12)\n",
            "Requirement already satisfied: typing-extensions>=4.9.0 in /usr/local/lib/python3.11/dist-packages (from spglib>=2.5->pymatgen>=2023->matminer) (4.13.2)\n",
            "Downloading matminer-0.9.3-py3-none-any.whl (5.5 MB)\n",
            "\u001b[2K   \u001b[90m━━━━━━━━━━━━━━━━━━━━━━━━━━━━━━━━━━━━━━━━\u001b[0m \u001b[32m5.5/5.5 MB\u001b[0m \u001b[31m34.2 MB/s\u001b[0m eta \u001b[36m0:00:00\u001b[0m\n",
            "\u001b[?25hDownloading pymongo-4.13.0-cp311-cp311-manylinux_2_17_x86_64.manylinux2014_x86_64.whl (1.4 MB)\n",
            "\u001b[2K   \u001b[90m━━━━━━━━━━━━━━━━━━━━━━━━━━━━━━━━━━━━━━━━\u001b[0m \u001b[32m1.4/1.4 MB\u001b[0m \u001b[31m47.3 MB/s\u001b[0m eta \u001b[36m0:00:00\u001b[0m\n",
            "\u001b[?25hDownloading dnspython-2.7.0-py3-none-any.whl (313 kB)\n",
            "\u001b[2K   \u001b[90m━━━━━━━━━━━━━━━━━━━━━━━━━━━━━━━━━━━━━━━━\u001b[0m \u001b[32m313.6/313.6 kB\u001b[0m \u001b[31m19.7 MB/s\u001b[0m eta \u001b[36m0:00:00\u001b[0m\n",
            "\u001b[?25hInstalling collected packages: dnspython, pymongo, matminer\n",
            "Successfully installed dnspython-2.7.0 matminer-0.9.3 pymongo-4.13.0\n"
          ]
        }
      ]
    },
    {
      "cell_type": "code",
      "source": [
        "%%time\n",
        "!python scripts/compute_metrics.py --root_path  \"/content/cdvae/HYDRA_JOBS/singlerun/$TMP_DIR/supercon_test02\" --tasks   gen recon"
      ],
      "metadata": {
        "colab": {
          "base_uri": "https://localhost:8080/"
        },
        "id": "2pa1a6M93Zl6",
        "outputId": "6b9eb204-002a-46d0-e498-6d935994d55a"
      },
      "execution_count": null,
      "outputs": [
        {
          "output_type": "stream",
          "name": "stdout",
          "text": [
            "2025-05-22 13:05:07.499972: E external/local_xla/xla/stream_executor/cuda/cuda_fft.cc:477] Unable to register cuFFT factory: Attempting to register factory for plugin cuFFT when one has already been registered\n",
            "WARNING: All log messages before absl::InitializeLog() is called are written to STDERR\n",
            "E0000 00:00:1747919107.542533   10893 cuda_dnn.cc:8310] Unable to register cuDNN factory: Attempting to register factory for plugin cuDNN when one has already been registered\n",
            "E0000 00:00:1747919107.554434   10893 cuda_blas.cc:1418] Unable to register cuBLAS factory: Attempting to register factory for plugin cuBLAS when one has already been registered\n",
            "2025-05-22 13:05:07.590863: I tensorflow/core/platform/cpu_feature_guard.cc:210] This TensorFlow binary is optimized to use available CPU instructions in performance-critical operations.\n",
            "To enable the following instructions: AVX2 FMA, in other operations, rebuild TensorFlow with the appropriate compiler flags.\n",
            "/content/cdvae/cdvae/pl_data/dataset.py:126: UserWarning: \n",
            "The version_base parameter is not specified.\n",
            "Please specify a compatability version level, or None.\n",
            "Will assume defaults for version 1.1\n",
            "  @hydra.main(config_path=str(PROJECT_ROOT / \"conf\"), config_name=\"default\")\n",
            "/content/cdvae/cdvae/pl_data/datamodule.py:142: UserWarning: \n",
            "The version_base parameter is not specified.\n",
            "Please specify a compatability version level, or None.\n",
            "Will assume defaults for version 1.1\n",
            "  @hydra.main(config_path=str(PROJECT_ROOT / \"conf\"), config_name=\"default\")\n",
            "/usr/local/lib/python3.11/dist-packages/matminer/utils/data.py:326: UserWarning: MagpieData(impute_nan=False):\n",
            "In a future release, impute_nan will be set to True by default.\n",
            "                    This means that features that are missing or are NaNs for elements\n",
            "                    from the data source will be replaced by the average of that value\n",
            "                    over the available elements.\n",
            "                    This avoids NaNs after featurization that are often replaced by\n",
            "                    dataset-dependent averages.\n",
            "  warnings.warn(f\"{self.__class__.__name__}(impute_nan=False):\\n\" + IMPUTE_NAN_WARNING)\n",
            "/content/cdvae/scripts/eval_utils.py:50: UserWarning: \n",
            "The version_base parameter is not specified.\n",
            "Please specify a compatability version level, or None.\n",
            "Will assume defaults for version 1.1\n",
            "  with initialize_config_dir(str(model_path)):\n",
            "/usr/local/lib/python3.11/dist-packages/hydra/experimental/compose.py:25: UserWarning: hydra.experimental.compose() is no longer experimental. Use hydra.compose()\n",
            "  deprecation_warning(message=message)\n",
            "Traceback (most recent call last):\n",
            "  File \"/content/cdvae/scripts/compute_metrics.py\", line 366, in <module>\n",
            "    main(args)\n",
            "  File \"/content/cdvae/scripts/compute_metrics.py\", line 302, in main\n",
            "    crys_array_list, true_crystal_array_list = get_crystal_array_list(\n",
            "                                               ^^^^^^^^^^^^^^^^^^^^^^^\n",
            "  File \"/content/cdvae/scripts/compute_metrics.py\", line 270, in get_crystal_array_list\n",
            "    data = load_data(file_path)\n",
            "           ^^^^^^^^^^^^^^^^^^^^\n",
            "  File \"/content/cdvae/scripts/eval_utils.py\", line 38, in load_data\n",
            "    data = torch.load(file_path)\n",
            "           ^^^^^^^^^^^^^^^^^^^^^\n",
            "  File \"/usr/local/lib/python3.11/dist-packages/torch/serialization.py\", line 1425, in load\n",
            "    with _open_file_like(f, \"rb\") as opened_file:\n",
            "         ^^^^^^^^^^^^^^^^^^^^^^^^\n",
            "  File \"/usr/local/lib/python3.11/dist-packages/torch/serialization.py\", line 751, in _open_file_like\n",
            "    return _open_file(name_or_buffer, mode)\n",
            "           ^^^^^^^^^^^^^^^^^^^^^^^^^^^^^^^^\n",
            "  File \"/usr/local/lib/python3.11/dist-packages/torch/serialization.py\", line 732, in __init__\n",
            "    super().__init__(open(name, mode))\n",
            "                     ^^^^^^^^^^^^^^^^\n",
            "FileNotFoundError: [Errno 2] No such file or directory: '/content/cdvae/HYDRA_JOBS/singlerun/2025-05-22/supercon_test02/eval_recon.pt'\n",
            "CPU times: user 155 ms, sys: 27.1 ms, total: 182 ms\n",
            "Wall time: 27 s\n"
          ]
        }
      ]
    },
    {
      "cell_type": "code",
      "source": [
        "temp_dir[0]"
      ],
      "metadata": {
        "colab": {
          "base_uri": "https://localhost:8080/",
          "height": 35
        },
        "id": "-HVjv7DcBaLm",
        "outputId": "17faff39-fac0-4014-9ada-48203f410f0a"
      },
      "execution_count": null,
      "outputs": [
        {
          "output_type": "execute_result",
          "data": {
            "text/plain": [
              "'2025-05-22'"
            ],
            "application/vnd.google.colaboratory.intrinsic+json": {
              "type": "string"
            }
          },
          "metadata": {},
          "execution_count": 26
        }
      ]
    },
    {
      "cell_type": "code",
      "source": [
        "!ls /content/cdvae/HYDRA_JOBS/singlerun/$TMP_DIR/supercon_test02/"
      ],
      "metadata": {
        "colab": {
          "base_uri": "https://localhost:8080/"
        },
        "id": "GKUpnMENBgy9",
        "outputId": "d7c63a7d-4125-4a77-8459-ce0a819f1ff2"
      },
      "execution_count": null,
      "outputs": [
        {
          "output_type": "stream",
          "name": "stdout",
          "text": [
            "'epoch=29-step=1020.ckpt'   lattice_scaler.pt   run.log\n",
            " hparams.yaml\t\t    prop_scaler.pt\n"
          ]
        }
      ]
    },
    {
      "cell_type": "code",
      "source": [
        "import torch\n",
        "from jarvis.core.atoms import Atoms\n",
        "from jarvis.core.atoms import pmg_to_atoms\n",
        "from jarvis.core.lattice import Lattice\n",
        "from jarvis.core.specie import atomic_numbers_to_symbols\n",
        "from jarvis.db.jsonutils import dumpjson\n",
        "from jarvis.analysis.structure.spacegroup import Spacegroup3D\n",
        "from collections import Counter\n",
        "from pymatgen.core.structure import Structure\n",
        "import pandas as pd\n",
        "opt_path = \"/content/cdvae/HYDRA_JOBS/singlerun/\"+temp_dir[0]+\"/supercon_test02/eval_opt.pt\"\n",
        "gen_path = \"/content/cdvae/HYDRA_JOBS/singlerun/\"+temp_dir[0]+\"/supercon_test02/eval_gen.pt\"\n",
        "recon_path = \"/content/cdvae/HYDRA_JOBS/singlerun/\"+temp_dir[0]+\"/supercon_test02/eval_recon.pt\"\n",
        "csv_path = \"/content/cdvae/data/supercon/test.csv\"\n",
        "df = pd.read_csv(csv_path)\n",
        "x = torch.load(recon_path)\n",
        "y = torch.load(gen_path)\n",
        "z = torch.load(opt_path)\n",
        "print(len(df),x[\"num_atoms\"].shape,y[\"num_atoms\"].shape,z[\"num_atoms\"].shape)"
      ],
      "metadata": {
        "colab": {
          "base_uri": "https://localhost:8080/",
          "height": 530
        },
        "id": "ChMSlbqriZ7T",
        "outputId": "3c9bfafb-3566-4628-c021-293b611c189a"
      },
      "execution_count": null,
      "outputs": [
        {
          "output_type": "error",
          "ename": "ModuleNotFoundError",
          "evalue": "No module named 'numpy.strings'",
          "traceback": [
            "\u001b[0;31m---------------------------------------------------------------------------\u001b[0m",
            "\u001b[0;31mModuleNotFoundError\u001b[0m                       Traceback (most recent call last)",
            "\u001b[0;32m<ipython-input-28-5259fe99110e>\u001b[0m in \u001b[0;36m<cell line: 0>\u001b[0;34m()\u001b[0m\n\u001b[1;32m      1\u001b[0m \u001b[0;32mimport\u001b[0m \u001b[0mtorch\u001b[0m\u001b[0;34m\u001b[0m\u001b[0;34m\u001b[0m\u001b[0m\n\u001b[0;32m----> 2\u001b[0;31m \u001b[0;32mfrom\u001b[0m \u001b[0mjarvis\u001b[0m\u001b[0;34m.\u001b[0m\u001b[0mcore\u001b[0m\u001b[0;34m.\u001b[0m\u001b[0matoms\u001b[0m \u001b[0;32mimport\u001b[0m \u001b[0mAtoms\u001b[0m\u001b[0;34m\u001b[0m\u001b[0;34m\u001b[0m\u001b[0m\n\u001b[0m\u001b[1;32m      3\u001b[0m \u001b[0;32mfrom\u001b[0m \u001b[0mjarvis\u001b[0m\u001b[0;34m.\u001b[0m\u001b[0mcore\u001b[0m\u001b[0;34m.\u001b[0m\u001b[0matoms\u001b[0m \u001b[0;32mimport\u001b[0m \u001b[0mpmg_to_atoms\u001b[0m\u001b[0;34m\u001b[0m\u001b[0;34m\u001b[0m\u001b[0m\n\u001b[1;32m      4\u001b[0m \u001b[0;32mfrom\u001b[0m \u001b[0mjarvis\u001b[0m\u001b[0;34m.\u001b[0m\u001b[0mcore\u001b[0m\u001b[0;34m.\u001b[0m\u001b[0mlattice\u001b[0m \u001b[0;32mimport\u001b[0m \u001b[0mLattice\u001b[0m\u001b[0;34m\u001b[0m\u001b[0;34m\u001b[0m\u001b[0m\n\u001b[1;32m      5\u001b[0m \u001b[0;32mfrom\u001b[0m \u001b[0mjarvis\u001b[0m\u001b[0;34m.\u001b[0m\u001b[0mcore\u001b[0m\u001b[0;34m.\u001b[0m\u001b[0mspecie\u001b[0m \u001b[0;32mimport\u001b[0m \u001b[0matomic_numbers_to_symbols\u001b[0m\u001b[0;34m\u001b[0m\u001b[0;34m\u001b[0m\u001b[0m\n",
            "\u001b[0;32m/usr/local/lib/python3.11/dist-packages/jarvis/core/atoms.py\u001b[0m in \u001b[0;36m<module>\u001b[0;34m\u001b[0m\n\u001b[1;32m      2\u001b[0m \u001b[0;34m\u001b[0m\u001b[0m\n\u001b[1;32m      3\u001b[0m \u001b[0;32mimport\u001b[0m \u001b[0mnumpy\u001b[0m \u001b[0;32mas\u001b[0m \u001b[0mnp\u001b[0m\u001b[0;34m\u001b[0m\u001b[0;34m\u001b[0m\u001b[0m\n\u001b[0;32m----> 4\u001b[0;31m \u001b[0;32mfrom\u001b[0m \u001b[0mjarvis\u001b[0m\u001b[0;34m.\u001b[0m\u001b[0mcore\u001b[0m\u001b[0;34m.\u001b[0m\u001b[0mcomposition\u001b[0m \u001b[0;32mimport\u001b[0m \u001b[0mComposition\u001b[0m\u001b[0;34m\u001b[0m\u001b[0;34m\u001b[0m\u001b[0m\n\u001b[0m\u001b[1;32m      5\u001b[0m \u001b[0;32mfrom\u001b[0m \u001b[0mjarvis\u001b[0m\u001b[0;34m.\u001b[0m\u001b[0mcore\u001b[0m\u001b[0;34m.\u001b[0m\u001b[0mspecie\u001b[0m \u001b[0;32mimport\u001b[0m \u001b[0mSpecie\u001b[0m\u001b[0;34m,\u001b[0m \u001b[0matomic_numbers_to_symbols\u001b[0m\u001b[0;34m\u001b[0m\u001b[0;34m\u001b[0m\u001b[0m\n\u001b[1;32m      6\u001b[0m \u001b[0;32mfrom\u001b[0m \u001b[0mjarvis\u001b[0m\u001b[0;34m.\u001b[0m\u001b[0mcore\u001b[0m\u001b[0;34m.\u001b[0m\u001b[0mlattice\u001b[0m \u001b[0;32mimport\u001b[0m \u001b[0mLattice\u001b[0m\u001b[0;34m,\u001b[0m \u001b[0mlattice_coords_transformer\u001b[0m\u001b[0;34m\u001b[0m\u001b[0;34m\u001b[0m\u001b[0m\n",
            "\u001b[0;32m/usr/local/lib/python3.11/dist-packages/jarvis/core/composition.py\u001b[0m in \u001b[0;36m<module>\u001b[0;34m\u001b[0m\n\u001b[1;32m      3\u001b[0m \u001b[0;31m# from math import gcd\u001b[0m\u001b[0;34m\u001b[0m\u001b[0;34m\u001b[0m\u001b[0m\n\u001b[1;32m      4\u001b[0m \u001b[0;32mimport\u001b[0m \u001b[0mstring\u001b[0m\u001b[0;34m\u001b[0m\u001b[0;34m\u001b[0m\u001b[0m\n\u001b[0;32m----> 5\u001b[0;31m \u001b[0;32mfrom\u001b[0m \u001b[0mjarvis\u001b[0m\u001b[0;34m.\u001b[0m\u001b[0mcore\u001b[0m\u001b[0;34m.\u001b[0m\u001b[0mspecie\u001b[0m \u001b[0;32mimport\u001b[0m \u001b[0mSpecie\u001b[0m\u001b[0;34m\u001b[0m\u001b[0;34m\u001b[0m\u001b[0m\n\u001b[0m\u001b[1;32m      6\u001b[0m \u001b[0;32mfrom\u001b[0m \u001b[0mcollections\u001b[0m \u001b[0;32mimport\u001b[0m \u001b[0mOrderedDict\u001b[0m\u001b[0;34m\u001b[0m\u001b[0;34m\u001b[0m\u001b[0m\n\u001b[1;32m      7\u001b[0m \u001b[0;32mfrom\u001b[0m \u001b[0mcollections\u001b[0m \u001b[0;32mimport\u001b[0m \u001b[0mdefaultdict\u001b[0m\u001b[0;34m\u001b[0m\u001b[0;34m\u001b[0m\u001b[0m\n",
            "\u001b[0;32m/usr/local/lib/python3.11/dist-packages/jarvis/core/specie.py\u001b[0m in \u001b[0;36m<module>\u001b[0;34m\u001b[0m\n\u001b[1;32m      5\u001b[0m \u001b[0;32mimport\u001b[0m \u001b[0mnumpy\u001b[0m \u001b[0;32mas\u001b[0m \u001b[0mnp\u001b[0m\u001b[0;34m\u001b[0m\u001b[0;34m\u001b[0m\u001b[0m\n\u001b[1;32m      6\u001b[0m \u001b[0;32mimport\u001b[0m \u001b[0mfunctools\u001b[0m\u001b[0;34m\u001b[0m\u001b[0;34m\u001b[0m\u001b[0m\n\u001b[0;32m----> 7\u001b[0;31m \u001b[0;32mfrom\u001b[0m \u001b[0mjarvis\u001b[0m\u001b[0;34m.\u001b[0m\u001b[0mcore\u001b[0m\u001b[0;34m.\u001b[0m\u001b[0mutils\u001b[0m \u001b[0;32mimport\u001b[0m \u001b[0mdigitize_array\u001b[0m\u001b[0;34m\u001b[0m\u001b[0;34m\u001b[0m\u001b[0m\n\u001b[0m\u001b[1;32m      8\u001b[0m \u001b[0;32mfrom\u001b[0m \u001b[0mcollections\u001b[0m \u001b[0;32mimport\u001b[0m \u001b[0mdefaultdict\u001b[0m\u001b[0;34m\u001b[0m\u001b[0;34m\u001b[0m\u001b[0m\n\u001b[1;32m      9\u001b[0m \u001b[0;32mfrom\u001b[0m \u001b[0mcollections\u001b[0m\u001b[0;34m.\u001b[0m\u001b[0mabc\u001b[0m \u001b[0;32mimport\u001b[0m \u001b[0mIterable\u001b[0m\u001b[0;34m\u001b[0m\u001b[0;34m\u001b[0m\u001b[0m\n",
            "\u001b[0;32m/usr/local/lib/python3.11/dist-packages/jarvis/core/utils.py\u001b[0m in \u001b[0;36m<module>\u001b[0;34m\u001b[0m\n\u001b[1;32m      3\u001b[0m \u001b[0;32mfrom\u001b[0m \u001b[0mcollections\u001b[0m \u001b[0;32mimport\u001b[0m \u001b[0mOrderedDict\u001b[0m\u001b[0;34m\u001b[0m\u001b[0;34m\u001b[0m\u001b[0m\n\u001b[1;32m      4\u001b[0m \u001b[0;32mfrom\u001b[0m \u001b[0mcollections\u001b[0m \u001b[0;32mimport\u001b[0m \u001b[0mdefaultdict\u001b[0m\u001b[0;34m\u001b[0m\u001b[0;34m\u001b[0m\u001b[0m\n\u001b[0;32m----> 5\u001b[0;31m \u001b[0;32mfrom\u001b[0m \u001b[0mscipy\u001b[0m \u001b[0;32mimport\u001b[0m \u001b[0msparse\u001b[0m\u001b[0;34m\u001b[0m\u001b[0;34m\u001b[0m\u001b[0m\n\u001b[0m\u001b[1;32m      6\u001b[0m \u001b[0;32mfrom\u001b[0m \u001b[0mscipy\u001b[0m\u001b[0;34m.\u001b[0m\u001b[0msparse\u001b[0m\u001b[0;34m.\u001b[0m\u001b[0mlinalg\u001b[0m \u001b[0;32mimport\u001b[0m \u001b[0mspsolve\u001b[0m\u001b[0;34m\u001b[0m\u001b[0;34m\u001b[0m\u001b[0m\n\u001b[1;32m      7\u001b[0m \u001b[0;32mimport\u001b[0m \u001b[0mrandom\u001b[0m\u001b[0;34m\u001b[0m\u001b[0;34m\u001b[0m\u001b[0m\n",
            "\u001b[0;32m/usr/local/lib/python3.11/dist-packages/scipy/__init__.py\u001b[0m in \u001b[0;36m__getattr__\u001b[0;34m(name)\u001b[0m\n\u001b[1;32m    132\u001b[0m \u001b[0;32mdef\u001b[0m \u001b[0m__getattr__\u001b[0m\u001b[0;34m(\u001b[0m\u001b[0mname\u001b[0m\u001b[0;34m)\u001b[0m\u001b[0;34m:\u001b[0m\u001b[0;34m\u001b[0m\u001b[0;34m\u001b[0m\u001b[0m\n\u001b[1;32m    133\u001b[0m     \u001b[0;32mif\u001b[0m \u001b[0mname\u001b[0m \u001b[0;32min\u001b[0m \u001b[0msubmodules\u001b[0m\u001b[0;34m:\u001b[0m\u001b[0;34m\u001b[0m\u001b[0;34m\u001b[0m\u001b[0m\n\u001b[0;32m--> 134\u001b[0;31m         \u001b[0;32mreturn\u001b[0m \u001b[0m_importlib\u001b[0m\u001b[0;34m.\u001b[0m\u001b[0mimport_module\u001b[0m\u001b[0;34m(\u001b[0m\u001b[0;34mf'scipy.{name}'\u001b[0m\u001b[0;34m)\u001b[0m\u001b[0;34m\u001b[0m\u001b[0;34m\u001b[0m\u001b[0m\n\u001b[0m\u001b[1;32m    135\u001b[0m     \u001b[0;32melse\u001b[0m\u001b[0;34m:\u001b[0m\u001b[0;34m\u001b[0m\u001b[0;34m\u001b[0m\u001b[0m\n\u001b[1;32m    136\u001b[0m         \u001b[0;32mtry\u001b[0m\u001b[0;34m:\u001b[0m\u001b[0;34m\u001b[0m\u001b[0;34m\u001b[0m\u001b[0m\n",
            "\u001b[0;32m/usr/lib/python3.11/importlib/__init__.py\u001b[0m in \u001b[0;36mimport_module\u001b[0;34m(name, package)\u001b[0m\n\u001b[1;32m    124\u001b[0m                 \u001b[0;32mbreak\u001b[0m\u001b[0;34m\u001b[0m\u001b[0;34m\u001b[0m\u001b[0m\n\u001b[1;32m    125\u001b[0m             \u001b[0mlevel\u001b[0m \u001b[0;34m+=\u001b[0m \u001b[0;36m1\u001b[0m\u001b[0;34m\u001b[0m\u001b[0;34m\u001b[0m\u001b[0m\n\u001b[0;32m--> 126\u001b[0;31m     \u001b[0;32mreturn\u001b[0m \u001b[0m_bootstrap\u001b[0m\u001b[0;34m.\u001b[0m\u001b[0m_gcd_import\u001b[0m\u001b[0;34m(\u001b[0m\u001b[0mname\u001b[0m\u001b[0;34m[\u001b[0m\u001b[0mlevel\u001b[0m\u001b[0;34m:\u001b[0m\u001b[0;34m]\u001b[0m\u001b[0;34m,\u001b[0m \u001b[0mpackage\u001b[0m\u001b[0;34m,\u001b[0m \u001b[0mlevel\u001b[0m\u001b[0;34m)\u001b[0m\u001b[0;34m\u001b[0m\u001b[0;34m\u001b[0m\u001b[0m\n\u001b[0m\u001b[1;32m    127\u001b[0m \u001b[0;34m\u001b[0m\u001b[0m\n\u001b[1;32m    128\u001b[0m \u001b[0;34m\u001b[0m\u001b[0m\n",
            "\u001b[0;32m/usr/local/lib/python3.11/dist-packages/scipy/sparse/__init__.py\u001b[0m in \u001b[0;36m<module>\u001b[0;34m\u001b[0m\n\u001b[1;32m    298\u001b[0m \u001b[0;32mimport\u001b[0m \u001b[0mwarnings\u001b[0m \u001b[0;32mas\u001b[0m \u001b[0m_warnings\u001b[0m\u001b[0;34m\u001b[0m\u001b[0;34m\u001b[0m\u001b[0m\n\u001b[1;32m    299\u001b[0m \u001b[0;34m\u001b[0m\u001b[0m\n\u001b[0;32m--> 300\u001b[0;31m \u001b[0;32mfrom\u001b[0m \u001b[0;34m.\u001b[0m\u001b[0m_base\u001b[0m \u001b[0;32mimport\u001b[0m \u001b[0;34m*\u001b[0m\u001b[0;34m\u001b[0m\u001b[0;34m\u001b[0m\u001b[0m\n\u001b[0m\u001b[1;32m    301\u001b[0m \u001b[0;32mfrom\u001b[0m \u001b[0;34m.\u001b[0m\u001b[0m_csr\u001b[0m \u001b[0;32mimport\u001b[0m \u001b[0;34m*\u001b[0m\u001b[0;34m\u001b[0m\u001b[0;34m\u001b[0m\u001b[0m\n\u001b[1;32m    302\u001b[0m \u001b[0;32mfrom\u001b[0m \u001b[0;34m.\u001b[0m\u001b[0m_csc\u001b[0m \u001b[0;32mimport\u001b[0m \u001b[0;34m*\u001b[0m\u001b[0;34m\u001b[0m\u001b[0;34m\u001b[0m\u001b[0m\n",
            "\u001b[0;32m/usr/local/lib/python3.11/dist-packages/scipy/sparse/_base.py\u001b[0m in \u001b[0;36m<module>\u001b[0;34m\u001b[0m\n\u001b[1;32m      3\u001b[0m \u001b[0;32mimport\u001b[0m \u001b[0mnumpy\u001b[0m \u001b[0;32mas\u001b[0m \u001b[0mnp\u001b[0m\u001b[0;34m\u001b[0m\u001b[0;34m\u001b[0m\u001b[0m\n\u001b[1;32m      4\u001b[0m \u001b[0;34m\u001b[0m\u001b[0m\n\u001b[0;32m----> 5\u001b[0;31m from ._sputils import (asmatrix, check_reshape_kwargs, check_shape,\n\u001b[0m\u001b[1;32m      6\u001b[0m                        \u001b[0mget_sum_dtype\u001b[0m\u001b[0;34m,\u001b[0m \u001b[0misdense\u001b[0m\u001b[0;34m,\u001b[0m \u001b[0misscalarlike\u001b[0m\u001b[0;34m,\u001b[0m\u001b[0;34m\u001b[0m\u001b[0;34m\u001b[0m\u001b[0m\n\u001b[1;32m      7\u001b[0m                        matrix, validateaxis, getdtype)\n",
            "\u001b[0;32m/usr/local/lib/python3.11/dist-packages/scipy/sparse/_sputils.py\u001b[0m in \u001b[0;36m<module>\u001b[0;34m\u001b[0m\n\u001b[1;32m      8\u001b[0m \u001b[0;32mfrom\u001b[0m \u001b[0mmath\u001b[0m \u001b[0;32mimport\u001b[0m \u001b[0mprod\u001b[0m\u001b[0;34m\u001b[0m\u001b[0;34m\u001b[0m\u001b[0m\n\u001b[1;32m      9\u001b[0m \u001b[0;32mimport\u001b[0m \u001b[0mscipy\u001b[0m\u001b[0;34m.\u001b[0m\u001b[0msparse\u001b[0m \u001b[0;32mas\u001b[0m \u001b[0msp\u001b[0m\u001b[0;34m\u001b[0m\u001b[0;34m\u001b[0m\u001b[0m\n\u001b[0;32m---> 10\u001b[0;31m \u001b[0;32mfrom\u001b[0m \u001b[0mscipy\u001b[0m\u001b[0;34m.\u001b[0m\u001b[0m_lib\u001b[0m\u001b[0;34m.\u001b[0m\u001b[0m_util\u001b[0m \u001b[0;32mimport\u001b[0m \u001b[0mnp_long\u001b[0m\u001b[0;34m,\u001b[0m \u001b[0mnp_ulong\u001b[0m\u001b[0;34m\u001b[0m\u001b[0;34m\u001b[0m\u001b[0m\n\u001b[0m\u001b[1;32m     11\u001b[0m \u001b[0;34m\u001b[0m\u001b[0m\n\u001b[1;32m     12\u001b[0m \u001b[0;34m\u001b[0m\u001b[0m\n",
            "\u001b[0;32m/usr/local/lib/python3.11/dist-packages/scipy/_lib/_util.py\u001b[0m in \u001b[0;36m<module>\u001b[0;34m\u001b[0m\n\u001b[1;32m     11\u001b[0m \u001b[0;34m\u001b[0m\u001b[0m\n\u001b[1;32m     12\u001b[0m \u001b[0;32mimport\u001b[0m \u001b[0mnumpy\u001b[0m \u001b[0;32mas\u001b[0m \u001b[0mnp\u001b[0m\u001b[0;34m\u001b[0m\u001b[0;34m\u001b[0m\u001b[0m\n\u001b[0;32m---> 13\u001b[0;31m \u001b[0;32mfrom\u001b[0m \u001b[0mscipy\u001b[0m\u001b[0;34m.\u001b[0m\u001b[0m_lib\u001b[0m\u001b[0;34m.\u001b[0m\u001b[0m_array_api\u001b[0m \u001b[0;32mimport\u001b[0m \u001b[0marray_namespace\u001b[0m\u001b[0;34m,\u001b[0m \u001b[0mis_numpy\u001b[0m\u001b[0;34m,\u001b[0m \u001b[0mxp_size\u001b[0m\u001b[0;34m\u001b[0m\u001b[0;34m\u001b[0m\u001b[0m\n\u001b[0m\u001b[1;32m     14\u001b[0m \u001b[0;32mfrom\u001b[0m \u001b[0mscipy\u001b[0m\u001b[0;34m.\u001b[0m\u001b[0m_lib\u001b[0m\u001b[0;34m.\u001b[0m\u001b[0m_docscrape\u001b[0m \u001b[0;32mimport\u001b[0m \u001b[0mFunctionDoc\u001b[0m\u001b[0;34m,\u001b[0m \u001b[0mParameter\u001b[0m\u001b[0;34m\u001b[0m\u001b[0;34m\u001b[0m\u001b[0m\n\u001b[1;32m     15\u001b[0m \u001b[0;34m\u001b[0m\u001b[0m\n",
            "\u001b[0;32m/usr/local/lib/python3.11/dist-packages/scipy/_lib/_array_api.py\u001b[0m in \u001b[0;36m<module>\u001b[0;34m\u001b[0m\n\u001b[1;32m     16\u001b[0m \u001b[0;34m\u001b[0m\u001b[0m\n\u001b[1;32m     17\u001b[0m \u001b[0;32mfrom\u001b[0m \u001b[0mscipy\u001b[0m\u001b[0;34m.\u001b[0m\u001b[0m_lib\u001b[0m \u001b[0;32mimport\u001b[0m \u001b[0marray_api_compat\u001b[0m\u001b[0;34m\u001b[0m\u001b[0;34m\u001b[0m\u001b[0m\n\u001b[0;32m---> 18\u001b[0;31m from scipy._lib.array_api_compat import (\n\u001b[0m\u001b[1;32m     19\u001b[0m     \u001b[0mis_array_api_obj\u001b[0m\u001b[0;34m,\u001b[0m\u001b[0;34m\u001b[0m\u001b[0;34m\u001b[0m\u001b[0m\n\u001b[1;32m     20\u001b[0m     \u001b[0msize\u001b[0m \u001b[0;32mas\u001b[0m \u001b[0mxp_size\u001b[0m\u001b[0;34m,\u001b[0m\u001b[0;34m\u001b[0m\u001b[0;34m\u001b[0m\u001b[0m\n",
            "\u001b[0;32m/usr/local/lib/python3.11/dist-packages/scipy/_lib/array_api_compat/numpy/__init__.py\u001b[0m in \u001b[0;36m<module>\u001b[0;34m\u001b[0m\n\u001b[0;32m----> 1\u001b[0;31m \u001b[0;32mfrom\u001b[0m \u001b[0mnumpy\u001b[0m \u001b[0;32mimport\u001b[0m \u001b[0;34m*\u001b[0m \u001b[0;31m# noqa: F403\u001b[0m\u001b[0;34m\u001b[0m\u001b[0;34m\u001b[0m\u001b[0m\n\u001b[0m\u001b[1;32m      2\u001b[0m \u001b[0;34m\u001b[0m\u001b[0m\n\u001b[1;32m      3\u001b[0m \u001b[0;31m# from numpy import * doesn't overwrite these builtin names\u001b[0m\u001b[0;34m\u001b[0m\u001b[0;34m\u001b[0m\u001b[0m\n\u001b[1;32m      4\u001b[0m \u001b[0;32mfrom\u001b[0m \u001b[0mnumpy\u001b[0m \u001b[0;32mimport\u001b[0m \u001b[0mabs\u001b[0m\u001b[0;34m,\u001b[0m \u001b[0mmax\u001b[0m\u001b[0;34m,\u001b[0m \u001b[0mmin\u001b[0m\u001b[0;34m,\u001b[0m \u001b[0mround\u001b[0m \u001b[0;31m# noqa: F401\u001b[0m\u001b[0;34m\u001b[0m\u001b[0;34m\u001b[0m\u001b[0m\n\u001b[1;32m      5\u001b[0m \u001b[0;34m\u001b[0m\u001b[0m\n",
            "\u001b[0;32m/usr/local/lib/python3.11/dist-packages/numpy/__init__.py\u001b[0m in \u001b[0;36m__getattr__\u001b[0;34m(attr)\u001b[0m\n\u001b[1;32m    374\u001b[0m     \u001b[0m_sanity_check\u001b[0m\u001b[0;34m(\u001b[0m\u001b[0;34m)\u001b[0m\u001b[0;34m\u001b[0m\u001b[0;34m\u001b[0m\u001b[0m\n\u001b[1;32m    375\u001b[0m     \u001b[0;32mdel\u001b[0m \u001b[0m_sanity_check\u001b[0m\u001b[0;34m\u001b[0m\u001b[0;34m\u001b[0m\u001b[0m\n\u001b[0;32m--> 376\u001b[0;31m \u001b[0;34m\u001b[0m\u001b[0m\n\u001b[0m\u001b[1;32m    377\u001b[0m     \u001b[0;32mdef\u001b[0m \u001b[0m_mac_os_check\u001b[0m\u001b[0;34m(\u001b[0m\u001b[0;34m)\u001b[0m\u001b[0;34m:\u001b[0m\u001b[0;34m\u001b[0m\u001b[0;34m\u001b[0m\u001b[0m\n\u001b[1;32m    378\u001b[0m         \"\"\"\n",
            "\u001b[0;31mModuleNotFoundError\u001b[0m: No module named 'numpy.strings'",
            "",
            "\u001b[0;31m---------------------------------------------------------------------------\u001b[0;32m\nNOTE: If your import is failing due to a missing package, you can\nmanually install dependencies using either !pip or !apt.\n\nTo view examples of installing some common dependencies, click the\n\"Open Examples\" button below.\n\u001b[0;31m---------------------------------------------------------------------------\u001b[0m\n"
          ],
          "errorDetails": {
            "actions": [
              {
                "action": "open_url",
                "actionText": "Open Examples",
                "url": "/notebooks/snippets/importing_libraries.ipynb"
              }
            ]
          }
        }
      ]
    },
    {
      "cell_type": "code",
      "source": [
        "num_atoms = x[\"num_atoms\"]\n",
        "atom_types = x[\"atom_types\"]\n",
        "frac_coords = x[\"frac_coords\"]\n",
        "lengths = x[\"lengths\"]\n",
        "angles = x[\"angles\"]\n",
        "index_list = torch.cumsum(num_atoms[0], dim=0).numpy().tolist()\n",
        "indice_tuples = []\n",
        "for i, ii in enumerate(index_list):\n",
        "    if i == 0:\n",
        "        tup = [0, index_list[i] - 1]\n",
        "    else:\n",
        "        tup = [index_list[i - 1] - 1, index_list[i] - 1]\n",
        "    indice_tuples.append(tup)\n",
        "\n",
        "recon_structures = []\n",
        "\n",
        "for id_needed in range(num_atoms.shape[1]):\n",
        "    id_fracs = frac_coords[0].numpy()[\n",
        "        indice_tuples[id_needed][0] : indice_tuples[id_needed][1]\n",
        "    ]\n",
        "    id_atom_types = atom_types[0].numpy()[\n",
        "        indice_tuples[id_needed][0] : indice_tuples[id_needed][1]\n",
        "    ]\n",
        "    id_lengths = lengths[0].numpy()[id_needed]\n",
        "    id_angles = angles[0].numpy()[id_needed]\n",
        "    lat = Lattice.from_parameters(\n",
        "        id_lengths[0],\n",
        "        id_lengths[1],\n",
        "        id_lengths[2],\n",
        "        id_angles[0],\n",
        "        id_angles[1],\n",
        "        id_angles[2],\n",
        "    ).matrix\n",
        "    atoms = Atoms(\n",
        "        lattice_mat=lat,\n",
        "        elements=atomic_numbers_to_symbols(id_atom_types),\n",
        "        coords=id_fracs,\n",
        "        cartesian=False,\n",
        "    )\n",
        "    # spg_numb = Spacegroup3D(atoms).space_group_number\n",
        "    # spg_numbs.append(spg_numb)\n",
        "\n",
        "    # print()\n",
        "    # print()\n",
        "    # print()\n",
        "    # print(\"jarvis\\n\", atoms)\n",
        "    # struct = Structure(\n",
        "    #    lattice=Lat.from_parameters(\n",
        "    #        id_lengths[0],\n",
        "    #        id_lengths[1],\n",
        "    #        id_lengths[2],\n",
        "    #        id_angles[0],\n",
        "    #        id_angles[1],\n",
        "    #        id_angles[2],\n",
        "    #    ),\n",
        "    #    species=id_atom_types,\n",
        "    #    coords=id_fracs,\n",
        "    #    coords_are_cartesian=False,\n",
        "    # )\n",
        "    # atoms = pmg_to_atoms(struct)\n",
        "    # print(\"pmg\\n\", atoms)\n",
        "    # print()\n",
        "    # print()\n",
        "    # print()\n",
        "\n",
        "    # gen_structures.append(atoms.to_dict())\n",
        "    recon_structures.append(atoms)\n"
      ],
      "metadata": {
        "id": "A0hquVe1iZ48"
      },
      "execution_count": null,
      "outputs": []
    },
    {
      "cell_type": "code",
      "source": [
        "test_structures=[]\n",
        "jids = []\n",
        "for i,ii in df.iterrows():\n",
        "  atoms=pmg_to_atoms(Structure.from_str(ii['cif'],fmt='cif'))\n",
        "  test_structures.append(atoms)#.to_dict())\n",
        "  jids.append(ii['material_id'])"
      ],
      "metadata": {
        "id": "ZwlktJc8iZzp"
      },
      "execution_count": null,
      "outputs": []
    },
    {
      "cell_type": "code",
      "source": [
        "df"
      ],
      "metadata": {
        "id": "UeDfhzkjsoPt"
      },
      "execution_count": null,
      "outputs": []
    },
    {
      "cell_type": "markdown",
      "source": [
        "Uploading to JARVIS-Leaderboard."
      ],
      "metadata": {
        "id": "DTJ7Pcbt7sMA"
      }
    },
    {
      "cell_type": "code",
      "source": [
        "from jarvis.io.vasp.inputs import Poscar\n",
        "import json\n",
        "f=open('AI-AtomGen-Tc_supercon-dft_3d-test-rmse.csv','w')\n",
        "line='id,target,prediction\\n'\n",
        "f.write(line)\n",
        "for i,j,k in zip(test_structures,recon_structures,jids):\n",
        "  print(k,i.composition.reduced_formula,j.composition.reduced_formula)\n",
        "  line = k+\",\"+Poscar(i).to_string().replace('\\n','\\\\n')+\",\"+Poscar(j).to_string().replace('\\n','\\\\n')+\"\\n\"\n",
        "  #line = k+\",\"+json.dumps(i.to_dict())+\",\"+json.dumps(j.to_dict())+\"\\n\"\n",
        "  f.write(line)\n",
        "f.close()\n",
        "#zip file before uploading to JARVIS-Leadrboard"
      ],
      "metadata": {
        "id": "snvhFW2_k_Do"
      },
      "execution_count": null,
      "outputs": []
    },
    {
      "cell_type": "code",
      "source": [
        "dfx = pd.read_csv('AI-AtomGen-Tc_supercon-dft_3d-test-rmse.csv')"
      ],
      "metadata": {
        "id": "Ecotexvfvogo"
      },
      "execution_count": null,
      "outputs": []
    },
    {
      "cell_type": "code",
      "source": [
        "import pandas as pd\n",
        "info = {}\n",
        "test_path = pd.read_csv(\"/content/cdvae/data/supercon/test.csv\")\n",
        "val_path = pd.read_csv(\"/content/cdvae/data/supercon/val.csv\")\n",
        "train_path = pd.read_csv(\"/content/cdvae/data/supercon/train.csv\")\n",
        "test={}\n",
        "val={}\n",
        "train={}\n",
        "\n",
        "for i,ii in train_path.iterrows():\n",
        "  atoms=pmg_to_atoms(Structure.from_str(ii['cif'],fmt='cif'))\n",
        "  pos = Poscar(atoms).to_string().replace('\\n','\\\\n')\n",
        "  jid=ii['material_id']\n",
        "  train[jid]=pos\n",
        "\n",
        "for i,ii in val_path.iterrows():\n",
        "  atoms=pmg_to_atoms(Structure.from_str(ii['cif'],fmt='cif'))\n",
        "  pos = Poscar(atoms).to_string().replace('\\n','\\\\n')\n",
        "  jid=ii['material_id']\n",
        "  val[jid]=pos\n",
        "\n",
        "for i,ii in test_path.iterrows():\n",
        "  atoms=pmg_to_atoms(Structure.from_str(ii['cif'],fmt='cif'))\n",
        "  pos = Poscar(atoms).to_string().replace('\\n','\\\\n')\n",
        "  jid=ii['material_id']\n",
        "  test[jid]=pos\n",
        "info['train']=train\n",
        "info['val']=val\n",
        "info['test']=test"
      ],
      "metadata": {
        "id": "udmtjG37vuwM"
      },
      "execution_count": null,
      "outputs": []
    },
    {
      "cell_type": "code",
      "source": [
        "from jarvis.db.jsonutils import dumpjson\n",
        "dumpjson(data=info,filename='dft_3d_Tc_supercon.json')"
      ],
      "metadata": {
        "id": "USOQ2R5yyXb8"
      },
      "execution_count": null,
      "outputs": []
    },
    {
      "cell_type": "code",
      "source": [
        "test_path"
      ],
      "metadata": {
        "id": "cxztaSkgvutn"
      },
      "execution_count": null,
      "outputs": []
    },
    {
      "cell_type": "code",
      "source": [
        "!cp scripts/compute_metrics.py scripts/eval_utils.py ."
      ],
      "metadata": {
        "id": "sGmtfjbzlxAo"
      },
      "execution_count": null,
      "outputs": []
    },
    {
      "cell_type": "code",
      "source": [
        "!ls"
      ],
      "metadata": {
        "id": "it1KMtkeoQLY"
      },
      "execution_count": null,
      "outputs": []
    },
    {
      "cell_type": "code",
      "source": [
        "import numpy as np\n",
        "from pymatgen.analysis.structure_matcher import StructureMatcher\n",
        "import pandas as pd\n",
        "from jarvis.io.vasp.inputs import Poscar\n",
        "from tqdm import tqdm\n",
        "df=pd.read_csv('AI-AtomGen-Tc_supercon-dft_3d-test-rmse.csv')\n",
        "\n",
        "matcher = StructureMatcher(stol=0.5, angle_tol=10, ltol=0.3)\n",
        "rms = []\n",
        "for m, mm in tqdm(df.iterrows()):\n",
        "    try:\n",
        "        atoms_target = (\n",
        "            Poscar.from_string(\n",
        "                (mm[\"target\"].replace(\"\\\\n\", \"\\n\"))\n",
        "            ).atoms\n",
        "        ).pymatgen_converter()\n",
        "        atoms_pred = (\n",
        "            Poscar.from_string(\n",
        "                (mm[\"prediction\"].replace(\"\\\\n\", \"\\n\"))\n",
        "            ).atoms\n",
        "        ).pymatgen_converter()\n",
        "        # rms_dist = matcher.get_rms_dist(atoms_pred,atoms_target)\n",
        "        rms_dist = matcher.get_rms_anonymous(atoms_pred, atoms_target)\n",
        "        if rms_dist[0] is not None:\n",
        "            rms.append(rms_dist[0])\n",
        "    except Exception as exp:\n",
        "        print(\"exp\", exp)\n",
        "        pass\n",
        "rms = round(np.array(rms).mean(), 4)\n",
        "print('rms', rms)"
      ],
      "metadata": {
        "id": "CETrj8JEDcbZ"
      },
      "execution_count": null,
      "outputs": []
    },
    {
      "cell_type": "code",
      "source": [
        "!conda env export"
      ],
      "metadata": {
        "id": "CPMktdkmDxDM"
      },
      "execution_count": null,
      "outputs": []
    },
    {
      "cell_type": "code",
      "source": [
        "!pip install matminer==0.9.0"
      ],
      "metadata": {
        "id": "1NcKy004DI6D"
      },
      "execution_count": null,
      "outputs": []
    },
    {
      "cell_type": "code",
      "source": [
        "!rm -rf /usr/local/lib/python3.10/dist-packages/pandas*\n",
        "!pip uninstall pandas -y\n",
        "!pip install pandas==1.5.3"
      ],
      "metadata": {
        "id": "PBVo5ZhGFWtX"
      },
      "execution_count": null,
      "outputs": []
    },
    {
      "cell_type": "code",
      "source": [],
      "metadata": {
        "id": "vLpnx4cWGDV8"
      },
      "execution_count": null,
      "outputs": []
    },
    {
      "cell_type": "code",
      "source": [
        "from p_tqdm import p_map\n",
        "from compute_metrics import GenEval,get_crystal_array_list,Crystal, RecEval\n",
        "crys_array_list, true_crystal_array_list = get_crystal_array_list(recon_path)\n",
        "pred_crys = p_map(lambda x: Crystal(x), crys_array_list)\n",
        "gt_crys = p_map(lambda x: Crystal(x), true_crystal_array_list)\n",
        "rec_evaluator = RecEval(pred_crys, gt_crys)\n",
        "recon_metrics = rec_evaluator.get_metrics()\n",
        "\n",
        "\n",
        "crys_array_list, _ = get_crystal_array_list(gen_path)\n",
        "gen_crys = p_map(lambda x: Crystal(x), crys_array_list)\n",
        "gen_evaluator = GenEval(gen_crys, gt_crys, eval_model_name='carbon')\n",
        "gen_metrics = gen_evaluator.get_metrics()\n",
        "print(recon_metrics)"
      ],
      "metadata": {
        "id": "lDUAGQzUoZyu"
      },
      "execution_count": null,
      "outputs": []
    },
    {
      "cell_type": "code",
      "source": [
        "print(recon_metrics)"
      ],
      "metadata": {
        "id": "oGHMVpr6pzH6"
      },
      "execution_count": null,
      "outputs": []
    },
    {
      "cell_type": "code",
      "source": [
        "print(gen_metrics)"
      ],
      "metadata": {
        "id": "C6dziFEvrwul"
      },
      "execution_count": null,
      "outputs": []
    },
    {
      "cell_type": "code",
      "source": [
        "pip install alignn"
      ],
      "metadata": {
        "id": "7rGZH4jaBzQn"
      },
      "execution_count": null,
      "outputs": []
    },
    {
      "cell_type": "code",
      "source": [
        "from alignn.pretrained import get_multiple_predictions\n"
      ],
      "metadata": {
        "id": "4iszQWlXDChd"
      },
      "execution_count": null,
      "outputs": []
    },
    {
      "cell_type": "code",
      "source": [
        "atoms"
      ],
      "metadata": {
        "id": "nIoaG5ShDbLz"
      },
      "execution_count": null,
      "outputs": []
    },
    {
      "cell_type": "code",
      "source": [
        "atoms.write_poscar('POSCAR')"
      ],
      "metadata": {
        "id": "QLAX6MJLDdV2"
      },
      "execution_count": null,
      "outputs": []
    },
    {
      "cell_type": "markdown",
      "source": [
        "Quickly predict Tc and other properties"
      ],
      "metadata": {
        "id": "p_i25oYqEBYA"
      }
    },
    {
      "cell_type": "code",
      "source": [
        "!pretrained.py --model_name jv_supercon_tc_alignn --file_format poscar --file_path POSCAR"
      ],
      "metadata": {
        "id": "UHvXyMd3DflS"
      },
      "execution_count": null,
      "outputs": []
    },
    {
      "cell_type": "code",
      "source": [
        "!pretrained.py --model_name jv_supercon_debye_alignn --file_format poscar --file_path POSCAR"
      ],
      "metadata": {
        "id": "GKH-kXC9D4U4"
      },
      "execution_count": null,
      "outputs": []
    },
    {
      "cell_type": "code",
      "source": [
        "!pretrained.py --model_name jv_supercon_edos_alignn --file_format poscar --file_path POSCAR"
      ],
      "metadata": {
        "id": "XlgG8TH7EYQu"
      },
      "execution_count": null,
      "outputs": []
    },
    {
      "cell_type": "code",
      "source": [
        "!pretrained.py --model_name jv_supercon_a2F_alignn --file_format poscar --file_path POSCAR"
      ],
      "metadata": {
        "id": "-WvQd5KvEpjq"
      },
      "execution_count": null,
      "outputs": []
    },
    {
      "cell_type": "code",
      "source": [
        "!pretrained.py --model_name jv_formation_energy_peratom_alignn --file_format poscar --file_path POSCAR"
      ],
      "metadata": {
        "id": "fPFxPdY0E0nB"
      },
      "execution_count": null,
      "outputs": []
    },
    {
      "cell_type": "code",
      "source": [
        "!pip freeze"
      ],
      "metadata": {
        "id": "VVzVdM_oUvmQ"
      },
      "execution_count": null,
      "outputs": []
    },
    {
      "cell_type": "code",
      "source": [],
      "metadata": {
        "id": "dMyyolzPUvg6"
      },
      "execution_count": null,
      "outputs": []
    },
    {
      "cell_type": "code",
      "source": [],
      "metadata": {
        "id": "98C-OOOAUveY"
      },
      "execution_count": null,
      "outputs": []
    },
    {
      "cell_type": "code",
      "source": [],
      "metadata": {
        "id": "4F-vdHwkUWu5"
      },
      "execution_count": null,
      "outputs": []
    },
    {
      "cell_type": "code",
      "source": [],
      "metadata": {
        "id": "urExUCmlUWs6"
      },
      "execution_count": null,
      "outputs": []
    },
    {
      "cell_type": "code",
      "source": [],
      "metadata": {
        "id": "YoiDirEuUWqO"
      },
      "execution_count": null,
      "outputs": []
    }
  ]
}